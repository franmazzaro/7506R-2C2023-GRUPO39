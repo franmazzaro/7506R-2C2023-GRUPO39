{
  "cells": [
    {
      "cell_type": "markdown",
      "metadata": {
        "colab_type": "text",
        "id": "view-in-github"
      },
      "source": [
        "<a href=\"https://colab.research.google.com/github/franmazzaro/7506R-2C2023-GRUPO39/blob/main/7506R_TP1_GRUPO39_CHP1_ENTREGA_cuant.ipynb\" target=\"_parent\"><img src=\"https://colab.research.google.com/assets/colab-badge.svg\" alt=\"Open In Colab\"/></a>"
      ]
    },
    {
      "cell_type": "markdown",
      "metadata": {
        "id": "tvA6k0BH5Bna"
      },
      "source": [
        "# Librerías"
      ]
    },
    {
      "cell_type": "code",
      "execution_count": null,
      "metadata": {
        "id": "0oEHSw5B-EIv"
      },
      "outputs": [],
      "source": [
        "import pandas as pd\n",
        "import seaborn as sns\n",
        "import numpy as np\n",
        "from matplotlib import pyplot as plt\n",
        "from pprint import pprint"
      ]
    },
    {
      "cell_type": "markdown",
      "metadata": {
        "id": "vKDxvRrG-Fym"
      },
      "source": [
        "# Exploración Inicial"
      ]
    },
    {
      "cell_type": "markdown",
      "metadata": {
        "id": "zFVxrYTM5O3_"
      },
      "source": [
        "Comenzamos obteniendo una visualización general del Dataframe y sus tipos de datos"
      ]
    },
    {
      "cell_type": "code",
      "execution_count": null,
      "metadata": {
        "colab": {
          "base_uri": "https://localhost:8080/",
          "height": 516
        },
        "id": "XygomrzV-4js",
        "outputId": "e533a21e-e9c3-4680-e5e3-dc924f5fd797"
      },
      "outputs": [],
      "source": [
        "hoteles = pd.read_csv('/content/sample_data/hotels_train.csv')\n",
        "hoteles.head()"
      ]
    },
    {
      "cell_type": "code",
      "execution_count": null,
      "metadata": {
        "colab": {
          "base_uri": "https://localhost:8080/"
        },
        "id": "C4EL3GbO-RMD",
        "outputId": "b44ea585-c638-49a8-e1aa-bcdb3998d8ff"
      },
      "outputs": [],
      "source": [
        "hoteles.info()"
      ]
    },
    {
      "cell_type": "markdown",
      "metadata": {
        "id": "MAMoY1dqAR_M"
      },
      "source": [
        "## Análisis de variables"
      ]
    },
    {
      "cell_type": "markdown",
      "metadata": {
        "id": "q9A5gs_nF5JI"
      },
      "source": [
        "### Variables cualitativas"
      ]
    },
    {
      "cell_type": "markdown",
      "metadata": {},
      "source": [
        "**VARIABLE HOTEL**"
      ]
    },
    {
      "cell_type": "code",
      "execution_count": null,
      "metadata": {},
      "outputs": [],
      "source": [
        "sns.countplot(x='hotel', data=hoteles, )\n",
        "plt.show()"
      ]
    },
    {
      "cell_type": "code",
      "execution_count": null,
      "metadata": {},
      "outputs": [],
      "source": [
        "hoteles[\"hotel\"].value_counts()"
      ]
    },
    {
      "cell_type": "markdown",
      "metadata": {},
      "source": [
        "Vemos que hay mas de el doble de reservas del City Hotel que del Resort Hotel."
      ]
    },
    {
      "cell_type": "markdown",
      "metadata": {},
      "source": [
        "**VARIABLE ARRIVAL_DATE_MONTH**"
      ]
    },
    {
      "cell_type": "code",
      "execution_count": null,
      "metadata": {},
      "outputs": [],
      "source": [
        "arrival_date_month_grafic = sns.countplot(x='arrival_date_month', data=hoteles, )\n",
        "arrival_date_month_grafic.set_xticklabels(arrival_date_month_grafic.get_xticklabels(), rotation=40, ha=\"right\")\n",
        "plt.tight_layout()\n",
        "plt.show()"
      ]
    },
    {
      "cell_type": "markdown",
      "metadata": {},
      "source": [
        "La mayor cantidad de arrivos se dan en agosto."
      ]
    },
    {
      "cell_type": "markdown",
      "metadata": {},
      "source": [
        "**VARIABLE MEAL**"
      ]
    },
    {
      "cell_type": "code",
      "execution_count": null,
      "metadata": {},
      "outputs": [],
      "source": [
        "sns.countplot(x='meal', data=hoteles, )\n",
        "plt.show()"
      ]
    },
    {
      "cell_type": "markdown",
      "metadata": {},
      "source": [
        "Como vemos el mayor tipo de comida en los hoteles es BB, luego le siguen HB y SC, y en ultimo lugar FB que tiene el mismo volumen que las comidas que no fueron registradas"
      ]
    },
    {
      "cell_type": "markdown",
      "metadata": {},
      "source": [
        "**VARIABLE COUNTRY**"
      ]
    },
    {
      "cell_type": "code",
      "execution_count": null,
      "metadata": {},
      "outputs": [],
      "source": [
        "hoteles[\"country\"].unique()"
      ]
    },
    {
      "cell_type": "markdown",
      "metadata": {},
      "source": [
        "Vemos que hay reservas de hotel en varios paises, hacemos un ranking de los 10 que mas aparecen"
      ]
    },
    {
      "cell_type": "code",
      "execution_count": null,
      "metadata": {},
      "outputs": [],
      "source": [
        "sns.countplot(data=hoteles, y=\"country\", order=hoteles.country.value_counts().iloc[:10].index)"
      ]
    },
    {
      "cell_type": "markdown",
      "metadata": {},
      "source": [
        "El pais con mas reservas de hotel del dataset es Portugal, con mas de 25.000"
      ]
    },
    {
      "cell_type": "markdown",
      "metadata": {},
      "source": [
        "VARIABLE MARKET SEGMENT"
      ]
    },
    {
      "cell_type": "code",
      "execution_count": null,
      "metadata": {},
      "outputs": [],
      "source": [
        "hoteles[\"market_segment\"].unique()"
      ]
    },
    {
      "cell_type": "markdown",
      "metadata": {},
      "source": [
        "Estas son todos los tipos de segmentos de mercado de todas las reservas de hotel del dataset"
      ]
    },
    {
      "cell_type": "code",
      "execution_count": null,
      "metadata": {},
      "outputs": [],
      "source": [
        "market_segment_grafic = sns.countplot(x='market_segment', data=hoteles, )\n",
        "market_segment_grafic.set_xticklabels(market_segment_grafic.get_xticklabels(), rotation=40, ha=\"right\")\n",
        "plt.tight_layout()\n",
        "plt.show()"
      ]
    },
    {
      "cell_type": "markdown",
      "metadata": {},
      "source": [
        "Vemos que Online TA es el segmento de mercado que está mas presente en todas las reservas de hotel"
      ]
    },
    {
      "cell_type": "markdown",
      "metadata": {},
      "source": [
        "**VARIABLE DISTRIBUTION_CHANNEL**"
      ]
    },
    {
      "cell_type": "code",
      "execution_count": null,
      "metadata": {},
      "outputs": [],
      "source": [
        "sns.countplot(x='distribution_channel', data=hoteles, )\n",
        "plt.show()"
      ]
    },
    {
      "cell_type": "markdown",
      "metadata": {},
      "source": [
        "Vemos que el canal de distribucion que mas se repite en las reservas de hotel es TA/TO"
      ]
    },
    {
      "cell_type": "markdown",
      "metadata": {},
      "source": [
        "**VARIABLE RESERVED_ROOM_TYPE**"
      ]
    },
    {
      "cell_type": "code",
      "execution_count": null,
      "metadata": {},
      "outputs": [],
      "source": [
        "sns.countplot(x='reserved_room_type', data=hoteles, )\n",
        "plt.show()"
      ]
    },
    {
      "cell_type": "markdown",
      "metadata": {},
      "source": [
        "Vemos que el tipo de reservas de habitacion son en su gran mayoria de tipo A"
      ]
    },
    {
      "cell_type": "markdown",
      "metadata": {},
      "source": [
        "**VARIABLE ASSIGNED_ROOM_TYPE**"
      ]
    },
    {
      "cell_type": "code",
      "execution_count": null,
      "metadata": {},
      "outputs": [],
      "source": [
        "sns.countplot(x='assigned_room_type', data=hoteles, )\n",
        "plt.show()\n",
        "\n",
        "print(f\"Cantidad de asignacion de habitacion de tipo D: {hoteles['assigned_room_type'].value_counts()['D']}\")\n",
        "print(f\"Cantidad de reservas de habitacion de tipo D: {hoteles['reserved_room_type'].value_counts()['D']}\")\n",
        "\n",
        "print(f\"Cantidad de asignacion de habitacion de tipo A: {hoteles['assigned_room_type'].value_counts()['A']}\")\n",
        "print(f\"Cantidad de reservas de habitacion de tipo A: {hoteles['reserved_room_type'].value_counts()['A']}\")"
      ]
    },
    {
      "cell_type": "markdown",
      "metadata": {},
      "source": [
        "Las distribuciones de los tipos de reserva y asignacion de habitaciones pueden parecer parecidas a simple vista por la escala de cantidad.\n",
        "\n",
        "Observamos que la habitacion de tipo D tiene 2605 mas asignaciones que reservas.\n",
        "Y la habitacion de tipo A tiene 5127 mas reservas que asignaciones"
      ]
    },
    {
      "cell_type": "markdown",
      "metadata": {},
      "source": [
        "**VARIABLE DEPOSIT_TYPE**"
      ]
    },
    {
      "cell_type": "code",
      "execution_count": null,
      "metadata": {},
      "outputs": [],
      "source": [
        "sns.countplot(x='deposit_type', data=hoteles, )\n",
        "plt.show()"
      ]
    },
    {
      "cell_type": "markdown",
      "metadata": {},
      "source": [
        "Como vemos el el tipo de deposito mas comun es: No Deposit"
      ]
    },
    {
      "cell_type": "markdown",
      "metadata": {},
      "source": [
        "**VARIABLE CUSTOMER_TYPE**"
      ]
    },
    {
      "cell_type": "code",
      "execution_count": null,
      "metadata": {},
      "outputs": [],
      "source": [
        "sns.countplot(x='customer_type', data=hoteles, )\n",
        "plt.show()"
      ]
    },
    {
      "cell_type": "markdown",
      "metadata": {},
      "source": [
        "En el grafico se ve que el tipo de cliente mas habitual es el transitorio"
      ]
    },
    {
      "cell_type": "code",
      "execution_count": null,
      "metadata": {},
      "outputs": [],
      "source": [
        "hoteles.info()"
      ]
    },
    {
      "cell_type": "code",
      "execution_count": null,
      "metadata": {},
      "outputs": [],
      "source": [
        "hoteles_cuanti = hoteles[[\"lead_time\",\"arrival_date_year\",\"arrival_date_week_number\",\"arrival_date_day_of_month\",\"stays_in_weekend_nights\",\"stays_in_week_nights\",\"adults\",\"children\",\"babies\",\"is_repeated_guest\",\"previous_cancellations\",\"previous_cancellations\",\"previous_bookings_not_canceled\",\"booking_changes\",\"agent\",\"company\",\"days_in_waiting_list\",\"adr\",\"required_car_parking_spaces\",\"total_of_special_requests\",\"is_canceled\"]]"
      ]
    },
    {
      "cell_type": "code",
      "execution_count": null,
      "metadata": {},
      "outputs": [],
      "source": [
        "matriz_corr=hoteles_cuanti.corr()\n",
        "matriz_corr"
      ]
    },
    {
      "cell_type": "code",
      "execution_count": null,
      "metadata": {},
      "outputs": [],
      "source": [
        "plt.figure(figsize = (15,8))\n",
        "sns.heatmap(matriz_corr, annot = True, cmap='coolwarm')"
      ]
    },
    {
      "cell_type": "markdown",
      "metadata": {
        "id": "27mfKC7h9T8I"
      },
      "source": [
        "### Variables cuantitativas"
      ]
    },
    {
      "cell_type": "markdown",
      "metadata": {
        "id": "mwAStCOsAbz2"
      },
      "source": [
        "Filitramos el dataset para analizar sólo las variables numéricas"
      ]
    },
    {
      "cell_type": "code",
      "execution_count": null,
      "metadata": {
        "colab": {
          "base_uri": "https://localhost:8080/"
        },
        "id": "m5kaAdz_9WO_",
        "outputId": "51d67805-6c1d-4c04-8922-10f54f1071e3"
      },
      "outputs": [],
      "source": [
        "df_var_cual = hoteles.select_dtypes(include=['int'])\n",
        "df_var_cual.info()"
      ]
    },
    {
      "cell_type": "markdown",
      "metadata": {
        "id": "NhSB1Iq0Ar0K"
      },
      "source": [
        "Graficamos la media, mediana y moda para todas las variables"
      ]
    },
    {
      "cell_type": "code",
      "execution_count": null,
      "metadata": {
        "colab": {
          "base_uri": "https://localhost:8080/"
        },
        "id": "XS8urSDyHSkn",
        "outputId": "06e45ff0-4d48-40e9-eff9-c5f36b1eb7f7"
      },
      "outputs": [],
      "source": [
        "df_var_cual.mean()"
      ]
    },
    {
      "cell_type": "code",
      "execution_count": null,
      "metadata": {
        "colab": {
          "base_uri": "https://localhost:8080/",
          "height": 447
        },
        "id": "uTcv_87tDk0b",
        "outputId": "eed38d46-5e93-4735-e28c-b802563ebf08"
      },
      "outputs": [],
      "source": [
        "fig, ax = plt.subplots()\n",
        "eje_x = df_var_cual.columns.to_list()\n",
        "eje_y = [round(elem, 2) for elem in df_var_cual.mean().values.tolist()]\n",
        "ax.bar(eje_x, eje_y)"
      ]
    },
    {
      "cell_type": "markdown",
      "metadata": {
        "id": "6bQ5gRNZ-oju"
      },
      "source": [
        "## Datos Faltantes"
      ]
    },
    {
      "cell_type": "code",
      "execution_count": null,
      "metadata": {
        "colab": {
          "base_uri": "https://localhost:8080/"
        },
        "id": "R1-dT79nEYgj",
        "outputId": "5051c78a-0951-4a73-d933-a85cee726b62"
      },
      "outputs": [],
      "source": [
        "hoteles.isna().sum()"
      ]
    },
    {
      "cell_type": "markdown",
      "metadata": {
        "id": "iprdQDbnEl7L"
      },
      "source": [
        "Vemos que country, agent y company tienen valores faltantes"
      ]
    }
  ],
  "metadata": {
    "colab": {
      "collapsed_sections": [
        "q9A5gs_nF5JI"
      ],
      "include_colab_link": true,
      "provenance": [],
      "toc_visible": true
    },
    "kernelspec": {
      "display_name": "Python 3",
      "name": "python3"
    },
    "language_info": {
      "name": "python"
    }
  },
  "nbformat": 4,
  "nbformat_minor": 0
}
