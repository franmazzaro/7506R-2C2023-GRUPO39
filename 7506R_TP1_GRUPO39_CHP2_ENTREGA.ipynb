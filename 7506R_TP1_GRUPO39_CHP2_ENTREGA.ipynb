{
  "nbformat": 4,
  "nbformat_minor": 0,
  "metadata": {
    "colab": {
      "provenance": []
    },
    "kernelspec": {
      "name": "python3",
      "display_name": "Python 3"
    },
    "language_info": {
      "name": "python"
    }
  },
  "cells": [
    {
      "cell_type": "code",
      "execution_count": 5,
      "metadata": {
        "id": "BBou8R3XtHv0"
      },
      "outputs": [],
      "source": [
        "from sklearn.model_selection import train_test_split, cross_val_score\n",
        "from sklearn.tree import DecisionTreeClassifier\n",
        "from sklearn.metrics import accuracy_score, precision_score, recall_score, f1_score, roc_auc_score\n",
        "from sklearn.preprocessing import LabelEncoder, StandardScaler\n",
        "from sklearn.utils import resample\n",
        "from sklearn.model_selection import KFold"
      ]
    },
    {
      "cell_type": "code",
      "source": [
        "from sklearn.model_selection import StratifiedKFold, KFold,RandomizedSearchCV\n",
        "from sklearn.tree import DecisionTreeClassifier\n",
        "from sklearn.metrics import make_scorer, f1_score"
      ],
      "metadata": {
        "id": "rO4c6NCltJ1D"
      },
      "execution_count": 6,
      "outputs": []
    },
    {
      "cell_type": "code",
      "source": [
        "import pandas as pd\n",
        "import seaborn as sns\n",
        "import numpy as np\n",
        "from matplotlib import pyplot as plt\n",
        "import scipy.stats as st\n",
        "import math as math"
      ],
      "metadata": {
        "id": "9mtMqvB7uX9j"
      },
      "execution_count": 7,
      "outputs": []
    },
    {
      "cell_type": "code",
      "source": [
        "reservas = pd.read_csv('/content/sample_data/reservas_export.csv')"
      ],
      "metadata": {
        "id": "tg-r-uatuTOF"
      },
      "execution_count": 236,
      "outputs": []
    },
    {
      "cell_type": "code",
      "source": [
        "test = pd.read_csv('/content/sample_data/hotels_test.csv')"
      ],
      "metadata": {
        "id": "7jCyJ78fxk5n"
      },
      "execution_count": 237,
      "outputs": []
    },
    {
      "cell_type": "code",
      "source": [
        "reservas.info()"
      ],
      "metadata": {
        "colab": {
          "base_uri": "https://localhost:8080/"
        },
        "id": "k1Bz5c_TlDmA",
        "outputId": "fee7cdd3-59c7-42ab-d6df-c079fbb6d016"
      },
      "execution_count": 238,
      "outputs": [
        {
          "output_type": "stream",
          "name": "stdout",
          "text": [
            "<class 'pandas.core.frame.DataFrame'>\n",
            "RangeIndex: 58869 entries, 0 to 58868\n",
            "Data columns (total 32 columns):\n",
            " #   Column                          Non-Null Count  Dtype  \n",
            "---  ------                          --------------  -----  \n",
            " 0   Unnamed: 0                      58869 non-null  int64  \n",
            " 1   hotel                           58869 non-null  object \n",
            " 2   lead_time                       58869 non-null  int64  \n",
            " 3   arrival_date_year               58869 non-null  int64  \n",
            " 4   arrival_date_month              58869 non-null  object \n",
            " 5   arrival_date_week_number        58869 non-null  int64  \n",
            " 6   arrival_date_day_of_month       58869 non-null  int64  \n",
            " 7   stays_in_weekend_nights         58869 non-null  int64  \n",
            " 8   stays_in_week_nights            58869 non-null  int64  \n",
            " 9   adults                          58869 non-null  int64  \n",
            " 10  children                        58869 non-null  float64\n",
            " 11  babies                          58869 non-null  int64  \n",
            " 12  meal                            58869 non-null  object \n",
            " 13  country                         58869 non-null  object \n",
            " 14  market_segment                  58869 non-null  object \n",
            " 15  distribution_channel            58869 non-null  object \n",
            " 16  is_repeated_guest               58869 non-null  int64  \n",
            " 17  previous_cancellations          58869 non-null  int64  \n",
            " 18  previous_bookings_not_canceled  58869 non-null  int64  \n",
            " 19  reserved_room_type              58869 non-null  object \n",
            " 20  assigned_room_type              58869 non-null  object \n",
            " 21  booking_changes                 58869 non-null  int64  \n",
            " 22  deposit_type                    58869 non-null  object \n",
            " 23  agent                           58869 non-null  float64\n",
            " 24  company                         58869 non-null  float64\n",
            " 25  days_in_waiting_list            58869 non-null  int64  \n",
            " 26  customer_type                   58869 non-null  object \n",
            " 27  adr                             58869 non-null  float64\n",
            " 28  required_car_parking_spaces     58869 non-null  int64  \n",
            " 29  total_of_special_requests       58869 non-null  int64  \n",
            " 30  id                              58869 non-null  object \n",
            " 31  is_canceled                     58869 non-null  int64  \n",
            "dtypes: float64(4), int64(17), object(11)\n",
            "memory usage: 14.4+ MB\n"
          ]
        }
      ]
    },
    {
      "cell_type": "markdown",
      "source": [
        "Preprocesamiento de los datasets"
      ],
      "metadata": {
        "id": "lps6mKcWzXMc"
      }
    },
    {
      "cell_type": "code",
      "source": [
        "test = test.drop(columns = 'reservation_status_date')\n",
        "reservas = reservas.drop(columns = ['arrival_date_year','arrival_date_month','arrival_date_week_number','arrival_date_day_of_month','meal'])\n",
        "test = test.drop(columns = ['arrival_date_year','arrival_date_month','arrival_date_week_number','arrival_date_day_of_month','meal'])"
      ],
      "metadata": {
        "id": "ZllXQNg3syjG"
      },
      "execution_count": 239,
      "outputs": []
    },
    {
      "cell_type": "markdown",
      "source": [
        "# igualacion Dummies variable Country"
      ],
      "metadata": {
        "id": "LIuqHQsPlWMV"
      }
    },
    {
      "cell_type": "code",
      "source": [
        "reservas_c = (sorted(reservas[\"country\"].dropna().unique()))\n",
        "test_c = (sorted(test[\"country\"].dropna().unique()))\n",
        "paises_no_test = list(set(reservas_c) - set(test_c))\n",
        "paises_no_train = list(set(test_c) - set(reservas_c))\n"
      ],
      "metadata": {
        "id": "qK1BruuKakM7"
      },
      "execution_count": 240,
      "outputs": []
    },
    {
      "cell_type": "code",
      "source": [
        "reservas_limpio = pd.get_dummies(reservas, columns=[\"country\"], drop_first=True, dtype='int64')"
      ],
      "metadata": {
        "id": "_VGVSEvAeCm-"
      },
      "execution_count": 241,
      "outputs": []
    },
    {
      "cell_type": "code",
      "source": [
        "for country in paises_no_train:\n",
        "\n",
        "  reservas_limpio[\"country_\" + country] = np.int64(0)"
      ],
      "metadata": {
        "id": "AMwkZv86eT4z"
      },
      "execution_count": 242,
      "outputs": []
    },
    {
      "cell_type": "code",
      "source": [
        "test_limpio = pd.get_dummies(test, columns=[\"country\"], drop_first=True, dtype='int64')"
      ],
      "metadata": {
        "id": "gdAZRmiMgUAJ"
      },
      "execution_count": 243,
      "outputs": []
    },
    {
      "cell_type": "code",
      "source": [
        "for country in paises_no_test:\n",
        "\n",
        "  test_limpio[\"country_\" + country] = np.int64(0)"
      ],
      "metadata": {
        "id": "-mkDCJ6egQxt"
      },
      "execution_count": 244,
      "outputs": []
    },
    {
      "cell_type": "code",
      "source": [
        "reservas_limpio = reservas_limpio.drop(columns = 'Unnamed: 0')"
      ],
      "metadata": {
        "id": "6HjYHktnuiPd"
      },
      "execution_count": 245,
      "outputs": []
    },
    {
      "cell_type": "code",
      "source": [
        "set(test_limpio.columns) - set(reservas_limpio.columns)"
      ],
      "metadata": {
        "colab": {
          "base_uri": "https://localhost:8080/"
        },
        "id": "4lV3jp7Gocz9",
        "outputId": "674126ac-0233-439f-a156-ee660a6e6b6d"
      },
      "execution_count": 246,
      "outputs": [
        {
          "output_type": "execute_result",
          "data": {
            "text/plain": [
              "set()"
            ]
          },
          "metadata": {},
          "execution_count": 246
        }
      ]
    },
    {
      "cell_type": "code",
      "source": [
        "set(reservas_limpio.columns) - set(test_limpio.columns)"
      ],
      "metadata": {
        "colab": {
          "base_uri": "https://localhost:8080/"
        },
        "id": "8B8qykgvuz09",
        "outputId": "f1cb71fa-145b-413f-ff4c-ce0ac69503d0"
      },
      "execution_count": 247,
      "outputs": [
        {
          "output_type": "execute_result",
          "data": {
            "text/plain": [
              "{'is_canceled'}"
            ]
          },
          "metadata": {},
          "execution_count": 247
        }
      ]
    },
    {
      "cell_type": "markdown",
      "source": [
        "# igualacion Dummies variable hotel"
      ],
      "metadata": {
        "id": "H4nq7uablU1C"
      }
    },
    {
      "cell_type": "code",
      "source": [
        "reservas_h = (sorted(reservas_limpio[\"hotel\"].dropna().unique()))\n",
        "test_h = (sorted(test_limpio[\"hotel\"].dropna().unique()))\n",
        "paises_no_test = list(set(reservas_h) - set(test_h))\n",
        "paises_no_train = list(set(test_h) - set(reservas_h))\n"
      ],
      "metadata": {
        "id": "UkxT44Psljkd"
      },
      "execution_count": 248,
      "outputs": []
    },
    {
      "cell_type": "code",
      "source": [
        "reservas_limpio = pd.get_dummies(reservas_limpio, columns=[\"hotel\"], drop_first=True, dtype='int64')"
      ],
      "metadata": {
        "id": "d2D5B9RFljkd"
      },
      "execution_count": 249,
      "outputs": []
    },
    {
      "cell_type": "code",
      "source": [
        "for hotel in paises_no_train:\n",
        "  hotel_ = hotel.replace(\" \",\"_\")\n",
        "  reservas_limpio[\"hotel_\" + hotel_] = np.int64(0)"
      ],
      "metadata": {
        "id": "dT-Tu3Kuljkd"
      },
      "execution_count": 250,
      "outputs": []
    },
    {
      "cell_type": "code",
      "source": [
        "test_limpio = pd.get_dummies(test_limpio, columns=[\"hotel\"], drop_first=True, dtype='int64')"
      ],
      "metadata": {
        "id": "q6tvy7RQljkd"
      },
      "execution_count": 251,
      "outputs": []
    },
    {
      "cell_type": "code",
      "source": [
        "for hotel in paises_no_test:\n",
        "  hotel_ = hotel.replace(\" \",\"_\")\n",
        "  test_limpio[\"hotel_\" + hotel_] = np.int64(0)"
      ],
      "metadata": {
        "id": "BcmSjnzXljke"
      },
      "execution_count": 252,
      "outputs": []
    },
    {
      "cell_type": "code",
      "source": [
        "set(test_limpio.columns) - set(reservas_limpio.columns)"
      ],
      "metadata": {
        "colab": {
          "base_uri": "https://localhost:8080/"
        },
        "outputId": "71fc3e50-c9b7-4207-ef6e-3b3bf085b388",
        "id": "XCtOu0FAljke"
      },
      "execution_count": 253,
      "outputs": [
        {
          "output_type": "execute_result",
          "data": {
            "text/plain": [
              "set()"
            ]
          },
          "metadata": {},
          "execution_count": 253
        }
      ]
    },
    {
      "cell_type": "code",
      "source": [
        "set(reservas_limpio.columns) - set(test_limpio.columns)"
      ],
      "metadata": {
        "colab": {
          "base_uri": "https://localhost:8080/"
        },
        "outputId": "aad05b48-9a10-4376-896f-a9ac4217acef",
        "id": "SgiLJUhQljke"
      },
      "execution_count": 254,
      "outputs": [
        {
          "output_type": "execute_result",
          "data": {
            "text/plain": [
              "{'is_canceled'}"
            ]
          },
          "metadata": {},
          "execution_count": 254
        }
      ]
    },
    {
      "cell_type": "markdown",
      "source": [
        "# igualacion Dummies variable arrival_date_month"
      ],
      "metadata": {
        "id": "BS4LSs6QsOSD"
      }
    },
    {
      "cell_type": "code",
      "source": [
        "reservas_c = (sorted(reservas_limpio[\"arrival_date_month\"].dropna().unique()))\n",
        "test_c = (sorted(test_limpio[\"arrival_date_month\"].dropna().unique()))\n",
        "paises_no_test = list(set(reservas_c) - set(test_c))\n",
        "paises_no_train = list(set(test_c) - set(reservas_c))\n"
      ],
      "metadata": {
        "id": "ny56Sg9Gsce2"
      },
      "execution_count": 27,
      "outputs": []
    },
    {
      "cell_type": "code",
      "source": [
        "reservas_limpio = pd.get_dummies(reservas_limpio, columns=[\"arrival_date_month\"], drop_first=True, dtype='int64')"
      ],
      "metadata": {
        "id": "G3oCqZ2Ysce3"
      },
      "execution_count": 28,
      "outputs": []
    },
    {
      "cell_type": "code",
      "source": [
        "for month in paises_no_train:\n",
        "\n",
        "  reservas_limpio[\"arrival_date_month_\" + month] = np.int64(0)"
      ],
      "metadata": {
        "id": "k0BaVHm-sce3"
      },
      "execution_count": 29,
      "outputs": []
    },
    {
      "cell_type": "code",
      "source": [
        "test_limpio = pd.get_dummies(test_limpio, columns=[\"arrival_date_month\"], drop_first=True, dtype='int64')"
      ],
      "metadata": {
        "id": "PLDAJdFNsce3"
      },
      "execution_count": 30,
      "outputs": []
    },
    {
      "cell_type": "code",
      "source": [
        "for month in paises_no_test:\n",
        "\n",
        "  test_limpio[\"arrival_date_month_\" + month] = np.int64(0)"
      ],
      "metadata": {
        "id": "r3rZrnIVsce3"
      },
      "execution_count": 31,
      "outputs": []
    },
    {
      "cell_type": "code",
      "source": [
        "set(test_limpio.columns) - set(reservas_limpio.columns)"
      ],
      "metadata": {
        "colab": {
          "base_uri": "https://localhost:8080/"
        },
        "outputId": "58062d44-d020-47d0-e070-48f9e379989c",
        "id": "rDomRDUIvq-F"
      },
      "execution_count": 32,
      "outputs": [
        {
          "output_type": "execute_result",
          "data": {
            "text/plain": [
              "set()"
            ]
          },
          "metadata": {},
          "execution_count": 32
        }
      ]
    },
    {
      "cell_type": "code",
      "source": [
        "set(reservas_limpio.columns) - set(test_limpio.columns)"
      ],
      "metadata": {
        "colab": {
          "base_uri": "https://localhost:8080/"
        },
        "outputId": "c07bce73-9f62-402f-94d5-b14a3b72f985",
        "id": "QNNmWwXAvq-F"
      },
      "execution_count": 33,
      "outputs": [
        {
          "output_type": "execute_result",
          "data": {
            "text/plain": [
              "{'is_canceled'}"
            ]
          },
          "metadata": {},
          "execution_count": 33
        }
      ]
    },
    {
      "cell_type": "markdown",
      "source": [
        "# igualacion Dummies variable meal"
      ],
      "metadata": {
        "id": "FRLeJHrwvQ_6"
      }
    },
    {
      "cell_type": "code",
      "source": [
        "reservas_c = (sorted(reservas_limpio[\"meal\"].dropna().unique()))\n",
        "test_c = (sorted(test_limpio[\"meal\"].dropna().unique()))\n",
        "paises_no_test = list(set(reservas_c) - set(test_c))\n",
        "paises_no_train = list(set(test_c) - set(reservas_c))\n"
      ],
      "metadata": {
        "id": "c9WKhC_LvbYh"
      },
      "execution_count": 34,
      "outputs": []
    },
    {
      "cell_type": "code",
      "source": [
        "reservas_limpio = pd.get_dummies(reservas_limpio, columns=[\"meal\"], drop_first=True, dtype='int64')"
      ],
      "metadata": {
        "id": "e_QIo7UPvbYi"
      },
      "execution_count": 35,
      "outputs": []
    },
    {
      "cell_type": "code",
      "source": [
        "for meal in paises_no_train:\n",
        "\n",
        "  reservas_limpio[\"meal_\" + meal] = np.int64(0)"
      ],
      "metadata": {
        "id": "O8379hbSvbYi"
      },
      "execution_count": 36,
      "outputs": []
    },
    {
      "cell_type": "code",
      "source": [
        "test_limpio = pd.get_dummies(test_limpio, columns=[\"meal\"], drop_first=True, dtype='int64')"
      ],
      "metadata": {
        "id": "L615RwKTvbYi"
      },
      "execution_count": 37,
      "outputs": []
    },
    {
      "cell_type": "code",
      "source": [
        "for meal in paises_no_test:\n",
        "\n",
        "  test_limpio[\"meal_\" + meal] = np.int64(0)"
      ],
      "metadata": {
        "id": "mizlQ5WNvbYi"
      },
      "execution_count": 38,
      "outputs": []
    },
    {
      "cell_type": "code",
      "source": [
        "set(test_limpio.columns) - set(reservas_limpio.columns)"
      ],
      "metadata": {
        "colab": {
          "base_uri": "https://localhost:8080/"
        },
        "outputId": "e7f17acf-ea3b-46d5-e83b-55180060016f",
        "id": "ojKG-JhPv5NX"
      },
      "execution_count": 39,
      "outputs": [
        {
          "output_type": "execute_result",
          "data": {
            "text/plain": [
              "set()"
            ]
          },
          "metadata": {},
          "execution_count": 39
        }
      ]
    },
    {
      "cell_type": "code",
      "source": [
        "set(reservas_limpio.columns) - set(test_limpio.columns)"
      ],
      "metadata": {
        "colab": {
          "base_uri": "https://localhost:8080/"
        },
        "outputId": "73ad098a-ec64-4a81-a63f-55e98fc22a7b",
        "id": "k7MLkGCHv5NX"
      },
      "execution_count": 40,
      "outputs": [
        {
          "output_type": "execute_result",
          "data": {
            "text/plain": [
              "{'is_canceled'}"
            ]
          },
          "metadata": {},
          "execution_count": 40
        }
      ]
    },
    {
      "cell_type": "markdown",
      "source": [
        "# igualacion Dummies variable market_segment"
      ],
      "metadata": {
        "id": "S9bxAmDSvQvL"
      }
    },
    {
      "cell_type": "code",
      "source": [
        "reservas_c = (sorted(reservas_limpio[\"market_segment\"].dropna().unique()))\n",
        "test_c = (sorted(test_limpio[\"market_segment\"].dropna().unique()))\n",
        "paises_no_test = list(set(reservas_c) - set(test_c))\n",
        "paises_no_train = list(set(test_c) - set(reservas_c))\n"
      ],
      "metadata": {
        "id": "gE89nM9QwGlT"
      },
      "execution_count": 255,
      "outputs": []
    },
    {
      "cell_type": "code",
      "source": [
        "reservas_limpio = pd.get_dummies(reservas_limpio, columns=[\"market_segment\"], drop_first=True, dtype='int64')"
      ],
      "metadata": {
        "id": "HKiSUwm2wGlU"
      },
      "execution_count": 256,
      "outputs": []
    },
    {
      "cell_type": "code",
      "source": [
        "for market_segment in paises_no_train:\n",
        "\n",
        "  reservas_limpio[\"market_segment_\" + market_segment] = np.int64(0)"
      ],
      "metadata": {
        "id": "rdlo1Tq3wGlU"
      },
      "execution_count": 257,
      "outputs": []
    },
    {
      "cell_type": "code",
      "source": [
        "test_limpio = pd.get_dummies(test_limpio, columns=[\"market_segment\"], drop_first=True, dtype='int64')"
      ],
      "metadata": {
        "id": "4eh-LplZwGlU"
      },
      "execution_count": 258,
      "outputs": []
    },
    {
      "cell_type": "code",
      "source": [
        "for market_segment in paises_no_test:\n",
        "\n",
        "  test_limpio[\"market_segment_\" + market_segment] = np.int64(0)"
      ],
      "metadata": {
        "id": "I2dt-6FgwGlU"
      },
      "execution_count": 259,
      "outputs": []
    },
    {
      "cell_type": "code",
      "source": [
        "set(test_limpio.columns) - set(reservas_limpio.columns)"
      ],
      "metadata": {
        "colab": {
          "base_uri": "https://localhost:8080/"
        },
        "outputId": "d6710b83-af5f-4a6c-c83f-56f954a419a3",
        "id": "izo022D0wGlU"
      },
      "execution_count": 260,
      "outputs": [
        {
          "output_type": "execute_result",
          "data": {
            "text/plain": [
              "set()"
            ]
          },
          "metadata": {},
          "execution_count": 260
        }
      ]
    },
    {
      "cell_type": "code",
      "source": [
        "set(reservas_limpio.columns) - set(test_limpio.columns)"
      ],
      "metadata": {
        "colab": {
          "base_uri": "https://localhost:8080/"
        },
        "outputId": "b0d9a8b5-b021-48c0-c363-b13d8fe0f8c5",
        "id": "cHYi27twwGlU"
      },
      "execution_count": 261,
      "outputs": [
        {
          "output_type": "execute_result",
          "data": {
            "text/plain": [
              "{'is_canceled'}"
            ]
          },
          "metadata": {},
          "execution_count": 261
        }
      ]
    },
    {
      "cell_type": "markdown",
      "source": [
        "# igualacion Dummies variable distribution_channel"
      ],
      "metadata": {
        "id": "OwUEHOSawOnf"
      }
    },
    {
      "cell_type": "code",
      "source": [
        "reservas_c = (sorted(reservas_limpio[\"distribution_channel\"].dropna().unique()))\n",
        "test_c = (sorted(test_limpio[\"distribution_channel\"].dropna().unique()))\n",
        "paises_no_test = list(set(reservas_c) - set(test_c))\n",
        "paises_no_train = list(set(test_c) - set(reservas_c))\n"
      ],
      "metadata": {
        "id": "VALZCW5Dws7N"
      },
      "execution_count": 262,
      "outputs": []
    },
    {
      "cell_type": "code",
      "source": [
        "reservas_limpio = pd.get_dummies(reservas_limpio, columns=[\"distribution_channel\"], drop_first=True, dtype='int64')"
      ],
      "metadata": {
        "id": "IeFTsE9Dws7O"
      },
      "execution_count": 263,
      "outputs": []
    },
    {
      "cell_type": "code",
      "source": [
        "for distribution_channel in paises_no_train:\n",
        "\n",
        "  reservas_limpio[\"distribution_channel_\" + distribution_channel] = np.int64(0)"
      ],
      "metadata": {
        "id": "ZLdxrKNKws7O"
      },
      "execution_count": 264,
      "outputs": []
    },
    {
      "cell_type": "code",
      "source": [
        "test_limpio = pd.get_dummies(test_limpio, columns=[\"distribution_channel\"], drop_first=True, dtype='int64')"
      ],
      "metadata": {
        "id": "FjnBYjbSws7O"
      },
      "execution_count": 265,
      "outputs": []
    },
    {
      "cell_type": "code",
      "source": [
        "for distribution_channel in paises_no_test:\n",
        "\n",
        "  test_limpio[\"distribution_channel_\" + distribution_channel] = np.int64(0)"
      ],
      "metadata": {
        "id": "HbUd-Bbvws7O"
      },
      "execution_count": 266,
      "outputs": []
    },
    {
      "cell_type": "code",
      "source": [
        "set(test_limpio.columns) - set(reservas_limpio.columns)"
      ],
      "metadata": {
        "colab": {
          "base_uri": "https://localhost:8080/"
        },
        "outputId": "db47f442-fabd-4e7e-c07c-d79e3f9066d1",
        "id": "2iVgPeJ1ws7O"
      },
      "execution_count": 267,
      "outputs": [
        {
          "output_type": "execute_result",
          "data": {
            "text/plain": [
              "set()"
            ]
          },
          "metadata": {},
          "execution_count": 267
        }
      ]
    },
    {
      "cell_type": "code",
      "source": [
        "set(reservas_limpio.columns) - set(test_limpio.columns)"
      ],
      "metadata": {
        "colab": {
          "base_uri": "https://localhost:8080/"
        },
        "outputId": "63916c5e-03fa-443c-9031-dc380723dc87",
        "id": "OgwhBw5Mws7O"
      },
      "execution_count": 268,
      "outputs": [
        {
          "output_type": "execute_result",
          "data": {
            "text/plain": [
              "{'is_canceled'}"
            ]
          },
          "metadata": {},
          "execution_count": 268
        }
      ]
    },
    {
      "cell_type": "markdown",
      "source": [
        "# igualacion Dummies variable reserved_room_type"
      ],
      "metadata": {
        "id": "vsGeBu93yYbu"
      }
    },
    {
      "cell_type": "code",
      "source": [
        "reservas_c = (sorted(reservas_limpio[\"reserved_room_type\"].dropna().unique()))\n",
        "test_c = (sorted(test_limpio[\"reserved_room_type\"].dropna().unique()))\n",
        "paises_no_test = list(set(reservas_c) - set(test_c))\n",
        "paises_no_train = list(set(test_c) - set(reservas_c))\n"
      ],
      "metadata": {
        "id": "UWK61M83ymZ4"
      },
      "execution_count": 269,
      "outputs": []
    },
    {
      "cell_type": "code",
      "source": [
        "reservas_limpio = pd.get_dummies(reservas_limpio, columns=[\"reserved_room_type\"], drop_first=True, dtype='int64')"
      ],
      "metadata": {
        "id": "NAsDVQjiymZ5"
      },
      "execution_count": 270,
      "outputs": []
    },
    {
      "cell_type": "code",
      "source": [
        "for reserved_room_type in paises_no_train:\n",
        "\n",
        "  reservas_limpio[\"reserved_room_type_\" + reserved_room_type] = np.int64(0)"
      ],
      "metadata": {
        "id": "ApoxAt_NymZ5"
      },
      "execution_count": 271,
      "outputs": []
    },
    {
      "cell_type": "code",
      "source": [
        "test_limpio = pd.get_dummies(test_limpio, columns=[\"reserved_room_type\"], drop_first=True, dtype='int64')"
      ],
      "metadata": {
        "id": "B0QblIbfymZ5"
      },
      "execution_count": 272,
      "outputs": []
    },
    {
      "cell_type": "code",
      "source": [
        "for reserved_room_type in paises_no_test:\n",
        "\n",
        "  test_limpio[\"reserved_room_type_\" + reserved_room_type] = np.int64(0)"
      ],
      "metadata": {
        "id": "IOc1q0WrymZ5"
      },
      "execution_count": 273,
      "outputs": []
    },
    {
      "cell_type": "code",
      "source": [
        "set(test_limpio.columns) - set(reservas_limpio.columns)"
      ],
      "metadata": {
        "colab": {
          "base_uri": "https://localhost:8080/"
        },
        "outputId": "e777c932-d806-4085-a67a-5d8eaabed9fe",
        "id": "vW6bCxCUymZ5"
      },
      "execution_count": 274,
      "outputs": [
        {
          "output_type": "execute_result",
          "data": {
            "text/plain": [
              "set()"
            ]
          },
          "metadata": {},
          "execution_count": 274
        }
      ]
    },
    {
      "cell_type": "code",
      "source": [
        "set(reservas_limpio.columns) - set(test_limpio.columns)"
      ],
      "metadata": {
        "colab": {
          "base_uri": "https://localhost:8080/"
        },
        "outputId": "d502b10e-a011-44f4-b766-2dda401a04fc",
        "id": "mfQzPVTHymZ5"
      },
      "execution_count": 275,
      "outputs": [
        {
          "output_type": "execute_result",
          "data": {
            "text/plain": [
              "{'is_canceled'}"
            ]
          },
          "metadata": {},
          "execution_count": 275
        }
      ]
    },
    {
      "cell_type": "markdown",
      "source": [
        "# igualacion Dummies variable assigned_room_type"
      ],
      "metadata": {
        "id": "43ffuyGZy0KG"
      }
    },
    {
      "cell_type": "code",
      "source": [
        "reservas_c = (sorted(reservas_limpio[\"assigned_room_type\"].dropna().unique()))\n",
        "test_c = (sorted(test_limpio[\"assigned_room_type\"].dropna().unique()))\n",
        "paises_no_test = list(set(reservas_c) - set(test_c))\n",
        "paises_no_train = list(set(test_c) - set(reservas_c))\n"
      ],
      "metadata": {
        "id": "tpQ2tQ2qzJLT"
      },
      "execution_count": 276,
      "outputs": []
    },
    {
      "cell_type": "code",
      "source": [
        "reservas_limpio = pd.get_dummies(reservas_limpio, columns=[\"assigned_room_type\"], drop_first=True, dtype='int64')"
      ],
      "metadata": {
        "id": "Hq2Ar1h-zJLT"
      },
      "execution_count": 277,
      "outputs": []
    },
    {
      "cell_type": "code",
      "source": [
        "for assigned_room_type in paises_no_train:\n",
        "\n",
        "  reservas_limpio[\"assigned_room_type_\" + assigned_room_type] = np.int64(0)"
      ],
      "metadata": {
        "id": "JlSn-yq9zJLT"
      },
      "execution_count": 278,
      "outputs": []
    },
    {
      "cell_type": "code",
      "source": [
        "test_limpio = pd.get_dummies(test_limpio, columns=[\"assigned_room_type\"], drop_first=True, dtype='int64')"
      ],
      "metadata": {
        "id": "jgLgfyQnzJLT"
      },
      "execution_count": 279,
      "outputs": []
    },
    {
      "cell_type": "code",
      "source": [
        "for assigned_room_type in paises_no_test:\n",
        "\n",
        "  test_limpio[\"assigned_room_type_\" + assigned_room_type] = np.int64(0)"
      ],
      "metadata": {
        "id": "U9Io5mfbzJLT"
      },
      "execution_count": 280,
      "outputs": []
    },
    {
      "cell_type": "code",
      "source": [
        "set(test_limpio.columns) - set(reservas_limpio.columns)"
      ],
      "metadata": {
        "colab": {
          "base_uri": "https://localhost:8080/"
        },
        "outputId": "fd08614b-6fa6-412a-bbaa-a767b23a508b",
        "id": "Q6ELvTrazJLU"
      },
      "execution_count": 281,
      "outputs": [
        {
          "output_type": "execute_result",
          "data": {
            "text/plain": [
              "set()"
            ]
          },
          "metadata": {},
          "execution_count": 281
        }
      ]
    },
    {
      "cell_type": "code",
      "source": [
        "set(reservas_limpio.columns) - set(test_limpio.columns)"
      ],
      "metadata": {
        "colab": {
          "base_uri": "https://localhost:8080/"
        },
        "outputId": "1510ab5f-ffc5-4921-8dc6-8b5fa280c6ae",
        "id": "vINQzyHTzJLU"
      },
      "execution_count": 282,
      "outputs": [
        {
          "output_type": "execute_result",
          "data": {
            "text/plain": [
              "{'is_canceled'}"
            ]
          },
          "metadata": {},
          "execution_count": 282
        }
      ]
    },
    {
      "cell_type": "markdown",
      "source": [
        "# igualacion Dummies variable deposit_type"
      ],
      "metadata": {
        "id": "0vSQC0VzzYTi"
      }
    },
    {
      "cell_type": "code",
      "source": [
        "reservas_c = (sorted(reservas_limpio[\"deposit_type\"].dropna().unique()))\n",
        "test_c = (sorted(test_limpio[\"deposit_type\"].dropna().unique()))\n",
        "paises_no_test = list(set(reservas_c) - set(test_c))\n",
        "paises_no_train = list(set(test_c) - set(reservas_c))\n"
      ],
      "metadata": {
        "id": "8nhWb0lgzd-7"
      },
      "execution_count": 283,
      "outputs": []
    },
    {
      "cell_type": "code",
      "source": [
        "reservas_limpio = pd.get_dummies(reservas_limpio, columns=[\"deposit_type\"], drop_first=True, dtype='int64')"
      ],
      "metadata": {
        "id": "qZzgdvoyzd-8"
      },
      "execution_count": 284,
      "outputs": []
    },
    {
      "cell_type": "code",
      "source": [
        "for deposit_type in paises_no_train:\n",
        "\n",
        "  reservas_limpio[\"deposit_type_\" + deposit_type] = np.int64(0)"
      ],
      "metadata": {
        "id": "oS7QNYf6zd-8"
      },
      "execution_count": 285,
      "outputs": []
    },
    {
      "cell_type": "code",
      "source": [
        "test_limpio = pd.get_dummies(test_limpio, columns=[\"deposit_type\"], drop_first=True, dtype='int64')"
      ],
      "metadata": {
        "id": "lH2foekBzd-8"
      },
      "execution_count": 286,
      "outputs": []
    },
    {
      "cell_type": "code",
      "source": [
        "for deposit_type in paises_no_test:\n",
        "\n",
        "  test_limpio[\"deposit_type_\" + deposit_type] = np.int64(0)"
      ],
      "metadata": {
        "id": "BddosS0ozd-8"
      },
      "execution_count": 287,
      "outputs": []
    },
    {
      "cell_type": "code",
      "source": [
        "set(test_limpio.columns) - set(reservas_limpio.columns)"
      ],
      "metadata": {
        "colab": {
          "base_uri": "https://localhost:8080/"
        },
        "outputId": "9a420f9f-67f4-4109-8702-776300d36f9d",
        "id": "SNDAVb8Wzd-8"
      },
      "execution_count": 288,
      "outputs": [
        {
          "output_type": "execute_result",
          "data": {
            "text/plain": [
              "set()"
            ]
          },
          "metadata": {},
          "execution_count": 288
        }
      ]
    },
    {
      "cell_type": "code",
      "source": [
        "set(reservas_limpio.columns) - set(test_limpio.columns)"
      ],
      "metadata": {
        "colab": {
          "base_uri": "https://localhost:8080/"
        },
        "outputId": "6d35799a-4bcb-43a1-9eee-81b5f0e0ab35",
        "id": "CPyEbPKgzd-9"
      },
      "execution_count": 289,
      "outputs": [
        {
          "output_type": "execute_result",
          "data": {
            "text/plain": [
              "{'is_canceled'}"
            ]
          },
          "metadata": {},
          "execution_count": 289
        }
      ]
    },
    {
      "cell_type": "markdown",
      "source": [
        "# igualacion Dummies variable customer_type"
      ],
      "metadata": {
        "id": "bQYFPG04zlx6"
      }
    },
    {
      "cell_type": "code",
      "source": [
        "reservas_c = (sorted(reservas_limpio[\"customer_type\"].dropna().unique()))\n",
        "test_c = (sorted(test_limpio[\"customer_type\"].dropna().unique()))\n",
        "paises_no_test = list(set(reservas_c) - set(test_c))\n",
        "paises_no_train = list(set(test_c) - set(reservas_c))\n"
      ],
      "metadata": {
        "id": "uUqFgFaL0QMr"
      },
      "execution_count": 290,
      "outputs": []
    },
    {
      "cell_type": "code",
      "source": [
        "reservas_limpio = pd.get_dummies(reservas_limpio, columns=[\"customer_type\"], drop_first=True, dtype='int64')"
      ],
      "metadata": {
        "id": "pPMlIkw-0QMr"
      },
      "execution_count": 291,
      "outputs": []
    },
    {
      "cell_type": "code",
      "source": [
        "for customer in paises_no_train:\n",
        "\n",
        "  reservas_limpio[\"customer_type_\" + customer] = np.int64(0)"
      ],
      "metadata": {
        "id": "cnfckynJ0QMr"
      },
      "execution_count": 292,
      "outputs": []
    },
    {
      "cell_type": "code",
      "source": [
        "test_limpio = pd.get_dummies(test_limpio, columns=[\"customer_type\"], drop_first=True, dtype='int64')"
      ],
      "metadata": {
        "id": "OYi9MOjw0QMr"
      },
      "execution_count": 293,
      "outputs": []
    },
    {
      "cell_type": "code",
      "source": [
        "for customer in paises_no_test:\n",
        "\n",
        "  test_limpio[\"customer_type_\" + customer] = np.int64(0)"
      ],
      "metadata": {
        "id": "1fvRC2VI0QMs"
      },
      "execution_count": 294,
      "outputs": []
    },
    {
      "cell_type": "code",
      "source": [
        "set(test_limpio.columns) - set(reservas_limpio.columns)"
      ],
      "metadata": {
        "colab": {
          "base_uri": "https://localhost:8080/"
        },
        "outputId": "68d3f1d2-22a1-4864-e2fb-6eba110d5c63",
        "id": "qlxERv100QMs"
      },
      "execution_count": 295,
      "outputs": [
        {
          "output_type": "execute_result",
          "data": {
            "text/plain": [
              "set()"
            ]
          },
          "metadata": {},
          "execution_count": 295
        }
      ]
    },
    {
      "cell_type": "code",
      "source": [
        "set(reservas_limpio.columns) - set(test_limpio.columns)"
      ],
      "metadata": {
        "colab": {
          "base_uri": "https://localhost:8080/"
        },
        "outputId": "f230e8b8-05ee-41ee-b100-c3ed93f30195",
        "id": "vetFgv160QMs"
      },
      "execution_count": 296,
      "outputs": [
        {
          "output_type": "execute_result",
          "data": {
            "text/plain": [
              "{'is_canceled'}"
            ]
          },
          "metadata": {},
          "execution_count": 296
        }
      ]
    },
    {
      "cell_type": "markdown",
      "source": [
        "# igualacion Dummies variable arrival_date_year"
      ],
      "metadata": {
        "id": "ycWyYyz_1D9-"
      }
    },
    {
      "cell_type": "code",
      "source": [
        "reservas_c = (sorted(reservas_limpio[\"arrival_date_year\"].dropna().unique()))\n",
        "test_c = (sorted(test_limpio[\"arrival_date_year\"].dropna().unique()))\n",
        "paises_no_test = list(set(reservas_c) - set(test_c))\n",
        "paises_no_train = list(set(test_c) - set(reservas_c))\n"
      ],
      "metadata": {
        "id": "DvPKrgkq1ZUa"
      },
      "execution_count": 83,
      "outputs": []
    },
    {
      "cell_type": "code",
      "source": [
        "reservas_limpio = pd.get_dummies(reservas_limpio, columns=[\"arrival_date_year\"], drop_first=True, dtype='int64')"
      ],
      "metadata": {
        "id": "gJJWhiKQ1ZUb"
      },
      "execution_count": 84,
      "outputs": []
    },
    {
      "cell_type": "code",
      "source": [
        "for year in paises_no_train:\n",
        "\n",
        "  reservas_limpio[\"arrival_date_year_\" + year] = np.int64(0)"
      ],
      "metadata": {
        "id": "HgPkNKhx1ZUb"
      },
      "execution_count": 85,
      "outputs": []
    },
    {
      "cell_type": "code",
      "source": [
        "test_limpio = pd.get_dummies(test_limpio, columns=[\"arrival_date_year\"], drop_first=True, dtype='int64')"
      ],
      "metadata": {
        "id": "V8aYAmlk1ZUb"
      },
      "execution_count": 86,
      "outputs": []
    },
    {
      "cell_type": "code",
      "source": [
        "for year in paises_no_test:\n",
        "\n",
        "  test_limpio[\"arrival_date_year_\" + year] = np.int64(0)"
      ],
      "metadata": {
        "id": "BkWxmT5t1ZUb"
      },
      "execution_count": 87,
      "outputs": []
    },
    {
      "cell_type": "code",
      "source": [
        "set(test_limpio.columns) - set(reservas_limpio.columns)"
      ],
      "metadata": {
        "colab": {
          "base_uri": "https://localhost:8080/"
        },
        "outputId": "e8250ce7-024c-4097-a49f-6f25f3dc642e",
        "id": "xrBoHnQF1ZUb"
      },
      "execution_count": 88,
      "outputs": [
        {
          "output_type": "execute_result",
          "data": {
            "text/plain": [
              "set()"
            ]
          },
          "metadata": {},
          "execution_count": 88
        }
      ]
    },
    {
      "cell_type": "code",
      "source": [
        "set(reservas_limpio.columns) - set(test_limpio.columns)"
      ],
      "metadata": {
        "colab": {
          "base_uri": "https://localhost:8080/"
        },
        "outputId": "0a11c040-7926-4f49-bcfe-86fc1c02ffb4",
        "id": "5aIAx0rm1ZUb"
      },
      "execution_count": 89,
      "outputs": [
        {
          "output_type": "execute_result",
          "data": {
            "text/plain": [
              "{'is_canceled'}"
            ]
          },
          "metadata": {},
          "execution_count": 89
        }
      ]
    },
    {
      "cell_type": "code",
      "source": [
        "reservas_limpio.columns.tolist()"
      ],
      "metadata": {
        "colab": {
          "base_uri": "https://localhost:8080/"
        },
        "id": "MaFs8RoK4ls1",
        "outputId": "c06a9aa0-a249-4ead-c355-77c268178390"
      },
      "execution_count": 90,
      "outputs": [
        {
          "output_type": "execute_result",
          "data": {
            "text/plain": [
              "['lead_time',\n",
              " 'arrival_date_week_number',\n",
              " 'arrival_date_day_of_month',\n",
              " 'stays_in_weekend_nights',\n",
              " 'stays_in_week_nights',\n",
              " 'adults',\n",
              " 'children',\n",
              " 'babies',\n",
              " 'is_repeated_guest',\n",
              " 'previous_cancellations',\n",
              " 'previous_bookings_not_canceled',\n",
              " 'booking_changes',\n",
              " 'agent',\n",
              " 'company',\n",
              " 'days_in_waiting_list',\n",
              " 'adr',\n",
              " 'required_car_parking_spaces',\n",
              " 'total_of_special_requests',\n",
              " 'id',\n",
              " 'is_canceled',\n",
              " 'country_ALB',\n",
              " 'country_AND',\n",
              " 'country_ARE',\n",
              " 'country_ARG',\n",
              " 'country_ARM',\n",
              " 'country_ATA',\n",
              " 'country_AUS',\n",
              " 'country_AUT',\n",
              " 'country_AZE',\n",
              " 'country_BEL',\n",
              " 'country_BEN',\n",
              " 'country_BGD',\n",
              " 'country_BGR',\n",
              " 'country_BHR',\n",
              " 'country_BIH',\n",
              " 'country_BLR',\n",
              " 'country_BOL',\n",
              " 'country_BRA',\n",
              " 'country_BRB',\n",
              " 'country_CAF',\n",
              " 'country_CHE',\n",
              " 'country_CHL',\n",
              " 'country_CHN',\n",
              " 'country_CIV',\n",
              " 'country_CMR',\n",
              " 'country_CN',\n",
              " 'country_COL',\n",
              " 'country_COM',\n",
              " 'country_CPV',\n",
              " 'country_CRI',\n",
              " 'country_CUB',\n",
              " 'country_CYP',\n",
              " 'country_CZE',\n",
              " 'country_DEU',\n",
              " 'country_DNK',\n",
              " 'country_DOM',\n",
              " 'country_DZA',\n",
              " 'country_ECU',\n",
              " 'country_EGY',\n",
              " 'country_ESP',\n",
              " 'country_EST',\n",
              " 'country_ETH',\n",
              " 'country_FIN',\n",
              " 'country_FJI',\n",
              " 'country_FRA',\n",
              " 'country_FRO',\n",
              " 'country_GAB',\n",
              " 'country_GBR',\n",
              " 'country_GEO',\n",
              " 'country_GGY',\n",
              " 'country_GIB',\n",
              " 'country_GLP',\n",
              " 'country_GNB',\n",
              " 'country_GRC',\n",
              " 'country_GTM',\n",
              " 'country_HKG',\n",
              " 'country_HND',\n",
              " 'country_HRV',\n",
              " 'country_HUN',\n",
              " 'country_IDN',\n",
              " 'country_IMN',\n",
              " 'country_IND',\n",
              " 'country_IRL',\n",
              " 'country_IRN',\n",
              " 'country_IRQ',\n",
              " 'country_ISL',\n",
              " 'country_ISR',\n",
              " 'country_ITA',\n",
              " 'country_JAM',\n",
              " 'country_JEY',\n",
              " 'country_JOR',\n",
              " 'country_JPN',\n",
              " 'country_KAZ',\n",
              " 'country_KEN',\n",
              " 'country_KNA',\n",
              " 'country_KOR',\n",
              " 'country_KWT',\n",
              " 'country_LBN',\n",
              " 'country_LBY',\n",
              " 'country_LIE',\n",
              " 'country_LKA',\n",
              " 'country_LTU',\n",
              " 'country_LUX',\n",
              " 'country_LVA',\n",
              " 'country_MAC',\n",
              " 'country_MAR',\n",
              " 'country_MCO',\n",
              " 'country_MDG',\n",
              " 'country_MDV',\n",
              " 'country_MEX',\n",
              " 'country_MKD',\n",
              " 'country_MLT',\n",
              " 'country_MNE',\n",
              " 'country_MOZ',\n",
              " 'country_MUS',\n",
              " 'country_MWI',\n",
              " 'country_MYS',\n",
              " 'country_MYT',\n",
              " 'country_NAM',\n",
              " 'country_NGA',\n",
              " 'country_NLD',\n",
              " 'country_NOR',\n",
              " 'country_NZL',\n",
              " 'country_OMN',\n",
              " 'country_PAK',\n",
              " 'country_PAN',\n",
              " 'country_PER',\n",
              " 'country_PHL',\n",
              " 'country_POL',\n",
              " 'country_PRI',\n",
              " 'country_PRT',\n",
              " 'country_PRY',\n",
              " 'country_PYF',\n",
              " 'country_QAT',\n",
              " 'country_ROU',\n",
              " 'country_RUS',\n",
              " 'country_RWA',\n",
              " 'country_SAU',\n",
              " 'country_SDN',\n",
              " 'country_SEN',\n",
              " 'country_SGP',\n",
              " 'country_SRB',\n",
              " 'country_STP',\n",
              " 'country_SUR',\n",
              " 'country_SVK',\n",
              " 'country_SVN',\n",
              " 'country_SWE',\n",
              " 'country_SYC',\n",
              " 'country_SYR',\n",
              " 'country_TGO',\n",
              " 'country_THA',\n",
              " 'country_TJK',\n",
              " 'country_TUN',\n",
              " 'country_TUR',\n",
              " 'country_TWN',\n",
              " 'country_TZA',\n",
              " 'country_UGA',\n",
              " 'country_UKR',\n",
              " 'country_UMI',\n",
              " 'country_URY',\n",
              " 'country_USA',\n",
              " 'country_VEN',\n",
              " 'country_VGB',\n",
              " 'country_VNM',\n",
              " 'country_ZAF',\n",
              " 'country_ZMB',\n",
              " 'country_ZWE',\n",
              " 'country_ATF',\n",
              " 'country_DMA',\n",
              " 'country_NIC',\n",
              " 'country_ASM',\n",
              " 'country_TMP',\n",
              " 'country_MLI',\n",
              " 'country_SLV',\n",
              " 'country_UZB',\n",
              " 'country_BFA',\n",
              " 'country_SMR',\n",
              " 'country_KHM',\n",
              " 'country_GHA',\n",
              " 'country_DJI',\n",
              " 'hotel_Resort Hotel',\n",
              " 'arrival_date_month_August',\n",
              " 'arrival_date_month_December',\n",
              " 'arrival_date_month_February',\n",
              " 'arrival_date_month_January',\n",
              " 'arrival_date_month_July',\n",
              " 'arrival_date_month_June',\n",
              " 'arrival_date_month_March',\n",
              " 'arrival_date_month_May',\n",
              " 'arrival_date_month_November',\n",
              " 'arrival_date_month_October',\n",
              " 'arrival_date_month_September',\n",
              " 'meal_FB',\n",
              " 'meal_HB',\n",
              " 'meal_SC',\n",
              " 'meal_Undefined',\n",
              " 'market_segment_Complementary',\n",
              " 'market_segment_Corporate',\n",
              " 'market_segment_Direct',\n",
              " 'market_segment_Groups',\n",
              " 'market_segment_Offline TA/TO',\n",
              " 'market_segment_Online TA',\n",
              " 'market_segment_Undefined',\n",
              " 'distribution_channel_Direct',\n",
              " 'distribution_channel_GDS',\n",
              " 'distribution_channel_TA/TO',\n",
              " 'distribution_channel_Undefined',\n",
              " 'reserved_room_type_B',\n",
              " 'reserved_room_type_C',\n",
              " 'reserved_room_type_D',\n",
              " 'reserved_room_type_E',\n",
              " 'reserved_room_type_F',\n",
              " 'reserved_room_type_G',\n",
              " 'reserved_room_type_H',\n",
              " 'reserved_room_type_L',\n",
              " 'reserved_room_type_P',\n",
              " 'assigned_room_type_B',\n",
              " 'assigned_room_type_C',\n",
              " 'assigned_room_type_D',\n",
              " 'assigned_room_type_E',\n",
              " 'assigned_room_type_F',\n",
              " 'assigned_room_type_G',\n",
              " 'assigned_room_type_H',\n",
              " 'assigned_room_type_I',\n",
              " 'assigned_room_type_K',\n",
              " 'assigned_room_type_L',\n",
              " 'assigned_room_type_P',\n",
              " 'deposit_type_Non Refund',\n",
              " 'deposit_type_Refundable',\n",
              " 'customer_type_Group',\n",
              " 'customer_type_Transient',\n",
              " 'customer_type_Transient-Party',\n",
              " 'arrival_date_year_2016',\n",
              " 'arrival_date_year_2017']"
            ]
          },
          "metadata": {},
          "execution_count": 90
        }
      ]
    },
    {
      "cell_type": "markdown",
      "source": [
        "# preprocesamiento para entrenar"
      ],
      "metadata": {
        "id": "K06GeQAi4MrU"
      }
    },
    {
      "cell_type": "markdown",
      "source": [
        "Devolvemos solo las columnas int y float para poder entrenar el modelo. De esta forma podemos revisar si hicimos dummies para todas las variables categoricas."
      ],
      "metadata": {
        "id": "ZJXEjiS3llhC"
      }
    },
    {
      "cell_type": "code",
      "source": [
        "reservas_sin_cuali = reservas_limpio[reservas_limpio.select_dtypes(include=[\"int64\",\"float\"]).columns.to_list()].copy()"
      ],
      "metadata": {
        "id": "-zaNanHfxtxo"
      },
      "execution_count": 297,
      "outputs": []
    },
    {
      "cell_type": "code",
      "source": [
        "test_sin_cuali = test_limpio[test_limpio.select_dtypes(include=[\"int\",\"float\"]).columns.to_list()].copy()"
      ],
      "metadata": {
        "id": "B5YnQiD0hHyx"
      },
      "execution_count": 298,
      "outputs": []
    },
    {
      "cell_type": "markdown",
      "source": [
        "Ordenamos las columnas de train y test para que queden de igual forma las columnas. Si estan en diferente orden tira error."
      ],
      "metadata": {
        "id": "gIGRRWx2lyhz"
      }
    },
    {
      "cell_type": "code",
      "source": [
        "reservas_sin_cuali = reservas_sin_cuali.reindex(sorted(reservas_sin_cuali.columns), axis=1)\n",
        "test_sin_cuali = test_sin_cuali.reindex(sorted(test_sin_cuali.columns), axis=1)"
      ],
      "metadata": {
        "id": "I9j4qPkevZ9Q"
      },
      "execution_count": 299,
      "outputs": []
    },
    {
      "cell_type": "code",
      "source": [
        "test_sin_cuali['agent'] = test_sin_cuali['agent'].fillna(-1)\n",
        "test_sin_cuali['company'] = test_sin_cuali['company'].fillna(-1)"
      ],
      "metadata": {
        "id": "PApFdCwGwBbB"
      },
      "execution_count": 300,
      "outputs": []
    },
    {
      "cell_type": "code",
      "source": [
        "a = reservas_sin_cuali.drop(['is_canceled'], axis=1)\n",
        "b = reservas_sin_cuali['is_canceled']"
      ],
      "metadata": {
        "id": "8JS06sM0te79"
      },
      "execution_count": 301,
      "outputs": []
    },
    {
      "cell_type": "markdown",
      "source": [
        "# Probamos con un RandomizedSearchCV para buscar hiperparametros"
      ],
      "metadata": {
        "id": "cFmUhCoJ9r7s"
      }
    },
    {
      "cell_type": "code",
      "source": [
        "score = pd.DataFrame()\n",
        "\n",
        "for k in range(2, 10):\n",
        "\n",
        "  X_train_ramdom, X_test_ramdom, y_train_ramdom, y_test_ramdom = train_test_split(a, b, test_size=0.2, random_state=42)\n",
        "\n",
        "  n=10\n",
        "  params_grid = {'criterion':['gini','entropy'],\n",
        "               'ccp_alpha':np.linspace(0,0.05,n),\n",
        "               'max_depth':list(range(1,6))}\n",
        "\n",
        "\n",
        "  folds=k\n",
        "\n",
        "\n",
        "  kfoldcv = StratifiedKFold(n_splits=folds)\n",
        "\n",
        "\n",
        "  base_tree = DecisionTreeClassifier()\n",
        "\n",
        "  scorer_fn = make_scorer(f1_score)\n",
        "\n",
        "  randomcv = RandomizedSearchCV(estimator=base_tree,\n",
        "                              param_distributions = params_grid,\n",
        "                              scoring=scorer_fn,\n",
        "                              cv=kfoldcv,\n",
        "                              n_iter=n)\n",
        "\n",
        "  randomcv.fit(X_train_ramdom, y_train_ramdom);\n",
        "\n",
        "  new_row = {'fold': k, \"score\": randomcv.best_score_}\n",
        "  score = score.append(new_row, ignore_index=True)"
      ],
      "metadata": {
        "id": "hdbPuanwtPiw",
        "colab": {
          "base_uri": "https://localhost:8080/"
        },
        "outputId": "a2fc071f-7a53-4954-b047-5224bfc7b67b"
      },
      "execution_count": 302,
      "outputs": [
        {
          "output_type": "stream",
          "name": "stderr",
          "text": [
            "<ipython-input-302-aa0f512f8b3d>:32: FutureWarning: The frame.append method is deprecated and will be removed from pandas in a future version. Use pandas.concat instead.\n",
            "  score = score.append(new_row, ignore_index=True)\n",
            "<ipython-input-302-aa0f512f8b3d>:32: FutureWarning: The frame.append method is deprecated and will be removed from pandas in a future version. Use pandas.concat instead.\n",
            "  score = score.append(new_row, ignore_index=True)\n",
            "<ipython-input-302-aa0f512f8b3d>:32: FutureWarning: The frame.append method is deprecated and will be removed from pandas in a future version. Use pandas.concat instead.\n",
            "  score = score.append(new_row, ignore_index=True)\n",
            "<ipython-input-302-aa0f512f8b3d>:32: FutureWarning: The frame.append method is deprecated and will be removed from pandas in a future version. Use pandas.concat instead.\n",
            "  score = score.append(new_row, ignore_index=True)\n",
            "<ipython-input-302-aa0f512f8b3d>:32: FutureWarning: The frame.append method is deprecated and will be removed from pandas in a future version. Use pandas.concat instead.\n",
            "  score = score.append(new_row, ignore_index=True)\n",
            "<ipython-input-302-aa0f512f8b3d>:32: FutureWarning: The frame.append method is deprecated and will be removed from pandas in a future version. Use pandas.concat instead.\n",
            "  score = score.append(new_row, ignore_index=True)\n",
            "<ipython-input-302-aa0f512f8b3d>:32: FutureWarning: The frame.append method is deprecated and will be removed from pandas in a future version. Use pandas.concat instead.\n",
            "  score = score.append(new_row, ignore_index=True)\n",
            "<ipython-input-302-aa0f512f8b3d>:32: FutureWarning: The frame.append method is deprecated and will be removed from pandas in a future version. Use pandas.concat instead.\n",
            "  score = score.append(new_row, ignore_index=True)\n"
          ]
        }
      ]
    },
    {
      "cell_type": "code",
      "source": [
        "score.head(34)"
      ],
      "metadata": {
        "colab": {
          "base_uri": "https://localhost:8080/",
          "height": 300
        },
        "id": "zvZcncSV31K8",
        "outputId": "c76dde44-df84-42f7-f32e-d33cfe37bbe7"
      },
      "execution_count": 303,
      "outputs": [
        {
          "output_type": "execute_result",
          "data": {
            "text/plain": [
              "   fold     score\n",
              "0   2.0  0.785524\n",
              "1   3.0  0.782021\n",
              "2   4.0  0.778889\n",
              "3   5.0  0.736513\n",
              "4   6.0  0.786833\n",
              "5   7.0  0.787687\n",
              "6   8.0  0.778845\n",
              "7   9.0  0.786145"
            ],
            "text/html": [
              "\n",
              "  <div id=\"df-f6d5c9b0-efda-40c2-98f3-fca6be98f666\" class=\"colab-df-container\">\n",
              "    <div>\n",
              "<style scoped>\n",
              "    .dataframe tbody tr th:only-of-type {\n",
              "        vertical-align: middle;\n",
              "    }\n",
              "\n",
              "    .dataframe tbody tr th {\n",
              "        vertical-align: top;\n",
              "    }\n",
              "\n",
              "    .dataframe thead th {\n",
              "        text-align: right;\n",
              "    }\n",
              "</style>\n",
              "<table border=\"1\" class=\"dataframe\">\n",
              "  <thead>\n",
              "    <tr style=\"text-align: right;\">\n",
              "      <th></th>\n",
              "      <th>fold</th>\n",
              "      <th>score</th>\n",
              "    </tr>\n",
              "  </thead>\n",
              "  <tbody>\n",
              "    <tr>\n",
              "      <th>0</th>\n",
              "      <td>2.0</td>\n",
              "      <td>0.785524</td>\n",
              "    </tr>\n",
              "    <tr>\n",
              "      <th>1</th>\n",
              "      <td>3.0</td>\n",
              "      <td>0.782021</td>\n",
              "    </tr>\n",
              "    <tr>\n",
              "      <th>2</th>\n",
              "      <td>4.0</td>\n",
              "      <td>0.778889</td>\n",
              "    </tr>\n",
              "    <tr>\n",
              "      <th>3</th>\n",
              "      <td>5.0</td>\n",
              "      <td>0.736513</td>\n",
              "    </tr>\n",
              "    <tr>\n",
              "      <th>4</th>\n",
              "      <td>6.0</td>\n",
              "      <td>0.786833</td>\n",
              "    </tr>\n",
              "    <tr>\n",
              "      <th>5</th>\n",
              "      <td>7.0</td>\n",
              "      <td>0.787687</td>\n",
              "    </tr>\n",
              "    <tr>\n",
              "      <th>6</th>\n",
              "      <td>8.0</td>\n",
              "      <td>0.778845</td>\n",
              "    </tr>\n",
              "    <tr>\n",
              "      <th>7</th>\n",
              "      <td>9.0</td>\n",
              "      <td>0.786145</td>\n",
              "    </tr>\n",
              "  </tbody>\n",
              "</table>\n",
              "</div>\n",
              "    <div class=\"colab-df-buttons\">\n",
              "\n",
              "  <div class=\"colab-df-container\">\n",
              "    <button class=\"colab-df-convert\" onclick=\"convertToInteractive('df-f6d5c9b0-efda-40c2-98f3-fca6be98f666')\"\n",
              "            title=\"Convert this dataframe to an interactive table.\"\n",
              "            style=\"display:none;\">\n",
              "\n",
              "  <svg xmlns=\"http://www.w3.org/2000/svg\" height=\"24px\" viewBox=\"0 -960 960 960\">\n",
              "    <path d=\"M120-120v-720h720v720H120Zm60-500h600v-160H180v160Zm220 220h160v-160H400v160Zm0 220h160v-160H400v160ZM180-400h160v-160H180v160Zm440 0h160v-160H620v160ZM180-180h160v-160H180v160Zm440 0h160v-160H620v160Z\"/>\n",
              "  </svg>\n",
              "    </button>\n",
              "\n",
              "  <style>\n",
              "    .colab-df-container {\n",
              "      display:flex;\n",
              "      gap: 12px;\n",
              "    }\n",
              "\n",
              "    .colab-df-convert {\n",
              "      background-color: #E8F0FE;\n",
              "      border: none;\n",
              "      border-radius: 50%;\n",
              "      cursor: pointer;\n",
              "      display: none;\n",
              "      fill: #1967D2;\n",
              "      height: 32px;\n",
              "      padding: 0 0 0 0;\n",
              "      width: 32px;\n",
              "    }\n",
              "\n",
              "    .colab-df-convert:hover {\n",
              "      background-color: #E2EBFA;\n",
              "      box-shadow: 0px 1px 2px rgba(60, 64, 67, 0.3), 0px 1px 3px 1px rgba(60, 64, 67, 0.15);\n",
              "      fill: #174EA6;\n",
              "    }\n",
              "\n",
              "    .colab-df-buttons div {\n",
              "      margin-bottom: 4px;\n",
              "    }\n",
              "\n",
              "    [theme=dark] .colab-df-convert {\n",
              "      background-color: #3B4455;\n",
              "      fill: #D2E3FC;\n",
              "    }\n",
              "\n",
              "    [theme=dark] .colab-df-convert:hover {\n",
              "      background-color: #434B5C;\n",
              "      box-shadow: 0px 1px 3px 1px rgba(0, 0, 0, 0.15);\n",
              "      filter: drop-shadow(0px 1px 2px rgba(0, 0, 0, 0.3));\n",
              "      fill: #FFFFFF;\n",
              "    }\n",
              "  </style>\n",
              "\n",
              "    <script>\n",
              "      const buttonEl =\n",
              "        document.querySelector('#df-f6d5c9b0-efda-40c2-98f3-fca6be98f666 button.colab-df-convert');\n",
              "      buttonEl.style.display =\n",
              "        google.colab.kernel.accessAllowed ? 'block' : 'none';\n",
              "\n",
              "      async function convertToInteractive(key) {\n",
              "        const element = document.querySelector('#df-f6d5c9b0-efda-40c2-98f3-fca6be98f666');\n",
              "        const dataTable =\n",
              "          await google.colab.kernel.invokeFunction('convertToInteractive',\n",
              "                                                    [key], {});\n",
              "        if (!dataTable) return;\n",
              "\n",
              "        const docLinkHtml = 'Like what you see? Visit the ' +\n",
              "          '<a target=\"_blank\" href=https://colab.research.google.com/notebooks/data_table.ipynb>data table notebook</a>'\n",
              "          + ' to learn more about interactive tables.';\n",
              "        element.innerHTML = '';\n",
              "        dataTable['output_type'] = 'display_data';\n",
              "        await google.colab.output.renderOutput(dataTable, element);\n",
              "        const docLink = document.createElement('div');\n",
              "        docLink.innerHTML = docLinkHtml;\n",
              "        element.appendChild(docLink);\n",
              "      }\n",
              "    </script>\n",
              "  </div>\n",
              "\n",
              "\n",
              "<div id=\"df-07246c02-2e98-4bf6-8eed-9e1b266baece\">\n",
              "  <button class=\"colab-df-quickchart\" onclick=\"quickchart('df-07246c02-2e98-4bf6-8eed-9e1b266baece')\"\n",
              "            title=\"Suggest charts.\"\n",
              "            style=\"display:none;\">\n",
              "\n",
              "<svg xmlns=\"http://www.w3.org/2000/svg\" height=\"24px\"viewBox=\"0 0 24 24\"\n",
              "     width=\"24px\">\n",
              "    <g>\n",
              "        <path d=\"M19 3H5c-1.1 0-2 .9-2 2v14c0 1.1.9 2 2 2h14c1.1 0 2-.9 2-2V5c0-1.1-.9-2-2-2zM9 17H7v-7h2v7zm4 0h-2V7h2v10zm4 0h-2v-4h2v4z\"/>\n",
              "    </g>\n",
              "</svg>\n",
              "  </button>\n",
              "\n",
              "<style>\n",
              "  .colab-df-quickchart {\n",
              "      --bg-color: #E8F0FE;\n",
              "      --fill-color: #1967D2;\n",
              "      --hover-bg-color: #E2EBFA;\n",
              "      --hover-fill-color: #174EA6;\n",
              "      --disabled-fill-color: #AAA;\n",
              "      --disabled-bg-color: #DDD;\n",
              "  }\n",
              "\n",
              "  [theme=dark] .colab-df-quickchart {\n",
              "      --bg-color: #3B4455;\n",
              "      --fill-color: #D2E3FC;\n",
              "      --hover-bg-color: #434B5C;\n",
              "      --hover-fill-color: #FFFFFF;\n",
              "      --disabled-bg-color: #3B4455;\n",
              "      --disabled-fill-color: #666;\n",
              "  }\n",
              "\n",
              "  .colab-df-quickchart {\n",
              "    background-color: var(--bg-color);\n",
              "    border: none;\n",
              "    border-radius: 50%;\n",
              "    cursor: pointer;\n",
              "    display: none;\n",
              "    fill: var(--fill-color);\n",
              "    height: 32px;\n",
              "    padding: 0;\n",
              "    width: 32px;\n",
              "  }\n",
              "\n",
              "  .colab-df-quickchart:hover {\n",
              "    background-color: var(--hover-bg-color);\n",
              "    box-shadow: 0 1px 2px rgba(60, 64, 67, 0.3), 0 1px 3px 1px rgba(60, 64, 67, 0.15);\n",
              "    fill: var(--button-hover-fill-color);\n",
              "  }\n",
              "\n",
              "  .colab-df-quickchart-complete:disabled,\n",
              "  .colab-df-quickchart-complete:disabled:hover {\n",
              "    background-color: var(--disabled-bg-color);\n",
              "    fill: var(--disabled-fill-color);\n",
              "    box-shadow: none;\n",
              "  }\n",
              "\n",
              "  .colab-df-spinner {\n",
              "    border: 2px solid var(--fill-color);\n",
              "    border-color: transparent;\n",
              "    border-bottom-color: var(--fill-color);\n",
              "    animation:\n",
              "      spin 1s steps(1) infinite;\n",
              "  }\n",
              "\n",
              "  @keyframes spin {\n",
              "    0% {\n",
              "      border-color: transparent;\n",
              "      border-bottom-color: var(--fill-color);\n",
              "      border-left-color: var(--fill-color);\n",
              "    }\n",
              "    20% {\n",
              "      border-color: transparent;\n",
              "      border-left-color: var(--fill-color);\n",
              "      border-top-color: var(--fill-color);\n",
              "    }\n",
              "    30% {\n",
              "      border-color: transparent;\n",
              "      border-left-color: var(--fill-color);\n",
              "      border-top-color: var(--fill-color);\n",
              "      border-right-color: var(--fill-color);\n",
              "    }\n",
              "    40% {\n",
              "      border-color: transparent;\n",
              "      border-right-color: var(--fill-color);\n",
              "      border-top-color: var(--fill-color);\n",
              "    }\n",
              "    60% {\n",
              "      border-color: transparent;\n",
              "      border-right-color: var(--fill-color);\n",
              "    }\n",
              "    80% {\n",
              "      border-color: transparent;\n",
              "      border-right-color: var(--fill-color);\n",
              "      border-bottom-color: var(--fill-color);\n",
              "    }\n",
              "    90% {\n",
              "      border-color: transparent;\n",
              "      border-bottom-color: var(--fill-color);\n",
              "    }\n",
              "  }\n",
              "</style>\n",
              "\n",
              "  <script>\n",
              "    async function quickchart(key) {\n",
              "      const quickchartButtonEl =\n",
              "        document.querySelector('#' + key + ' button');\n",
              "      quickchartButtonEl.disabled = true;  // To prevent multiple clicks.\n",
              "      quickchartButtonEl.classList.add('colab-df-spinner');\n",
              "      try {\n",
              "        const charts = await google.colab.kernel.invokeFunction(\n",
              "            'suggestCharts', [key], {});\n",
              "      } catch (error) {\n",
              "        console.error('Error during call to suggestCharts:', error);\n",
              "      }\n",
              "      quickchartButtonEl.classList.remove('colab-df-spinner');\n",
              "      quickchartButtonEl.classList.add('colab-df-quickchart-complete');\n",
              "    }\n",
              "    (() => {\n",
              "      let quickchartButtonEl =\n",
              "        document.querySelector('#df-07246c02-2e98-4bf6-8eed-9e1b266baece button');\n",
              "      quickchartButtonEl.style.display =\n",
              "        google.colab.kernel.accessAllowed ? 'block' : 'none';\n",
              "    })();\n",
              "  </script>\n",
              "</div>\n",
              "    </div>\n",
              "  </div>\n"
            ]
          },
          "metadata": {},
          "execution_count": 303
        }
      ]
    },
    {
      "cell_type": "code",
      "source": [
        "score[score['score'].max() == score['score']]"
      ],
      "metadata": {
        "colab": {
          "base_uri": "https://localhost:8080/",
          "height": 81
        },
        "id": "zxRhkwDXpG9q",
        "outputId": "7b156924-232e-4767-9f1e-639f9e30cc56"
      },
      "execution_count": 304,
      "outputs": [
        {
          "output_type": "execute_result",
          "data": {
            "text/plain": [
              "   fold     score\n",
              "5   7.0  0.787687"
            ],
            "text/html": [
              "\n",
              "  <div id=\"df-99b85187-d0ff-4020-88ee-a7f4fbb5f2af\" class=\"colab-df-container\">\n",
              "    <div>\n",
              "<style scoped>\n",
              "    .dataframe tbody tr th:only-of-type {\n",
              "        vertical-align: middle;\n",
              "    }\n",
              "\n",
              "    .dataframe tbody tr th {\n",
              "        vertical-align: top;\n",
              "    }\n",
              "\n",
              "    .dataframe thead th {\n",
              "        text-align: right;\n",
              "    }\n",
              "</style>\n",
              "<table border=\"1\" class=\"dataframe\">\n",
              "  <thead>\n",
              "    <tr style=\"text-align: right;\">\n",
              "      <th></th>\n",
              "      <th>fold</th>\n",
              "      <th>score</th>\n",
              "    </tr>\n",
              "  </thead>\n",
              "  <tbody>\n",
              "    <tr>\n",
              "      <th>5</th>\n",
              "      <td>7.0</td>\n",
              "      <td>0.787687</td>\n",
              "    </tr>\n",
              "  </tbody>\n",
              "</table>\n",
              "</div>\n",
              "    <div class=\"colab-df-buttons\">\n",
              "\n",
              "  <div class=\"colab-df-container\">\n",
              "    <button class=\"colab-df-convert\" onclick=\"convertToInteractive('df-99b85187-d0ff-4020-88ee-a7f4fbb5f2af')\"\n",
              "            title=\"Convert this dataframe to an interactive table.\"\n",
              "            style=\"display:none;\">\n",
              "\n",
              "  <svg xmlns=\"http://www.w3.org/2000/svg\" height=\"24px\" viewBox=\"0 -960 960 960\">\n",
              "    <path d=\"M120-120v-720h720v720H120Zm60-500h600v-160H180v160Zm220 220h160v-160H400v160Zm0 220h160v-160H400v160ZM180-400h160v-160H180v160Zm440 0h160v-160H620v160ZM180-180h160v-160H180v160Zm440 0h160v-160H620v160Z\"/>\n",
              "  </svg>\n",
              "    </button>\n",
              "\n",
              "  <style>\n",
              "    .colab-df-container {\n",
              "      display:flex;\n",
              "      gap: 12px;\n",
              "    }\n",
              "\n",
              "    .colab-df-convert {\n",
              "      background-color: #E8F0FE;\n",
              "      border: none;\n",
              "      border-radius: 50%;\n",
              "      cursor: pointer;\n",
              "      display: none;\n",
              "      fill: #1967D2;\n",
              "      height: 32px;\n",
              "      padding: 0 0 0 0;\n",
              "      width: 32px;\n",
              "    }\n",
              "\n",
              "    .colab-df-convert:hover {\n",
              "      background-color: #E2EBFA;\n",
              "      box-shadow: 0px 1px 2px rgba(60, 64, 67, 0.3), 0px 1px 3px 1px rgba(60, 64, 67, 0.15);\n",
              "      fill: #174EA6;\n",
              "    }\n",
              "\n",
              "    .colab-df-buttons div {\n",
              "      margin-bottom: 4px;\n",
              "    }\n",
              "\n",
              "    [theme=dark] .colab-df-convert {\n",
              "      background-color: #3B4455;\n",
              "      fill: #D2E3FC;\n",
              "    }\n",
              "\n",
              "    [theme=dark] .colab-df-convert:hover {\n",
              "      background-color: #434B5C;\n",
              "      box-shadow: 0px 1px 3px 1px rgba(0, 0, 0, 0.15);\n",
              "      filter: drop-shadow(0px 1px 2px rgba(0, 0, 0, 0.3));\n",
              "      fill: #FFFFFF;\n",
              "    }\n",
              "  </style>\n",
              "\n",
              "    <script>\n",
              "      const buttonEl =\n",
              "        document.querySelector('#df-99b85187-d0ff-4020-88ee-a7f4fbb5f2af button.colab-df-convert');\n",
              "      buttonEl.style.display =\n",
              "        google.colab.kernel.accessAllowed ? 'block' : 'none';\n",
              "\n",
              "      async function convertToInteractive(key) {\n",
              "        const element = document.querySelector('#df-99b85187-d0ff-4020-88ee-a7f4fbb5f2af');\n",
              "        const dataTable =\n",
              "          await google.colab.kernel.invokeFunction('convertToInteractive',\n",
              "                                                    [key], {});\n",
              "        if (!dataTable) return;\n",
              "\n",
              "        const docLinkHtml = 'Like what you see? Visit the ' +\n",
              "          '<a target=\"_blank\" href=https://colab.research.google.com/notebooks/data_table.ipynb>data table notebook</a>'\n",
              "          + ' to learn more about interactive tables.';\n",
              "        element.innerHTML = '';\n",
              "        dataTable['output_type'] = 'display_data';\n",
              "        await google.colab.output.renderOutput(dataTable, element);\n",
              "        const docLink = document.createElement('div');\n",
              "        docLink.innerHTML = docLinkHtml;\n",
              "        element.appendChild(docLink);\n",
              "      }\n",
              "    </script>\n",
              "  </div>\n",
              "\n",
              "    </div>\n",
              "  </div>\n"
            ]
          },
          "metadata": {},
          "execution_count": 304
        }
      ]
    },
    {
      "cell_type": "code",
      "source": [
        "print(randomcv.best_params_)"
      ],
      "metadata": {
        "colab": {
          "base_uri": "https://localhost:8080/"
        },
        "id": "V1j2WEzElLQW",
        "outputId": "710666cf-f111-46ed-ded0-47c715b76e74"
      },
      "execution_count": 305,
      "outputs": [
        {
          "output_type": "stream",
          "name": "stdout",
          "text": [
            "{'max_depth': 5, 'criterion': 'entropy', 'ccp_alpha': 0.011111111111111112}\n"
          ]
        }
      ]
    },
    {
      "cell_type": "code",
      "source": [
        "folds=7\n",
        "\n",
        "n=10\n",
        "params_grid = {'criterion':['gini','entropy'],\n",
        "               'ccp_alpha':np.linspace(0,0.05,n),\n",
        "               'max_depth':list(range(1,6))}\n",
        "\n",
        "kfoldcv = StratifiedKFold(n_splits=folds)\n",
        "\n",
        "base_tree = DecisionTreeClassifier()\n",
        "\n",
        "scorer_fn = make_scorer(f1_score)\n",
        "\n",
        "randomcv = RandomizedSearchCV(estimator=base_tree,\n",
        "                              param_distributions = params_grid,\n",
        "                              scoring=scorer_fn,\n",
        "                              cv=kfoldcv,\n",
        "                              n_iter=n)\n",
        "randomcv.fit(X_train_ramdom, y_train_ramdom);"
      ],
      "metadata": {
        "id": "waU_ohHu5SlF"
      },
      "execution_count": 306,
      "outputs": []
    },
    {
      "cell_type": "code",
      "source": [
        "y_pred_random = randomcv.predict(test_sin_cuali)"
      ],
      "metadata": {
        "id": "8OHWKU_OuDbF"
      },
      "execution_count": 307,
      "outputs": []
    },
    {
      "cell_type": "code",
      "source": [
        "prediccion = pd.DataFrame({\"id\": test['id'], \"is_canceled\": y_pred_random})"
      ],
      "metadata": {
        "id": "HjcF48oV1aHx"
      },
      "execution_count": 308,
      "outputs": []
    },
    {
      "cell_type": "code",
      "source": [
        "prediccion.head()"
      ],
      "metadata": {
        "colab": {
          "base_uri": "https://localhost:8080/",
          "height": 206
        },
        "id": "_UqT1L57153N",
        "outputId": "ca902470-225a-47f8-81b6-52f6f5cff7a5"
      },
      "execution_count": 309,
      "outputs": [
        {
          "output_type": "execute_result",
          "data": {
            "text/plain": [
              "                                     id  is_canceled\n",
              "0  e6d0d58a-ab96-44d3-b28f-85df1cc15f1e            1\n",
              "1  aba9aac2-4495-4645-a60e-90328713c999            1\n",
              "2  b345b5dc-c804-4d77-a39f-1f4e65d1f1ad            0\n",
              "3  ce1b400e-afa1-4946-bdff-004b859eb61c            1\n",
              "4  c4fbec0d-8e2e-4db2-9d4f-a6ccb9f51214            1"
            ],
            "text/html": [
              "\n",
              "  <div id=\"df-3df6e9c4-4f3b-4d33-a713-e3e6a7868b1f\" class=\"colab-df-container\">\n",
              "    <div>\n",
              "<style scoped>\n",
              "    .dataframe tbody tr th:only-of-type {\n",
              "        vertical-align: middle;\n",
              "    }\n",
              "\n",
              "    .dataframe tbody tr th {\n",
              "        vertical-align: top;\n",
              "    }\n",
              "\n",
              "    .dataframe thead th {\n",
              "        text-align: right;\n",
              "    }\n",
              "</style>\n",
              "<table border=\"1\" class=\"dataframe\">\n",
              "  <thead>\n",
              "    <tr style=\"text-align: right;\">\n",
              "      <th></th>\n",
              "      <th>id</th>\n",
              "      <th>is_canceled</th>\n",
              "    </tr>\n",
              "  </thead>\n",
              "  <tbody>\n",
              "    <tr>\n",
              "      <th>0</th>\n",
              "      <td>e6d0d58a-ab96-44d3-b28f-85df1cc15f1e</td>\n",
              "      <td>1</td>\n",
              "    </tr>\n",
              "    <tr>\n",
              "      <th>1</th>\n",
              "      <td>aba9aac2-4495-4645-a60e-90328713c999</td>\n",
              "      <td>1</td>\n",
              "    </tr>\n",
              "    <tr>\n",
              "      <th>2</th>\n",
              "      <td>b345b5dc-c804-4d77-a39f-1f4e65d1f1ad</td>\n",
              "      <td>0</td>\n",
              "    </tr>\n",
              "    <tr>\n",
              "      <th>3</th>\n",
              "      <td>ce1b400e-afa1-4946-bdff-004b859eb61c</td>\n",
              "      <td>1</td>\n",
              "    </tr>\n",
              "    <tr>\n",
              "      <th>4</th>\n",
              "      <td>c4fbec0d-8e2e-4db2-9d4f-a6ccb9f51214</td>\n",
              "      <td>1</td>\n",
              "    </tr>\n",
              "  </tbody>\n",
              "</table>\n",
              "</div>\n",
              "    <div class=\"colab-df-buttons\">\n",
              "\n",
              "  <div class=\"colab-df-container\">\n",
              "    <button class=\"colab-df-convert\" onclick=\"convertToInteractive('df-3df6e9c4-4f3b-4d33-a713-e3e6a7868b1f')\"\n",
              "            title=\"Convert this dataframe to an interactive table.\"\n",
              "            style=\"display:none;\">\n",
              "\n",
              "  <svg xmlns=\"http://www.w3.org/2000/svg\" height=\"24px\" viewBox=\"0 -960 960 960\">\n",
              "    <path d=\"M120-120v-720h720v720H120Zm60-500h600v-160H180v160Zm220 220h160v-160H400v160Zm0 220h160v-160H400v160ZM180-400h160v-160H180v160Zm440 0h160v-160H620v160ZM180-180h160v-160H180v160Zm440 0h160v-160H620v160Z\"/>\n",
              "  </svg>\n",
              "    </button>\n",
              "\n",
              "  <style>\n",
              "    .colab-df-container {\n",
              "      display:flex;\n",
              "      gap: 12px;\n",
              "    }\n",
              "\n",
              "    .colab-df-convert {\n",
              "      background-color: #E8F0FE;\n",
              "      border: none;\n",
              "      border-radius: 50%;\n",
              "      cursor: pointer;\n",
              "      display: none;\n",
              "      fill: #1967D2;\n",
              "      height: 32px;\n",
              "      padding: 0 0 0 0;\n",
              "      width: 32px;\n",
              "    }\n",
              "\n",
              "    .colab-df-convert:hover {\n",
              "      background-color: #E2EBFA;\n",
              "      box-shadow: 0px 1px 2px rgba(60, 64, 67, 0.3), 0px 1px 3px 1px rgba(60, 64, 67, 0.15);\n",
              "      fill: #174EA6;\n",
              "    }\n",
              "\n",
              "    .colab-df-buttons div {\n",
              "      margin-bottom: 4px;\n",
              "    }\n",
              "\n",
              "    [theme=dark] .colab-df-convert {\n",
              "      background-color: #3B4455;\n",
              "      fill: #D2E3FC;\n",
              "    }\n",
              "\n",
              "    [theme=dark] .colab-df-convert:hover {\n",
              "      background-color: #434B5C;\n",
              "      box-shadow: 0px 1px 3px 1px rgba(0, 0, 0, 0.15);\n",
              "      filter: drop-shadow(0px 1px 2px rgba(0, 0, 0, 0.3));\n",
              "      fill: #FFFFFF;\n",
              "    }\n",
              "  </style>\n",
              "\n",
              "    <script>\n",
              "      const buttonEl =\n",
              "        document.querySelector('#df-3df6e9c4-4f3b-4d33-a713-e3e6a7868b1f button.colab-df-convert');\n",
              "      buttonEl.style.display =\n",
              "        google.colab.kernel.accessAllowed ? 'block' : 'none';\n",
              "\n",
              "      async function convertToInteractive(key) {\n",
              "        const element = document.querySelector('#df-3df6e9c4-4f3b-4d33-a713-e3e6a7868b1f');\n",
              "        const dataTable =\n",
              "          await google.colab.kernel.invokeFunction('convertToInteractive',\n",
              "                                                    [key], {});\n",
              "        if (!dataTable) return;\n",
              "\n",
              "        const docLinkHtml = 'Like what you see? Visit the ' +\n",
              "          '<a target=\"_blank\" href=https://colab.research.google.com/notebooks/data_table.ipynb>data table notebook</a>'\n",
              "          + ' to learn more about interactive tables.';\n",
              "        element.innerHTML = '';\n",
              "        dataTable['output_type'] = 'display_data';\n",
              "        await google.colab.output.renderOutput(dataTable, element);\n",
              "        const docLink = document.createElement('div');\n",
              "        docLink.innerHTML = docLinkHtml;\n",
              "        element.appendChild(docLink);\n",
              "      }\n",
              "    </script>\n",
              "  </div>\n",
              "\n",
              "\n",
              "<div id=\"df-1686e9a5-062b-40ae-b423-f213e84d8efe\">\n",
              "  <button class=\"colab-df-quickchart\" onclick=\"quickchart('df-1686e9a5-062b-40ae-b423-f213e84d8efe')\"\n",
              "            title=\"Suggest charts.\"\n",
              "            style=\"display:none;\">\n",
              "\n",
              "<svg xmlns=\"http://www.w3.org/2000/svg\" height=\"24px\"viewBox=\"0 0 24 24\"\n",
              "     width=\"24px\">\n",
              "    <g>\n",
              "        <path d=\"M19 3H5c-1.1 0-2 .9-2 2v14c0 1.1.9 2 2 2h14c1.1 0 2-.9 2-2V5c0-1.1-.9-2-2-2zM9 17H7v-7h2v7zm4 0h-2V7h2v10zm4 0h-2v-4h2v4z\"/>\n",
              "    </g>\n",
              "</svg>\n",
              "  </button>\n",
              "\n",
              "<style>\n",
              "  .colab-df-quickchart {\n",
              "      --bg-color: #E8F0FE;\n",
              "      --fill-color: #1967D2;\n",
              "      --hover-bg-color: #E2EBFA;\n",
              "      --hover-fill-color: #174EA6;\n",
              "      --disabled-fill-color: #AAA;\n",
              "      --disabled-bg-color: #DDD;\n",
              "  }\n",
              "\n",
              "  [theme=dark] .colab-df-quickchart {\n",
              "      --bg-color: #3B4455;\n",
              "      --fill-color: #D2E3FC;\n",
              "      --hover-bg-color: #434B5C;\n",
              "      --hover-fill-color: #FFFFFF;\n",
              "      --disabled-bg-color: #3B4455;\n",
              "      --disabled-fill-color: #666;\n",
              "  }\n",
              "\n",
              "  .colab-df-quickchart {\n",
              "    background-color: var(--bg-color);\n",
              "    border: none;\n",
              "    border-radius: 50%;\n",
              "    cursor: pointer;\n",
              "    display: none;\n",
              "    fill: var(--fill-color);\n",
              "    height: 32px;\n",
              "    padding: 0;\n",
              "    width: 32px;\n",
              "  }\n",
              "\n",
              "  .colab-df-quickchart:hover {\n",
              "    background-color: var(--hover-bg-color);\n",
              "    box-shadow: 0 1px 2px rgba(60, 64, 67, 0.3), 0 1px 3px 1px rgba(60, 64, 67, 0.15);\n",
              "    fill: var(--button-hover-fill-color);\n",
              "  }\n",
              "\n",
              "  .colab-df-quickchart-complete:disabled,\n",
              "  .colab-df-quickchart-complete:disabled:hover {\n",
              "    background-color: var(--disabled-bg-color);\n",
              "    fill: var(--disabled-fill-color);\n",
              "    box-shadow: none;\n",
              "  }\n",
              "\n",
              "  .colab-df-spinner {\n",
              "    border: 2px solid var(--fill-color);\n",
              "    border-color: transparent;\n",
              "    border-bottom-color: var(--fill-color);\n",
              "    animation:\n",
              "      spin 1s steps(1) infinite;\n",
              "  }\n",
              "\n",
              "  @keyframes spin {\n",
              "    0% {\n",
              "      border-color: transparent;\n",
              "      border-bottom-color: var(--fill-color);\n",
              "      border-left-color: var(--fill-color);\n",
              "    }\n",
              "    20% {\n",
              "      border-color: transparent;\n",
              "      border-left-color: var(--fill-color);\n",
              "      border-top-color: var(--fill-color);\n",
              "    }\n",
              "    30% {\n",
              "      border-color: transparent;\n",
              "      border-left-color: var(--fill-color);\n",
              "      border-top-color: var(--fill-color);\n",
              "      border-right-color: var(--fill-color);\n",
              "    }\n",
              "    40% {\n",
              "      border-color: transparent;\n",
              "      border-right-color: var(--fill-color);\n",
              "      border-top-color: var(--fill-color);\n",
              "    }\n",
              "    60% {\n",
              "      border-color: transparent;\n",
              "      border-right-color: var(--fill-color);\n",
              "    }\n",
              "    80% {\n",
              "      border-color: transparent;\n",
              "      border-right-color: var(--fill-color);\n",
              "      border-bottom-color: var(--fill-color);\n",
              "    }\n",
              "    90% {\n",
              "      border-color: transparent;\n",
              "      border-bottom-color: var(--fill-color);\n",
              "    }\n",
              "  }\n",
              "</style>\n",
              "\n",
              "  <script>\n",
              "    async function quickchart(key) {\n",
              "      const quickchartButtonEl =\n",
              "        document.querySelector('#' + key + ' button');\n",
              "      quickchartButtonEl.disabled = true;  // To prevent multiple clicks.\n",
              "      quickchartButtonEl.classList.add('colab-df-spinner');\n",
              "      try {\n",
              "        const charts = await google.colab.kernel.invokeFunction(\n",
              "            'suggestCharts', [key], {});\n",
              "      } catch (error) {\n",
              "        console.error('Error during call to suggestCharts:', error);\n",
              "      }\n",
              "      quickchartButtonEl.classList.remove('colab-df-spinner');\n",
              "      quickchartButtonEl.classList.add('colab-df-quickchart-complete');\n",
              "    }\n",
              "    (() => {\n",
              "      let quickchartButtonEl =\n",
              "        document.querySelector('#df-1686e9a5-062b-40ae-b423-f213e84d8efe button');\n",
              "      quickchartButtonEl.style.display =\n",
              "        google.colab.kernel.accessAllowed ? 'block' : 'none';\n",
              "    })();\n",
              "  </script>\n",
              "</div>\n",
              "    </div>\n",
              "  </div>\n"
            ]
          },
          "metadata": {},
          "execution_count": 309
        }
      ]
    },
    {
      "cell_type": "code",
      "source": [
        "prediccion.to_csv('/content/sample_data/prediccion_random.csv', index = False)"
      ],
      "metadata": {
        "id": "TFSrRyK51_5I"
      },
      "execution_count": 310,
      "outputs": []
    },
    {
      "cell_type": "markdown",
      "source": [
        "# GridSearchCV"
      ],
      "metadata": {
        "id": "todjkto9hslB"
      }
    },
    {
      "cell_type": "code",
      "source": [
        "from sklearn.model_selection import GridSearchCV"
      ],
      "metadata": {
        "id": "nbGJhfRZhslB"
      },
      "execution_count": 311,
      "outputs": []
    },
    {
      "cell_type": "code",
      "source": [
        "X_train_grid, X_test_grid, y_train_grid, y_test_grid = train_test_split(a, b, test_size=0.2, random_state=42)\n",
        "\n",
        "n=10\n",
        "\n",
        "param_grid = {\n",
        "    'criterion': ['gini', 'entropy'],\n",
        "    'splitter': ['best', 'random'],\n",
        "    'max_depth': [None, 10, 20, 30, 40, 50],\n",
        "    'min_samples_split': [2, 5, 10],\n",
        "    'min_samples_leaf': [1, 2, 4],\n",
        "    'max_features': ['auto', 'sqrt', 'log2']\n",
        "}\n",
        "\n",
        "folds=7\n",
        "\n",
        "kfoldcv = StratifiedKFold(n_splits=folds)\n",
        "\n",
        "base_tree = DecisionTreeClassifier()\n",
        "\n",
        "scorer_fn = make_scorer(f1_score)\n",
        "\n",
        "gridcv = GridSearchCV(estimator=base_tree ,param_grid=params_grid,scoring=scorer_fn,cv=kfoldcv,return_train_score='True', n_jobs=-1)\n",
        "\n",
        "gridcv.fit(X_train_grid, y_train_grid);"
      ],
      "metadata": {
        "id": "kqz7NE7ghslB"
      },
      "execution_count": 312,
      "outputs": []
    },
    {
      "cell_type": "code",
      "source": [
        "print(gridcv.best_params_)\n",
        "\n",
        "print(gridcv.best_score_)"
      ],
      "metadata": {
        "colab": {
          "base_uri": "https://localhost:8080/"
        },
        "id": "5nLZ-AjqhslB",
        "outputId": "ab53ad22-435a-40ac-853d-87bd3e1c1f53"
      },
      "execution_count": 314,
      "outputs": [
        {
          "output_type": "stream",
          "name": "stdout",
          "text": [
            "{'ccp_alpha': 0.0, 'criterion': 'entropy', 'max_depth': 5}\n",
            "0.7876865048859107\n"
          ]
        }
      ]
    },
    {
      "cell_type": "code",
      "source": [
        "gridcv.cv_results_['mean_test_score']"
      ],
      "metadata": {
        "colab": {
          "base_uri": "https://localhost:8080/"
        },
        "id": "Lsk4A1y5hslB",
        "outputId": "37fbc0c3-ea59-426a-aa2f-b0331b071771"
      },
      "execution_count": 108,
      "outputs": [
        {
          "output_type": "execute_result",
          "data": {
            "text/plain": [
              "array([0.4787088 , 0.47891146, 0.6757314 , 0.78018548, 0.78725635,\n",
              "       0.4787088 , 0.47891146, 0.64531482, 0.76153216, 0.78766037,\n",
              "       0.4787088 , 0.4787088 , 0.67392743, 0.77836056, 0.78527129,\n",
              "       0.4787088 , 0.4787088 , 0.64510323, 0.76130591, 0.78697459,\n",
              "       0.4787088 , 0.4787088 , 0.67392743, 0.77239639, 0.77809355,\n",
              "       0.4787088 , 0.4787088 , 0.64510323, 0.76130591, 0.78697459,\n",
              "       0.4787088 , 0.4787088 , 0.67392743, 0.77239639, 0.77809355,\n",
              "       0.4787088 , 0.4787088 , 0.64510323, 0.75694432, 0.78044278,\n",
              "       0.4787088 , 0.4787088 , 0.4787088 , 0.77239639, 0.77239639,\n",
              "       0.4787088 , 0.4787088 , 0.64510323, 0.75694432, 0.78044278,\n",
              "       0.4787088 , 0.4787088 , 0.4787088 , 0.6842375 , 0.6842375 ,\n",
              "       0.4787088 , 0.4787088 , 0.64510323, 0.75694432, 0.78044278,\n",
              "       0.4787088 , 0.4787088 , 0.4787088 , 0.4787088 , 0.4787088 ,\n",
              "       0.4787088 , 0.4787088 , 0.4787088 , 0.72639836, 0.77381092,\n",
              "       0.4787088 , 0.4787088 , 0.4787088 , 0.4787088 , 0.4787088 ,\n",
              "       0.4787088 , 0.4787088 , 0.4787088 , 0.72639836, 0.77381092,\n",
              "       0.4787088 , 0.4787088 , 0.4787088 , 0.4787088 , 0.4787088 ,\n",
              "       0.4787088 , 0.4787088 , 0.4787088 , 0.72639836, 0.72639836,\n",
              "       0.4787088 , 0.4787088 , 0.4787088 , 0.4787088 , 0.4787088 ,\n",
              "       0.4787088 , 0.4787088 , 0.4787088 , 0.4787088 , 0.4787088 ])"
            ]
          },
          "metadata": {},
          "execution_count": 108
        }
      ]
    },
    {
      "cell_type": "code",
      "source": [
        "y_pred_grid = gridcv.predict(X_test_grid)\n",
        "\n",
        "# Evaluar el modelo en el conjunto de prueba\n",
        "accuracy = accuracy_score(y_test_grid, y_pred_grid)\n",
        "precision = precision_score(y_test_grid, y_pred_grid)\n",
        "recall = recall_score(y_test_grid, y_pred_grid)\n",
        "f1 = f1_score(y_test_grid, y_pred_grid)\n",
        "roc_auc = roc_auc_score(y_test_grid, y_pred_grid)\n",
        "\n",
        "print(\"Exactitud:\", accuracy)\n",
        "print(\"Precisión:\", precision)\n",
        "print(\"Recuperación:\", recall)\n",
        "print(\"F1-Score:\", f1)\n",
        "print(\"AUC-ROC:\", roc_auc)"
      ],
      "metadata": {
        "colab": {
          "base_uri": "https://localhost:8080/"
        },
        "id": "8AAdlOKShslB",
        "outputId": "2abef2f9-775b-422b-ac25-801a968065ea"
      },
      "execution_count": 109,
      "outputs": [
        {
          "output_type": "stream",
          "name": "stdout",
          "text": [
            "Exactitud: 0.786563614744352\n",
            "Precisión: 0.7851889858046862\n",
            "Recuperación: 0.7850547195622435\n",
            "F1-Score: 0.785121846943138\n",
            "AUC-ROC: 0.7865536844520634\n"
          ]
        }
      ]
    },
    {
      "cell_type": "code",
      "source": [
        "from sklearn.metrics import confusion_matrix\n",
        "tabla=confusion_matrix(y_test_grid, y_pred_grid)\n",
        "\n",
        "#Grafico la matriz de confusión\n",
        "sns.heatmap(tabla,cmap='GnBu',annot=True,fmt='g')\n",
        "plt.xlabel('Predicted')\n",
        "plt.ylabel('True')"
      ],
      "metadata": {
        "colab": {
          "base_uri": "https://localhost:8080/",
          "height": 466
        },
        "id": "TLxhCs32hslB",
        "outputId": "54019759-5ab3-4c97-fa0f-8cc9a966d54e"
      },
      "execution_count": 315,
      "outputs": [
        {
          "output_type": "execute_result",
          "data": {
            "text/plain": [
              "Text(50.722222222222214, 0.5, 'True')"
            ]
          },
          "metadata": {},
          "execution_count": 315
        },
        {
          "output_type": "display_data",
          "data": {
            "text/plain": [
              "<Figure size 640x480 with 2 Axes>"
            ],
            "image/png": "[encoded data removed]"
          },
          "metadata": {}
        }
      ]
    },
    {
      "cell_type": "code",
      "source": [
        "y_pred_grid = gridcv.predict(test_sin_cuali)"
      ],
      "metadata": {
        "id": "eADnB6EAAeYY"
      },
      "execution_count": 111,
      "outputs": []
    },
    {
      "cell_type": "code",
      "source": [
        "prediccion = pd.DataFrame({\"id\": test['id'], \"is_canceled\": y_pred_grid})"
      ],
      "metadata": {
        "id": "ZXF39BxbA2Zv"
      },
      "execution_count": 112,
      "outputs": []
    },
    {
      "cell_type": "code",
      "source": [
        "prediccion.head()"
      ],
      "metadata": {
        "colab": {
          "base_uri": "https://localhost:8080/",
          "height": 206
        },
        "outputId": "a7a5a261-6d89-41df-d645-28f791a61e8b",
        "id": "uWG-5nsBA2Zw"
      },
      "execution_count": 113,
      "outputs": [
        {
          "output_type": "execute_result",
          "data": {
            "text/plain": [
              "                                     id  is_canceled\n",
              "0  e6d0d58a-ab96-44d3-b28f-85df1cc15f1e            1\n",
              "1  aba9aac2-4495-4645-a60e-90328713c999            1\n",
              "2  b345b5dc-c804-4d77-a39f-1f4e65d1f1ad            0\n",
              "3  ce1b400e-afa1-4946-bdff-004b859eb61c            1\n",
              "4  c4fbec0d-8e2e-4db2-9d4f-a6ccb9f51214            1"
            ],
            "text/html": [
              "\n",
              "  <div id=\"df-b8e60079-196a-41b9-8f6a-c2b918f9e6e1\" class=\"colab-df-container\">\n",
              "    <div>\n",
              "<style scoped>\n",
              "    .dataframe tbody tr th:only-of-type {\n",
              "        vertical-align: middle;\n",
              "    }\n",
              "\n",
              "    .dataframe tbody tr th {\n",
              "        vertical-align: top;\n",
              "    }\n",
              "\n",
              "    .dataframe thead th {\n",
              "        text-align: right;\n",
              "    }\n",
              "</style>\n",
              "<table border=\"1\" class=\"dataframe\">\n",
              "  <thead>\n",
              "    <tr style=\"text-align: right;\">\n",
              "      <th></th>\n",
              "      <th>id</th>\n",
              "      <th>is_canceled</th>\n",
              "    </tr>\n",
              "  </thead>\n",
              "  <tbody>\n",
              "    <tr>\n",
              "      <th>0</th>\n",
              "      <td>e6d0d58a-ab96-44d3-b28f-85df1cc15f1e</td>\n",
              "      <td>1</td>\n",
              "    </tr>\n",
              "    <tr>\n",
              "      <th>1</th>\n",
              "      <td>aba9aac2-4495-4645-a60e-90328713c999</td>\n",
              "      <td>1</td>\n",
              "    </tr>\n",
              "    <tr>\n",
              "      <th>2</th>\n",
              "      <td>b345b5dc-c804-4d77-a39f-1f4e65d1f1ad</td>\n",
              "      <td>0</td>\n",
              "    </tr>\n",
              "    <tr>\n",
              "      <th>3</th>\n",
              "      <td>ce1b400e-afa1-4946-bdff-004b859eb61c</td>\n",
              "      <td>1</td>\n",
              "    </tr>\n",
              "    <tr>\n",
              "      <th>4</th>\n",
              "      <td>c4fbec0d-8e2e-4db2-9d4f-a6ccb9f51214</td>\n",
              "      <td>1</td>\n",
              "    </tr>\n",
              "  </tbody>\n",
              "</table>\n",
              "</div>\n",
              "    <div class=\"colab-df-buttons\">\n",
              "\n",
              "  <div class=\"colab-df-container\">\n",
              "    <button class=\"colab-df-convert\" onclick=\"convertToInteractive('df-b8e60079-196a-41b9-8f6a-c2b918f9e6e1')\"\n",
              "            title=\"Convert this dataframe to an interactive table.\"\n",
              "            style=\"display:none;\">\n",
              "\n",
              "  <svg xmlns=\"http://www.w3.org/2000/svg\" height=\"24px\" viewBox=\"0 -960 960 960\">\n",
              "    <path d=\"M120-120v-720h720v720H120Zm60-500h600v-160H180v160Zm220 220h160v-160H400v160Zm0 220h160v-160H400v160ZM180-400h160v-160H180v160Zm440 0h160v-160H620v160ZM180-180h160v-160H180v160Zm440 0h160v-160H620v160Z\"/>\n",
              "  </svg>\n",
              "    </button>\n",
              "\n",
              "  <style>\n",
              "    .colab-df-container {\n",
              "      display:flex;\n",
              "      gap: 12px;\n",
              "    }\n",
              "\n",
              "    .colab-df-convert {\n",
              "      background-color: #E8F0FE;\n",
              "      border: none;\n",
              "      border-radius: 50%;\n",
              "      cursor: pointer;\n",
              "      display: none;\n",
              "      fill: #1967D2;\n",
              "      height: 32px;\n",
              "      padding: 0 0 0 0;\n",
              "      width: 32px;\n",
              "    }\n",
              "\n",
              "    .colab-df-convert:hover {\n",
              "      background-color: #E2EBFA;\n",
              "      box-shadow: 0px 1px 2px rgba(60, 64, 67, 0.3), 0px 1px 3px 1px rgba(60, 64, 67, 0.15);\n",
              "      fill: #174EA6;\n",
              "    }\n",
              "\n",
              "    .colab-df-buttons div {\n",
              "      margin-bottom: 4px;\n",
              "    }\n",
              "\n",
              "    [theme=dark] .colab-df-convert {\n",
              "      background-color: #3B4455;\n",
              "      fill: #D2E3FC;\n",
              "    }\n",
              "\n",
              "    [theme=dark] .colab-df-convert:hover {\n",
              "      background-color: #434B5C;\n",
              "      box-shadow: 0px 1px 3px 1px rgba(0, 0, 0, 0.15);\n",
              "      filter: drop-shadow(0px 1px 2px rgba(0, 0, 0, 0.3));\n",
              "      fill: #FFFFFF;\n",
              "    }\n",
              "  </style>\n",
              "\n",
              "    <script>\n",
              "      const buttonEl =\n",
              "        document.querySelector('#df-b8e60079-196a-41b9-8f6a-c2b918f9e6e1 button.colab-df-convert');\n",
              "      buttonEl.style.display =\n",
              "        google.colab.kernel.accessAllowed ? 'block' : 'none';\n",
              "\n",
              "      async function convertToInteractive(key) {\n",
              "        const element = document.querySelector('#df-b8e60079-196a-41b9-8f6a-c2b918f9e6e1');\n",
              "        const dataTable =\n",
              "          await google.colab.kernel.invokeFunction('convertToInteractive',\n",
              "                                                    [key], {});\n",
              "        if (!dataTable) return;\n",
              "\n",
              "        const docLinkHtml = 'Like what you see? Visit the ' +\n",
              "          '<a target=\"_blank\" href=https://colab.research.google.com/notebooks/data_table.ipynb>data table notebook</a>'\n",
              "          + ' to learn more about interactive tables.';\n",
              "        element.innerHTML = '';\n",
              "        dataTable['output_type'] = 'display_data';\n",
              "        await google.colab.output.renderOutput(dataTable, element);\n",
              "        const docLink = document.createElement('div');\n",
              "        docLink.innerHTML = docLinkHtml;\n",
              "        element.appendChild(docLink);\n",
              "      }\n",
              "    </script>\n",
              "  </div>\n",
              "\n",
              "\n",
              "<div id=\"df-314816f7-799b-47c2-9ed3-d9f94cb7799d\">\n",
              "  <button class=\"colab-df-quickchart\" onclick=\"quickchart('df-314816f7-799b-47c2-9ed3-d9f94cb7799d')\"\n",
              "            title=\"Suggest charts.\"\n",
              "            style=\"display:none;\">\n",
              "\n",
              "<svg xmlns=\"http://www.w3.org/2000/svg\" height=\"24px\"viewBox=\"0 0 24 24\"\n",
              "     width=\"24px\">\n",
              "    <g>\n",
              "        <path d=\"M19 3H5c-1.1 0-2 .9-2 2v14c0 1.1.9 2 2 2h14c1.1 0 2-.9 2-2V5c0-1.1-.9-2-2-2zM9 17H7v-7h2v7zm4 0h-2V7h2v10zm4 0h-2v-4h2v4z\"/>\n",
              "    </g>\n",
              "</svg>\n",
              "  </button>\n",
              "\n",
              "<style>\n",
              "  .colab-df-quickchart {\n",
              "      --bg-color: #E8F0FE;\n",
              "      --fill-color: #1967D2;\n",
              "      --hover-bg-color: #E2EBFA;\n",
              "      --hover-fill-color: #174EA6;\n",
              "      --disabled-fill-color: #AAA;\n",
              "      --disabled-bg-color: #DDD;\n",
              "  }\n",
              "\n",
              "  [theme=dark] .colab-df-quickchart {\n",
              "      --bg-color: #3B4455;\n",
              "      --fill-color: #D2E3FC;\n",
              "      --hover-bg-color: #434B5C;\n",
              "      --hover-fill-color: #FFFFFF;\n",
              "      --disabled-bg-color: #3B4455;\n",
              "      --disabled-fill-color: #666;\n",
              "  }\n",
              "\n",
              "  .colab-df-quickchart {\n",
              "    background-color: var(--bg-color);\n",
              "    border: none;\n",
              "    border-radius: 50%;\n",
              "    cursor: pointer;\n",
              "    display: none;\n",
              "    fill: var(--fill-color);\n",
              "    height: 32px;\n",
              "    padding: 0;\n",
              "    width: 32px;\n",
              "  }\n",
              "\n",
              "  .colab-df-quickchart:hover {\n",
              "    background-color: var(--hover-bg-color);\n",
              "    box-shadow: 0 1px 2px rgba(60, 64, 67, 0.3), 0 1px 3px 1px rgba(60, 64, 67, 0.15);\n",
              "    fill: var(--button-hover-fill-color);\n",
              "  }\n",
              "\n",
              "  .colab-df-quickchart-complete:disabled,\n",
              "  .colab-df-quickchart-complete:disabled:hover {\n",
              "    background-color: var(--disabled-bg-color);\n",
              "    fill: var(--disabled-fill-color);\n",
              "    box-shadow: none;\n",
              "  }\n",
              "\n",
              "  .colab-df-spinner {\n",
              "    border: 2px solid var(--fill-color);\n",
              "    border-color: transparent;\n",
              "    border-bottom-color: var(--fill-color);\n",
              "    animation:\n",
              "      spin 1s steps(1) infinite;\n",
              "  }\n",
              "\n",
              "  @keyframes spin {\n",
              "    0% {\n",
              "      border-color: transparent;\n",
              "      border-bottom-color: var(--fill-color);\n",
              "      border-left-color: var(--fill-color);\n",
              "    }\n",
              "    20% {\n",
              "      border-color: transparent;\n",
              "      border-left-color: var(--fill-color);\n",
              "      border-top-color: var(--fill-color);\n",
              "    }\n",
              "    30% {\n",
              "      border-color: transparent;\n",
              "      border-left-color: var(--fill-color);\n",
              "      border-top-color: var(--fill-color);\n",
              "      border-right-color: var(--fill-color);\n",
              "    }\n",
              "    40% {\n",
              "      border-color: transparent;\n",
              "      border-right-color: var(--fill-color);\n",
              "      border-top-color: var(--fill-color);\n",
              "    }\n",
              "    60% {\n",
              "      border-color: transparent;\n",
              "      border-right-color: var(--fill-color);\n",
              "    }\n",
              "    80% {\n",
              "      border-color: transparent;\n",
              "      border-right-color: var(--fill-color);\n",
              "      border-bottom-color: var(--fill-color);\n",
              "    }\n",
              "    90% {\n",
              "      border-color: transparent;\n",
              "      border-bottom-color: var(--fill-color);\n",
              "    }\n",
              "  }\n",
              "</style>\n",
              "\n",
              "  <script>\n",
              "    async function quickchart(key) {\n",
              "      const quickchartButtonEl =\n",
              "        document.querySelector('#' + key + ' button');\n",
              "      quickchartButtonEl.disabled = true;  // To prevent multiple clicks.\n",
              "      quickchartButtonEl.classList.add('colab-df-spinner');\n",
              "      try {\n",
              "        const charts = await google.colab.kernel.invokeFunction(\n",
              "            'suggestCharts', [key], {});\n",
              "      } catch (error) {\n",
              "        console.error('Error during call to suggestCharts:', error);\n",
              "      }\n",
              "      quickchartButtonEl.classList.remove('colab-df-spinner');\n",
              "      quickchartButtonEl.classList.add('colab-df-quickchart-complete');\n",
              "    }\n",
              "    (() => {\n",
              "      let quickchartButtonEl =\n",
              "        document.querySelector('#df-314816f7-799b-47c2-9ed3-d9f94cb7799d button');\n",
              "      quickchartButtonEl.style.display =\n",
              "        google.colab.kernel.accessAllowed ? 'block' : 'none';\n",
              "    })();\n",
              "  </script>\n",
              "</div>\n",
              "    </div>\n",
              "  </div>\n"
            ]
          },
          "metadata": {},
          "execution_count": 113
        }
      ]
    },
    {
      "cell_type": "code",
      "source": [
        "prediccion.to_csv('/content/sample_data/prediccion_grid_basico.csv', index = False)"
      ],
      "metadata": {
        "id": "oySJxGOaA2Zw"
      },
      "execution_count": 114,
      "outputs": []
    },
    {
      "cell_type": "markdown",
      "source": [
        "# Probamos la diferencia haciendo una normalizacion y balanceo"
      ],
      "metadata": {
        "id": "u1xGZ9zYM3Ya"
      }
    },
    {
      "cell_type": "code",
      "source": [
        "from sklearn.preprocessing import MinMaxScaler\n",
        "from sklearn.utils import resample"
      ],
      "metadata": {
        "id": "ZIxGRVu2OqGF"
      },
      "execution_count": 316,
      "outputs": []
    },
    {
      "cell_type": "code",
      "source": [
        "a = reservas_sin_cuali.drop(['is_canceled'], axis=1)\n",
        "b = reservas_sin_cuali['is_canceled']"
      ],
      "metadata": {
        "id": "LS2iWnNcQ_OV"
      },
      "execution_count": 317,
      "outputs": []
    },
    {
      "cell_type": "code",
      "source": [
        "# Normalización Min-Max en los datos de entrenamiento\n",
        "scaler = MinMaxScaler()\n",
        "X_train_normalized = scaler.fit_transform(a)"
      ],
      "metadata": {
        "id": "zN3Kdxy2NqBl"
      },
      "execution_count": 318,
      "outputs": []
    },
    {
      "cell_type": "code",
      "source": [
        "# Balanceo de clases (sobremuestreo de la clase minoritaria)\n",
        "class_0 = X_train_normalized[b == 0]\n",
        "class_1 = X_train_normalized[b == 1]\n",
        "\n",
        "class_1_oversampled = resample(class_1, replace=True, n_samples=len(class_0), random_state=42)\n",
        "\n",
        "X_train_balanced = np.vstack((class_0, class_1_oversampled))\n",
        "y_train_balanced = np.hstack((b[b == 0], np.ones(len(class_0))))"
      ],
      "metadata": {
        "id": "O6rJx00aNuJl"
      },
      "execution_count": 319,
      "outputs": []
    },
    {
      "cell_type": "code",
      "source": [
        "X_train_grid, X_test_grid, y_train_grid, y_test_grid = train_test_split(X_train_balanced, y_train_balanced, test_size=0.2, random_state=42)\n",
        "\n",
        "# Definimos un árbol de decisión con hiperparámetros\n",
        "clf = DecisionTreeClassifier(random_state=42)\n",
        "\n",
        "param_grid = {\n",
        "    'criterion': ['gini', 'entropy'],\n",
        "    'max_depth': [None, 10, 20, 30],\n",
        "    'min_samples_split': [2, 5, 10],\n",
        "    'min_samples_leaf': [1, 2, 4]\n",
        "}\n",
        "\n",
        "\n",
        "grid_search = GridSearchCV(clf, param_grid, cv=5, scoring='accuracy', n_jobs=-1)\n",
        "\n",
        "# Realizar la búsqueda de hiperparámetros en los datos de entrenamiento balanceados\n",
        "grid_search.fit(X_train_grid, y_train_grid)\n"
      ],
      "metadata": {
        "colab": {
          "base_uri": "https://localhost:8080/",
          "height": 118
        },
        "id": "8wUR7G-NN3Vs",
        "outputId": "98fbd141-0310-4929-d957-b077f8ada3ab"
      },
      "execution_count": 320,
      "outputs": [
        {
          "output_type": "execute_result",
          "data": {
            "text/plain": [
              "GridSearchCV(cv=5, estimator=DecisionTreeClassifier(random_state=42), n_jobs=-1,\n",
              "             param_grid={'criterion': ['gini', 'entropy'],\n",
              "                         'max_depth': [None, 10, 20, 30],\n",
              "                         'min_samples_leaf': [1, 2, 4],\n",
              "                         'min_samples_split': [2, 5, 10]},\n",
              "             scoring='accuracy')"
            ],
            "text/html": [
              "<style>#sk-container-id-3 {color: black;background-color: white;}#sk-container-id-3 pre{padding: 0;}#sk-container-id-3 div.sk-toggleable {background-color: white;}#sk-container-id-3 label.sk-toggleable__label {cursor: pointer;display: block;width: 100%;margin-bottom: 0;padding: 0.3em;box-sizing: border-box;text-align: center;}#sk-container-id-3 label.sk-toggleable__label-arrow:before {content: \"▸\";float: left;margin-right: 0.25em;color: #696969;}#sk-container-id-3 label.sk-toggleable__label-arrow:hover:before {color: black;}#sk-container-id-3 div.sk-estimator:hover label.sk-toggleable__label-arrow:before {color: black;}#sk-container-id-3 div.sk-toggleable__content {max-height: 0;max-width: 0;overflow: hidden;text-align: left;background-color: #f0f8ff;}#sk-container-id-3 div.sk-toggleable__content pre {margin: 0.2em;color: black;border-radius: 0.25em;background-color: #f0f8ff;}#sk-container-id-3 input.sk-toggleable__control:checked~div.sk-toggleable__content {max-height: 200px;max-width: 100%;overflow: auto;}#sk-container-id-3 input.sk-toggleable__control:checked~label.sk-toggleable__label-arrow:before {content: \"▾\";}#sk-container-id-3 div.sk-estimator input.sk-toggleable__control:checked~label.sk-toggleable__label {background-color: #d4ebff;}#sk-container-id-3 div.sk-label input.sk-toggleable__control:checked~label.sk-toggleable__label {background-color: #d4ebff;}#sk-container-id-3 input.sk-hidden--visually {border: 0;clip: rect(1px 1px 1px 1px);clip: rect(1px, 1px, 1px, 1px);height: 1px;margin: -1px;overflow: hidden;padding: 0;position: absolute;width: 1px;}#sk-container-id-3 div.sk-estimator {font-family: monospace;background-color: #f0f8ff;border: 1px dotted black;border-radius: 0.25em;box-sizing: border-box;margin-bottom: 0.5em;}#sk-container-id-3 div.sk-estimator:hover {background-color: #d4ebff;}#sk-container-id-3 div.sk-parallel-item::after {content: \"\";width: 100%;border-bottom: 1px solid gray;flex-grow: 1;}#sk-container-id-3 div.sk-label:hover label.sk-toggleable__label {background-color: #d4ebff;}#sk-container-id-3 div.sk-serial::before {content: \"\";position: absolute;border-left: 1px solid gray;box-sizing: border-box;top: 0;bottom: 0;left: 50%;z-index: 0;}#sk-container-id-3 div.sk-serial {display: flex;flex-direction: column;align-items: center;background-color: white;padding-right: 0.2em;padding-left: 0.2em;position: relative;}#sk-container-id-3 div.sk-item {position: relative;z-index: 1;}#sk-container-id-3 div.sk-parallel {display: flex;align-items: stretch;justify-content: center;background-color: white;position: relative;}#sk-container-id-3 div.sk-item::before, #sk-container-id-3 div.sk-parallel-item::before {content: \"\";position: absolute;border-left: 1px solid gray;box-sizing: border-box;top: 0;bottom: 0;left: 50%;z-index: -1;}#sk-container-id-3 div.sk-parallel-item {display: flex;flex-direction: column;z-index: 1;position: relative;background-color: white;}#sk-container-id-3 div.sk-parallel-item:first-child::after {align-self: flex-end;width: 50%;}#sk-container-id-3 div.sk-parallel-item:last-child::after {align-self: flex-start;width: 50%;}#sk-container-id-3 div.sk-parallel-item:only-child::after {width: 0;}#sk-container-id-3 div.sk-dashed-wrapped {border: 1px dashed gray;margin: 0 0.4em 0.5em 0.4em;box-sizing: border-box;padding-bottom: 0.4em;background-color: white;}#sk-container-id-3 div.sk-label label {font-family: monospace;font-weight: bold;display: inline-block;line-height: 1.2em;}#sk-container-id-3 div.sk-label-container {text-align: center;}#sk-container-id-3 div.sk-container {/* jupyter's `normalize.less` sets `[hidden] { display: none; }` but bootstrap.min.css set `[hidden] { display: none !important; }` so we also need the `!important` here to be able to override the default hidden behavior on the sphinx rendered scikit-learn.org. See: https://github.com/scikit-learn/scikit-learn/issues/21755 */display: inline-block !important;position: relative;}#sk-container-id-3 div.sk-text-repr-fallback {display: none;}</style><div id=\"sk-container-id-3\" class=\"sk-top-container\"><div class=\"sk-text-repr-fallback\"><pre>GridSearchCV(cv=5, estimator=DecisionTreeClassifier(random_state=42), n_jobs=-1,\n",
              "             param_grid={&#x27;criterion&#x27;: [&#x27;gini&#x27;, &#x27;entropy&#x27;],\n",
              "                         &#x27;max_depth&#x27;: [None, 10, 20, 30],\n",
              "                         &#x27;min_samples_leaf&#x27;: [1, 2, 4],\n",
              "                         &#x27;min_samples_split&#x27;: [2, 5, 10]},\n",
              "             scoring=&#x27;accuracy&#x27;)</pre><b>In a Jupyter environment, please rerun this cell to show the HTML representation or trust the notebook. <br />On GitHub, the HTML representation is unable to render, please try loading this page with nbviewer.org.</b></div><div class=\"sk-container\" hidden><div class=\"sk-item sk-dashed-wrapped\"><div class=\"sk-label-container\"><div class=\"sk-label sk-toggleable\"><input class=\"sk-toggleable__control sk-hidden--visually\" id=\"sk-estimator-id-7\" type=\"checkbox\" ><label for=\"sk-estimator-id-7\" class=\"sk-toggleable__label sk-toggleable__label-arrow\">GridSearchCV</label><div class=\"sk-toggleable__content\"><pre>GridSearchCV(cv=5, estimator=DecisionTreeClassifier(random_state=42), n_jobs=-1,\n",
              "             param_grid={&#x27;criterion&#x27;: [&#x27;gini&#x27;, &#x27;entropy&#x27;],\n",
              "                         &#x27;max_depth&#x27;: [None, 10, 20, 30],\n",
              "                         &#x27;min_samples_leaf&#x27;: [1, 2, 4],\n",
              "                         &#x27;min_samples_split&#x27;: [2, 5, 10]},\n",
              "             scoring=&#x27;accuracy&#x27;)</pre></div></div></div><div class=\"sk-parallel\"><div class=\"sk-parallel-item\"><div class=\"sk-item\"><div class=\"sk-label-container\"><div class=\"sk-label sk-toggleable\"><input class=\"sk-toggleable__control sk-hidden--visually\" id=\"sk-estimator-id-8\" type=\"checkbox\" ><label for=\"sk-estimator-id-8\" class=\"sk-toggleable__label sk-toggleable__label-arrow\">estimator: DecisionTreeClassifier</label><div class=\"sk-toggleable__content\"><pre>DecisionTreeClassifier(random_state=42)</pre></div></div></div><div class=\"sk-serial\"><div class=\"sk-item\"><div class=\"sk-estimator sk-toggleable\"><input class=\"sk-toggleable__control sk-hidden--visually\" id=\"sk-estimator-id-9\" type=\"checkbox\" ><label for=\"sk-estimator-id-9\" class=\"sk-toggleable__label sk-toggleable__label-arrow\">DecisionTreeClassifier</label><div class=\"sk-toggleable__content\"><pre>DecisionTreeClassifier(random_state=42)</pre></div></div></div></div></div></div></div></div></div></div>"
            ]
          },
          "metadata": {},
          "execution_count": 320
        }
      ]
    },
    {
      "cell_type": "code",
      "source": [
        "# Obtener el mejor modelo y sus hiperparámetros\n",
        "best_params = grid_search.best_params_\n",
        "\n",
        "print(\"Mejores hiperparámetros encontrados:\", best_params)"
      ],
      "metadata": {
        "colab": {
          "base_uri": "https://localhost:8080/"
        },
        "id": "RPjAzLnwOSuh",
        "outputId": "0c8fb5c2-f590-4bc9-dfcb-f3cae3c110d7"
      },
      "execution_count": 131,
      "outputs": [
        {
          "output_type": "stream",
          "name": "stdout",
          "text": [
            "Mejores hiperparámetros encontrados: {'criterion': 'entropy', 'max_depth': None, 'min_samples_leaf': 1, 'min_samples_split': 2}\n"
          ]
        }
      ]
    },
    {
      "cell_type": "code",
      "source": [
        "# Realizar predicciones en los datos de prueba después de normalizarlos\n",
        "#X_test_normalized = scaler.transform(X_test)\n",
        "y_pred = grid_search.predict(X_test_grid)\n",
        "\n",
        "accuracy = accuracy_score(y_test_grid, y_pred)\n",
        "precision = precision_score(y_test_grid, y_pred)\n",
        "recall = recall_score(y_test_grid, y_pred)\n",
        "f1 = f1_score(y_test_grid, y_pred)\n",
        "roc_auc = roc_auc_score(y_test_grid, y_pred)\n",
        "\n",
        "print(\"Exactitud:\", accuracy)\n",
        "print(\"Precisión:\", precision)\n",
        "print(\"Recuperación:\", recall)\n",
        "print(\"F1-Score:\", f1)\n",
        "print(\"AUC-ROC:\", roc_auc)"
      ],
      "metadata": {
        "colab": {
          "base_uri": "https://localhost:8080/"
        },
        "id": "0n_QmMIDAnve",
        "outputId": "ed6106df-5a50-44ff-c036-22563e1dc2fb"
      },
      "execution_count": 322,
      "outputs": [
        {
          "output_type": "stream",
          "name": "stdout",
          "text": [
            "Exactitud: 0.8911490291670169\n",
            "Precisión: 0.8713968957871396\n",
            "Recuperación: 0.9192982456140351\n",
            "F1-Score: 0.8947068867387593\n",
            "AUC-ROC: 0.8909752391804951\n"
          ]
        }
      ]
    },
    {
      "cell_type": "code",
      "source": [
        "# Realizar predicciones en los datos de prueba después de normalizarlos\n",
        "#X_test_normalized = scaler.transform(X_test)\n",
        "y_pred = grid_search.predict(X_test_grid)\n",
        "\n",
        "accuracy = accuracy_score(y_test_grid, y_pred)\n",
        "precision = precision_score(y_test_grid, y_pred)\n",
        "recall = recall_score(y_test_grid, y_pred)\n",
        "f1 = f1_score(y_test_grid, y_pred)\n",
        "roc_auc = roc_auc_score(y_test_grid, y_pred)\n",
        "\n",
        "print(\"Exactitud:\", accuracy)\n",
        "print(\"Precisión:\", precision)\n",
        "print(\"Recuperación:\", recall)\n",
        "print(\"F1-Score:\", f1)\n",
        "print(\"AUC-ROC:\", roc_auc)\n",
        "\n"
      ],
      "metadata": {
        "colab": {
          "base_uri": "https://localhost:8080/"
        },
        "id": "NTb1yu3CNFJj",
        "outputId": "720e808f-3f6b-4e2f-ebfb-855a67a43844"
      },
      "execution_count": 134,
      "outputs": [
        {
          "output_type": "stream",
          "name": "stdout",
          "text": [
            "Exactitud: 0.888963604269984\n",
            "Precisión: 0.8674755751654586\n",
            "Recuperación: 0.9197994987468672\n",
            "F1-Score: 0.8928716243613657\n",
            "AUC-ROC: 0.8887732270459641\n"
          ]
        }
      ]
    },
    {
      "cell_type": "markdown",
      "source": [
        "# Queremos ver la diferencia de puntaje segun el hiperparametro scoring"
      ],
      "metadata": {
        "id": "mPtX2TLNd6dh"
      }
    },
    {
      "cell_type": "code",
      "source": [
        "'''score = pd.DataFrame()\n",
        "\n",
        "lista_scorings = ['f1','accuracy','recall','precision','roc_auc','neg_log_loss','neg_mean_absolute_error','neg_mean_squared_error','r2']\n",
        "\n",
        "X_train_grid, X_test_grid, y_train_grid, y_test_grid = train_test_split(X_train_balanced, y_train_balanced, test_size=0.2, random_state=42)\n",
        "\n",
        "for k in lista_scorings:\n",
        "\n",
        "# Definimos un árbol de decisión con hiperparámetros\n",
        "  clf = DecisionTreeClassifier(random_state=42)\n",
        "\n",
        "  param_grid = {\n",
        "    'criterion': ['gini', 'entropy'],\n",
        "    'max_depth': [None, 10, 20, 30],\n",
        "    'min_samples_split': [2, 5, 10],\n",
        "    'min_samples_leaf': [1, 2, 4]\n",
        "  }\n",
        "\n",
        "\n",
        "  grid_search = GridSearchCV(clf, param_grid, cv=5, scoring=k, n_jobs=-1)\n",
        "\n",
        "  # Realizar la búsqueda de hiperparámetros en los datos de entrenamiento balanceados\n",
        "  grid_search.fit(X_train_grid, y_train_grid)\n",
        "\n",
        "  y_pred = grid_search.predict(X_test_grid)\n",
        "\n",
        "  new_row = {'scoring': k, \"score\": f1_score(y_test_grid, y_pred), \"best_params\": grid_search.best_params_}\n",
        "  score = score.append(new_row, ignore_index=True)'''"
      ],
      "metadata": {
        "colab": {
          "base_uri": "https://localhost:8080/",
          "height": 122
        },
        "id": "oZ9SWgnMbqq7",
        "outputId": "ed970a09-f690-45c5-daf3-a6592e130981"
      },
      "execution_count": 160,
      "outputs": [
        {
          "output_type": "execute_result",
          "data": {
            "text/plain": [
              "'score = pd.DataFrame()\\n\\nlista_scorings = [\\'f1\\',\\'accuracy\\',\\'recall\\',\\'precision\\',\\'roc_auc\\',\\'neg_log_loss\\',\\'neg_mean_absolute_error\\',\\'neg_mean_squared_error\\',\\'r2\\']\\n\\nX_train_grid, X_test_grid, y_train_grid, y_test_grid = train_test_split(X_train_balanced, y_train_balanced, test_size=0.2, random_state=42)\\n\\nfor k in lista_scorings:\\n\\n# Definimos un árbol de decisión con hiperparámetros\\n  clf = DecisionTreeClassifier(random_state=42)\\n\\n  param_grid = {\\n    \\'criterion\\': [\\'gini\\', \\'entropy\\'],\\n    \\'max_depth\\': [None, 10, 20, 30],\\n    \\'min_samples_split\\': [2, 5, 10],\\n    \\'min_samples_leaf\\': [1, 2, 4]\\n  }\\n\\n\\n  grid_search = GridSearchCV(clf, param_grid, cv=5, scoring=k, n_jobs=-1)\\n\\n  # Realizar la búsqueda de hiperparámetros en los datos de entrenamiento balanceados\\n  grid_search.fit(X_train_grid, y_train_grid)\\n\\n  y_pred = grid_search.predict(X_test_grid)\\n\\n  new_row = {\\'scoring\\': k, \"score\": f1_score(y_test_grid, y_pred), \"best_params\": grid_search.best_params_}\\n  score = score.append(new_row, ignore_index=True)'"
            ],
            "application/vnd.google.colaboratory.intrinsic+json": {
              "type": "string"
            }
          },
          "metadata": {},
          "execution_count": 160
        }
      ]
    },
    {
      "cell_type": "code",
      "source": [
        "score.head(10)"
      ],
      "metadata": {
        "colab": {
          "base_uri": "https://localhost:8080/",
          "height": 332
        },
        "id": "YS7CscLfhnyW",
        "outputId": "2d77d8bf-ca92-4198-8636-9573a4910b9c"
      },
      "execution_count": 150,
      "outputs": [
        {
          "output_type": "execute_result",
          "data": {
            "text/plain": [
              "                   scoring     score  \\\n",
              "0                       f1  0.892872   \n",
              "1                 accuracy  0.892872   \n",
              "2                   recall  0.892863   \n",
              "3                precision  0.877939   \n",
              "4                  roc_auc  0.867572   \n",
              "5             neg_log_loss  0.834922   \n",
              "6  neg_mean_absolute_error  0.892872   \n",
              "7   neg_mean_squared_error  0.892872   \n",
              "8                       r2  0.892872   \n",
              "\n",
              "                                         best_params  \n",
              "0  {'criterion': 'entropy', 'max_depth': None, 'm...  \n",
              "1  {'criterion': 'entropy', 'max_depth': None, 'm...  \n",
              "2  {'criterion': 'gini', 'max_depth': 30, 'min_sa...  \n",
              "3  {'criterion': 'entropy', 'max_depth': None, 'm...  \n",
              "4  {'criterion': 'entropy', 'max_depth': 20, 'min...  \n",
              "5  {'criterion': 'gini', 'max_depth': 10, 'min_sa...  \n",
              "6  {'criterion': 'entropy', 'max_depth': None, 'm...  \n",
              "7  {'criterion': 'entropy', 'max_depth': None, 'm...  \n",
              "8  {'criterion': 'entropy', 'max_depth': None, 'm...  "
            ],
            "text/html": [
              "\n",
              "  <div id=\"df-db9d770f-a257-4d7e-84fe-27f3704952d4\" class=\"colab-df-container\">\n",
              "    <div>\n",
              "<style scoped>\n",
              "    .dataframe tbody tr th:only-of-type {\n",
              "        vertical-align: middle;\n",
              "    }\n",
              "\n",
              "    .dataframe tbody tr th {\n",
              "        vertical-align: top;\n",
              "    }\n",
              "\n",
              "    .dataframe thead th {\n",
              "        text-align: right;\n",
              "    }\n",
              "</style>\n",
              "<table border=\"1\" class=\"dataframe\">\n",
              "  <thead>\n",
              "    <tr style=\"text-align: right;\">\n",
              "      <th></th>\n",
              "      <th>scoring</th>\n",
              "      <th>score</th>\n",
              "      <th>best_params</th>\n",
              "    </tr>\n",
              "  </thead>\n",
              "  <tbody>\n",
              "    <tr>\n",
              "      <th>0</th>\n",
              "      <td>f1</td>\n",
              "      <td>0.892872</td>\n",
              "      <td>{'criterion': 'entropy', 'max_depth': None, 'm...</td>\n",
              "    </tr>\n",
              "    <tr>\n",
              "      <th>1</th>\n",
              "      <td>accuracy</td>\n",
              "      <td>0.892872</td>\n",
              "      <td>{'criterion': 'entropy', 'max_depth': None, 'm...</td>\n",
              "    </tr>\n",
              "    <tr>\n",
              "      <th>2</th>\n",
              "      <td>recall</td>\n",
              "      <td>0.892863</td>\n",
              "      <td>{'criterion': 'gini', 'max_depth': 30, 'min_sa...</td>\n",
              "    </tr>\n",
              "    <tr>\n",
              "      <th>3</th>\n",
              "      <td>precision</td>\n",
              "      <td>0.877939</td>\n",
              "      <td>{'criterion': 'entropy', 'max_depth': None, 'm...</td>\n",
              "    </tr>\n",
              "    <tr>\n",
              "      <th>4</th>\n",
              "      <td>roc_auc</td>\n",
              "      <td>0.867572</td>\n",
              "      <td>{'criterion': 'entropy', 'max_depth': 20, 'min...</td>\n",
              "    </tr>\n",
              "    <tr>\n",
              "      <th>5</th>\n",
              "      <td>neg_log_loss</td>\n",
              "      <td>0.834922</td>\n",
              "      <td>{'criterion': 'gini', 'max_depth': 10, 'min_sa...</td>\n",
              "    </tr>\n",
              "    <tr>\n",
              "      <th>6</th>\n",
              "      <td>neg_mean_absolute_error</td>\n",
              "      <td>0.892872</td>\n",
              "      <td>{'criterion': 'entropy', 'max_depth': None, 'm...</td>\n",
              "    </tr>\n",
              "    <tr>\n",
              "      <th>7</th>\n",
              "      <td>neg_mean_squared_error</td>\n",
              "      <td>0.892872</td>\n",
              "      <td>{'criterion': 'entropy', 'max_depth': None, 'm...</td>\n",
              "    </tr>\n",
              "    <tr>\n",
              "      <th>8</th>\n",
              "      <td>r2</td>\n",
              "      <td>0.892872</td>\n",
              "      <td>{'criterion': 'entropy', 'max_depth': None, 'm...</td>\n",
              "    </tr>\n",
              "  </tbody>\n",
              "</table>\n",
              "</div>\n",
              "    <div class=\"colab-df-buttons\">\n",
              "\n",
              "  <div class=\"colab-df-container\">\n",
              "    <button class=\"colab-df-convert\" onclick=\"convertToInteractive('df-db9d770f-a257-4d7e-84fe-27f3704952d4')\"\n",
              "            title=\"Convert this dataframe to an interactive table.\"\n",
              "            style=\"display:none;\">\n",
              "\n",
              "  <svg xmlns=\"http://www.w3.org/2000/svg\" height=\"24px\" viewBox=\"0 -960 960 960\">\n",
              "    <path d=\"M120-120v-720h720v720H120Zm60-500h600v-160H180v160Zm220 220h160v-160H400v160Zm0 220h160v-160H400v160ZM180-400h160v-160H180v160Zm440 0h160v-160H620v160ZM180-180h160v-160H180v160Zm440 0h160v-160H620v160Z\"/>\n",
              "  </svg>\n",
              "    </button>\n",
              "\n",
              "  <style>\n",
              "    .colab-df-container {\n",
              "      display:flex;\n",
              "      gap: 12px;\n",
              "    }\n",
              "\n",
              "    .colab-df-convert {\n",
              "      background-color: #E8F0FE;\n",
              "      border: none;\n",
              "      border-radius: 50%;\n",
              "      cursor: pointer;\n",
              "      display: none;\n",
              "      fill: #1967D2;\n",
              "      height: 32px;\n",
              "      padding: 0 0 0 0;\n",
              "      width: 32px;\n",
              "    }\n",
              "\n",
              "    .colab-df-convert:hover {\n",
              "      background-color: #E2EBFA;\n",
              "      box-shadow: 0px 1px 2px rgba(60, 64, 67, 0.3), 0px 1px 3px 1px rgba(60, 64, 67, 0.15);\n",
              "      fill: #174EA6;\n",
              "    }\n",
              "\n",
              "    .colab-df-buttons div {\n",
              "      margin-bottom: 4px;\n",
              "    }\n",
              "\n",
              "    [theme=dark] .colab-df-convert {\n",
              "      background-color: #3B4455;\n",
              "      fill: #D2E3FC;\n",
              "    }\n",
              "\n",
              "    [theme=dark] .colab-df-convert:hover {\n",
              "      background-color: #434B5C;\n",
              "      box-shadow: 0px 1px 3px 1px rgba(0, 0, 0, 0.15);\n",
              "      filter: drop-shadow(0px 1px 2px rgba(0, 0, 0, 0.3));\n",
              "      fill: #FFFFFF;\n",
              "    }\n",
              "  </style>\n",
              "\n",
              "    <script>\n",
              "      const buttonEl =\n",
              "        document.querySelector('#df-db9d770f-a257-4d7e-84fe-27f3704952d4 button.colab-df-convert');\n",
              "      buttonEl.style.display =\n",
              "        google.colab.kernel.accessAllowed ? 'block' : 'none';\n",
              "\n",
              "      async function convertToInteractive(key) {\n",
              "        const element = document.querySelector('#df-db9d770f-a257-4d7e-84fe-27f3704952d4');\n",
              "        const dataTable =\n",
              "          await google.colab.kernel.invokeFunction('convertToInteractive',\n",
              "                                                    [key], {});\n",
              "        if (!dataTable) return;\n",
              "\n",
              "        const docLinkHtml = 'Like what you see? Visit the ' +\n",
              "          '<a target=\"_blank\" href=https://colab.research.google.com/notebooks/data_table.ipynb>data table notebook</a>'\n",
              "          + ' to learn more about interactive tables.';\n",
              "        element.innerHTML = '';\n",
              "        dataTable['output_type'] = 'display_data';\n",
              "        await google.colab.output.renderOutput(dataTable, element);\n",
              "        const docLink = document.createElement('div');\n",
              "        docLink.innerHTML = docLinkHtml;\n",
              "        element.appendChild(docLink);\n",
              "      }\n",
              "    </script>\n",
              "  </div>\n",
              "\n",
              "\n",
              "<div id=\"df-8cc8854c-cf2a-4208-9517-003b0502bd8c\">\n",
              "  <button class=\"colab-df-quickchart\" onclick=\"quickchart('df-8cc8854c-cf2a-4208-9517-003b0502bd8c')\"\n",
              "            title=\"Suggest charts.\"\n",
              "            style=\"display:none;\">\n",
              "\n",
              "<svg xmlns=\"http://www.w3.org/2000/svg\" height=\"24px\"viewBox=\"0 0 24 24\"\n",
              "     width=\"24px\">\n",
              "    <g>\n",
              "        <path d=\"M19 3H5c-1.1 0-2 .9-2 2v14c0 1.1.9 2 2 2h14c1.1 0 2-.9 2-2V5c0-1.1-.9-2-2-2zM9 17H7v-7h2v7zm4 0h-2V7h2v10zm4 0h-2v-4h2v4z\"/>\n",
              "    </g>\n",
              "</svg>\n",
              "  </button>\n",
              "\n",
              "<style>\n",
              "  .colab-df-quickchart {\n",
              "      --bg-color: #E8F0FE;\n",
              "      --fill-color: #1967D2;\n",
              "      --hover-bg-color: #E2EBFA;\n",
              "      --hover-fill-color: #174EA6;\n",
              "      --disabled-fill-color: #AAA;\n",
              "      --disabled-bg-color: #DDD;\n",
              "  }\n",
              "\n",
              "  [theme=dark] .colab-df-quickchart {\n",
              "      --bg-color: #3B4455;\n",
              "      --fill-color: #D2E3FC;\n",
              "      --hover-bg-color: #434B5C;\n",
              "      --hover-fill-color: #FFFFFF;\n",
              "      --disabled-bg-color: #3B4455;\n",
              "      --disabled-fill-color: #666;\n",
              "  }\n",
              "\n",
              "  .colab-df-quickchart {\n",
              "    background-color: var(--bg-color);\n",
              "    border: none;\n",
              "    border-radius: 50%;\n",
              "    cursor: pointer;\n",
              "    display: none;\n",
              "    fill: var(--fill-color);\n",
              "    height: 32px;\n",
              "    padding: 0;\n",
              "    width: 32px;\n",
              "  }\n",
              "\n",
              "  .colab-df-quickchart:hover {\n",
              "    background-color: var(--hover-bg-color);\n",
              "    box-shadow: 0 1px 2px rgba(60, 64, 67, 0.3), 0 1px 3px 1px rgba(60, 64, 67, 0.15);\n",
              "    fill: var(--button-hover-fill-color);\n",
              "  }\n",
              "\n",
              "  .colab-df-quickchart-complete:disabled,\n",
              "  .colab-df-quickchart-complete:disabled:hover {\n",
              "    background-color: var(--disabled-bg-color);\n",
              "    fill: var(--disabled-fill-color);\n",
              "    box-shadow: none;\n",
              "  }\n",
              "\n",
              "  .colab-df-spinner {\n",
              "    border: 2px solid var(--fill-color);\n",
              "    border-color: transparent;\n",
              "    border-bottom-color: var(--fill-color);\n",
              "    animation:\n",
              "      spin 1s steps(1) infinite;\n",
              "  }\n",
              "\n",
              "  @keyframes spin {\n",
              "    0% {\n",
              "      border-color: transparent;\n",
              "      border-bottom-color: var(--fill-color);\n",
              "      border-left-color: var(--fill-color);\n",
              "    }\n",
              "    20% {\n",
              "      border-color: transparent;\n",
              "      border-left-color: var(--fill-color);\n",
              "      border-top-color: var(--fill-color);\n",
              "    }\n",
              "    30% {\n",
              "      border-color: transparent;\n",
              "      border-left-color: var(--fill-color);\n",
              "      border-top-color: var(--fill-color);\n",
              "      border-right-color: var(--fill-color);\n",
              "    }\n",
              "    40% {\n",
              "      border-color: transparent;\n",
              "      border-right-color: var(--fill-color);\n",
              "      border-top-color: var(--fill-color);\n",
              "    }\n",
              "    60% {\n",
              "      border-color: transparent;\n",
              "      border-right-color: var(--fill-color);\n",
              "    }\n",
              "    80% {\n",
              "      border-color: transparent;\n",
              "      border-right-color: var(--fill-color);\n",
              "      border-bottom-color: var(--fill-color);\n",
              "    }\n",
              "    90% {\n",
              "      border-color: transparent;\n",
              "      border-bottom-color: var(--fill-color);\n",
              "    }\n",
              "  }\n",
              "</style>\n",
              "\n",
              "  <script>\n",
              "    async function quickchart(key) {\n",
              "      const quickchartButtonEl =\n",
              "        document.querySelector('#' + key + ' button');\n",
              "      quickchartButtonEl.disabled = true;  // To prevent multiple clicks.\n",
              "      quickchartButtonEl.classList.add('colab-df-spinner');\n",
              "      try {\n",
              "        const charts = await google.colab.kernel.invokeFunction(\n",
              "            'suggestCharts', [key], {});\n",
              "      } catch (error) {\n",
              "        console.error('Error during call to suggestCharts:', error);\n",
              "      }\n",
              "      quickchartButtonEl.classList.remove('colab-df-spinner');\n",
              "      quickchartButtonEl.classList.add('colab-df-quickchart-complete');\n",
              "    }\n",
              "    (() => {\n",
              "      let quickchartButtonEl =\n",
              "        document.querySelector('#df-8cc8854c-cf2a-4208-9517-003b0502bd8c button');\n",
              "      quickchartButtonEl.style.display =\n",
              "        google.colab.kernel.accessAllowed ? 'block' : 'none';\n",
              "    })();\n",
              "  </script>\n",
              "</div>\n",
              "    </div>\n",
              "  </div>\n"
            ]
          },
          "metadata": {},
          "execution_count": 150
        }
      ]
    },
    {
      "cell_type": "code",
      "source": [
        "score[score['score'].max() == score['score']]"
      ],
      "metadata": {
        "colab": {
          "base_uri": "https://localhost:8080/",
          "height": 247
        },
        "id": "wn9npTQvck7P",
        "outputId": "d561e09c-90e4-4c7e-997a-8b0b9ff844f6"
      },
      "execution_count": 151,
      "outputs": [
        {
          "output_type": "execute_result",
          "data": {
            "text/plain": [
              "                   scoring     score  \\\n",
              "0                       f1  0.892872   \n",
              "1                 accuracy  0.892872   \n",
              "6  neg_mean_absolute_error  0.892872   \n",
              "7   neg_mean_squared_error  0.892872   \n",
              "8                       r2  0.892872   \n",
              "\n",
              "                                         best_params  \n",
              "0  {'criterion': 'entropy', 'max_depth': None, 'm...  \n",
              "1  {'criterion': 'entropy', 'max_depth': None, 'm...  \n",
              "6  {'criterion': 'entropy', 'max_depth': None, 'm...  \n",
              "7  {'criterion': 'entropy', 'max_depth': None, 'm...  \n",
              "8  {'criterion': 'entropy', 'max_depth': None, 'm...  "
            ],
            "text/html": [
              "\n",
              "  <div id=\"df-123b3e91-c3d1-4f18-ac29-22a0ab3e08d2\" class=\"colab-df-container\">\n",
              "    <div>\n",
              "<style scoped>\n",
              "    .dataframe tbody tr th:only-of-type {\n",
              "        vertical-align: middle;\n",
              "    }\n",
              "\n",
              "    .dataframe tbody tr th {\n",
              "        vertical-align: top;\n",
              "    }\n",
              "\n",
              "    .dataframe thead th {\n",
              "        text-align: right;\n",
              "    }\n",
              "</style>\n",
              "<table border=\"1\" class=\"dataframe\">\n",
              "  <thead>\n",
              "    <tr style=\"text-align: right;\">\n",
              "      <th></th>\n",
              "      <th>scoring</th>\n",
              "      <th>score</th>\n",
              "      <th>best_params</th>\n",
              "    </tr>\n",
              "  </thead>\n",
              "  <tbody>\n",
              "    <tr>\n",
              "      <th>0</th>\n",
              "      <td>f1</td>\n",
              "      <td>0.892872</td>\n",
              "      <td>{'criterion': 'entropy', 'max_depth': None, 'm...</td>\n",
              "    </tr>\n",
              "    <tr>\n",
              "      <th>1</th>\n",
              "      <td>accuracy</td>\n",
              "      <td>0.892872</td>\n",
              "      <td>{'criterion': 'entropy', 'max_depth': None, 'm...</td>\n",
              "    </tr>\n",
              "    <tr>\n",
              "      <th>6</th>\n",
              "      <td>neg_mean_absolute_error</td>\n",
              "      <td>0.892872</td>\n",
              "      <td>{'criterion': 'entropy', 'max_depth': None, 'm...</td>\n",
              "    </tr>\n",
              "    <tr>\n",
              "      <th>7</th>\n",
              "      <td>neg_mean_squared_error</td>\n",
              "      <td>0.892872</td>\n",
              "      <td>{'criterion': 'entropy', 'max_depth': None, 'm...</td>\n",
              "    </tr>\n",
              "    <tr>\n",
              "      <th>8</th>\n",
              "      <td>r2</td>\n",
              "      <td>0.892872</td>\n",
              "      <td>{'criterion': 'entropy', 'max_depth': None, 'm...</td>\n",
              "    </tr>\n",
              "  </tbody>\n",
              "</table>\n",
              "</div>\n",
              "    <div class=\"colab-df-buttons\">\n",
              "\n",
              "  <div class=\"colab-df-container\">\n",
              "    <button class=\"colab-df-convert\" onclick=\"convertToInteractive('df-123b3e91-c3d1-4f18-ac29-22a0ab3e08d2')\"\n",
              "            title=\"Convert this dataframe to an interactive table.\"\n",
              "            style=\"display:none;\">\n",
              "\n",
              "  <svg xmlns=\"http://www.w3.org/2000/svg\" height=\"24px\" viewBox=\"0 -960 960 960\">\n",
              "    <path d=\"M120-120v-720h720v720H120Zm60-500h600v-160H180v160Zm220 220h160v-160H400v160Zm0 220h160v-160H400v160ZM180-400h160v-160H180v160Zm440 0h160v-160H620v160ZM180-180h160v-160H180v160Zm440 0h160v-160H620v160Z\"/>\n",
              "  </svg>\n",
              "    </button>\n",
              "\n",
              "  <style>\n",
              "    .colab-df-container {\n",
              "      display:flex;\n",
              "      gap: 12px;\n",
              "    }\n",
              "\n",
              "    .colab-df-convert {\n",
              "      background-color: #E8F0FE;\n",
              "      border: none;\n",
              "      border-radius: 50%;\n",
              "      cursor: pointer;\n",
              "      display: none;\n",
              "      fill: #1967D2;\n",
              "      height: 32px;\n",
              "      padding: 0 0 0 0;\n",
              "      width: 32px;\n",
              "    }\n",
              "\n",
              "    .colab-df-convert:hover {\n",
              "      background-color: #E2EBFA;\n",
              "      box-shadow: 0px 1px 2px rgba(60, 64, 67, 0.3), 0px 1px 3px 1px rgba(60, 64, 67, 0.15);\n",
              "      fill: #174EA6;\n",
              "    }\n",
              "\n",
              "    .colab-df-buttons div {\n",
              "      margin-bottom: 4px;\n",
              "    }\n",
              "\n",
              "    [theme=dark] .colab-df-convert {\n",
              "      background-color: #3B4455;\n",
              "      fill: #D2E3FC;\n",
              "    }\n",
              "\n",
              "    [theme=dark] .colab-df-convert:hover {\n",
              "      background-color: #434B5C;\n",
              "      box-shadow: 0px 1px 3px 1px rgba(0, 0, 0, 0.15);\n",
              "      filter: drop-shadow(0px 1px 2px rgba(0, 0, 0, 0.3));\n",
              "      fill: #FFFFFF;\n",
              "    }\n",
              "  </style>\n",
              "\n",
              "    <script>\n",
              "      const buttonEl =\n",
              "        document.querySelector('#df-123b3e91-c3d1-4f18-ac29-22a0ab3e08d2 button.colab-df-convert');\n",
              "      buttonEl.style.display =\n",
              "        google.colab.kernel.accessAllowed ? 'block' : 'none';\n",
              "\n",
              "      async function convertToInteractive(key) {\n",
              "        const element = document.querySelector('#df-123b3e91-c3d1-4f18-ac29-22a0ab3e08d2');\n",
              "        const dataTable =\n",
              "          await google.colab.kernel.invokeFunction('convertToInteractive',\n",
              "                                                    [key], {});\n",
              "        if (!dataTable) return;\n",
              "\n",
              "        const docLinkHtml = 'Like what you see? Visit the ' +\n",
              "          '<a target=\"_blank\" href=https://colab.research.google.com/notebooks/data_table.ipynb>data table notebook</a>'\n",
              "          + ' to learn more about interactive tables.';\n",
              "        element.innerHTML = '';\n",
              "        dataTable['output_type'] = 'display_data';\n",
              "        await google.colab.output.renderOutput(dataTable, element);\n",
              "        const docLink = document.createElement('div');\n",
              "        docLink.innerHTML = docLinkHtml;\n",
              "        element.appendChild(docLink);\n",
              "      }\n",
              "    </script>\n",
              "  </div>\n",
              "\n",
              "\n",
              "<div id=\"df-348f9bce-8d12-4f8a-be34-ea4eab3e40a5\">\n",
              "  <button class=\"colab-df-quickchart\" onclick=\"quickchart('df-348f9bce-8d12-4f8a-be34-ea4eab3e40a5')\"\n",
              "            title=\"Suggest charts.\"\n",
              "            style=\"display:none;\">\n",
              "\n",
              "<svg xmlns=\"http://www.w3.org/2000/svg\" height=\"24px\"viewBox=\"0 0 24 24\"\n",
              "     width=\"24px\">\n",
              "    <g>\n",
              "        <path d=\"M19 3H5c-1.1 0-2 .9-2 2v14c0 1.1.9 2 2 2h14c1.1 0 2-.9 2-2V5c0-1.1-.9-2-2-2zM9 17H7v-7h2v7zm4 0h-2V7h2v10zm4 0h-2v-4h2v4z\"/>\n",
              "    </g>\n",
              "</svg>\n",
              "  </button>\n",
              "\n",
              "<style>\n",
              "  .colab-df-quickchart {\n",
              "      --bg-color: #E8F0FE;\n",
              "      --fill-color: #1967D2;\n",
              "      --hover-bg-color: #E2EBFA;\n",
              "      --hover-fill-color: #174EA6;\n",
              "      --disabled-fill-color: #AAA;\n",
              "      --disabled-bg-color: #DDD;\n",
              "  }\n",
              "\n",
              "  [theme=dark] .colab-df-quickchart {\n",
              "      --bg-color: #3B4455;\n",
              "      --fill-color: #D2E3FC;\n",
              "      --hover-bg-color: #434B5C;\n",
              "      --hover-fill-color: #FFFFFF;\n",
              "      --disabled-bg-color: #3B4455;\n",
              "      --disabled-fill-color: #666;\n",
              "  }\n",
              "\n",
              "  .colab-df-quickchart {\n",
              "    background-color: var(--bg-color);\n",
              "    border: none;\n",
              "    border-radius: 50%;\n",
              "    cursor: pointer;\n",
              "    display: none;\n",
              "    fill: var(--fill-color);\n",
              "    height: 32px;\n",
              "    padding: 0;\n",
              "    width: 32px;\n",
              "  }\n",
              "\n",
              "  .colab-df-quickchart:hover {\n",
              "    background-color: var(--hover-bg-color);\n",
              "    box-shadow: 0 1px 2px rgba(60, 64, 67, 0.3), 0 1px 3px 1px rgba(60, 64, 67, 0.15);\n",
              "    fill: var(--button-hover-fill-color);\n",
              "  }\n",
              "\n",
              "  .colab-df-quickchart-complete:disabled,\n",
              "  .colab-df-quickchart-complete:disabled:hover {\n",
              "    background-color: var(--disabled-bg-color);\n",
              "    fill: var(--disabled-fill-color);\n",
              "    box-shadow: none;\n",
              "  }\n",
              "\n",
              "  .colab-df-spinner {\n",
              "    border: 2px solid var(--fill-color);\n",
              "    border-color: transparent;\n",
              "    border-bottom-color: var(--fill-color);\n",
              "    animation:\n",
              "      spin 1s steps(1) infinite;\n",
              "  }\n",
              "\n",
              "  @keyframes spin {\n",
              "    0% {\n",
              "      border-color: transparent;\n",
              "      border-bottom-color: var(--fill-color);\n",
              "      border-left-color: var(--fill-color);\n",
              "    }\n",
              "    20% {\n",
              "      border-color: transparent;\n",
              "      border-left-color: var(--fill-color);\n",
              "      border-top-color: var(--fill-color);\n",
              "    }\n",
              "    30% {\n",
              "      border-color: transparent;\n",
              "      border-left-color: var(--fill-color);\n",
              "      border-top-color: var(--fill-color);\n",
              "      border-right-color: var(--fill-color);\n",
              "    }\n",
              "    40% {\n",
              "      border-color: transparent;\n",
              "      border-right-color: var(--fill-color);\n",
              "      border-top-color: var(--fill-color);\n",
              "    }\n",
              "    60% {\n",
              "      border-color: transparent;\n",
              "      border-right-color: var(--fill-color);\n",
              "    }\n",
              "    80% {\n",
              "      border-color: transparent;\n",
              "      border-right-color: var(--fill-color);\n",
              "      border-bottom-color: var(--fill-color);\n",
              "    }\n",
              "    90% {\n",
              "      border-color: transparent;\n",
              "      border-bottom-color: var(--fill-color);\n",
              "    }\n",
              "  }\n",
              "</style>\n",
              "\n",
              "  <script>\n",
              "    async function quickchart(key) {\n",
              "      const quickchartButtonEl =\n",
              "        document.querySelector('#' + key + ' button');\n",
              "      quickchartButtonEl.disabled = true;  // To prevent multiple clicks.\n",
              "      quickchartButtonEl.classList.add('colab-df-spinner');\n",
              "      try {\n",
              "        const charts = await google.colab.kernel.invokeFunction(\n",
              "            'suggestCharts', [key], {});\n",
              "      } catch (error) {\n",
              "        console.error('Error during call to suggestCharts:', error);\n",
              "      }\n",
              "      quickchartButtonEl.classList.remove('colab-df-spinner');\n",
              "      quickchartButtonEl.classList.add('colab-df-quickchart-complete');\n",
              "    }\n",
              "    (() => {\n",
              "      let quickchartButtonEl =\n",
              "        document.querySelector('#df-348f9bce-8d12-4f8a-be34-ea4eab3e40a5 button');\n",
              "      quickchartButtonEl.style.display =\n",
              "        google.colab.kernel.accessAllowed ? 'block' : 'none';\n",
              "    })();\n",
              "  </script>\n",
              "</div>\n",
              "    </div>\n",
              "  </div>\n"
            ]
          },
          "metadata": {},
          "execution_count": 151
        }
      ]
    },
    {
      "cell_type": "markdown",
      "source": [
        "como dan lo mismo varios scorings utilizo f1 score"
      ],
      "metadata": {
        "id": "7YqNDI1i6ASP"
      }
    },
    {
      "cell_type": "code",
      "source": [
        "X_train_grid, X_test_grid, y_train_grid, y_test_grid = train_test_split(X_train_balanced, y_train_balanced, test_size=0.2, random_state=42)\n",
        "\n",
        "clf = DecisionTreeClassifier(random_state=42)\n",
        "\n",
        "param_grid = {\n",
        "    'criterion': ['entropy'],\n",
        "    'max_depth': [None],\n",
        "    'min_samples_split': [2],\n",
        "    'min_samples_leaf': [1]\n",
        "}\n",
        "\n",
        "\n",
        "grid_search = GridSearchCV(clf, param_grid, cv=5, scoring='f1', n_jobs=-1)\n",
        "\n",
        "grid_search.fit(X_train_grid, y_train_grid)"
      ],
      "metadata": {
        "colab": {
          "base_uri": "https://localhost:8080/",
          "height": 118
        },
        "id": "AKb763W06AAH",
        "outputId": "a50bb329-83ee-4077-fda0-dd0ad7b11db5"
      },
      "execution_count": 323,
      "outputs": [
        {
          "output_type": "execute_result",
          "data": {
            "text/plain": [
              "GridSearchCV(cv=5, estimator=DecisionTreeClassifier(random_state=42), n_jobs=-1,\n",
              "             param_grid={'criterion': ['entropy'], 'max_depth': [None],\n",
              "                         'min_samples_leaf': [1], 'min_samples_split': [2]},\n",
              "             scoring='f1')"
            ],
            "text/html": [
              "<style>#sk-container-id-4 {color: black;background-color: white;}#sk-container-id-4 pre{padding: 0;}#sk-container-id-4 div.sk-toggleable {background-color: white;}#sk-container-id-4 label.sk-toggleable__label {cursor: pointer;display: block;width: 100%;margin-bottom: 0;padding: 0.3em;box-sizing: border-box;text-align: center;}#sk-container-id-4 label.sk-toggleable__label-arrow:before {content: \"▸\";float: left;margin-right: 0.25em;color: #696969;}#sk-container-id-4 label.sk-toggleable__label-arrow:hover:before {color: black;}#sk-container-id-4 div.sk-estimator:hover label.sk-toggleable__label-arrow:before {color: black;}#sk-container-id-4 div.sk-toggleable__content {max-height: 0;max-width: 0;overflow: hidden;text-align: left;background-color: #f0f8ff;}#sk-container-id-4 div.sk-toggleable__content pre {margin: 0.2em;color: black;border-radius: 0.25em;background-color: #f0f8ff;}#sk-container-id-4 input.sk-toggleable__control:checked~div.sk-toggleable__content {max-height: 200px;max-width: 100%;overflow: auto;}#sk-container-id-4 input.sk-toggleable__control:checked~label.sk-toggleable__label-arrow:before {content: \"▾\";}#sk-container-id-4 div.sk-estimator input.sk-toggleable__control:checked~label.sk-toggleable__label {background-color: #d4ebff;}#sk-container-id-4 div.sk-label input.sk-toggleable__control:checked~label.sk-toggleable__label {background-color: #d4ebff;}#sk-container-id-4 input.sk-hidden--visually {border: 0;clip: rect(1px 1px 1px 1px);clip: rect(1px, 1px, 1px, 1px);height: 1px;margin: -1px;overflow: hidden;padding: 0;position: absolute;width: 1px;}#sk-container-id-4 div.sk-estimator {font-family: monospace;background-color: #f0f8ff;border: 1px dotted black;border-radius: 0.25em;box-sizing: border-box;margin-bottom: 0.5em;}#sk-container-id-4 div.sk-estimator:hover {background-color: #d4ebff;}#sk-container-id-4 div.sk-parallel-item::after {content: \"\";width: 100%;border-bottom: 1px solid gray;flex-grow: 1;}#sk-container-id-4 div.sk-label:hover label.sk-toggleable__label {background-color: #d4ebff;}#sk-container-id-4 div.sk-serial::before {content: \"\";position: absolute;border-left: 1px solid gray;box-sizing: border-box;top: 0;bottom: 0;left: 50%;z-index: 0;}#sk-container-id-4 div.sk-serial {display: flex;flex-direction: column;align-items: center;background-color: white;padding-right: 0.2em;padding-left: 0.2em;position: relative;}#sk-container-id-4 div.sk-item {position: relative;z-index: 1;}#sk-container-id-4 div.sk-parallel {display: flex;align-items: stretch;justify-content: center;background-color: white;position: relative;}#sk-container-id-4 div.sk-item::before, #sk-container-id-4 div.sk-parallel-item::before {content: \"\";position: absolute;border-left: 1px solid gray;box-sizing: border-box;top: 0;bottom: 0;left: 50%;z-index: -1;}#sk-container-id-4 div.sk-parallel-item {display: flex;flex-direction: column;z-index: 1;position: relative;background-color: white;}#sk-container-id-4 div.sk-parallel-item:first-child::after {align-self: flex-end;width: 50%;}#sk-container-id-4 div.sk-parallel-item:last-child::after {align-self: flex-start;width: 50%;}#sk-container-id-4 div.sk-parallel-item:only-child::after {width: 0;}#sk-container-id-4 div.sk-dashed-wrapped {border: 1px dashed gray;margin: 0 0.4em 0.5em 0.4em;box-sizing: border-box;padding-bottom: 0.4em;background-color: white;}#sk-container-id-4 div.sk-label label {font-family: monospace;font-weight: bold;display: inline-block;line-height: 1.2em;}#sk-container-id-4 div.sk-label-container {text-align: center;}#sk-container-id-4 div.sk-container {/* jupyter's `normalize.less` sets `[hidden] { display: none; }` but bootstrap.min.css set `[hidden] { display: none !important; }` so we also need the `!important` here to be able to override the default hidden behavior on the sphinx rendered scikit-learn.org. See: https://github.com/scikit-learn/scikit-learn/issues/21755 */display: inline-block !important;position: relative;}#sk-container-id-4 div.sk-text-repr-fallback {display: none;}</style><div id=\"sk-container-id-4\" class=\"sk-top-container\"><div class=\"sk-text-repr-fallback\"><pre>GridSearchCV(cv=5, estimator=DecisionTreeClassifier(random_state=42), n_jobs=-1,\n",
              "             param_grid={&#x27;criterion&#x27;: [&#x27;entropy&#x27;], &#x27;max_depth&#x27;: [None],\n",
              "                         &#x27;min_samples_leaf&#x27;: [1], &#x27;min_samples_split&#x27;: [2]},\n",
              "             scoring=&#x27;f1&#x27;)</pre><b>In a Jupyter environment, please rerun this cell to show the HTML representation or trust the notebook. <br />On GitHub, the HTML representation is unable to render, please try loading this page with nbviewer.org.</b></div><div class=\"sk-container\" hidden><div class=\"sk-item sk-dashed-wrapped\"><div class=\"sk-label-container\"><div class=\"sk-label sk-toggleable\"><input class=\"sk-toggleable__control sk-hidden--visually\" id=\"sk-estimator-id-10\" type=\"checkbox\" ><label for=\"sk-estimator-id-10\" class=\"sk-toggleable__label sk-toggleable__label-arrow\">GridSearchCV</label><div class=\"sk-toggleable__content\"><pre>GridSearchCV(cv=5, estimator=DecisionTreeClassifier(random_state=42), n_jobs=-1,\n",
              "             param_grid={&#x27;criterion&#x27;: [&#x27;entropy&#x27;], &#x27;max_depth&#x27;: [None],\n",
              "                         &#x27;min_samples_leaf&#x27;: [1], &#x27;min_samples_split&#x27;: [2]},\n",
              "             scoring=&#x27;f1&#x27;)</pre></div></div></div><div class=\"sk-parallel\"><div class=\"sk-parallel-item\"><div class=\"sk-item\"><div class=\"sk-label-container\"><div class=\"sk-label sk-toggleable\"><input class=\"sk-toggleable__control sk-hidden--visually\" id=\"sk-estimator-id-11\" type=\"checkbox\" ><label for=\"sk-estimator-id-11\" class=\"sk-toggleable__label sk-toggleable__label-arrow\">estimator: DecisionTreeClassifier</label><div class=\"sk-toggleable__content\"><pre>DecisionTreeClassifier(random_state=42)</pre></div></div></div><div class=\"sk-serial\"><div class=\"sk-item\"><div class=\"sk-estimator sk-toggleable\"><input class=\"sk-toggleable__control sk-hidden--visually\" id=\"sk-estimator-id-12\" type=\"checkbox\" ><label for=\"sk-estimator-id-12\" class=\"sk-toggleable__label sk-toggleable__label-arrow\">DecisionTreeClassifier</label><div class=\"sk-toggleable__content\"><pre>DecisionTreeClassifier(random_state=42)</pre></div></div></div></div></div></div></div></div></div></div>"
            ]
          },
          "metadata": {},
          "execution_count": 323
        }
      ]
    },
    {
      "cell_type": "code",
      "source": [
        "y_pred = grid_search.predict(X_test_grid)\n",
        "\n",
        "accuracy = accuracy_score(y_test_grid, y_pred)\n",
        "precision = precision_score(y_test_grid, y_pred)\n",
        "recall = recall_score(y_test_grid, y_pred)\n",
        "f1 = f1_score(y_test_grid, y_pred)\n",
        "roc_auc = roc_auc_score(y_test_grid, y_pred)\n",
        "\n",
        "print(\"Exactitud:\", accuracy)\n",
        "print(\"Precisión:\", precision)\n",
        "print(\"Recuperación:\", recall)\n",
        "print(\"F1-Score:\", f1)\n",
        "print(\"AUC-ROC:\", roc_auc)\n"
      ],
      "metadata": {
        "colab": {
          "base_uri": "https://localhost:8080/"
        },
        "id": "URQLlBrW7aou",
        "outputId": "ca86b54f-120e-4697-eb6e-4ced6d3eedcf"
      },
      "execution_count": 156,
      "outputs": [
        {
          "output_type": "stream",
          "name": "stdout",
          "text": [
            "Exactitud: 0.888963604269984\n",
            "Precisión: 0.8674755751654586\n",
            "Recuperación: 0.9197994987468672\n",
            "F1-Score: 0.8928716243613657\n",
            "AUC-ROC: 0.8887732270459641\n"
          ]
        }
      ]
    },
    {
      "cell_type": "code",
      "source": [
        "y_pred = grid_search.predict(X_test_grid)\n",
        "\n",
        "accuracy = accuracy_score(y_test_grid, y_pred)\n",
        "precision = precision_score(y_test_grid, y_pred)\n",
        "recall = recall_score(y_test_grid, y_pred)\n",
        "f1 = f1_score(y_test_grid, y_pred)\n",
        "roc_auc = roc_auc_score(y_test_grid, y_pred)\n",
        "\n",
        "print(\"Exactitud:\", accuracy)\n",
        "print(\"Precisión:\", precision)\n",
        "print(\"Recuperación:\", recall)\n",
        "print(\"F1-Score:\", f1)\n",
        "print(\"AUC-ROC:\", roc_auc)"
      ],
      "metadata": {
        "colab": {
          "base_uri": "https://localhost:8080/"
        },
        "id": "LlQ2_RwG9k4R",
        "outputId": "d93a2349-22f0-463f-ef08-d9444cb68d63"
      },
      "execution_count": 324,
      "outputs": [
        {
          "output_type": "stream",
          "name": "stdout",
          "text": [
            "Exactitud: 0.8911490291670169\n",
            "Precisión: 0.8713968957871396\n",
            "Recuperación: 0.9192982456140351\n",
            "F1-Score: 0.8947068867387593\n",
            "AUC-ROC: 0.8909752391804951\n"
          ]
        }
      ]
    },
    {
      "cell_type": "code",
      "source": [
        "y_pred = gridcv.predict(test_sin_cuali)"
      ],
      "metadata": {
        "id": "FQien4Gc6SCl"
      },
      "execution_count": 325,
      "outputs": []
    },
    {
      "cell_type": "code",
      "source": [
        "prediccion = pd.DataFrame({\"id\": test['id'], \"is_canceled\": y_pred})"
      ],
      "metadata": {
        "id": "ZKmN9E4w6SCm"
      },
      "execution_count": 327,
      "outputs": []
    },
    {
      "cell_type": "code",
      "source": [
        "prediccion.head()"
      ],
      "metadata": {
        "colab": {
          "base_uri": "https://localhost:8080/",
          "height": 206
        },
        "outputId": "8e70ee40-baaf-4843-c789-678a1b9307b4",
        "id": "9XgDhfLU6SCm"
      },
      "execution_count": 328,
      "outputs": [
        {
          "output_type": "execute_result",
          "data": {
            "text/plain": [
              "                                     id  is_canceled\n",
              "0  e6d0d58a-ab96-44d3-b28f-85df1cc15f1e            1\n",
              "1  aba9aac2-4495-4645-a60e-90328713c999            1\n",
              "2  b345b5dc-c804-4d77-a39f-1f4e65d1f1ad            0\n",
              "3  ce1b400e-afa1-4946-bdff-004b859eb61c            1\n",
              "4  c4fbec0d-8e2e-4db2-9d4f-a6ccb9f51214            1"
            ],
            "text/html": [
              "\n",
              "  <div id=\"df-bdb94a43-758f-4ac0-94b3-135b6591e322\" class=\"colab-df-container\">\n",
              "    <div>\n",
              "<style scoped>\n",
              "    .dataframe tbody tr th:only-of-type {\n",
              "        vertical-align: middle;\n",
              "    }\n",
              "\n",
              "    .dataframe tbody tr th {\n",
              "        vertical-align: top;\n",
              "    }\n",
              "\n",
              "    .dataframe thead th {\n",
              "        text-align: right;\n",
              "    }\n",
              "</style>\n",
              "<table border=\"1\" class=\"dataframe\">\n",
              "  <thead>\n",
              "    <tr style=\"text-align: right;\">\n",
              "      <th></th>\n",
              "      <th>id</th>\n",
              "      <th>is_canceled</th>\n",
              "    </tr>\n",
              "  </thead>\n",
              "  <tbody>\n",
              "    <tr>\n",
              "      <th>0</th>\n",
              "      <td>e6d0d58a-ab96-44d3-b28f-85df1cc15f1e</td>\n",
              "      <td>1</td>\n",
              "    </tr>\n",
              "    <tr>\n",
              "      <th>1</th>\n",
              "      <td>aba9aac2-4495-4645-a60e-90328713c999</td>\n",
              "      <td>1</td>\n",
              "    </tr>\n",
              "    <tr>\n",
              "      <th>2</th>\n",
              "      <td>b345b5dc-c804-4d77-a39f-1f4e65d1f1ad</td>\n",
              "      <td>0</td>\n",
              "    </tr>\n",
              "    <tr>\n",
              "      <th>3</th>\n",
              "      <td>ce1b400e-afa1-4946-bdff-004b859eb61c</td>\n",
              "      <td>1</td>\n",
              "    </tr>\n",
              "    <tr>\n",
              "      <th>4</th>\n",
              "      <td>c4fbec0d-8e2e-4db2-9d4f-a6ccb9f51214</td>\n",
              "      <td>1</td>\n",
              "    </tr>\n",
              "  </tbody>\n",
              "</table>\n",
              "</div>\n",
              "    <div class=\"colab-df-buttons\">\n",
              "\n",
              "  <div class=\"colab-df-container\">\n",
              "    <button class=\"colab-df-convert\" onclick=\"convertToInteractive('df-bdb94a43-758f-4ac0-94b3-135b6591e322')\"\n",
              "            title=\"Convert this dataframe to an interactive table.\"\n",
              "            style=\"display:none;\">\n",
              "\n",
              "  <svg xmlns=\"http://www.w3.org/2000/svg\" height=\"24px\" viewBox=\"0 -960 960 960\">\n",
              "    <path d=\"M120-120v-720h720v720H120Zm60-500h600v-160H180v160Zm220 220h160v-160H400v160Zm0 220h160v-160H400v160ZM180-400h160v-160H180v160Zm440 0h160v-160H620v160ZM180-180h160v-160H180v160Zm440 0h160v-160H620v160Z\"/>\n",
              "  </svg>\n",
              "    </button>\n",
              "\n",
              "  <style>\n",
              "    .colab-df-container {\n",
              "      display:flex;\n",
              "      gap: 12px;\n",
              "    }\n",
              "\n",
              "    .colab-df-convert {\n",
              "      background-color: #E8F0FE;\n",
              "      border: none;\n",
              "      border-radius: 50%;\n",
              "      cursor: pointer;\n",
              "      display: none;\n",
              "      fill: #1967D2;\n",
              "      height: 32px;\n",
              "      padding: 0 0 0 0;\n",
              "      width: 32px;\n",
              "    }\n",
              "\n",
              "    .colab-df-convert:hover {\n",
              "      background-color: #E2EBFA;\n",
              "      box-shadow: 0px 1px 2px rgba(60, 64, 67, 0.3), 0px 1px 3px 1px rgba(60, 64, 67, 0.15);\n",
              "      fill: #174EA6;\n",
              "    }\n",
              "\n",
              "    .colab-df-buttons div {\n",
              "      margin-bottom: 4px;\n",
              "    }\n",
              "\n",
              "    [theme=dark] .colab-df-convert {\n",
              "      background-color: #3B4455;\n",
              "      fill: #D2E3FC;\n",
              "    }\n",
              "\n",
              "    [theme=dark] .colab-df-convert:hover {\n",
              "      background-color: #434B5C;\n",
              "      box-shadow: 0px 1px 3px 1px rgba(0, 0, 0, 0.15);\n",
              "      filter: drop-shadow(0px 1px 2px rgba(0, 0, 0, 0.3));\n",
              "      fill: #FFFFFF;\n",
              "    }\n",
              "  </style>\n",
              "\n",
              "    <script>\n",
              "      const buttonEl =\n",
              "        document.querySelector('#df-bdb94a43-758f-4ac0-94b3-135b6591e322 button.colab-df-convert');\n",
              "      buttonEl.style.display =\n",
              "        google.colab.kernel.accessAllowed ? 'block' : 'none';\n",
              "\n",
              "      async function convertToInteractive(key) {\n",
              "        const element = document.querySelector('#df-bdb94a43-758f-4ac0-94b3-135b6591e322');\n",
              "        const dataTable =\n",
              "          await google.colab.kernel.invokeFunction('convertToInteractive',\n",
              "                                                    [key], {});\n",
              "        if (!dataTable) return;\n",
              "\n",
              "        const docLinkHtml = 'Like what you see? Visit the ' +\n",
              "          '<a target=\"_blank\" href=https://colab.research.google.com/notebooks/data_table.ipynb>data table notebook</a>'\n",
              "          + ' to learn more about interactive tables.';\n",
              "        element.innerHTML = '';\n",
              "        dataTable['output_type'] = 'display_data';\n",
              "        await google.colab.output.renderOutput(dataTable, element);\n",
              "        const docLink = document.createElement('div');\n",
              "        docLink.innerHTML = docLinkHtml;\n",
              "        element.appendChild(docLink);\n",
              "      }\n",
              "    </script>\n",
              "  </div>\n",
              "\n",
              "\n",
              "<div id=\"df-8066ebb5-9a18-4272-b883-6d2144ff5d51\">\n",
              "  <button class=\"colab-df-quickchart\" onclick=\"quickchart('df-8066ebb5-9a18-4272-b883-6d2144ff5d51')\"\n",
              "            title=\"Suggest charts.\"\n",
              "            style=\"display:none;\">\n",
              "\n",
              "<svg xmlns=\"http://www.w3.org/2000/svg\" height=\"24px\"viewBox=\"0 0 24 24\"\n",
              "     width=\"24px\">\n",
              "    <g>\n",
              "        <path d=\"M19 3H5c-1.1 0-2 .9-2 2v14c0 1.1.9 2 2 2h14c1.1 0 2-.9 2-2V5c0-1.1-.9-2-2-2zM9 17H7v-7h2v7zm4 0h-2V7h2v10zm4 0h-2v-4h2v4z\"/>\n",
              "    </g>\n",
              "</svg>\n",
              "  </button>\n",
              "\n",
              "<style>\n",
              "  .colab-df-quickchart {\n",
              "      --bg-color: #E8F0FE;\n",
              "      --fill-color: #1967D2;\n",
              "      --hover-bg-color: #E2EBFA;\n",
              "      --hover-fill-color: #174EA6;\n",
              "      --disabled-fill-color: #AAA;\n",
              "      --disabled-bg-color: #DDD;\n",
              "  }\n",
              "\n",
              "  [theme=dark] .colab-df-quickchart {\n",
              "      --bg-color: #3B4455;\n",
              "      --fill-color: #D2E3FC;\n",
              "      --hover-bg-color: #434B5C;\n",
              "      --hover-fill-color: #FFFFFF;\n",
              "      --disabled-bg-color: #3B4455;\n",
              "      --disabled-fill-color: #666;\n",
              "  }\n",
              "\n",
              "  .colab-df-quickchart {\n",
              "    background-color: var(--bg-color);\n",
              "    border: none;\n",
              "    border-radius: 50%;\n",
              "    cursor: pointer;\n",
              "    display: none;\n",
              "    fill: var(--fill-color);\n",
              "    height: 32px;\n",
              "    padding: 0;\n",
              "    width: 32px;\n",
              "  }\n",
              "\n",
              "  .colab-df-quickchart:hover {\n",
              "    background-color: var(--hover-bg-color);\n",
              "    box-shadow: 0 1px 2px rgba(60, 64, 67, 0.3), 0 1px 3px 1px rgba(60, 64, 67, 0.15);\n",
              "    fill: var(--button-hover-fill-color);\n",
              "  }\n",
              "\n",
              "  .colab-df-quickchart-complete:disabled,\n",
              "  .colab-df-quickchart-complete:disabled:hover {\n",
              "    background-color: var(--disabled-bg-color);\n",
              "    fill: var(--disabled-fill-color);\n",
              "    box-shadow: none;\n",
              "  }\n",
              "\n",
              "  .colab-df-spinner {\n",
              "    border: 2px solid var(--fill-color);\n",
              "    border-color: transparent;\n",
              "    border-bottom-color: var(--fill-color);\n",
              "    animation:\n",
              "      spin 1s steps(1) infinite;\n",
              "  }\n",
              "\n",
              "  @keyframes spin {\n",
              "    0% {\n",
              "      border-color: transparent;\n",
              "      border-bottom-color: var(--fill-color);\n",
              "      border-left-color: var(--fill-color);\n",
              "    }\n",
              "    20% {\n",
              "      border-color: transparent;\n",
              "      border-left-color: var(--fill-color);\n",
              "      border-top-color: var(--fill-color);\n",
              "    }\n",
              "    30% {\n",
              "      border-color: transparent;\n",
              "      border-left-color: var(--fill-color);\n",
              "      border-top-color: var(--fill-color);\n",
              "      border-right-color: var(--fill-color);\n",
              "    }\n",
              "    40% {\n",
              "      border-color: transparent;\n",
              "      border-right-color: var(--fill-color);\n",
              "      border-top-color: var(--fill-color);\n",
              "    }\n",
              "    60% {\n",
              "      border-color: transparent;\n",
              "      border-right-color: var(--fill-color);\n",
              "    }\n",
              "    80% {\n",
              "      border-color: transparent;\n",
              "      border-right-color: var(--fill-color);\n",
              "      border-bottom-color: var(--fill-color);\n",
              "    }\n",
              "    90% {\n",
              "      border-color: transparent;\n",
              "      border-bottom-color: var(--fill-color);\n",
              "    }\n",
              "  }\n",
              "</style>\n",
              "\n",
              "  <script>\n",
              "    async function quickchart(key) {\n",
              "      const quickchartButtonEl =\n",
              "        document.querySelector('#' + key + ' button');\n",
              "      quickchartButtonEl.disabled = true;  // To prevent multiple clicks.\n",
              "      quickchartButtonEl.classList.add('colab-df-spinner');\n",
              "      try {\n",
              "        const charts = await google.colab.kernel.invokeFunction(\n",
              "            'suggestCharts', [key], {});\n",
              "      } catch (error) {\n",
              "        console.error('Error during call to suggestCharts:', error);\n",
              "      }\n",
              "      quickchartButtonEl.classList.remove('colab-df-spinner');\n",
              "      quickchartButtonEl.classList.add('colab-df-quickchart-complete');\n",
              "    }\n",
              "    (() => {\n",
              "      let quickchartButtonEl =\n",
              "        document.querySelector('#df-8066ebb5-9a18-4272-b883-6d2144ff5d51 button');\n",
              "      quickchartButtonEl.style.display =\n",
              "        google.colab.kernel.accessAllowed ? 'block' : 'none';\n",
              "    })();\n",
              "  </script>\n",
              "</div>\n",
              "    </div>\n",
              "  </div>\n"
            ]
          },
          "metadata": {},
          "execution_count": 328
        }
      ]
    },
    {
      "cell_type": "code",
      "source": [
        "prediccion.to_csv('/content/sample_data/prediccion_grid_hiperparametros_balanceo.csv', index = False)"
      ],
      "metadata": {
        "id": "up4ez0XJ6SCm"
      },
      "execution_count": 330,
      "outputs": []
    }
  ]
}