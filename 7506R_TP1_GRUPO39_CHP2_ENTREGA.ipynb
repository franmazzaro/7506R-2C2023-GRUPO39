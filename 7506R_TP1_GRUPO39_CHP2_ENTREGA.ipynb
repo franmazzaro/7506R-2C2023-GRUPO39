{
  "nbformat": 4,
  "nbformat_minor": 0,
  "metadata": {
    "colab": {
      "provenance": [],
      "include_colab_link": true
    },
    "kernelspec": {
      "name": "python3",
      "display_name": "Python 3"
    },
    "language_info": {
      "name": "python"
    }
  },
  "cells": [
    {
      "cell_type": "markdown",
      "metadata": {
        "id": "view-in-github",
        "colab_type": "text"
      },
      "source": [
        "<a href=\"https://colab.research.google.com/github/franmazzaro/7506R-2C2023-GRUPO39/blob/main/7506R_TP1_GRUPO39_CHP2_ENTREGA.ipynb\" target=\"_parent\"><img src=\"https://colab.research.google.com/assets/colab-badge.svg\" alt=\"Open In Colab\"/></a>"
      ]
    },
    {
      "cell_type": "code",
      "execution_count": 176,
      "metadata": {
        "id": "BBou8R3XtHv0"
      },
      "outputs": [],
      "source": [
        "from sklearn.model_selection import train_test_split, cross_val_score\n",
        "from sklearn.tree import DecisionTreeClassifier\n",
        "from sklearn.metrics import accuracy_score, precision_score, recall_score, f1_score, roc_auc_score\n",
        "from sklearn.preprocessing import LabelEncoder, StandardScaler\n",
        "from sklearn.utils import resample\n",
        "from sklearn.model_selection import KFold"
      ]
    },
    {
      "cell_type": "code",
      "source": [
        "from sklearn.model_selection import StratifiedKFold, KFold,RandomizedSearchCV\n",
        "from sklearn.tree import DecisionTreeClassifier\n",
        "from sklearn.metrics import make_scorer, f1_score"
      ],
      "metadata": {
        "id": "rO4c6NCltJ1D"
      },
      "execution_count": 177,
      "outputs": []
    },
    {
      "cell_type": "code",
      "source": [
        "import pandas as pd\n",
        "import seaborn as sns\n",
        "import numpy as np\n",
        "from matplotlib import pyplot as plt\n",
        "import scipy.stats as st\n",
        "import math as math"
      ],
      "metadata": {
        "id": "9mtMqvB7uX9j"
      },
      "execution_count": 178,
      "outputs": []
    },
    {
      "cell_type": "code",
      "source": [
        "# Importamos el dataset que trabajamos en el checkpoint 1\n",
        "reservas = pd.read_csv('/content/sample_data/reservas_limpio.csv')"
      ],
      "metadata": {
        "id": "tg-r-uatuTOF"
      },
      "execution_count": 179,
      "outputs": []
    },
    {
      "cell_type": "code",
      "source": [
        "# Importamos el dataset de test\n",
        "test = pd.read_csv('/content/sample_data/hotels_test.csv')"
      ],
      "metadata": {
        "id": "7jCyJ78fxk5n"
      },
      "execution_count": 180,
      "outputs": []
    },
    {
      "cell_type": "code",
      "source": [
        "reservas.info()"
      ],
      "metadata": {
        "colab": {
          "base_uri": "https://localhost:8080/"
        },
        "id": "k1Bz5c_TlDmA",
        "outputId": "610d43bc-69bc-41bc-8d21-53367fc94cbb"
      },
      "execution_count": 181,
      "outputs": [
        {
          "output_type": "stream",
          "name": "stdout",
          "text": [
            "<class 'pandas.core.frame.DataFrame'>\n",
            "RangeIndex: 58593 entries, 0 to 58592\n",
            "Data columns (total 26 columns):\n",
            " #   Column                          Non-Null Count  Dtype  \n",
            "---  ------                          --------------  -----  \n",
            " 0   hotel                           58593 non-null  object \n",
            " 1   lead_time                       58593 non-null  int64  \n",
            " 2   stays_in_weekend_nights         58593 non-null  int64  \n",
            " 3   stays_in_week_nights            58593 non-null  int64  \n",
            " 4   adults                          58593 non-null  int64  \n",
            " 5   children                        58593 non-null  float64\n",
            " 6   babies                          58593 non-null  int64  \n",
            " 7   country                         58593 non-null  object \n",
            " 8   market_segment                  58593 non-null  object \n",
            " 9   distribution_channel            58593 non-null  object \n",
            " 10  is_repeated_guest               58593 non-null  int64  \n",
            " 11  previous_cancellations          58593 non-null  int64  \n",
            " 12  previous_bookings_not_canceled  58593 non-null  int64  \n",
            " 13  reserved_room_type              58593 non-null  object \n",
            " 14  assigned_room_type              58593 non-null  object \n",
            " 15  booking_changes                 58593 non-null  int64  \n",
            " 16  deposit_type                    58593 non-null  object \n",
            " 17  agent                           58593 non-null  float64\n",
            " 18  company                         58593 non-null  float64\n",
            " 19  days_in_waiting_list            58593 non-null  int64  \n",
            " 20  customer_type                   58593 non-null  object \n",
            " 21  adr                             58593 non-null  float64\n",
            " 22  required_car_parking_spaces     58593 non-null  int64  \n",
            " 23  total_of_special_requests       58593 non-null  int64  \n",
            " 24  id                              58593 non-null  object \n",
            " 25  is_canceled                     58593 non-null  int64  \n",
            "dtypes: float64(4), int64(13), object(9)\n",
            "memory usage: 11.6+ MB\n"
          ]
        }
      ]
    },
    {
      "cell_type": "markdown",
      "source": [
        "# Preprocesamiento de los datasets"
      ],
      "metadata": {
        "id": "lps6mKcWzXMc"
      }
    },
    {
      "cell_type": "markdown",
      "source": [
        "borramos columnas asi queda igual a nuestro dataset de train."
      ],
      "metadata": {
        "id": "chDBKKS-OpHt"
      }
    },
    {
      "cell_type": "code",
      "source": [
        "test = test.drop(columns=['arrival_date_day_of_month',\n",
        "                          'arrival_date_month',\n",
        "                          'arrival_date_week_number',\n",
        "                          'arrival_date_year',\n",
        "                          'meal',\n",
        "                          'reservation_status_date'])"
      ],
      "metadata": {
        "id": "KRmbQJvuN384"
      },
      "execution_count": 182,
      "outputs": []
    },
    {
      "cell_type": "markdown",
      "source": [
        "## igualacion Dummies variable Country"
      ],
      "metadata": {
        "id": "LIuqHQsPlWMV"
      }
    },
    {
      "cell_type": "code",
      "source": [
        "reservas_c = (sorted(reservas[\"country\"].dropna().unique()))\n",
        "test_c = (sorted(test[\"country\"].dropna().unique()))\n",
        "paises_no_test = list(set(reservas_c) - set(test_c))\n",
        "paises_no_train = list(set(test_c) - set(reservas_c))\n"
      ],
      "metadata": {
        "id": "qK1BruuKakM7"
      },
      "execution_count": 183,
      "outputs": []
    },
    {
      "cell_type": "code",
      "source": [
        "reservas_limpio = pd.get_dummies(reservas, columns=[\"country\"], drop_first=True, dtype='int64')"
      ],
      "metadata": {
        "id": "_VGVSEvAeCm-"
      },
      "execution_count": 184,
      "outputs": []
    },
    {
      "cell_type": "code",
      "source": [
        "for country in paises_no_train:\n",
        "\n",
        "  reservas_limpio[\"country_\" + country] = np.int64(0)"
      ],
      "metadata": {
        "id": "AMwkZv86eT4z"
      },
      "execution_count": 185,
      "outputs": []
    },
    {
      "cell_type": "code",
      "source": [
        "test_limpio = pd.get_dummies(test, columns=[\"country\"], drop_first=True, dtype='int64')"
      ],
      "metadata": {
        "id": "gdAZRmiMgUAJ"
      },
      "execution_count": 186,
      "outputs": []
    },
    {
      "cell_type": "code",
      "source": [
        "for country in paises_no_test:\n",
        "\n",
        "  test_limpio[\"country_\" + country] = np.int64(0)"
      ],
      "metadata": {
        "id": "-mkDCJ6egQxt"
      },
      "execution_count": 187,
      "outputs": []
    },
    {
      "cell_type": "code",
      "source": [
        "set(test_limpio.columns) - set(reservas_limpio.columns)"
      ],
      "metadata": {
        "colab": {
          "base_uri": "https://localhost:8080/"
        },
        "id": "4lV3jp7Gocz9",
        "outputId": "ce37d4db-1d92-4190-b8f9-300a5ed19d03"
      },
      "execution_count": 188,
      "outputs": [
        {
          "output_type": "execute_result",
          "data": {
            "text/plain": [
              "set()"
            ]
          },
          "metadata": {},
          "execution_count": 188
        }
      ]
    },
    {
      "cell_type": "code",
      "source": [
        "set(reservas_limpio.columns) - set(test_limpio.columns)"
      ],
      "metadata": {
        "colab": {
          "base_uri": "https://localhost:8080/"
        },
        "id": "8B8qykgvuz09",
        "outputId": "88588ace-3dce-4714-e299-b03d52d6eebc"
      },
      "execution_count": 189,
      "outputs": [
        {
          "output_type": "execute_result",
          "data": {
            "text/plain": [
              "{'is_canceled'}"
            ]
          },
          "metadata": {},
          "execution_count": 189
        }
      ]
    },
    {
      "cell_type": "markdown",
      "source": [
        "## igualacion Dummies variable hotel"
      ],
      "metadata": {
        "id": "H4nq7uablU1C"
      }
    },
    {
      "cell_type": "code",
      "source": [
        "reservas_h = (sorted(reservas_limpio[\"hotel\"].dropna().unique()))\n",
        "test_h = (sorted(test_limpio[\"hotel\"].dropna().unique()))\n",
        "paises_no_test = list(set(reservas_h) - set(test_h))\n",
        "paises_no_train = list(set(test_h) - set(reservas_h))\n"
      ],
      "metadata": {
        "id": "UkxT44Psljkd"
      },
      "execution_count": 190,
      "outputs": []
    },
    {
      "cell_type": "code",
      "source": [
        "reservas_limpio = pd.get_dummies(reservas_limpio, columns=[\"hotel\"], drop_first=True, dtype='int64')"
      ],
      "metadata": {
        "id": "d2D5B9RFljkd"
      },
      "execution_count": 191,
      "outputs": []
    },
    {
      "cell_type": "code",
      "source": [
        "for hotel in paises_no_train:\n",
        "  hotel_ = hotel.replace(\" \",\"_\")\n",
        "  reservas_limpio[\"hotel_\" + hotel_] = np.int64(0)"
      ],
      "metadata": {
        "id": "dT-Tu3Kuljkd"
      },
      "execution_count": 192,
      "outputs": []
    },
    {
      "cell_type": "code",
      "source": [
        "test_limpio = pd.get_dummies(test_limpio, columns=[\"hotel\"], drop_first=True, dtype='int64')"
      ],
      "metadata": {
        "id": "q6tvy7RQljkd"
      },
      "execution_count": 193,
      "outputs": []
    },
    {
      "cell_type": "code",
      "source": [
        "for hotel in paises_no_test:\n",
        "  hotel_ = hotel.replace(\" \",\"_\")\n",
        "  test_limpio[\"hotel_\" + hotel_] = np.int64(0)"
      ],
      "metadata": {
        "id": "BcmSjnzXljke"
      },
      "execution_count": 194,
      "outputs": []
    },
    {
      "cell_type": "code",
      "source": [
        "set(test_limpio.columns) - set(reservas_limpio.columns)"
      ],
      "metadata": {
        "colab": {
          "base_uri": "https://localhost:8080/"
        },
        "outputId": "5dd20644-bc78-45a9-b6ba-5756751794a0",
        "id": "XCtOu0FAljke"
      },
      "execution_count": 195,
      "outputs": [
        {
          "output_type": "execute_result",
          "data": {
            "text/plain": [
              "set()"
            ]
          },
          "metadata": {},
          "execution_count": 195
        }
      ]
    },
    {
      "cell_type": "code",
      "source": [
        "set(reservas_limpio.columns) - set(test_limpio.columns)"
      ],
      "metadata": {
        "colab": {
          "base_uri": "https://localhost:8080/"
        },
        "outputId": "f9ca931e-1f95-40f1-b34f-f4718b47c39d",
        "id": "SgiLJUhQljke"
      },
      "execution_count": 196,
      "outputs": [
        {
          "output_type": "execute_result",
          "data": {
            "text/plain": [
              "{'is_canceled'}"
            ]
          },
          "metadata": {},
          "execution_count": 196
        }
      ]
    },
    {
      "cell_type": "markdown",
      "source": [
        "## igualacion Dummies variable market_segment"
      ],
      "metadata": {
        "id": "S9bxAmDSvQvL"
      }
    },
    {
      "cell_type": "code",
      "source": [
        "reservas_c = (sorted(reservas_limpio[\"market_segment\"].dropna().unique()))\n",
        "test_c = (sorted(test_limpio[\"market_segment\"].dropna().unique()))\n",
        "paises_no_test = list(set(reservas_c) - set(test_c))\n",
        "paises_no_train = list(set(test_c) - set(reservas_c))\n"
      ],
      "metadata": {
        "id": "gE89nM9QwGlT"
      },
      "execution_count": 197,
      "outputs": []
    },
    {
      "cell_type": "code",
      "source": [
        "reservas_limpio = pd.get_dummies(reservas_limpio, columns=[\"market_segment\"], drop_first=True, dtype='int64')"
      ],
      "metadata": {
        "id": "HKiSUwm2wGlU"
      },
      "execution_count": 198,
      "outputs": []
    },
    {
      "cell_type": "code",
      "source": [
        "for market_segment in paises_no_train:\n",
        "\n",
        "  reservas_limpio[\"market_segment_\" + market_segment] = np.int64(0)"
      ],
      "metadata": {
        "id": "rdlo1Tq3wGlU"
      },
      "execution_count": 199,
      "outputs": []
    },
    {
      "cell_type": "code",
      "source": [
        "test_limpio = pd.get_dummies(test_limpio, columns=[\"market_segment\"], drop_first=True, dtype='int64')"
      ],
      "metadata": {
        "id": "4eh-LplZwGlU"
      },
      "execution_count": 200,
      "outputs": []
    },
    {
      "cell_type": "code",
      "source": [
        "for market_segment in paises_no_test:\n",
        "\n",
        "  test_limpio[\"market_segment_\" + market_segment] = np.int64(0)"
      ],
      "metadata": {
        "id": "I2dt-6FgwGlU"
      },
      "execution_count": 201,
      "outputs": []
    },
    {
      "cell_type": "code",
      "source": [
        "set(test_limpio.columns) - set(reservas_limpio.columns)"
      ],
      "metadata": {
        "colab": {
          "base_uri": "https://localhost:8080/"
        },
        "outputId": "71cce59f-0e94-4f42-87f2-5cbb2a63d9c2",
        "id": "izo022D0wGlU"
      },
      "execution_count": 202,
      "outputs": [
        {
          "output_type": "execute_result",
          "data": {
            "text/plain": [
              "set()"
            ]
          },
          "metadata": {},
          "execution_count": 202
        }
      ]
    },
    {
      "cell_type": "code",
      "source": [
        "set(reservas_limpio.columns) - set(test_limpio.columns)"
      ],
      "metadata": {
        "colab": {
          "base_uri": "https://localhost:8080/"
        },
        "outputId": "d9dabff1-ba83-453b-99ea-2636626b12de",
        "id": "cHYi27twwGlU"
      },
      "execution_count": 203,
      "outputs": [
        {
          "output_type": "execute_result",
          "data": {
            "text/plain": [
              "{'is_canceled'}"
            ]
          },
          "metadata": {},
          "execution_count": 203
        }
      ]
    },
    {
      "cell_type": "markdown",
      "source": [
        "## igualacion Dummies variable distribution_channel"
      ],
      "metadata": {
        "id": "OwUEHOSawOnf"
      }
    },
    {
      "cell_type": "code",
      "source": [
        "reservas_c = (sorted(reservas_limpio[\"distribution_channel\"].dropna().unique()))\n",
        "test_c = (sorted(test_limpio[\"distribution_channel\"].dropna().unique()))\n",
        "paises_no_test = list(set(reservas_c) - set(test_c))\n",
        "paises_no_train = list(set(test_c) - set(reservas_c))\n"
      ],
      "metadata": {
        "id": "VALZCW5Dws7N"
      },
      "execution_count": 204,
      "outputs": []
    },
    {
      "cell_type": "code",
      "source": [
        "reservas_limpio = pd.get_dummies(reservas_limpio, columns=[\"distribution_channel\"], drop_first=True, dtype='int64')"
      ],
      "metadata": {
        "id": "IeFTsE9Dws7O"
      },
      "execution_count": 205,
      "outputs": []
    },
    {
      "cell_type": "code",
      "source": [
        "for distribution_channel in paises_no_train:\n",
        "\n",
        "  reservas_limpio[\"distribution_channel_\" + distribution_channel] = np.int64(0)"
      ],
      "metadata": {
        "id": "ZLdxrKNKws7O"
      },
      "execution_count": 206,
      "outputs": []
    },
    {
      "cell_type": "code",
      "source": [
        "test_limpio = pd.get_dummies(test_limpio, columns=[\"distribution_channel\"], drop_first=True, dtype='int64')"
      ],
      "metadata": {
        "id": "FjnBYjbSws7O"
      },
      "execution_count": 207,
      "outputs": []
    },
    {
      "cell_type": "code",
      "source": [
        "for distribution_channel in paises_no_test:\n",
        "\n",
        "  test_limpio[\"distribution_channel_\" + distribution_channel] = np.int64(0)"
      ],
      "metadata": {
        "id": "HbUd-Bbvws7O"
      },
      "execution_count": 208,
      "outputs": []
    },
    {
      "cell_type": "code",
      "source": [
        "set(test_limpio.columns) - set(reservas_limpio.columns)"
      ],
      "metadata": {
        "colab": {
          "base_uri": "https://localhost:8080/"
        },
        "outputId": "0f6d923a-b66c-4883-f1a4-478eedc9486e",
        "id": "2iVgPeJ1ws7O"
      },
      "execution_count": 209,
      "outputs": [
        {
          "output_type": "execute_result",
          "data": {
            "text/plain": [
              "set()"
            ]
          },
          "metadata": {},
          "execution_count": 209
        }
      ]
    },
    {
      "cell_type": "code",
      "source": [
        "set(reservas_limpio.columns) - set(test_limpio.columns)"
      ],
      "metadata": {
        "colab": {
          "base_uri": "https://localhost:8080/"
        },
        "outputId": "2113b274-21fb-4fc7-9f57-6677b9250811",
        "id": "OgwhBw5Mws7O"
      },
      "execution_count": 210,
      "outputs": [
        {
          "output_type": "execute_result",
          "data": {
            "text/plain": [
              "{'is_canceled'}"
            ]
          },
          "metadata": {},
          "execution_count": 210
        }
      ]
    },
    {
      "cell_type": "markdown",
      "source": [
        "## igualacion Dummies variable reserved_room_type"
      ],
      "metadata": {
        "id": "vsGeBu93yYbu"
      }
    },
    {
      "cell_type": "code",
      "source": [
        "reservas_c = (sorted(reservas_limpio[\"reserved_room_type\"].dropna().unique()))\n",
        "test_c = (sorted(test_limpio[\"reserved_room_type\"].dropna().unique()))\n",
        "paises_no_test = list(set(reservas_c) - set(test_c))\n",
        "paises_no_train = list(set(test_c) - set(reservas_c))\n"
      ],
      "metadata": {
        "id": "UWK61M83ymZ4"
      },
      "execution_count": 211,
      "outputs": []
    },
    {
      "cell_type": "code",
      "source": [
        "reservas_limpio = pd.get_dummies(reservas_limpio, columns=[\"reserved_room_type\"], drop_first=True, dtype='int64')"
      ],
      "metadata": {
        "id": "NAsDVQjiymZ5"
      },
      "execution_count": 212,
      "outputs": []
    },
    {
      "cell_type": "code",
      "source": [
        "for reserved_room_type in paises_no_train:\n",
        "\n",
        "  reservas_limpio[\"reserved_room_type_\" + reserved_room_type] = np.int64(0)"
      ],
      "metadata": {
        "id": "ApoxAt_NymZ5"
      },
      "execution_count": 213,
      "outputs": []
    },
    {
      "cell_type": "code",
      "source": [
        "test_limpio = pd.get_dummies(test_limpio, columns=[\"reserved_room_type\"], drop_first=True, dtype='int64')"
      ],
      "metadata": {
        "id": "B0QblIbfymZ5"
      },
      "execution_count": 214,
      "outputs": []
    },
    {
      "cell_type": "code",
      "source": [
        "for reserved_room_type in paises_no_test:\n",
        "\n",
        "  test_limpio[\"reserved_room_type_\" + reserved_room_type] = np.int64(0)"
      ],
      "metadata": {
        "id": "IOc1q0WrymZ5"
      },
      "execution_count": 215,
      "outputs": []
    },
    {
      "cell_type": "code",
      "source": [
        "set(test_limpio.columns) - set(reservas_limpio.columns)"
      ],
      "metadata": {
        "colab": {
          "base_uri": "https://localhost:8080/"
        },
        "outputId": "71dcb37e-976a-48a4-fd6f-ebed79e0685d",
        "id": "vW6bCxCUymZ5"
      },
      "execution_count": 216,
      "outputs": [
        {
          "output_type": "execute_result",
          "data": {
            "text/plain": [
              "set()"
            ]
          },
          "metadata": {},
          "execution_count": 216
        }
      ]
    },
    {
      "cell_type": "code",
      "source": [
        "set(reservas_limpio.columns) - set(test_limpio.columns)"
      ],
      "metadata": {
        "colab": {
          "base_uri": "https://localhost:8080/"
        },
        "outputId": "ae32e749-cd50-4518-ffee-78add68fdae0",
        "id": "mfQzPVTHymZ5"
      },
      "execution_count": 217,
      "outputs": [
        {
          "output_type": "execute_result",
          "data": {
            "text/plain": [
              "{'is_canceled'}"
            ]
          },
          "metadata": {},
          "execution_count": 217
        }
      ]
    },
    {
      "cell_type": "markdown",
      "source": [
        "## igualacion Dummies variable assigned_room_type"
      ],
      "metadata": {
        "id": "43ffuyGZy0KG"
      }
    },
    {
      "cell_type": "code",
      "source": [
        "reservas_c = (sorted(reservas_limpio[\"assigned_room_type\"].dropna().unique()))\n",
        "test_c = (sorted(test_limpio[\"assigned_room_type\"].dropna().unique()))\n",
        "paises_no_test = list(set(reservas_c) - set(test_c))\n",
        "paises_no_train = list(set(test_c) - set(reservas_c))\n"
      ],
      "metadata": {
        "id": "tpQ2tQ2qzJLT"
      },
      "execution_count": 218,
      "outputs": []
    },
    {
      "cell_type": "code",
      "source": [
        "reservas_limpio = pd.get_dummies(reservas_limpio, columns=[\"assigned_room_type\"], drop_first=True, dtype='int64')"
      ],
      "metadata": {
        "id": "Hq2Ar1h-zJLT"
      },
      "execution_count": 219,
      "outputs": []
    },
    {
      "cell_type": "code",
      "source": [
        "for assigned_room_type in paises_no_train:\n",
        "\n",
        "  reservas_limpio[\"assigned_room_type_\" + assigned_room_type] = np.int64(0)"
      ],
      "metadata": {
        "id": "JlSn-yq9zJLT"
      },
      "execution_count": 220,
      "outputs": []
    },
    {
      "cell_type": "code",
      "source": [
        "test_limpio = pd.get_dummies(test_limpio, columns=[\"assigned_room_type\"], drop_first=True, dtype='int64')"
      ],
      "metadata": {
        "id": "jgLgfyQnzJLT"
      },
      "execution_count": 221,
      "outputs": []
    },
    {
      "cell_type": "code",
      "source": [
        "for assigned_room_type in paises_no_test:\n",
        "\n",
        "  test_limpio[\"assigned_room_type_\" + assigned_room_type] = np.int64(0)"
      ],
      "metadata": {
        "id": "U9Io5mfbzJLT"
      },
      "execution_count": 222,
      "outputs": []
    },
    {
      "cell_type": "code",
      "source": [
        "set(test_limpio.columns) - set(reservas_limpio.columns)"
      ],
      "metadata": {
        "colab": {
          "base_uri": "https://localhost:8080/"
        },
        "outputId": "7b0d6364-e6d6-4f5b-ffe8-ea80b049e6e5",
        "id": "Q6ELvTrazJLU"
      },
      "execution_count": 223,
      "outputs": [
        {
          "output_type": "execute_result",
          "data": {
            "text/plain": [
              "set()"
            ]
          },
          "metadata": {},
          "execution_count": 223
        }
      ]
    },
    {
      "cell_type": "code",
      "source": [
        "set(reservas_limpio.columns) - set(test_limpio.columns)"
      ],
      "metadata": {
        "colab": {
          "base_uri": "https://localhost:8080/"
        },
        "outputId": "35fe56dc-00ee-4aa1-98ef-2da227909a9f",
        "id": "vINQzyHTzJLU"
      },
      "execution_count": 224,
      "outputs": [
        {
          "output_type": "execute_result",
          "data": {
            "text/plain": [
              "{'is_canceled'}"
            ]
          },
          "metadata": {},
          "execution_count": 224
        }
      ]
    },
    {
      "cell_type": "markdown",
      "source": [
        "## igualacion Dummies variable deposit_type"
      ],
      "metadata": {
        "id": "0vSQC0VzzYTi"
      }
    },
    {
      "cell_type": "code",
      "source": [
        "reservas_c = (sorted(reservas_limpio[\"deposit_type\"].dropna().unique()))\n",
        "test_c = (sorted(test_limpio[\"deposit_type\"].dropna().unique()))\n",
        "paises_no_test = list(set(reservas_c) - set(test_c))\n",
        "paises_no_train = list(set(test_c) - set(reservas_c))\n"
      ],
      "metadata": {
        "id": "8nhWb0lgzd-7"
      },
      "execution_count": 225,
      "outputs": []
    },
    {
      "cell_type": "code",
      "source": [
        "reservas_limpio = pd.get_dummies(reservas_limpio, columns=[\"deposit_type\"], drop_first=True, dtype='int64')"
      ],
      "metadata": {
        "id": "qZzgdvoyzd-8"
      },
      "execution_count": 226,
      "outputs": []
    },
    {
      "cell_type": "code",
      "source": [
        "for deposit_type in paises_no_train:\n",
        "\n",
        "  reservas_limpio[\"deposit_type_\" + deposit_type] = np.int64(0)"
      ],
      "metadata": {
        "id": "oS7QNYf6zd-8"
      },
      "execution_count": 227,
      "outputs": []
    },
    {
      "cell_type": "code",
      "source": [
        "test_limpio = pd.get_dummies(test_limpio, columns=[\"deposit_type\"], drop_first=True, dtype='int64')"
      ],
      "metadata": {
        "id": "lH2foekBzd-8"
      },
      "execution_count": 228,
      "outputs": []
    },
    {
      "cell_type": "code",
      "source": [
        "for deposit_type in paises_no_test:\n",
        "\n",
        "  test_limpio[\"deposit_type_\" + deposit_type] = np.int64(0)"
      ],
      "metadata": {
        "id": "BddosS0ozd-8"
      },
      "execution_count": 229,
      "outputs": []
    },
    {
      "cell_type": "code",
      "source": [
        "set(test_limpio.columns) - set(reservas_limpio.columns)"
      ],
      "metadata": {
        "colab": {
          "base_uri": "https://localhost:8080/"
        },
        "outputId": "c2552b44-cd09-435e-9a7b-af175000bfaa",
        "id": "SNDAVb8Wzd-8"
      },
      "execution_count": 230,
      "outputs": [
        {
          "output_type": "execute_result",
          "data": {
            "text/plain": [
              "set()"
            ]
          },
          "metadata": {},
          "execution_count": 230
        }
      ]
    },
    {
      "cell_type": "code",
      "source": [
        "set(reservas_limpio.columns) - set(test_limpio.columns)"
      ],
      "metadata": {
        "colab": {
          "base_uri": "https://localhost:8080/"
        },
        "outputId": "966072dd-1c6a-4b18-a4f9-ae6bd383745b",
        "id": "CPyEbPKgzd-9"
      },
      "execution_count": 231,
      "outputs": [
        {
          "output_type": "execute_result",
          "data": {
            "text/plain": [
              "{'is_canceled'}"
            ]
          },
          "metadata": {},
          "execution_count": 231
        }
      ]
    },
    {
      "cell_type": "markdown",
      "source": [
        "## igualacion Dummies variable customer_type"
      ],
      "metadata": {
        "id": "bQYFPG04zlx6"
      }
    },
    {
      "cell_type": "code",
      "source": [
        "reservas_c = (sorted(reservas_limpio[\"customer_type\"].dropna().unique()))\n",
        "test_c = (sorted(test_limpio[\"customer_type\"].dropna().unique()))\n",
        "paises_no_test = list(set(reservas_c) - set(test_c))\n",
        "paises_no_train = list(set(test_c) - set(reservas_c))\n"
      ],
      "metadata": {
        "id": "uUqFgFaL0QMr"
      },
      "execution_count": 232,
      "outputs": []
    },
    {
      "cell_type": "code",
      "source": [
        "reservas_limpio = pd.get_dummies(reservas_limpio, columns=[\"customer_type\"], drop_first=True, dtype='int64')"
      ],
      "metadata": {
        "id": "pPMlIkw-0QMr"
      },
      "execution_count": 233,
      "outputs": []
    },
    {
      "cell_type": "code",
      "source": [
        "for customer in paises_no_train:\n",
        "\n",
        "  reservas_limpio[\"customer_type_\" + customer] = np.int64(0)"
      ],
      "metadata": {
        "id": "cnfckynJ0QMr"
      },
      "execution_count": 234,
      "outputs": []
    },
    {
      "cell_type": "code",
      "source": [
        "test_limpio = pd.get_dummies(test_limpio, columns=[\"customer_type\"], drop_first=True, dtype='int64')"
      ],
      "metadata": {
        "id": "OYi9MOjw0QMr"
      },
      "execution_count": 235,
      "outputs": []
    },
    {
      "cell_type": "code",
      "source": [
        "for customer in paises_no_test:\n",
        "\n",
        "  test_limpio[\"customer_type_\" + customer] = np.int64(0)"
      ],
      "metadata": {
        "id": "1fvRC2VI0QMs"
      },
      "execution_count": 236,
      "outputs": []
    },
    {
      "cell_type": "code",
      "source": [
        "set(test_limpio.columns) - set(reservas_limpio.columns)"
      ],
      "metadata": {
        "colab": {
          "base_uri": "https://localhost:8080/"
        },
        "outputId": "4622002d-be55-44fa-bf39-f767586da084",
        "id": "qlxERv100QMs"
      },
      "execution_count": 237,
      "outputs": [
        {
          "output_type": "execute_result",
          "data": {
            "text/plain": [
              "set()"
            ]
          },
          "metadata": {},
          "execution_count": 237
        }
      ]
    },
    {
      "cell_type": "code",
      "source": [
        "set(reservas_limpio.columns) - set(test_limpio.columns)"
      ],
      "metadata": {
        "colab": {
          "base_uri": "https://localhost:8080/"
        },
        "outputId": "dbf97389-b6cc-4234-c04a-f671b9f511ae",
        "id": "vetFgv160QMs"
      },
      "execution_count": 154,
      "outputs": [
        {
          "output_type": "execute_result",
          "data": {
            "text/plain": [
              "{'is_canceled'}"
            ]
          },
          "metadata": {},
          "execution_count": 154
        }
      ]
    },
    {
      "cell_type": "code",
      "source": [
        "reservas_limpio.to_csv(\"/content/sample_data/reservas_dummies.csv\", index=False)"
      ],
      "metadata": {
        "id": "rZjjuEybFp3O"
      },
      "execution_count": 238,
      "outputs": []
    },
    {
      "cell_type": "code",
      "source": [
        "test_limpio.to_csv(\"/content/sample_data/test_dummies.csv\", index=False)"
      ],
      "metadata": {
        "id": "HQcek6M_rf8P"
      },
      "execution_count": 299,
      "outputs": []
    },
    {
      "cell_type": "markdown",
      "source": [
        "# Preprocesamiento para entrenar"
      ],
      "metadata": {
        "id": "K06GeQAi4MrU"
      }
    },
    {
      "cell_type": "markdown",
      "source": [
        "Devolvemos solo las columnas int y float para poder entrenar el modelo. De esta forma podemos revisar si hicimos dummies para todas las variables categoricas, ya que estos pasan a ser de tipo de dato numerico."
      ],
      "metadata": {
        "id": "ZJXEjiS3llhC"
      }
    },
    {
      "cell_type": "code",
      "source": [
        "reservas_sin_cuali = reservas_limpio[reservas_limpio.select_dtypes(include=[\"int64\",\"float\"]).columns.to_list()].copy()"
      ],
      "metadata": {
        "id": "-zaNanHfxtxo"
      },
      "execution_count": 240,
      "outputs": []
    },
    {
      "cell_type": "code",
      "source": [
        "test_sin_cuali = test_limpio[test_limpio.select_dtypes(include=[\"int\",\"float\"]).columns.to_list()].copy()"
      ],
      "metadata": {
        "id": "B5YnQiD0hHyx"
      },
      "execution_count": 241,
      "outputs": []
    },
    {
      "cell_type": "markdown",
      "source": [
        "Ordenamos las columnas de train y test para que queden de igual forma las columnas. Si estan en diferente orden tira error."
      ],
      "metadata": {
        "id": "gIGRRWx2lyhz"
      }
    },
    {
      "cell_type": "code",
      "source": [
        "reservas_sin_cuali = reservas_sin_cuali.reindex(sorted(reservas_sin_cuali.columns), axis=1)\n",
        "test_sin_cuali = test_sin_cuali.reindex(sorted(test_sin_cuali.columns), axis=1)"
      ],
      "metadata": {
        "id": "I9j4qPkevZ9Q"
      },
      "execution_count": 242,
      "outputs": []
    },
    {
      "cell_type": "code",
      "source": [
        "# hacemos lo mismo que en el dataset de train de poner -1 a los valores faltantes de estas columnas para asignarlas a una categoria nula.\n",
        "# De esta forma podemos identificarlos\n",
        "test_sin_cuali['agent'] = test_sin_cuali['agent'].fillna(-1)\n",
        "test_sin_cuali['company'] = test_sin_cuali['company'].fillna(-1)"
      ],
      "metadata": {
        "id": "PApFdCwGwBbB"
      },
      "execution_count": 243,
      "outputs": []
    },
    {
      "cell_type": "markdown",
      "source": [
        "eliminamos la columna target del dataset para entrenar y hacemos uno solo con esta."
      ],
      "metadata": {
        "id": "dKumSU9XhUOC"
      }
    },
    {
      "cell_type": "code",
      "source": [
        "a = reservas_sin_cuali.drop(['is_canceled'], axis=1)\n",
        "b = reservas_sin_cuali['is_canceled']"
      ],
      "metadata": {
        "id": "8JS06sM0te79"
      },
      "execution_count": 244,
      "outputs": []
    },
    {
      "cell_type": "markdown",
      "source": [
        "# Probamos con un RandomizedSearchCV para buscar hiperparametros"
      ],
      "metadata": {
        "id": "cFmUhCoJ9r7s"
      }
    },
    {
      "cell_type": "markdown",
      "source": [
        "Probamos con distinta cantidad de folds para ver cual devuelve mejor puntaje."
      ],
      "metadata": {
        "id": "e81aZMR0ib-a"
      }
    },
    {
      "cell_type": "code",
      "source": [
        "score = pd.DataFrame()\n",
        "X_train_random, X_test_random, y_train_random, y_test_random = train_test_split(a, b, test_size=0.2, random_state=42)\n",
        "\n",
        "for k in range(2, 10):\n",
        "\n",
        "\n",
        "  n=10\n",
        "  params_grid = {'criterion':['gini','entropy'],\n",
        "               'ccp_alpha':np.linspace(0,0.05,n),\n",
        "               'max_depth':list(range(1,6))}\n",
        "\n",
        "\n",
        "  folds=k\n",
        "\n",
        "\n",
        "  kfoldcv = StratifiedKFold(n_splits=folds)\n",
        "\n",
        "\n",
        "  base_tree = DecisionTreeClassifier(random_state=42)\n",
        "\n",
        "  scorer_fn = make_scorer(f1_score)\n",
        "\n",
        "  randomcv = RandomizedSearchCV(estimator=base_tree,\n",
        "                              param_distributions = params_grid,\n",
        "                              scoring=scorer_fn,\n",
        "                              cv=kfoldcv,\n",
        "                              n_iter=n)\n",
        "\n",
        "  randomcv.fit(X_train_random, y_train_random);\n",
        "\n",
        "  new_row = {'fold': k, \"score\": randomcv.best_score_, \"best_params\": randomcv.best_params_}\n",
        "  score = score.append(new_row, ignore_index=True)"
      ],
      "metadata": {
        "id": "hdbPuanwtPiw",
        "colab": {
          "base_uri": "https://localhost:8080/"
        },
        "outputId": "f4971f4f-90a1-4c1a-e693-7677ebe8b9e3"
      },
      "execution_count": 245,
      "outputs": [
        {
          "output_type": "stream",
          "name": "stderr",
          "text": [
            "<ipython-input-245-d84334aa7b13>:32: FutureWarning: The frame.append method is deprecated and will be removed from pandas in a future version. Use pandas.concat instead.\n",
            "  score = score.append(new_row, ignore_index=True)\n",
            "<ipython-input-245-d84334aa7b13>:32: FutureWarning: The frame.append method is deprecated and will be removed from pandas in a future version. Use pandas.concat instead.\n",
            "  score = score.append(new_row, ignore_index=True)\n",
            "<ipython-input-245-d84334aa7b13>:32: FutureWarning: The frame.append method is deprecated and will be removed from pandas in a future version. Use pandas.concat instead.\n",
            "  score = score.append(new_row, ignore_index=True)\n",
            "<ipython-input-245-d84334aa7b13>:32: FutureWarning: The frame.append method is deprecated and will be removed from pandas in a future version. Use pandas.concat instead.\n",
            "  score = score.append(new_row, ignore_index=True)\n",
            "<ipython-input-245-d84334aa7b13>:32: FutureWarning: The frame.append method is deprecated and will be removed from pandas in a future version. Use pandas.concat instead.\n",
            "  score = score.append(new_row, ignore_index=True)\n",
            "<ipython-input-245-d84334aa7b13>:32: FutureWarning: The frame.append method is deprecated and will be removed from pandas in a future version. Use pandas.concat instead.\n",
            "  score = score.append(new_row, ignore_index=True)\n",
            "<ipython-input-245-d84334aa7b13>:32: FutureWarning: The frame.append method is deprecated and will be removed from pandas in a future version. Use pandas.concat instead.\n",
            "  score = score.append(new_row, ignore_index=True)\n",
            "<ipython-input-245-d84334aa7b13>:32: FutureWarning: The frame.append method is deprecated and will be removed from pandas in a future version. Use pandas.concat instead.\n",
            "  score = score.append(new_row, ignore_index=True)\n"
          ]
        }
      ]
    },
    {
      "cell_type": "code",
      "source": [
        "score.head(10)"
      ],
      "metadata": {
        "colab": {
          "base_uri": "https://localhost:8080/",
          "height": 300
        },
        "id": "zvZcncSV31K8",
        "outputId": "bc16e1f1-724c-4369-e6be-c678b2c98711"
      },
      "execution_count": 246,
      "outputs": [
        {
          "output_type": "execute_result",
          "data": {
            "text/plain": [
              "   fold     score                                        best_params\n",
              "0     2  0.783327  {'max_depth': 5, 'criterion': 'entropy', 'ccp_...\n",
              "1     3  0.788106  {'max_depth': 5, 'criterion': 'entropy', 'ccp_...\n",
              "2     4  0.780426  {'max_depth': 5, 'criterion': 'entropy', 'ccp_...\n",
              "3     5  0.786933  {'max_depth': 5, 'criterion': 'entropy', 'ccp_...\n",
              "4     6  0.787676  {'max_depth': 5, 'criterion': 'entropy', 'ccp_...\n",
              "5     7  0.787907  {'max_depth': 5, 'criterion': 'entropy', 'ccp_...\n",
              "6     8  0.787509  {'max_depth': 5, 'criterion': 'entropy', 'ccp_...\n",
              "7     9  0.786229  {'max_depth': 5, 'criterion': 'gini', 'ccp_alp..."
            ],
            "text/html": [
              "\n",
              "  <div id=\"df-e5a7f764-256b-4f2a-9f2f-3b932cc1b481\" class=\"colab-df-container\">\n",
              "    <div>\n",
              "<style scoped>\n",
              "    .dataframe tbody tr th:only-of-type {\n",
              "        vertical-align: middle;\n",
              "    }\n",
              "\n",
              "    .dataframe tbody tr th {\n",
              "        vertical-align: top;\n",
              "    }\n",
              "\n",
              "    .dataframe thead th {\n",
              "        text-align: right;\n",
              "    }\n",
              "</style>\n",
              "<table border=\"1\" class=\"dataframe\">\n",
              "  <thead>\n",
              "    <tr style=\"text-align: right;\">\n",
              "      <th></th>\n",
              "      <th>fold</th>\n",
              "      <th>score</th>\n",
              "      <th>best_params</th>\n",
              "    </tr>\n",
              "  </thead>\n",
              "  <tbody>\n",
              "    <tr>\n",
              "      <th>0</th>\n",
              "      <td>2</td>\n",
              "      <td>0.783327</td>\n",
              "      <td>{'max_depth': 5, 'criterion': 'entropy', 'ccp_...</td>\n",
              "    </tr>\n",
              "    <tr>\n",
              "      <th>1</th>\n",
              "      <td>3</td>\n",
              "      <td>0.788106</td>\n",
              "      <td>{'max_depth': 5, 'criterion': 'entropy', 'ccp_...</td>\n",
              "    </tr>\n",
              "    <tr>\n",
              "      <th>2</th>\n",
              "      <td>4</td>\n",
              "      <td>0.780426</td>\n",
              "      <td>{'max_depth': 5, 'criterion': 'entropy', 'ccp_...</td>\n",
              "    </tr>\n",
              "    <tr>\n",
              "      <th>3</th>\n",
              "      <td>5</td>\n",
              "      <td>0.786933</td>\n",
              "      <td>{'max_depth': 5, 'criterion': 'entropy', 'ccp_...</td>\n",
              "    </tr>\n",
              "    <tr>\n",
              "      <th>4</th>\n",
              "      <td>6</td>\n",
              "      <td>0.787676</td>\n",
              "      <td>{'max_depth': 5, 'criterion': 'entropy', 'ccp_...</td>\n",
              "    </tr>\n",
              "    <tr>\n",
              "      <th>5</th>\n",
              "      <td>7</td>\n",
              "      <td>0.787907</td>\n",
              "      <td>{'max_depth': 5, 'criterion': 'entropy', 'ccp_...</td>\n",
              "    </tr>\n",
              "    <tr>\n",
              "      <th>6</th>\n",
              "      <td>8</td>\n",
              "      <td>0.787509</td>\n",
              "      <td>{'max_depth': 5, 'criterion': 'entropy', 'ccp_...</td>\n",
              "    </tr>\n",
              "    <tr>\n",
              "      <th>7</th>\n",
              "      <td>9</td>\n",
              "      <td>0.786229</td>\n",
              "      <td>{'max_depth': 5, 'criterion': 'gini', 'ccp_alp...</td>\n",
              "    </tr>\n",
              "  </tbody>\n",
              "</table>\n",
              "</div>\n",
              "    <div class=\"colab-df-buttons\">\n",
              "\n",
              "  <div class=\"colab-df-container\">\n",
              "    <button class=\"colab-df-convert\" onclick=\"convertToInteractive('df-e5a7f764-256b-4f2a-9f2f-3b932cc1b481')\"\n",
              "            title=\"Convert this dataframe to an interactive table.\"\n",
              "            style=\"display:none;\">\n",
              "\n",
              "  <svg xmlns=\"http://www.w3.org/2000/svg\" height=\"24px\" viewBox=\"0 -960 960 960\">\n",
              "    <path d=\"M120-120v-720h720v720H120Zm60-500h600v-160H180v160Zm220 220h160v-160H400v160Zm0 220h160v-160H400v160ZM180-400h160v-160H180v160Zm440 0h160v-160H620v160ZM180-180h160v-160H180v160Zm440 0h160v-160H620v160Z\"/>\n",
              "  </svg>\n",
              "    </button>\n",
              "\n",
              "  <style>\n",
              "    .colab-df-container {\n",
              "      display:flex;\n",
              "      gap: 12px;\n",
              "    }\n",
              "\n",
              "    .colab-df-convert {\n",
              "      background-color: #E8F0FE;\n",
              "      border: none;\n",
              "      border-radius: 50%;\n",
              "      cursor: pointer;\n",
              "      display: none;\n",
              "      fill: #1967D2;\n",
              "      height: 32px;\n",
              "      padding: 0 0 0 0;\n",
              "      width: 32px;\n",
              "    }\n",
              "\n",
              "    .colab-df-convert:hover {\n",
              "      background-color: #E2EBFA;\n",
              "      box-shadow: 0px 1px 2px rgba(60, 64, 67, 0.3), 0px 1px 3px 1px rgba(60, 64, 67, 0.15);\n",
              "      fill: #174EA6;\n",
              "    }\n",
              "\n",
              "    .colab-df-buttons div {\n",
              "      margin-bottom: 4px;\n",
              "    }\n",
              "\n",
              "    [theme=dark] .colab-df-convert {\n",
              "      background-color: #3B4455;\n",
              "      fill: #D2E3FC;\n",
              "    }\n",
              "\n",
              "    [theme=dark] .colab-df-convert:hover {\n",
              "      background-color: #434B5C;\n",
              "      box-shadow: 0px 1px 3px 1px rgba(0, 0, 0, 0.15);\n",
              "      filter: drop-shadow(0px 1px 2px rgba(0, 0, 0, 0.3));\n",
              "      fill: #FFFFFF;\n",
              "    }\n",
              "  </style>\n",
              "\n",
              "    <script>\n",
              "      const buttonEl =\n",
              "        document.querySelector('#df-e5a7f764-256b-4f2a-9f2f-3b932cc1b481 button.colab-df-convert');\n",
              "      buttonEl.style.display =\n",
              "        google.colab.kernel.accessAllowed ? 'block' : 'none';\n",
              "\n",
              "      async function convertToInteractive(key) {\n",
              "        const element = document.querySelector('#df-e5a7f764-256b-4f2a-9f2f-3b932cc1b481');\n",
              "        const dataTable =\n",
              "          await google.colab.kernel.invokeFunction('convertToInteractive',\n",
              "                                                    [key], {});\n",
              "        if (!dataTable) return;\n",
              "\n",
              "        const docLinkHtml = 'Like what you see? Visit the ' +\n",
              "          '<a target=\"_blank\" href=https://colab.research.google.com/notebooks/data_table.ipynb>data table notebook</a>'\n",
              "          + ' to learn more about interactive tables.';\n",
              "        element.innerHTML = '';\n",
              "        dataTable['output_type'] = 'display_data';\n",
              "        await google.colab.output.renderOutput(dataTable, element);\n",
              "        const docLink = document.createElement('div');\n",
              "        docLink.innerHTML = docLinkHtml;\n",
              "        element.appendChild(docLink);\n",
              "      }\n",
              "    </script>\n",
              "  </div>\n",
              "\n",
              "\n",
              "<div id=\"df-0cca03f2-2b62-4f4d-9aec-7ff4a2e6fb7a\">\n",
              "  <button class=\"colab-df-quickchart\" onclick=\"quickchart('df-0cca03f2-2b62-4f4d-9aec-7ff4a2e6fb7a')\"\n",
              "            title=\"Suggest charts.\"\n",
              "            style=\"display:none;\">\n",
              "\n",
              "<svg xmlns=\"http://www.w3.org/2000/svg\" height=\"24px\"viewBox=\"0 0 24 24\"\n",
              "     width=\"24px\">\n",
              "    <g>\n",
              "        <path d=\"M19 3H5c-1.1 0-2 .9-2 2v14c0 1.1.9 2 2 2h14c1.1 0 2-.9 2-2V5c0-1.1-.9-2-2-2zM9 17H7v-7h2v7zm4 0h-2V7h2v10zm4 0h-2v-4h2v4z\"/>\n",
              "    </g>\n",
              "</svg>\n",
              "  </button>\n",
              "\n",
              "<style>\n",
              "  .colab-df-quickchart {\n",
              "      --bg-color: #E8F0FE;\n",
              "      --fill-color: #1967D2;\n",
              "      --hover-bg-color: #E2EBFA;\n",
              "      --hover-fill-color: #174EA6;\n",
              "      --disabled-fill-color: #AAA;\n",
              "      --disabled-bg-color: #DDD;\n",
              "  }\n",
              "\n",
              "  [theme=dark] .colab-df-quickchart {\n",
              "      --bg-color: #3B4455;\n",
              "      --fill-color: #D2E3FC;\n",
              "      --hover-bg-color: #434B5C;\n",
              "      --hover-fill-color: #FFFFFF;\n",
              "      --disabled-bg-color: #3B4455;\n",
              "      --disabled-fill-color: #666;\n",
              "  }\n",
              "\n",
              "  .colab-df-quickchart {\n",
              "    background-color: var(--bg-color);\n",
              "    border: none;\n",
              "    border-radius: 50%;\n",
              "    cursor: pointer;\n",
              "    display: none;\n",
              "    fill: var(--fill-color);\n",
              "    height: 32px;\n",
              "    padding: 0;\n",
              "    width: 32px;\n",
              "  }\n",
              "\n",
              "  .colab-df-quickchart:hover {\n",
              "    background-color: var(--hover-bg-color);\n",
              "    box-shadow: 0 1px 2px rgba(60, 64, 67, 0.3), 0 1px 3px 1px rgba(60, 64, 67, 0.15);\n",
              "    fill: var(--button-hover-fill-color);\n",
              "  }\n",
              "\n",
              "  .colab-df-quickchart-complete:disabled,\n",
              "  .colab-df-quickchart-complete:disabled:hover {\n",
              "    background-color: var(--disabled-bg-color);\n",
              "    fill: var(--disabled-fill-color);\n",
              "    box-shadow: none;\n",
              "  }\n",
              "\n",
              "  .colab-df-spinner {\n",
              "    border: 2px solid var(--fill-color);\n",
              "    border-color: transparent;\n",
              "    border-bottom-color: var(--fill-color);\n",
              "    animation:\n",
              "      spin 1s steps(1) infinite;\n",
              "  }\n",
              "\n",
              "  @keyframes spin {\n",
              "    0% {\n",
              "      border-color: transparent;\n",
              "      border-bottom-color: var(--fill-color);\n",
              "      border-left-color: var(--fill-color);\n",
              "    }\n",
              "    20% {\n",
              "      border-color: transparent;\n",
              "      border-left-color: var(--fill-color);\n",
              "      border-top-color: var(--fill-color);\n",
              "    }\n",
              "    30% {\n",
              "      border-color: transparent;\n",
              "      border-left-color: var(--fill-color);\n",
              "      border-top-color: var(--fill-color);\n",
              "      border-right-color: var(--fill-color);\n",
              "    }\n",
              "    40% {\n",
              "      border-color: transparent;\n",
              "      border-right-color: var(--fill-color);\n",
              "      border-top-color: var(--fill-color);\n",
              "    }\n",
              "    60% {\n",
              "      border-color: transparent;\n",
              "      border-right-color: var(--fill-color);\n",
              "    }\n",
              "    80% {\n",
              "      border-color: transparent;\n",
              "      border-right-color: var(--fill-color);\n",
              "      border-bottom-color: var(--fill-color);\n",
              "    }\n",
              "    90% {\n",
              "      border-color: transparent;\n",
              "      border-bottom-color: var(--fill-color);\n",
              "    }\n",
              "  }\n",
              "</style>\n",
              "\n",
              "  <script>\n",
              "    async function quickchart(key) {\n",
              "      const quickchartButtonEl =\n",
              "        document.querySelector('#' + key + ' button');\n",
              "      quickchartButtonEl.disabled = true;  // To prevent multiple clicks.\n",
              "      quickchartButtonEl.classList.add('colab-df-spinner');\n",
              "      try {\n",
              "        const charts = await google.colab.kernel.invokeFunction(\n",
              "            'suggestCharts', [key], {});\n",
              "      } catch (error) {\n",
              "        console.error('Error during call to suggestCharts:', error);\n",
              "      }\n",
              "      quickchartButtonEl.classList.remove('colab-df-spinner');\n",
              "      quickchartButtonEl.classList.add('colab-df-quickchart-complete');\n",
              "    }\n",
              "    (() => {\n",
              "      let quickchartButtonEl =\n",
              "        document.querySelector('#df-0cca03f2-2b62-4f4d-9aec-7ff4a2e6fb7a button');\n",
              "      quickchartButtonEl.style.display =\n",
              "        google.colab.kernel.accessAllowed ? 'block' : 'none';\n",
              "    })();\n",
              "  </script>\n",
              "</div>\n",
              "    </div>\n",
              "  </div>\n"
            ]
          },
          "metadata": {},
          "execution_count": 246
        }
      ]
    },
    {
      "cell_type": "code",
      "source": [
        "score[score['score'].max() == score['score']]"
      ],
      "metadata": {
        "colab": {
          "base_uri": "https://localhost:8080/",
          "height": 81
        },
        "id": "zxRhkwDXpG9q",
        "outputId": "196a1383-13dd-4add-8044-610cde05374f"
      },
      "execution_count": 247,
      "outputs": [
        {
          "output_type": "execute_result",
          "data": {
            "text/plain": [
              "   fold     score                                        best_params\n",
              "1     3  0.788106  {'max_depth': 5, 'criterion': 'entropy', 'ccp_..."
            ],
            "text/html": [
              "\n",
              "  <div id=\"df-315327fa-55ff-400d-a556-6a77baa73f8d\" class=\"colab-df-container\">\n",
              "    <div>\n",
              "<style scoped>\n",
              "    .dataframe tbody tr th:only-of-type {\n",
              "        vertical-align: middle;\n",
              "    }\n",
              "\n",
              "    .dataframe tbody tr th {\n",
              "        vertical-align: top;\n",
              "    }\n",
              "\n",
              "    .dataframe thead th {\n",
              "        text-align: right;\n",
              "    }\n",
              "</style>\n",
              "<table border=\"1\" class=\"dataframe\">\n",
              "  <thead>\n",
              "    <tr style=\"text-align: right;\">\n",
              "      <th></th>\n",
              "      <th>fold</th>\n",
              "      <th>score</th>\n",
              "      <th>best_params</th>\n",
              "    </tr>\n",
              "  </thead>\n",
              "  <tbody>\n",
              "    <tr>\n",
              "      <th>1</th>\n",
              "      <td>3</td>\n",
              "      <td>0.788106</td>\n",
              "      <td>{'max_depth': 5, 'criterion': 'entropy', 'ccp_...</td>\n",
              "    </tr>\n",
              "  </tbody>\n",
              "</table>\n",
              "</div>\n",
              "    <div class=\"colab-df-buttons\">\n",
              "\n",
              "  <div class=\"colab-df-container\">\n",
              "    <button class=\"colab-df-convert\" onclick=\"convertToInteractive('df-315327fa-55ff-400d-a556-6a77baa73f8d')\"\n",
              "            title=\"Convert this dataframe to an interactive table.\"\n",
              "            style=\"display:none;\">\n",
              "\n",
              "  <svg xmlns=\"http://www.w3.org/2000/svg\" height=\"24px\" viewBox=\"0 -960 960 960\">\n",
              "    <path d=\"M120-120v-720h720v720H120Zm60-500h600v-160H180v160Zm220 220h160v-160H400v160Zm0 220h160v-160H400v160ZM180-400h160v-160H180v160Zm440 0h160v-160H620v160ZM180-180h160v-160H180v160Zm440 0h160v-160H620v160Z\"/>\n",
              "  </svg>\n",
              "    </button>\n",
              "\n",
              "  <style>\n",
              "    .colab-df-container {\n",
              "      display:flex;\n",
              "      gap: 12px;\n",
              "    }\n",
              "\n",
              "    .colab-df-convert {\n",
              "      background-color: #E8F0FE;\n",
              "      border: none;\n",
              "      border-radius: 50%;\n",
              "      cursor: pointer;\n",
              "      display: none;\n",
              "      fill: #1967D2;\n",
              "      height: 32px;\n",
              "      padding: 0 0 0 0;\n",
              "      width: 32px;\n",
              "    }\n",
              "\n",
              "    .colab-df-convert:hover {\n",
              "      background-color: #E2EBFA;\n",
              "      box-shadow: 0px 1px 2px rgba(60, 64, 67, 0.3), 0px 1px 3px 1px rgba(60, 64, 67, 0.15);\n",
              "      fill: #174EA6;\n",
              "    }\n",
              "\n",
              "    .colab-df-buttons div {\n",
              "      margin-bottom: 4px;\n",
              "    }\n",
              "\n",
              "    [theme=dark] .colab-df-convert {\n",
              "      background-color: #3B4455;\n",
              "      fill: #D2E3FC;\n",
              "    }\n",
              "\n",
              "    [theme=dark] .colab-df-convert:hover {\n",
              "      background-color: #434B5C;\n",
              "      box-shadow: 0px 1px 3px 1px rgba(0, 0, 0, 0.15);\n",
              "      filter: drop-shadow(0px 1px 2px rgba(0, 0, 0, 0.3));\n",
              "      fill: #FFFFFF;\n",
              "    }\n",
              "  </style>\n",
              "\n",
              "    <script>\n",
              "      const buttonEl =\n",
              "        document.querySelector('#df-315327fa-55ff-400d-a556-6a77baa73f8d button.colab-df-convert');\n",
              "      buttonEl.style.display =\n",
              "        google.colab.kernel.accessAllowed ? 'block' : 'none';\n",
              "\n",
              "      async function convertToInteractive(key) {\n",
              "        const element = document.querySelector('#df-315327fa-55ff-400d-a556-6a77baa73f8d');\n",
              "        const dataTable =\n",
              "          await google.colab.kernel.invokeFunction('convertToInteractive',\n",
              "                                                    [key], {});\n",
              "        if (!dataTable) return;\n",
              "\n",
              "        const docLinkHtml = 'Like what you see? Visit the ' +\n",
              "          '<a target=\"_blank\" href=https://colab.research.google.com/notebooks/data_table.ipynb>data table notebook</a>'\n",
              "          + ' to learn more about interactive tables.';\n",
              "        element.innerHTML = '';\n",
              "        dataTable['output_type'] = 'display_data';\n",
              "        await google.colab.output.renderOutput(dataTable, element);\n",
              "        const docLink = document.createElement('div');\n",
              "        docLink.innerHTML = docLinkHtml;\n",
              "        element.appendChild(docLink);\n",
              "      }\n",
              "    </script>\n",
              "  </div>\n",
              "\n",
              "    </div>\n",
              "  </div>\n"
            ]
          },
          "metadata": {},
          "execution_count": 247
        }
      ]
    },
    {
      "cell_type": "markdown",
      "source": [
        "con 7 folds devuelve el mejor score"
      ],
      "metadata": {
        "id": "EMJqq4ekjEis"
      }
    },
    {
      "cell_type": "code",
      "source": [
        "print(randomcv.best_params_)"
      ],
      "metadata": {
        "colab": {
          "base_uri": "https://localhost:8080/"
        },
        "id": "V1j2WEzElLQW",
        "outputId": "5c91662e-6914-460a-eb90-9acbda8cb290"
      },
      "execution_count": 248,
      "outputs": [
        {
          "output_type": "stream",
          "name": "stdout",
          "text": [
            "{'max_depth': 5, 'criterion': 'gini', 'ccp_alpha': 0.005555555555555556}\n"
          ]
        }
      ]
    },
    {
      "cell_type": "markdown",
      "source": [
        "Utilizamos los hiperparametros encontrados"
      ],
      "metadata": {
        "id": "gcLFdNgFt9dm"
      }
    },
    {
      "cell_type": "code",
      "source": [
        "tree_model = DecisionTreeClassifier(criterion=\"gini\",\n",
        "                                         max_depth = 5,\n",
        "                                         ccp_alpha=0.055555555555)\n",
        "\n",
        "model_random = tree_model.fit(X_train_random, y_train_random)"
      ],
      "metadata": {
        "id": "bYdLDtBRaQO6"
      },
      "execution_count": 249,
      "outputs": []
    },
    {
      "cell_type": "code",
      "source": [
        "y_pred_random = model_random.predict(X_test_random)\n",
        "\n",
        "# Evaluar el modelo en el conjunto de prueba\n",
        "accuracy = accuracy_score(y_test_random, y_pred_random)\n",
        "precision = precision_score(y_test_random, y_pred_random)\n",
        "recall = recall_score(y_test_random, y_pred_random)\n",
        "f1 = f1_score(y_test_random, y_pred_random)\n",
        "roc_auc = roc_auc_score(y_test_random, y_pred_random)\n",
        "\n",
        "print(\"Exactitud:\", accuracy)\n",
        "print(\"Precisión:\", precision)\n",
        "print(\"Recuperación:\", recall)\n",
        "print(\"F1-Score:\", f1)\n",
        "print(\"AUC-ROC:\", roc_auc)"
      ],
      "metadata": {
        "colab": {
          "base_uri": "https://localhost:8080/"
        },
        "id": "rmcQ5koqadZe",
        "outputId": "48986619-5999-4dd6-c23c-afe3e8e56cec"
      },
      "execution_count": 250,
      "outputs": [
        {
          "output_type": "stream",
          "name": "stdout",
          "text": [
            "Exactitud: 0.6576499701339705\n",
            "Precisión: 0.9950603732162459\n",
            "Recuperación: 0.31172627235213207\n",
            "F1-Score: 0.4747316051322336\n",
            "AUC-ROC: 0.6551008119341551\n"
          ]
        }
      ]
    },
    {
      "cell_type": "code",
      "source": [
        "from sklearn.metrics import confusion_matrix\n",
        "tabla=confusion_matrix(y_test_random, y_pred_random)\n",
        "\n",
        "#Grafico la matriz de confusión\n",
        "sns.heatmap(tabla,cmap='GnBu',annot=True,fmt='g')\n",
        "plt.xlabel('Predicted')\n",
        "plt.ylabel('True')"
      ],
      "metadata": {
        "colab": {
          "base_uri": "https://localhost:8080/",
          "height": 466
        },
        "id": "ap5LuFKFo0vc",
        "outputId": "19f8b606-8e93-48da-b2da-1776e42bcce4"
      },
      "execution_count": 251,
      "outputs": [
        {
          "output_type": "execute_result",
          "data": {
            "text/plain": [
              "Text(50.722222222222214, 0.5, 'True')"
            ]
          },
          "metadata": {},
          "execution_count": 251
        },
        {
          "output_type": "display_data",
          "data": {
            "text/plain": [
              "<Figure size 640x480 with 2 Axes>"
            ],
            "image/png": "[encoded data removed]"
          },
          "metadata": {}
        }
      ]
    },
    {
      "cell_type": "markdown",
      "source": [
        "predecimos con datset de test para subir la primer prediccion a kaggle"
      ],
      "metadata": {
        "id": "4bLCVX5clRcK"
      }
    },
    {
      "cell_type": "code",
      "source": [
        "y_pred_random = randomcv.predict(test_sin_cuali)"
      ],
      "metadata": {
        "id": "8OHWKU_OuDbF"
      },
      "execution_count": 252,
      "outputs": []
    },
    {
      "cell_type": "code",
      "source": [
        "prediccion = pd.DataFrame({\"id\": test['id'], \"is_canceled\": y_pred_random})"
      ],
      "metadata": {
        "id": "HjcF48oV1aHx"
      },
      "execution_count": 253,
      "outputs": []
    },
    {
      "cell_type": "code",
      "source": [
        "prediccion.head()"
      ],
      "metadata": {
        "colab": {
          "base_uri": "https://localhost:8080/",
          "height": 206
        },
        "id": "_UqT1L57153N",
        "outputId": "9a912ef3-e6b8-42ef-fae3-12ac1fca5a17"
      },
      "execution_count": 254,
      "outputs": [
        {
          "output_type": "execute_result",
          "data": {
            "text/plain": [
              "                                     id  is_canceled\n",
              "0  e6d0d58a-ab96-44d3-b28f-85df1cc15f1e            1\n",
              "1  aba9aac2-4495-4645-a60e-90328713c999            1\n",
              "2  b345b5dc-c804-4d77-a39f-1f4e65d1f1ad            0\n",
              "3  ce1b400e-afa1-4946-bdff-004b859eb61c            1\n",
              "4  c4fbec0d-8e2e-4db2-9d4f-a6ccb9f51214            1"
            ],
            "text/html": [
              "\n",
              "  <div id=\"df-bc6a1cbf-842a-4c48-98ef-ae5a4955094c\" class=\"colab-df-container\">\n",
              "    <div>\n",
              "<style scoped>\n",
              "    .dataframe tbody tr th:only-of-type {\n",
              "        vertical-align: middle;\n",
              "    }\n",
              "\n",
              "    .dataframe tbody tr th {\n",
              "        vertical-align: top;\n",
              "    }\n",
              "\n",
              "    .dataframe thead th {\n",
              "        text-align: right;\n",
              "    }\n",
              "</style>\n",
              "<table border=\"1\" class=\"dataframe\">\n",
              "  <thead>\n",
              "    <tr style=\"text-align: right;\">\n",
              "      <th></th>\n",
              "      <th>id</th>\n",
              "      <th>is_canceled</th>\n",
              "    </tr>\n",
              "  </thead>\n",
              "  <tbody>\n",
              "    <tr>\n",
              "      <th>0</th>\n",
              "      <td>e6d0d58a-ab96-44d3-b28f-85df1cc15f1e</td>\n",
              "      <td>1</td>\n",
              "    </tr>\n",
              "    <tr>\n",
              "      <th>1</th>\n",
              "      <td>aba9aac2-4495-4645-a60e-90328713c999</td>\n",
              "      <td>1</td>\n",
              "    </tr>\n",
              "    <tr>\n",
              "      <th>2</th>\n",
              "      <td>b345b5dc-c804-4d77-a39f-1f4e65d1f1ad</td>\n",
              "      <td>0</td>\n",
              "    </tr>\n",
              "    <tr>\n",
              "      <th>3</th>\n",
              "      <td>ce1b400e-afa1-4946-bdff-004b859eb61c</td>\n",
              "      <td>1</td>\n",
              "    </tr>\n",
              "    <tr>\n",
              "      <th>4</th>\n",
              "      <td>c4fbec0d-8e2e-4db2-9d4f-a6ccb9f51214</td>\n",
              "      <td>1</td>\n",
              "    </tr>\n",
              "  </tbody>\n",
              "</table>\n",
              "</div>\n",
              "    <div class=\"colab-df-buttons\">\n",
              "\n",
              "  <div class=\"colab-df-container\">\n",
              "    <button class=\"colab-df-convert\" onclick=\"convertToInteractive('df-bc6a1cbf-842a-4c48-98ef-ae5a4955094c')\"\n",
              "            title=\"Convert this dataframe to an interactive table.\"\n",
              "            style=\"display:none;\">\n",
              "\n",
              "  <svg xmlns=\"http://www.w3.org/2000/svg\" height=\"24px\" viewBox=\"0 -960 960 960\">\n",
              "    <path d=\"M120-120v-720h720v720H120Zm60-500h600v-160H180v160Zm220 220h160v-160H400v160Zm0 220h160v-160H400v160ZM180-400h160v-160H180v160Zm440 0h160v-160H620v160ZM180-180h160v-160H180v160Zm440 0h160v-160H620v160Z\"/>\n",
              "  </svg>\n",
              "    </button>\n",
              "\n",
              "  <style>\n",
              "    .colab-df-container {\n",
              "      display:flex;\n",
              "      gap: 12px;\n",
              "    }\n",
              "\n",
              "    .colab-df-convert {\n",
              "      background-color: #E8F0FE;\n",
              "      border: none;\n",
              "      border-radius: 50%;\n",
              "      cursor: pointer;\n",
              "      display: none;\n",
              "      fill: #1967D2;\n",
              "      height: 32px;\n",
              "      padding: 0 0 0 0;\n",
              "      width: 32px;\n",
              "    }\n",
              "\n",
              "    .colab-df-convert:hover {\n",
              "      background-color: #E2EBFA;\n",
              "      box-shadow: 0px 1px 2px rgba(60, 64, 67, 0.3), 0px 1px 3px 1px rgba(60, 64, 67, 0.15);\n",
              "      fill: #174EA6;\n",
              "    }\n",
              "\n",
              "    .colab-df-buttons div {\n",
              "      margin-bottom: 4px;\n",
              "    }\n",
              "\n",
              "    [theme=dark] .colab-df-convert {\n",
              "      background-color: #3B4455;\n",
              "      fill: #D2E3FC;\n",
              "    }\n",
              "\n",
              "    [theme=dark] .colab-df-convert:hover {\n",
              "      background-color: #434B5C;\n",
              "      box-shadow: 0px 1px 3px 1px rgba(0, 0, 0, 0.15);\n",
              "      filter: drop-shadow(0px 1px 2px rgba(0, 0, 0, 0.3));\n",
              "      fill: #FFFFFF;\n",
              "    }\n",
              "  </style>\n",
              "\n",
              "    <script>\n",
              "      const buttonEl =\n",
              "        document.querySelector('#df-bc6a1cbf-842a-4c48-98ef-ae5a4955094c button.colab-df-convert');\n",
              "      buttonEl.style.display =\n",
              "        google.colab.kernel.accessAllowed ? 'block' : 'none';\n",
              "\n",
              "      async function convertToInteractive(key) {\n",
              "        const element = document.querySelector('#df-bc6a1cbf-842a-4c48-98ef-ae5a4955094c');\n",
              "        const dataTable =\n",
              "          await google.colab.kernel.invokeFunction('convertToInteractive',\n",
              "                                                    [key], {});\n",
              "        if (!dataTable) return;\n",
              "\n",
              "        const docLinkHtml = 'Like what you see? Visit the ' +\n",
              "          '<a target=\"_blank\" href=https://colab.research.google.com/notebooks/data_table.ipynb>data table notebook</a>'\n",
              "          + ' to learn more about interactive tables.';\n",
              "        element.innerHTML = '';\n",
              "        dataTable['output_type'] = 'display_data';\n",
              "        await google.colab.output.renderOutput(dataTable, element);\n",
              "        const docLink = document.createElement('div');\n",
              "        docLink.innerHTML = docLinkHtml;\n",
              "        element.appendChild(docLink);\n",
              "      }\n",
              "    </script>\n",
              "  </div>\n",
              "\n",
              "\n",
              "<div id=\"df-794d887e-18ae-4cf2-8f3f-612eb400b237\">\n",
              "  <button class=\"colab-df-quickchart\" onclick=\"quickchart('df-794d887e-18ae-4cf2-8f3f-612eb400b237')\"\n",
              "            title=\"Suggest charts.\"\n",
              "            style=\"display:none;\">\n",
              "\n",
              "<svg xmlns=\"http://www.w3.org/2000/svg\" height=\"24px\"viewBox=\"0 0 24 24\"\n",
              "     width=\"24px\">\n",
              "    <g>\n",
              "        <path d=\"M19 3H5c-1.1 0-2 .9-2 2v14c0 1.1.9 2 2 2h14c1.1 0 2-.9 2-2V5c0-1.1-.9-2-2-2zM9 17H7v-7h2v7zm4 0h-2V7h2v10zm4 0h-2v-4h2v4z\"/>\n",
              "    </g>\n",
              "</svg>\n",
              "  </button>\n",
              "\n",
              "<style>\n",
              "  .colab-df-quickchart {\n",
              "      --bg-color: #E8F0FE;\n",
              "      --fill-color: #1967D2;\n",
              "      --hover-bg-color: #E2EBFA;\n",
              "      --hover-fill-color: #174EA6;\n",
              "      --disabled-fill-color: #AAA;\n",
              "      --disabled-bg-color: #DDD;\n",
              "  }\n",
              "\n",
              "  [theme=dark] .colab-df-quickchart {\n",
              "      --bg-color: #3B4455;\n",
              "      --fill-color: #D2E3FC;\n",
              "      --hover-bg-color: #434B5C;\n",
              "      --hover-fill-color: #FFFFFF;\n",
              "      --disabled-bg-color: #3B4455;\n",
              "      --disabled-fill-color: #666;\n",
              "  }\n",
              "\n",
              "  .colab-df-quickchart {\n",
              "    background-color: var(--bg-color);\n",
              "    border: none;\n",
              "    border-radius: 50%;\n",
              "    cursor: pointer;\n",
              "    display: none;\n",
              "    fill: var(--fill-color);\n",
              "    height: 32px;\n",
              "    padding: 0;\n",
              "    width: 32px;\n",
              "  }\n",
              "\n",
              "  .colab-df-quickchart:hover {\n",
              "    background-color: var(--hover-bg-color);\n",
              "    box-shadow: 0 1px 2px rgba(60, 64, 67, 0.3), 0 1px 3px 1px rgba(60, 64, 67, 0.15);\n",
              "    fill: var(--button-hover-fill-color);\n",
              "  }\n",
              "\n",
              "  .colab-df-quickchart-complete:disabled,\n",
              "  .colab-df-quickchart-complete:disabled:hover {\n",
              "    background-color: var(--disabled-bg-color);\n",
              "    fill: var(--disabled-fill-color);\n",
              "    box-shadow: none;\n",
              "  }\n",
              "\n",
              "  .colab-df-spinner {\n",
              "    border: 2px solid var(--fill-color);\n",
              "    border-color: transparent;\n",
              "    border-bottom-color: var(--fill-color);\n",
              "    animation:\n",
              "      spin 1s steps(1) infinite;\n",
              "  }\n",
              "\n",
              "  @keyframes spin {\n",
              "    0% {\n",
              "      border-color: transparent;\n",
              "      border-bottom-color: var(--fill-color);\n",
              "      border-left-color: var(--fill-color);\n",
              "    }\n",
              "    20% {\n",
              "      border-color: transparent;\n",
              "      border-left-color: var(--fill-color);\n",
              "      border-top-color: var(--fill-color);\n",
              "    }\n",
              "    30% {\n",
              "      border-color: transparent;\n",
              "      border-left-color: var(--fill-color);\n",
              "      border-top-color: var(--fill-color);\n",
              "      border-right-color: var(--fill-color);\n",
              "    }\n",
              "    40% {\n",
              "      border-color: transparent;\n",
              "      border-right-color: var(--fill-color);\n",
              "      border-top-color: var(--fill-color);\n",
              "    }\n",
              "    60% {\n",
              "      border-color: transparent;\n",
              "      border-right-color: var(--fill-color);\n",
              "    }\n",
              "    80% {\n",
              "      border-color: transparent;\n",
              "      border-right-color: var(--fill-color);\n",
              "      border-bottom-color: var(--fill-color);\n",
              "    }\n",
              "    90% {\n",
              "      border-color: transparent;\n",
              "      border-bottom-color: var(--fill-color);\n",
              "    }\n",
              "  }\n",
              "</style>\n",
              "\n",
              "  <script>\n",
              "    async function quickchart(key) {\n",
              "      const quickchartButtonEl =\n",
              "        document.querySelector('#' + key + ' button');\n",
              "      quickchartButtonEl.disabled = true;  // To prevent multiple clicks.\n",
              "      quickchartButtonEl.classList.add('colab-df-spinner');\n",
              "      try {\n",
              "        const charts = await google.colab.kernel.invokeFunction(\n",
              "            'suggestCharts', [key], {});\n",
              "      } catch (error) {\n",
              "        console.error('Error during call to suggestCharts:', error);\n",
              "      }\n",
              "      quickchartButtonEl.classList.remove('colab-df-spinner');\n",
              "      quickchartButtonEl.classList.add('colab-df-quickchart-complete');\n",
              "    }\n",
              "    (() => {\n",
              "      let quickchartButtonEl =\n",
              "        document.querySelector('#df-794d887e-18ae-4cf2-8f3f-612eb400b237 button');\n",
              "      quickchartButtonEl.style.display =\n",
              "        google.colab.kernel.accessAllowed ? 'block' : 'none';\n",
              "    })();\n",
              "  </script>\n",
              "</div>\n",
              "    </div>\n",
              "  </div>\n"
            ]
          },
          "metadata": {},
          "execution_count": 254
        }
      ]
    },
    {
      "cell_type": "code",
      "source": [
        "prediccion.to_csv('/content/sample_data/prediccion_random.csv', index = False)"
      ],
      "metadata": {
        "id": "TFSrRyK51_5I"
      },
      "execution_count": 255,
      "outputs": []
    },
    {
      "cell_type": "markdown",
      "source": [
        "# GridSearchCV"
      ],
      "metadata": {
        "id": "todjkto9hslB"
      }
    },
    {
      "cell_type": "markdown",
      "source": [
        "Queremos hacer otra prueba con GridSearchCV"
      ],
      "metadata": {
        "id": "BSC3YgKCn_tV"
      }
    },
    {
      "cell_type": "code",
      "source": [
        "from sklearn.model_selection import GridSearchCV"
      ],
      "metadata": {
        "id": "nbGJhfRZhslB"
      },
      "execution_count": 256,
      "outputs": []
    },
    {
      "cell_type": "markdown",
      "source": [
        "Buscamos con cuantos folds da el mejor score"
      ],
      "metadata": {
        "id": "7dEeqpjcuROF"
      }
    },
    {
      "cell_type": "code",
      "source": [
        "X_train_grid, X_test_grid, y_train_grid, y_test_grid = train_test_split(a, b, test_size=0.2, random_state=42)\n",
        "\n",
        "n=10\n",
        "score_grid = pd.DataFrame()\n",
        "\n",
        "for k in range(2,10):\n",
        "  param_grid = {\n",
        "    'criterion': ['gini', 'entropy'],           # Criterio de división del árbol (Gini o entropía)\n",
        "    'splitter': ['best', 'random'],             # Estrategia de división de nodos (mejor o aleatorio)\n",
        "    'max_depth': [None, 10, 20, 30, 40, 50],    # Profundidad máxima del árbol (None para ilimitada)\n",
        "    'min_samples_split': [2, 5, 10],            # Mínimo de muestras requeridas para dividir un nodo\n",
        "    'min_samples_leaf': [1, 2, 4],              # Mínimo de muestras requeridas en una hoja del árbol\n",
        "    'max_features': ['auto', 'sqrt', 'log2']    # Número máximo de características a considerar en cada división\n",
        "  }\n",
        "\n",
        "  folds=k\n",
        "\n",
        "  kfoldcv = StratifiedKFold(n_splits=folds)\n",
        "\n",
        "  base_tree = DecisionTreeClassifier(random_state=42)\n",
        "\n",
        "  scorer_fn = make_scorer(f1_score)\n",
        "\n",
        "  gridcv = GridSearchCV(estimator=base_tree ,param_grid=params_grid,scoring=scorer_fn,cv=kfoldcv,return_train_score='True', n_jobs=-1)\n",
        "\n",
        "  gridcv.fit(X_train_grid, y_train_grid);\n",
        "  new_row = {'folds': k, \"score\": gridcv.best_score_, \"best_params\": gridcv.best_params_}\n",
        "  score_grid = score_grid.append(new_row, ignore_index=True)\n",
        "\n"
      ],
      "metadata": {
        "colab": {
          "base_uri": "https://localhost:8080/"
        },
        "id": "GVQUi9EYPiJi",
        "outputId": "317b3480-f048-4283-d577-d5c732c49640"
      },
      "execution_count": 257,
      "outputs": [
        {
          "output_type": "stream",
          "name": "stderr",
          "text": [
            "<ipython-input-257-422e5d6d1276>:28: FutureWarning: The frame.append method is deprecated and will be removed from pandas in a future version. Use pandas.concat instead.\n",
            "  score_grid = score_grid.append(new_row, ignore_index=True)\n",
            "<ipython-input-257-422e5d6d1276>:28: FutureWarning: The frame.append method is deprecated and will be removed from pandas in a future version. Use pandas.concat instead.\n",
            "  score_grid = score_grid.append(new_row, ignore_index=True)\n",
            "<ipython-input-257-422e5d6d1276>:28: FutureWarning: The frame.append method is deprecated and will be removed from pandas in a future version. Use pandas.concat instead.\n",
            "  score_grid = score_grid.append(new_row, ignore_index=True)\n",
            "<ipython-input-257-422e5d6d1276>:28: FutureWarning: The frame.append method is deprecated and will be removed from pandas in a future version. Use pandas.concat instead.\n",
            "  score_grid = score_grid.append(new_row, ignore_index=True)\n",
            "<ipython-input-257-422e5d6d1276>:28: FutureWarning: The frame.append method is deprecated and will be removed from pandas in a future version. Use pandas.concat instead.\n",
            "  score_grid = score_grid.append(new_row, ignore_index=True)\n",
            "<ipython-input-257-422e5d6d1276>:28: FutureWarning: The frame.append method is deprecated and will be removed from pandas in a future version. Use pandas.concat instead.\n",
            "  score_grid = score_grid.append(new_row, ignore_index=True)\n",
            "<ipython-input-257-422e5d6d1276>:28: FutureWarning: The frame.append method is deprecated and will be removed from pandas in a future version. Use pandas.concat instead.\n",
            "  score_grid = score_grid.append(new_row, ignore_index=True)\n",
            "<ipython-input-257-422e5d6d1276>:28: FutureWarning: The frame.append method is deprecated and will be removed from pandas in a future version. Use pandas.concat instead.\n",
            "  score_grid = score_grid.append(new_row, ignore_index=True)\n"
          ]
        }
      ]
    },
    {
      "cell_type": "code",
      "source": [
        "score_grid.head(10)"
      ],
      "metadata": {
        "colab": {
          "base_uri": "https://localhost:8080/",
          "height": 300
        },
        "id": "K7mphua4Wii4",
        "outputId": "e9f42403-0bf2-4e54-b769-4721014c1b40"
      },
      "execution_count": 258,
      "outputs": [
        {
          "output_type": "execute_result",
          "data": {
            "text/plain": [
              "   folds     score                                        best_params\n",
              "0      2  0.787598  {'ccp_alpha': 0.0, 'criterion': 'entropy', 'ma...\n",
              "1      3  0.788311  {'ccp_alpha': 0.0, 'criterion': 'entropy', 'ma...\n",
              "2      4  0.787122  {'ccp_alpha': 0.0, 'criterion': 'gini', 'max_d...\n",
              "3      5  0.787115  {'ccp_alpha': 0.0, 'criterion': 'entropy', 'ma...\n",
              "4      6  0.787902  {'ccp_alpha': 0.0, 'criterion': 'entropy', 'ma...\n",
              "5      7  0.788154  {'ccp_alpha': 0.0, 'criterion': 'entropy', 'ma...\n",
              "6      8  0.787734  {'ccp_alpha': 0.0, 'criterion': 'entropy', 'ma...\n",
              "7      9  0.787626  {'ccp_alpha': 0.0, 'criterion': 'entropy', 'ma..."
            ],
            "text/html": [
              "\n",
              "  <div id=\"df-5292c222-a8eb-4a41-adcf-3ff911daf9ba\" class=\"colab-df-container\">\n",
              "    <div>\n",
              "<style scoped>\n",
              "    .dataframe tbody tr th:only-of-type {\n",
              "        vertical-align: middle;\n",
              "    }\n",
              "\n",
              "    .dataframe tbody tr th {\n",
              "        vertical-align: top;\n",
              "    }\n",
              "\n",
              "    .dataframe thead th {\n",
              "        text-align: right;\n",
              "    }\n",
              "</style>\n",
              "<table border=\"1\" class=\"dataframe\">\n",
              "  <thead>\n",
              "    <tr style=\"text-align: right;\">\n",
              "      <th></th>\n",
              "      <th>folds</th>\n",
              "      <th>score</th>\n",
              "      <th>best_params</th>\n",
              "    </tr>\n",
              "  </thead>\n",
              "  <tbody>\n",
              "    <tr>\n",
              "      <th>0</th>\n",
              "      <td>2</td>\n",
              "      <td>0.787598</td>\n",
              "      <td>{'ccp_alpha': 0.0, 'criterion': 'entropy', 'ma...</td>\n",
              "    </tr>\n",
              "    <tr>\n",
              "      <th>1</th>\n",
              "      <td>3</td>\n",
              "      <td>0.788311</td>\n",
              "      <td>{'ccp_alpha': 0.0, 'criterion': 'entropy', 'ma...</td>\n",
              "    </tr>\n",
              "    <tr>\n",
              "      <th>2</th>\n",
              "      <td>4</td>\n",
              "      <td>0.787122</td>\n",
              "      <td>{'ccp_alpha': 0.0, 'criterion': 'gini', 'max_d...</td>\n",
              "    </tr>\n",
              "    <tr>\n",
              "      <th>3</th>\n",
              "      <td>5</td>\n",
              "      <td>0.787115</td>\n",
              "      <td>{'ccp_alpha': 0.0, 'criterion': 'entropy', 'ma...</td>\n",
              "    </tr>\n",
              "    <tr>\n",
              "      <th>4</th>\n",
              "      <td>6</td>\n",
              "      <td>0.787902</td>\n",
              "      <td>{'ccp_alpha': 0.0, 'criterion': 'entropy', 'ma...</td>\n",
              "    </tr>\n",
              "    <tr>\n",
              "      <th>5</th>\n",
              "      <td>7</td>\n",
              "      <td>0.788154</td>\n",
              "      <td>{'ccp_alpha': 0.0, 'criterion': 'entropy', 'ma...</td>\n",
              "    </tr>\n",
              "    <tr>\n",
              "      <th>6</th>\n",
              "      <td>8</td>\n",
              "      <td>0.787734</td>\n",
              "      <td>{'ccp_alpha': 0.0, 'criterion': 'entropy', 'ma...</td>\n",
              "    </tr>\n",
              "    <tr>\n",
              "      <th>7</th>\n",
              "      <td>9</td>\n",
              "      <td>0.787626</td>\n",
              "      <td>{'ccp_alpha': 0.0, 'criterion': 'entropy', 'ma...</td>\n",
              "    </tr>\n",
              "  </tbody>\n",
              "</table>\n",
              "</div>\n",
              "    <div class=\"colab-df-buttons\">\n",
              "\n",
              "  <div class=\"colab-df-container\">\n",
              "    <button class=\"colab-df-convert\" onclick=\"convertToInteractive('df-5292c222-a8eb-4a41-adcf-3ff911daf9ba')\"\n",
              "            title=\"Convert this dataframe to an interactive table.\"\n",
              "            style=\"display:none;\">\n",
              "\n",
              "  <svg xmlns=\"http://www.w3.org/2000/svg\" height=\"24px\" viewBox=\"0 -960 960 960\">\n",
              "    <path d=\"M120-120v-720h720v720H120Zm60-500h600v-160H180v160Zm220 220h160v-160H400v160Zm0 220h160v-160H400v160ZM180-400h160v-160H180v160Zm440 0h160v-160H620v160ZM180-180h160v-160H180v160Zm440 0h160v-160H620v160Z\"/>\n",
              "  </svg>\n",
              "    </button>\n",
              "\n",
              "  <style>\n",
              "    .colab-df-container {\n",
              "      display:flex;\n",
              "      gap: 12px;\n",
              "    }\n",
              "\n",
              "    .colab-df-convert {\n",
              "      background-color: #E8F0FE;\n",
              "      border: none;\n",
              "      border-radius: 50%;\n",
              "      cursor: pointer;\n",
              "      display: none;\n",
              "      fill: #1967D2;\n",
              "      height: 32px;\n",
              "      padding: 0 0 0 0;\n",
              "      width: 32px;\n",
              "    }\n",
              "\n",
              "    .colab-df-convert:hover {\n",
              "      background-color: #E2EBFA;\n",
              "      box-shadow: 0px 1px 2px rgba(60, 64, 67, 0.3), 0px 1px 3px 1px rgba(60, 64, 67, 0.15);\n",
              "      fill: #174EA6;\n",
              "    }\n",
              "\n",
              "    .colab-df-buttons div {\n",
              "      margin-bottom: 4px;\n",
              "    }\n",
              "\n",
              "    [theme=dark] .colab-df-convert {\n",
              "      background-color: #3B4455;\n",
              "      fill: #D2E3FC;\n",
              "    }\n",
              "\n",
              "    [theme=dark] .colab-df-convert:hover {\n",
              "      background-color: #434B5C;\n",
              "      box-shadow: 0px 1px 3px 1px rgba(0, 0, 0, 0.15);\n",
              "      filter: drop-shadow(0px 1px 2px rgba(0, 0, 0, 0.3));\n",
              "      fill: #FFFFFF;\n",
              "    }\n",
              "  </style>\n",
              "\n",
              "    <script>\n",
              "      const buttonEl =\n",
              "        document.querySelector('#df-5292c222-a8eb-4a41-adcf-3ff911daf9ba button.colab-df-convert');\n",
              "      buttonEl.style.display =\n",
              "        google.colab.kernel.accessAllowed ? 'block' : 'none';\n",
              "\n",
              "      async function convertToInteractive(key) {\n",
              "        const element = document.querySelector('#df-5292c222-a8eb-4a41-adcf-3ff911daf9ba');\n",
              "        const dataTable =\n",
              "          await google.colab.kernel.invokeFunction('convertToInteractive',\n",
              "                                                    [key], {});\n",
              "        if (!dataTable) return;\n",
              "\n",
              "        const docLinkHtml = 'Like what you see? Visit the ' +\n",
              "          '<a target=\"_blank\" href=https://colab.research.google.com/notebooks/data_table.ipynb>data table notebook</a>'\n",
              "          + ' to learn more about interactive tables.';\n",
              "        element.innerHTML = '';\n",
              "        dataTable['output_type'] = 'display_data';\n",
              "        await google.colab.output.renderOutput(dataTable, element);\n",
              "        const docLink = document.createElement('div');\n",
              "        docLink.innerHTML = docLinkHtml;\n",
              "        element.appendChild(docLink);\n",
              "      }\n",
              "    </script>\n",
              "  </div>\n",
              "\n",
              "\n",
              "<div id=\"df-2d9391fd-6079-44f5-9d2c-18643caf31e9\">\n",
              "  <button class=\"colab-df-quickchart\" onclick=\"quickchart('df-2d9391fd-6079-44f5-9d2c-18643caf31e9')\"\n",
              "            title=\"Suggest charts.\"\n",
              "            style=\"display:none;\">\n",
              "\n",
              "<svg xmlns=\"http://www.w3.org/2000/svg\" height=\"24px\"viewBox=\"0 0 24 24\"\n",
              "     width=\"24px\">\n",
              "    <g>\n",
              "        <path d=\"M19 3H5c-1.1 0-2 .9-2 2v14c0 1.1.9 2 2 2h14c1.1 0 2-.9 2-2V5c0-1.1-.9-2-2-2zM9 17H7v-7h2v7zm4 0h-2V7h2v10zm4 0h-2v-4h2v4z\"/>\n",
              "    </g>\n",
              "</svg>\n",
              "  </button>\n",
              "\n",
              "<style>\n",
              "  .colab-df-quickchart {\n",
              "      --bg-color: #E8F0FE;\n",
              "      --fill-color: #1967D2;\n",
              "      --hover-bg-color: #E2EBFA;\n",
              "      --hover-fill-color: #174EA6;\n",
              "      --disabled-fill-color: #AAA;\n",
              "      --disabled-bg-color: #DDD;\n",
              "  }\n",
              "\n",
              "  [theme=dark] .colab-df-quickchart {\n",
              "      --bg-color: #3B4455;\n",
              "      --fill-color: #D2E3FC;\n",
              "      --hover-bg-color: #434B5C;\n",
              "      --hover-fill-color: #FFFFFF;\n",
              "      --disabled-bg-color: #3B4455;\n",
              "      --disabled-fill-color: #666;\n",
              "  }\n",
              "\n",
              "  .colab-df-quickchart {\n",
              "    background-color: var(--bg-color);\n",
              "    border: none;\n",
              "    border-radius: 50%;\n",
              "    cursor: pointer;\n",
              "    display: none;\n",
              "    fill: var(--fill-color);\n",
              "    height: 32px;\n",
              "    padding: 0;\n",
              "    width: 32px;\n",
              "  }\n",
              "\n",
              "  .colab-df-quickchart:hover {\n",
              "    background-color: var(--hover-bg-color);\n",
              "    box-shadow: 0 1px 2px rgba(60, 64, 67, 0.3), 0 1px 3px 1px rgba(60, 64, 67, 0.15);\n",
              "    fill: var(--button-hover-fill-color);\n",
              "  }\n",
              "\n",
              "  .colab-df-quickchart-complete:disabled,\n",
              "  .colab-df-quickchart-complete:disabled:hover {\n",
              "    background-color: var(--disabled-bg-color);\n",
              "    fill: var(--disabled-fill-color);\n",
              "    box-shadow: none;\n",
              "  }\n",
              "\n",
              "  .colab-df-spinner {\n",
              "    border: 2px solid var(--fill-color);\n",
              "    border-color: transparent;\n",
              "    border-bottom-color: var(--fill-color);\n",
              "    animation:\n",
              "      spin 1s steps(1) infinite;\n",
              "  }\n",
              "\n",
              "  @keyframes spin {\n",
              "    0% {\n",
              "      border-color: transparent;\n",
              "      border-bottom-color: var(--fill-color);\n",
              "      border-left-color: var(--fill-color);\n",
              "    }\n",
              "    20% {\n",
              "      border-color: transparent;\n",
              "      border-left-color: var(--fill-color);\n",
              "      border-top-color: var(--fill-color);\n",
              "    }\n",
              "    30% {\n",
              "      border-color: transparent;\n",
              "      border-left-color: var(--fill-color);\n",
              "      border-top-color: var(--fill-color);\n",
              "      border-right-color: var(--fill-color);\n",
              "    }\n",
              "    40% {\n",
              "      border-color: transparent;\n",
              "      border-right-color: var(--fill-color);\n",
              "      border-top-color: var(--fill-color);\n",
              "    }\n",
              "    60% {\n",
              "      border-color: transparent;\n",
              "      border-right-color: var(--fill-color);\n",
              "    }\n",
              "    80% {\n",
              "      border-color: transparent;\n",
              "      border-right-color: var(--fill-color);\n",
              "      border-bottom-color: var(--fill-color);\n",
              "    }\n",
              "    90% {\n",
              "      border-color: transparent;\n",
              "      border-bottom-color: var(--fill-color);\n",
              "    }\n",
              "  }\n",
              "</style>\n",
              "\n",
              "  <script>\n",
              "    async function quickchart(key) {\n",
              "      const quickchartButtonEl =\n",
              "        document.querySelector('#' + key + ' button');\n",
              "      quickchartButtonEl.disabled = true;  // To prevent multiple clicks.\n",
              "      quickchartButtonEl.classList.add('colab-df-spinner');\n",
              "      try {\n",
              "        const charts = await google.colab.kernel.invokeFunction(\n",
              "            'suggestCharts', [key], {});\n",
              "      } catch (error) {\n",
              "        console.error('Error during call to suggestCharts:', error);\n",
              "      }\n",
              "      quickchartButtonEl.classList.remove('colab-df-spinner');\n",
              "      quickchartButtonEl.classList.add('colab-df-quickchart-complete');\n",
              "    }\n",
              "    (() => {\n",
              "      let quickchartButtonEl =\n",
              "        document.querySelector('#df-2d9391fd-6079-44f5-9d2c-18643caf31e9 button');\n",
              "      quickchartButtonEl.style.display =\n",
              "        google.colab.kernel.accessAllowed ? 'block' : 'none';\n",
              "    })();\n",
              "  </script>\n",
              "</div>\n",
              "    </div>\n",
              "  </div>\n"
            ]
          },
          "metadata": {},
          "execution_count": 258
        }
      ]
    },
    {
      "cell_type": "code",
      "source": [
        "tree_model = DecisionTreeClassifier(criterion=\"entropy\",\n",
        "                                         max_depth = 5,\n",
        "                                         ccp_alpha=0.0)\n",
        "\n",
        "model_grid_entropy = tree_model.fit(X_train_grid, y_train_grid)"
      ],
      "metadata": {
        "id": "iMFrf8t_XZZY"
      },
      "execution_count": 259,
      "outputs": []
    },
    {
      "cell_type": "code",
      "source": [
        "y_pred_grid = model_grid_entropy.predict(X_test_grid)\n",
        "\n",
        "# Evaluar el modelo en el conjunto de prueba\n",
        "accuracy = accuracy_score(y_test_grid, y_pred_grid)\n",
        "precision = precision_score(y_test_grid, y_pred_grid)\n",
        "recall = recall_score(y_test_grid, y_pred_grid)\n",
        "f1 = f1_score(y_test_grid, y_pred_grid)\n",
        "roc_auc = roc_auc_score(y_test_grid, y_pred_grid)\n",
        "\n",
        "print(\"Exactitud:\", accuracy)\n",
        "print(\"Precisión:\", precision)\n",
        "print(\"Recuperación:\", recall)\n",
        "print(\"F1-Score:\", f1)\n",
        "print(\"AUC-ROC:\", roc_auc)"
      ],
      "metadata": {
        "colab": {
          "base_uri": "https://localhost:8080/"
        },
        "outputId": "aa5b6e87-ea5d-40ea-9c07-30bd7bee8afe",
        "id": "4aWjXgI4P6lv"
      },
      "execution_count": 260,
      "outputs": [
        {
          "output_type": "stream",
          "name": "stdout",
          "text": [
            "Exactitud: 0.7507466507381176\n",
            "Precisión: 0.6812773951158422\n",
            "Recuperación: 0.9353507565337001\n",
            "F1-Score: 0.7883486703862039\n",
            "AUC-ROC: 0.7521070231931588\n"
          ]
        }
      ]
    },
    {
      "cell_type": "markdown",
      "source": [
        "Podemos ver todos los scores"
      ],
      "metadata": {
        "id": "kT94djt4oimF"
      }
    },
    {
      "cell_type": "code",
      "source": [
        "from sklearn.metrics import confusion_matrix\n",
        "tabla=confusion_matrix(y_test_grid, y_pred_grid)\n",
        "\n",
        "#Grafico la matriz de confusión\n",
        "sns.heatmap(tabla,cmap='GnBu',annot=True,fmt='g')\n",
        "plt.xlabel('Predicted')\n",
        "plt.ylabel('True')"
      ],
      "metadata": {
        "colab": {
          "base_uri": "https://localhost:8080/",
          "height": 466
        },
        "id": "TLxhCs32hslB",
        "outputId": "796c3b4b-1240-4ee6-b8fb-2af98b32270e"
      },
      "execution_count": 261,
      "outputs": [
        {
          "output_type": "execute_result",
          "data": {
            "text/plain": [
              "Text(50.722222222222214, 0.5, 'True')"
            ]
          },
          "metadata": {},
          "execution_count": 261
        },
        {
          "output_type": "display_data",
          "data": {
            "text/plain": [
              "<Figure size 640x480 with 2 Axes>"
            ],
            "image/png": "[encoded data removed]"
          },
          "metadata": {}
        }
      ]
    },
    {
      "cell_type": "markdown",
      "source": [
        "Con entropy predice correcto 8792 de 11718"
      ],
      "metadata": {
        "id": "6u_v451xo02P"
      }
    },
    {
      "cell_type": "markdown",
      "source": [
        "Probamos con Gini"
      ],
      "metadata": {
        "id": "JCbSE5Kjodpu"
      }
    },
    {
      "cell_type": "code",
      "source": [
        "tree_model = DecisionTreeClassifier(criterion=\"gini\",\n",
        "                                         max_depth = 5,\n",
        "                                         ccp_alpha=0.0)\n",
        "\n",
        "model_grid_gini = tree_model.fit(X_train_grid, y_train_grid)"
      ],
      "metadata": {
        "id": "nbzFwlcBoclg"
      },
      "execution_count": 262,
      "outputs": []
    },
    {
      "cell_type": "code",
      "source": [
        "y_pred_grid = model_grid_gini.predict(X_test_grid)\n",
        "\n",
        "# Evaluar el modelo en el conjunto de prueba\n",
        "accuracy = accuracy_score(y_test_grid, y_pred_grid)\n",
        "precision = precision_score(y_test_grid, y_pred_grid)\n",
        "recall = recall_score(y_test_grid, y_pred_grid)\n",
        "f1 = f1_score(y_test_grid, y_pred_grid)\n",
        "roc_auc = roc_auc_score(y_test_grid, y_pred_grid)\n",
        "\n",
        "print(\"Exactitud:\", accuracy)\n",
        "print(\"Precisión:\", precision)\n",
        "print(\"Recuperación:\", recall)\n",
        "print(\"F1-Score:\", f1)\n",
        "print(\"AUC-ROC:\", roc_auc)"
      ],
      "metadata": {
        "colab": {
          "base_uri": "https://localhost:8080/"
        },
        "outputId": "09995fba-9133-4bf0-9619-f20f20f696dd",
        "id": "sNrUmlWNoclg"
      },
      "execution_count": 263,
      "outputs": [
        {
          "output_type": "stream",
          "name": "stdout",
          "text": [
            "Exactitud: 0.791449782404642\n",
            "Precisión: 0.7957894736842105\n",
            "Recuperación: 0.7799174690508941\n",
            "F1-Score: 0.7877735324765544\n",
            "AUC-ROC: 0.791364799238305\n"
          ]
        }
      ]
    },
    {
      "cell_type": "code",
      "source": [
        "from sklearn.metrics import confusion_matrix\n",
        "tabla=confusion_matrix(y_test_grid, y_pred_grid)\n",
        "\n",
        "#Grafico la matriz de confusión\n",
        "sns.heatmap(tabla,cmap='GnBu',annot=True,fmt='g')\n",
        "plt.xlabel('Predicted')\n",
        "plt.ylabel('True')"
      ],
      "metadata": {
        "colab": {
          "base_uri": "https://localhost:8080/",
          "height": 466
        },
        "outputId": "8673a572-5d1a-4bc6-b598-73819e2c44d3",
        "id": "0tnZfoguoclg"
      },
      "execution_count": 264,
      "outputs": [
        {
          "output_type": "execute_result",
          "data": {
            "text/plain": [
              "Text(50.722222222222214, 0.5, 'True')"
            ]
          },
          "metadata": {},
          "execution_count": 264
        },
        {
          "output_type": "display_data",
          "data": {
            "text/plain": [
              "<Figure size 640x480 with 2 Axes>"
            ],
            "image/png": "[encoded data removed]"
          },
          "metadata": {}
        }
      ]
    },
    {
      "cell_type": "markdown",
      "source": [
        "Con gini predice correcto 9278 de 11718. Mejor que con entropy."
      ],
      "metadata": {
        "id": "yUZZlypFokM_"
      }
    },
    {
      "cell_type": "markdown",
      "source": [
        "Lo guardamos en un dataset para subir a kaggle."
      ],
      "metadata": {
        "id": "mG7UjXbRcu1n"
      }
    },
    {
      "cell_type": "code",
      "source": [
        "y_pred_grid = model_grid_gini.predict(test_sin_cuali)"
      ],
      "metadata": {
        "id": "115xHGFVRPih"
      },
      "execution_count": 266,
      "outputs": []
    },
    {
      "cell_type": "code",
      "source": [
        "prediccion = pd.DataFrame({\"id\": test['id'], \"is_canceled\": y_pred_grid})"
      ],
      "metadata": {
        "id": "rD5Bi7YsRPii"
      },
      "execution_count": 267,
      "outputs": []
    },
    {
      "cell_type": "code",
      "source": [
        "prediccion.to_csv('/content/sample_data/prediccion_grid.csv', index = False)"
      ],
      "metadata": {
        "id": "3QMBFZJXRPii"
      },
      "execution_count": 268,
      "outputs": []
    },
    {
      "cell_type": "markdown",
      "source": [
        "# Probamos ahora haciendo una normalizacion y balanceo en el dataset"
      ],
      "metadata": {
        "id": "u1xGZ9zYM3Ya"
      }
    },
    {
      "cell_type": "code",
      "source": [
        "from sklearn.preprocessing import MinMaxScaler\n",
        "from sklearn.utils import resample"
      ],
      "metadata": {
        "id": "ZIxGRVu2OqGF"
      },
      "execution_count": 269,
      "outputs": []
    },
    {
      "cell_type": "code",
      "source": [
        "a = reservas_sin_cuali.drop(['is_canceled'], axis=1)\n",
        "b = reservas_sin_cuali['is_canceled']"
      ],
      "metadata": {
        "id": "LS2iWnNcQ_OV"
      },
      "execution_count": 270,
      "outputs": []
    },
    {
      "cell_type": "code",
      "source": [
        "b.value_counts()"
      ],
      "metadata": {
        "colab": {
          "base_uri": "https://localhost:8080/"
        },
        "id": "UVQqHsL1unO6",
        "outputId": "7b0d5827-ee73-4af8-a9b2-9911d939fce9"
      },
      "execution_count": 271,
      "outputs": [
        {
          "output_type": "execute_result",
          "data": {
            "text/plain": [
              "0    29487\n",
              "1    29106\n",
              "Name: is_canceled, dtype: int64"
            ]
          },
          "metadata": {},
          "execution_count": 271
        }
      ]
    },
    {
      "cell_type": "markdown",
      "source": [
        "Vemos que hay una proporcion cercana al 50% de cada una, por lo que en este caso el balanceo puede cambiar muy poco el resultado del score."
      ],
      "metadata": {
        "id": "tvOGW1nju8r9"
      }
    },
    {
      "cell_type": "code",
      "source": [
        "# Normalización Min-Max en los datos de entrenamiento\n",
        "scaler = MinMaxScaler()\n",
        "X_train_normalized = scaler.fit_transform(a)"
      ],
      "metadata": {
        "id": "zN3Kdxy2NqBl"
      },
      "execution_count": 272,
      "outputs": []
    },
    {
      "cell_type": "code",
      "source": [
        "# Balanceo de clases\n",
        "class_0 = X_train_normalized[b == 0]\n",
        "class_1 = X_train_normalized[b == 1]"
      ],
      "metadata": {
        "id": "uNkhTLdiuRty"
      },
      "execution_count": 273,
      "outputs": []
    },
    {
      "cell_type": "code",
      "source": [
        "# Balanceo de clases (sobremuestreo de la clase minoritaria)\n",
        "\n",
        "# Selecciona los ejemplos de la clase mayoritaria (clase \"0\")\n",
        "class_0 = X_train_normalized[b == 0]\n",
        "\n",
        "# Selecciona los ejemplos de la clase minoritaria (clase \"1\")\n",
        "class_1 = X_train_normalized[b == 1]\n",
        "\n",
        "# Realiza sobremuestreo de la clase minoritaria (clase \"1\")\n",
        "# - replace=True: Permite muestrear con reemplazo\n",
        "# - n_samples=len(class_0): Genera tantas muestras de la clase \"1\" como ejemplos de la clase \"0\"\n",
        "class_0_oversampled = resample(class_1, replace=True, n_samples=len(class_0), random_state=42)\n",
        "\n",
        "# Combina los datos equilibrados en X_train_balanced y y_train_balanced\n",
        "# - np.vstack: Apila verticalmente los arrays\n",
        "# - np.hstack: Concatena horizontalmente los arrays\n",
        "X_train_balanced = np.vstack((class_0, class_0_oversampled))\n",
        "y_train_balanced = np.hstack((b[b == 0], np.ones(len(class_0))))"
      ],
      "metadata": {
        "id": "O6rJx00aNuJl"
      },
      "execution_count": 274,
      "outputs": []
    },
    {
      "cell_type": "code",
      "source": [
        "X_train_grid, X_test_grid, y_train_grid, y_test_grid = train_test_split(X_train_balanced, y_train_balanced, test_size=0.2, random_state=42)\n",
        "\n",
        "param_grid = {\n",
        "    'criterion': ['gini', 'entropy'],\n",
        "    'max_depth': [None, 10, 20, 30],\n",
        "    'min_samples_split': [2, 5, 10],\n",
        "    'min_samples_leaf': [1, 2, 4]\n",
        "}\n",
        "\n",
        "base_tree = DecisionTreeClassifier(random_state=42)\n",
        "\n",
        "grid_search_2 = GridSearchCV(base_tree, param_grid, cv=5, scoring='accuracy', n_jobs=-1)\n",
        "\n",
        "\n",
        "grid_search_2.fit(X_train_grid, y_train_grid)\n"
      ],
      "metadata": {
        "colab": {
          "base_uri": "https://localhost:8080/",
          "height": 0
        },
        "id": "8wUR7G-NN3Vs",
        "outputId": "170ff32a-381c-4aac-b9ef-167116d2415a"
      },
      "execution_count": 275,
      "outputs": [
        {
          "output_type": "execute_result",
          "data": {
            "text/plain": [
              "GridSearchCV(cv=5, estimator=DecisionTreeClassifier(random_state=42), n_jobs=-1,\n",
              "             param_grid={'criterion': ['gini', 'entropy'],\n",
              "                         'max_depth': [None, 10, 20, 30],\n",
              "                         'min_samples_leaf': [1, 2, 4],\n",
              "                         'min_samples_split': [2, 5, 10]},\n",
              "             scoring='accuracy')"
            ],
            "text/html": [
              "<style>#sk-container-id-1 {color: black;background-color: white;}#sk-container-id-1 pre{padding: 0;}#sk-container-id-1 div.sk-toggleable {background-color: white;}#sk-container-id-1 label.sk-toggleable__label {cursor: pointer;display: block;width: 100%;margin-bottom: 0;padding: 0.3em;box-sizing: border-box;text-align: center;}#sk-container-id-1 label.sk-toggleable__label-arrow:before {content: \"▸\";float: left;margin-right: 0.25em;color: #696969;}#sk-container-id-1 label.sk-toggleable__label-arrow:hover:before {color: black;}#sk-container-id-1 div.sk-estimator:hover label.sk-toggleable__label-arrow:before {color: black;}#sk-container-id-1 div.sk-toggleable__content {max-height: 0;max-width: 0;overflow: hidden;text-align: left;background-color: #f0f8ff;}#sk-container-id-1 div.sk-toggleable__content pre {margin: 0.2em;color: black;border-radius: 0.25em;background-color: #f0f8ff;}#sk-container-id-1 input.sk-toggleable__control:checked~div.sk-toggleable__content {max-height: 200px;max-width: 100%;overflow: auto;}#sk-container-id-1 input.sk-toggleable__control:checked~label.sk-toggleable__label-arrow:before {content: \"▾\";}#sk-container-id-1 div.sk-estimator input.sk-toggleable__control:checked~label.sk-toggleable__label {background-color: #d4ebff;}#sk-container-id-1 div.sk-label input.sk-toggleable__control:checked~label.sk-toggleable__label {background-color: #d4ebff;}#sk-container-id-1 input.sk-hidden--visually {border: 0;clip: rect(1px 1px 1px 1px);clip: rect(1px, 1px, 1px, 1px);height: 1px;margin: -1px;overflow: hidden;padding: 0;position: absolute;width: 1px;}#sk-container-id-1 div.sk-estimator {font-family: monospace;background-color: #f0f8ff;border: 1px dotted black;border-radius: 0.25em;box-sizing: border-box;margin-bottom: 0.5em;}#sk-container-id-1 div.sk-estimator:hover {background-color: #d4ebff;}#sk-container-id-1 div.sk-parallel-item::after {content: \"\";width: 100%;border-bottom: 1px solid gray;flex-grow: 1;}#sk-container-id-1 div.sk-label:hover label.sk-toggleable__label {background-color: #d4ebff;}#sk-container-id-1 div.sk-serial::before {content: \"\";position: absolute;border-left: 1px solid gray;box-sizing: border-box;top: 0;bottom: 0;left: 50%;z-index: 0;}#sk-container-id-1 div.sk-serial {display: flex;flex-direction: column;align-items: center;background-color: white;padding-right: 0.2em;padding-left: 0.2em;position: relative;}#sk-container-id-1 div.sk-item {position: relative;z-index: 1;}#sk-container-id-1 div.sk-parallel {display: flex;align-items: stretch;justify-content: center;background-color: white;position: relative;}#sk-container-id-1 div.sk-item::before, #sk-container-id-1 div.sk-parallel-item::before {content: \"\";position: absolute;border-left: 1px solid gray;box-sizing: border-box;top: 0;bottom: 0;left: 50%;z-index: -1;}#sk-container-id-1 div.sk-parallel-item {display: flex;flex-direction: column;z-index: 1;position: relative;background-color: white;}#sk-container-id-1 div.sk-parallel-item:first-child::after {align-self: flex-end;width: 50%;}#sk-container-id-1 div.sk-parallel-item:last-child::after {align-self: flex-start;width: 50%;}#sk-container-id-1 div.sk-parallel-item:only-child::after {width: 0;}#sk-container-id-1 div.sk-dashed-wrapped {border: 1px dashed gray;margin: 0 0.4em 0.5em 0.4em;box-sizing: border-box;padding-bottom: 0.4em;background-color: white;}#sk-container-id-1 div.sk-label label {font-family: monospace;font-weight: bold;display: inline-block;line-height: 1.2em;}#sk-container-id-1 div.sk-label-container {text-align: center;}#sk-container-id-1 div.sk-container {/* jupyter's `normalize.less` sets `[hidden] { display: none; }` but bootstrap.min.css set `[hidden] { display: none !important; }` so we also need the `!important` here to be able to override the default hidden behavior on the sphinx rendered scikit-learn.org. See: https://github.com/scikit-learn/scikit-learn/issues/21755 */display: inline-block !important;position: relative;}#sk-container-id-1 div.sk-text-repr-fallback {display: none;}</style><div id=\"sk-container-id-1\" class=\"sk-top-container\"><div class=\"sk-text-repr-fallback\"><pre>GridSearchCV(cv=5, estimator=DecisionTreeClassifier(random_state=42), n_jobs=-1,\n",
              "             param_grid={&#x27;criterion&#x27;: [&#x27;gini&#x27;, &#x27;entropy&#x27;],\n",
              "                         &#x27;max_depth&#x27;: [None, 10, 20, 30],\n",
              "                         &#x27;min_samples_leaf&#x27;: [1, 2, 4],\n",
              "                         &#x27;min_samples_split&#x27;: [2, 5, 10]},\n",
              "             scoring=&#x27;accuracy&#x27;)</pre><b>In a Jupyter environment, please rerun this cell to show the HTML representation or trust the notebook. <br />On GitHub, the HTML representation is unable to render, please try loading this page with nbviewer.org.</b></div><div class=\"sk-container\" hidden><div class=\"sk-item sk-dashed-wrapped\"><div class=\"sk-label-container\"><div class=\"sk-label sk-toggleable\"><input class=\"sk-toggleable__control sk-hidden--visually\" id=\"sk-estimator-id-1\" type=\"checkbox\" ><label for=\"sk-estimator-id-1\" class=\"sk-toggleable__label sk-toggleable__label-arrow\">GridSearchCV</label><div class=\"sk-toggleable__content\"><pre>GridSearchCV(cv=5, estimator=DecisionTreeClassifier(random_state=42), n_jobs=-1,\n",
              "             param_grid={&#x27;criterion&#x27;: [&#x27;gini&#x27;, &#x27;entropy&#x27;],\n",
              "                         &#x27;max_depth&#x27;: [None, 10, 20, 30],\n",
              "                         &#x27;min_samples_leaf&#x27;: [1, 2, 4],\n",
              "                         &#x27;min_samples_split&#x27;: [2, 5, 10]},\n",
              "             scoring=&#x27;accuracy&#x27;)</pre></div></div></div><div class=\"sk-parallel\"><div class=\"sk-parallel-item\"><div class=\"sk-item\"><div class=\"sk-label-container\"><div class=\"sk-label sk-toggleable\"><input class=\"sk-toggleable__control sk-hidden--visually\" id=\"sk-estimator-id-2\" type=\"checkbox\" ><label for=\"sk-estimator-id-2\" class=\"sk-toggleable__label sk-toggleable__label-arrow\">estimator: DecisionTreeClassifier</label><div class=\"sk-toggleable__content\"><pre>DecisionTreeClassifier(random_state=42)</pre></div></div></div><div class=\"sk-serial\"><div class=\"sk-item\"><div class=\"sk-estimator sk-toggleable\"><input class=\"sk-toggleable__control sk-hidden--visually\" id=\"sk-estimator-id-3\" type=\"checkbox\" ><label for=\"sk-estimator-id-3\" class=\"sk-toggleable__label sk-toggleable__label-arrow\">DecisionTreeClassifier</label><div class=\"sk-toggleable__content\"><pre>DecisionTreeClassifier(random_state=42)</pre></div></div></div></div></div></div></div></div></div></div>"
            ]
          },
          "metadata": {},
          "execution_count": 275
        }
      ]
    },
    {
      "cell_type": "code",
      "source": [
        "print(\"Mejores hiperparámetros encontrados:\", grid_search_2.best_params_)"
      ],
      "metadata": {
        "colab": {
          "base_uri": "https://localhost:8080/"
        },
        "id": "RPjAzLnwOSuh",
        "outputId": "3d286046-b9fc-47e9-adf6-4a05a389ef04"
      },
      "execution_count": 276,
      "outputs": [
        {
          "output_type": "stream",
          "name": "stdout",
          "text": [
            "Mejores hiperparámetros encontrados: {'criterion': 'entropy', 'max_depth': None, 'min_samples_leaf': 1, 'min_samples_split': 2}\n"
          ]
        }
      ]
    },
    {
      "cell_type": "code",
      "source": [
        "tree_model = DecisionTreeClassifier(criterion=\"entropy\",\n",
        "                                         max_depth = None,\n",
        "                                         min_samples_leaf =  1,\n",
        "                                         min_samples_split = 2)\n",
        "\n",
        "model_grid_2 = tree_model.fit(X_train_grid, y_train_grid)"
      ],
      "metadata": {
        "id": "SHw22du6cCY-"
      },
      "execution_count": 277,
      "outputs": []
    },
    {
      "cell_type": "code",
      "source": [
        "y_pred_grid_2 = model_grid_2.predict(X_test_grid)\n",
        "\n",
        "accuracy = accuracy_score(y_test_grid, y_pred_grid_2)\n",
        "precision = precision_score(y_test_grid, y_pred_grid_2)\n",
        "recall = recall_score(y_test_grid, y_pred_grid_2)\n",
        "f1 = f1_score(y_test_grid, y_pred_grid_2)\n",
        "roc_auc = roc_auc_score(y_test_grid, y_pred_grid_2)\n",
        "\n",
        "print(\"Exactitud:\", accuracy)\n",
        "print(\"Precisión:\", precision)\n",
        "print(\"Recuperación:\", recall)\n",
        "print(\"F1-Score:\", f1)\n",
        "print(\"AUC-ROC:\", roc_auc)"
      ],
      "metadata": {
        "colab": {
          "base_uri": "https://localhost:8080/"
        },
        "id": "I-_IfAFVcTfT",
        "outputId": "d1a4e540-5575-4463-cc66-8e0687d4abd9"
      },
      "execution_count": 278,
      "outputs": [
        {
          "output_type": "stream",
          "name": "stdout",
          "text": [
            "Exactitud: 0.8845273420941077\n",
            "Precisión: 0.86229714825902\n",
            "Recuperación: 0.918134541184365\n",
            "F1-Score: 0.8893402664933376\n",
            "AUC-ROC: 0.8841615455321894\n"
          ]
        }
      ]
    },
    {
      "cell_type": "code",
      "source": [
        "from sklearn.metrics import confusion_matrix\n",
        "tabla=confusion_matrix(y_test_grid, y_pred_grid_2)\n",
        "\n",
        "#Grafico la matriz de confusión\n",
        "sns.heatmap(tabla,cmap='GnBu',annot=True,fmt='g')\n",
        "plt.xlabel('Predicted')\n",
        "plt.ylabel('True')"
      ],
      "metadata": {
        "colab": {
          "base_uri": "https://localhost:8080/",
          "height": 0
        },
        "outputId": "90bdf329-aca3-4e09-aefa-482677bb35b2",
        "id": "jWL6ZViONxE1"
      },
      "execution_count": 279,
      "outputs": [
        {
          "output_type": "execute_result",
          "data": {
            "text/plain": [
              "Text(50.722222222222214, 0.5, 'True')"
            ]
          },
          "metadata": {},
          "execution_count": 279
        },
        {
          "output_type": "display_data",
          "data": {
            "text/plain": [
              "<Figure size 640x480 with 2 Axes>"
            ],
            "image/png": "[encoded data removed]"
          },
          "metadata": {}
        }
      ]
    },
    {
      "cell_type": "markdown",
      "source": [
        "Podemos ver que aumentaron significativamente los scores comparando a los anteriores sin normalizacion y balanceo."
      ],
      "metadata": {
        "id": "MdgWI8JbL8D8"
      }
    },
    {
      "cell_type": "markdown",
      "source": [
        "busquemos con cuantos folds nos da el mejor score, usando los hiperparametros encontrados anteriormente."
      ],
      "metadata": {
        "id": "xM9vhivSz6Ka"
      }
    },
    {
      "cell_type": "code",
      "source": [
        "X_train_grid, X_test_grid, y_train_grid, y_test_grid = train_test_split(X_train_balanced, y_train_balanced, test_size=0.2, random_state=42)\n",
        "\n",
        "score_grid = pd.DataFrame()\n",
        "for k in range(2, 10):\n",
        "\n",
        "  param_grid = {\n",
        "    'criterion': ['entropy'],\n",
        "    'max_depth': [None],\n",
        "    'min_samples_split': [2],\n",
        "    'min_samples_leaf': [1]\n",
        "  }\n",
        "\n",
        "  base_tree = DecisionTreeClassifier(random_state=42)\n",
        "\n",
        "  grid_search = GridSearchCV(base_tree, param_grid, cv=k, scoring='accuracy', n_jobs=-1)\n",
        "\n",
        "\n",
        "  grid_search.fit(X_train_grid, y_train_grid)\n",
        "\n",
        "  new_row = {'fold': k, \"score\": grid_search.best_score_}\n",
        "  score_grid = score_grid.append(new_row, ignore_index=True)"
      ],
      "metadata": {
        "colab": {
          "base_uri": "https://localhost:8080/"
        },
        "id": "Xxw16CbEzsTK",
        "outputId": "5ec1ecb2-4103-4c7c-8935-738556e8efec"
      },
      "execution_count": 280,
      "outputs": [
        {
          "output_type": "stream",
          "name": "stderr",
          "text": [
            "<ipython-input-280-7e62299a4321>:21: FutureWarning: The frame.append method is deprecated and will be removed from pandas in a future version. Use pandas.concat instead.\n",
            "  score_grid = score_grid.append(new_row, ignore_index=True)\n",
            "<ipython-input-280-7e62299a4321>:21: FutureWarning: The frame.append method is deprecated and will be removed from pandas in a future version. Use pandas.concat instead.\n",
            "  score_grid = score_grid.append(new_row, ignore_index=True)\n",
            "<ipython-input-280-7e62299a4321>:21: FutureWarning: The frame.append method is deprecated and will be removed from pandas in a future version. Use pandas.concat instead.\n",
            "  score_grid = score_grid.append(new_row, ignore_index=True)\n",
            "<ipython-input-280-7e62299a4321>:21: FutureWarning: The frame.append method is deprecated and will be removed from pandas in a future version. Use pandas.concat instead.\n",
            "  score_grid = score_grid.append(new_row, ignore_index=True)\n",
            "<ipython-input-280-7e62299a4321>:21: FutureWarning: The frame.append method is deprecated and will be removed from pandas in a future version. Use pandas.concat instead.\n",
            "  score_grid = score_grid.append(new_row, ignore_index=True)\n",
            "<ipython-input-280-7e62299a4321>:21: FutureWarning: The frame.append method is deprecated and will be removed from pandas in a future version. Use pandas.concat instead.\n",
            "  score_grid = score_grid.append(new_row, ignore_index=True)\n",
            "<ipython-input-280-7e62299a4321>:21: FutureWarning: The frame.append method is deprecated and will be removed from pandas in a future version. Use pandas.concat instead.\n",
            "  score_grid = score_grid.append(new_row, ignore_index=True)\n",
            "<ipython-input-280-7e62299a4321>:21: FutureWarning: The frame.append method is deprecated and will be removed from pandas in a future version. Use pandas.concat instead.\n",
            "  score_grid = score_grid.append(new_row, ignore_index=True)\n"
          ]
        }
      ]
    },
    {
      "cell_type": "code",
      "source": [
        "score_grid.head(15)"
      ],
      "metadata": {
        "colab": {
          "base_uri": "https://localhost:8080/",
          "height": 0
        },
        "outputId": "3ac56ae6-602a-4f05-a3d8-5cd5a83ecdd3",
        "id": "us7F1K780zrI"
      },
      "execution_count": 281,
      "outputs": [
        {
          "output_type": "execute_result",
          "data": {
            "text/plain": [
              "   fold     score\n",
              "0   2.0  0.853028\n",
              "1   3.0  0.862608\n",
              "2   4.0  0.865449\n",
              "3   5.0  0.869243\n",
              "4   6.0  0.870260\n",
              "5   7.0  0.872507\n",
              "6   8.0  0.871765\n",
              "7   9.0  0.872910"
            ],
            "text/html": [
              "\n",
              "  <div id=\"df-3224cb2e-f7d6-4ed4-b0e1-6e40b772363c\" class=\"colab-df-container\">\n",
              "    <div>\n",
              "<style scoped>\n",
              "    .dataframe tbody tr th:only-of-type {\n",
              "        vertical-align: middle;\n",
              "    }\n",
              "\n",
              "    .dataframe tbody tr th {\n",
              "        vertical-align: top;\n",
              "    }\n",
              "\n",
              "    .dataframe thead th {\n",
              "        text-align: right;\n",
              "    }\n",
              "</style>\n",
              "<table border=\"1\" class=\"dataframe\">\n",
              "  <thead>\n",
              "    <tr style=\"text-align: right;\">\n",
              "      <th></th>\n",
              "      <th>fold</th>\n",
              "      <th>score</th>\n",
              "    </tr>\n",
              "  </thead>\n",
              "  <tbody>\n",
              "    <tr>\n",
              "      <th>0</th>\n",
              "      <td>2.0</td>\n",
              "      <td>0.853028</td>\n",
              "    </tr>\n",
              "    <tr>\n",
              "      <th>1</th>\n",
              "      <td>3.0</td>\n",
              "      <td>0.862608</td>\n",
              "    </tr>\n",
              "    <tr>\n",
              "      <th>2</th>\n",
              "      <td>4.0</td>\n",
              "      <td>0.865449</td>\n",
              "    </tr>\n",
              "    <tr>\n",
              "      <th>3</th>\n",
              "      <td>5.0</td>\n",
              "      <td>0.869243</td>\n",
              "    </tr>\n",
              "    <tr>\n",
              "      <th>4</th>\n",
              "      <td>6.0</td>\n",
              "      <td>0.870260</td>\n",
              "    </tr>\n",
              "    <tr>\n",
              "      <th>5</th>\n",
              "      <td>7.0</td>\n",
              "      <td>0.872507</td>\n",
              "    </tr>\n",
              "    <tr>\n",
              "      <th>6</th>\n",
              "      <td>8.0</td>\n",
              "      <td>0.871765</td>\n",
              "    </tr>\n",
              "    <tr>\n",
              "      <th>7</th>\n",
              "      <td>9.0</td>\n",
              "      <td>0.872910</td>\n",
              "    </tr>\n",
              "  </tbody>\n",
              "</table>\n",
              "</div>\n",
              "    <div class=\"colab-df-buttons\">\n",
              "\n",
              "  <div class=\"colab-df-container\">\n",
              "    <button class=\"colab-df-convert\" onclick=\"convertToInteractive('df-3224cb2e-f7d6-4ed4-b0e1-6e40b772363c')\"\n",
              "            title=\"Convert this dataframe to an interactive table.\"\n",
              "            style=\"display:none;\">\n",
              "\n",
              "  <svg xmlns=\"http://www.w3.org/2000/svg\" height=\"24px\" viewBox=\"0 -960 960 960\">\n",
              "    <path d=\"M120-120v-720h720v720H120Zm60-500h600v-160H180v160Zm220 220h160v-160H400v160Zm0 220h160v-160H400v160ZM180-400h160v-160H180v160Zm440 0h160v-160H620v160ZM180-180h160v-160H180v160Zm440 0h160v-160H620v160Z\"/>\n",
              "  </svg>\n",
              "    </button>\n",
              "\n",
              "  <style>\n",
              "    .colab-df-container {\n",
              "      display:flex;\n",
              "      gap: 12px;\n",
              "    }\n",
              "\n",
              "    .colab-df-convert {\n",
              "      background-color: #E8F0FE;\n",
              "      border: none;\n",
              "      border-radius: 50%;\n",
              "      cursor: pointer;\n",
              "      display: none;\n",
              "      fill: #1967D2;\n",
              "      height: 32px;\n",
              "      padding: 0 0 0 0;\n",
              "      width: 32px;\n",
              "    }\n",
              "\n",
              "    .colab-df-convert:hover {\n",
              "      background-color: #E2EBFA;\n",
              "      box-shadow: 0px 1px 2px rgba(60, 64, 67, 0.3), 0px 1px 3px 1px rgba(60, 64, 67, 0.15);\n",
              "      fill: #174EA6;\n",
              "    }\n",
              "\n",
              "    .colab-df-buttons div {\n",
              "      margin-bottom: 4px;\n",
              "    }\n",
              "\n",
              "    [theme=dark] .colab-df-convert {\n",
              "      background-color: #3B4455;\n",
              "      fill: #D2E3FC;\n",
              "    }\n",
              "\n",
              "    [theme=dark] .colab-df-convert:hover {\n",
              "      background-color: #434B5C;\n",
              "      box-shadow: 0px 1px 3px 1px rgba(0, 0, 0, 0.15);\n",
              "      filter: drop-shadow(0px 1px 2px rgba(0, 0, 0, 0.3));\n",
              "      fill: #FFFFFF;\n",
              "    }\n",
              "  </style>\n",
              "\n",
              "    <script>\n",
              "      const buttonEl =\n",
              "        document.querySelector('#df-3224cb2e-f7d6-4ed4-b0e1-6e40b772363c button.colab-df-convert');\n",
              "      buttonEl.style.display =\n",
              "        google.colab.kernel.accessAllowed ? 'block' : 'none';\n",
              "\n",
              "      async function convertToInteractive(key) {\n",
              "        const element = document.querySelector('#df-3224cb2e-f7d6-4ed4-b0e1-6e40b772363c');\n",
              "        const dataTable =\n",
              "          await google.colab.kernel.invokeFunction('convertToInteractive',\n",
              "                                                    [key], {});\n",
              "        if (!dataTable) return;\n",
              "\n",
              "        const docLinkHtml = 'Like what you see? Visit the ' +\n",
              "          '<a target=\"_blank\" href=https://colab.research.google.com/notebooks/data_table.ipynb>data table notebook</a>'\n",
              "          + ' to learn more about interactive tables.';\n",
              "        element.innerHTML = '';\n",
              "        dataTable['output_type'] = 'display_data';\n",
              "        await google.colab.output.renderOutput(dataTable, element);\n",
              "        const docLink = document.createElement('div');\n",
              "        docLink.innerHTML = docLinkHtml;\n",
              "        element.appendChild(docLink);\n",
              "      }\n",
              "    </script>\n",
              "  </div>\n",
              "\n",
              "\n",
              "<div id=\"df-c8f945d6-6e4c-4e01-a385-72ec6b57069b\">\n",
              "  <button class=\"colab-df-quickchart\" onclick=\"quickchart('df-c8f945d6-6e4c-4e01-a385-72ec6b57069b')\"\n",
              "            title=\"Suggest charts.\"\n",
              "            style=\"display:none;\">\n",
              "\n",
              "<svg xmlns=\"http://www.w3.org/2000/svg\" height=\"24px\"viewBox=\"0 0 24 24\"\n",
              "     width=\"24px\">\n",
              "    <g>\n",
              "        <path d=\"M19 3H5c-1.1 0-2 .9-2 2v14c0 1.1.9 2 2 2h14c1.1 0 2-.9 2-2V5c0-1.1-.9-2-2-2zM9 17H7v-7h2v7zm4 0h-2V7h2v10zm4 0h-2v-4h2v4z\"/>\n",
              "    </g>\n",
              "</svg>\n",
              "  </button>\n",
              "\n",
              "<style>\n",
              "  .colab-df-quickchart {\n",
              "      --bg-color: #E8F0FE;\n",
              "      --fill-color: #1967D2;\n",
              "      --hover-bg-color: #E2EBFA;\n",
              "      --hover-fill-color: #174EA6;\n",
              "      --disabled-fill-color: #AAA;\n",
              "      --disabled-bg-color: #DDD;\n",
              "  }\n",
              "\n",
              "  [theme=dark] .colab-df-quickchart {\n",
              "      --bg-color: #3B4455;\n",
              "      --fill-color: #D2E3FC;\n",
              "      --hover-bg-color: #434B5C;\n",
              "      --hover-fill-color: #FFFFFF;\n",
              "      --disabled-bg-color: #3B4455;\n",
              "      --disabled-fill-color: #666;\n",
              "  }\n",
              "\n",
              "  .colab-df-quickchart {\n",
              "    background-color: var(--bg-color);\n",
              "    border: none;\n",
              "    border-radius: 50%;\n",
              "    cursor: pointer;\n",
              "    display: none;\n",
              "    fill: var(--fill-color);\n",
              "    height: 32px;\n",
              "    padding: 0;\n",
              "    width: 32px;\n",
              "  }\n",
              "\n",
              "  .colab-df-quickchart:hover {\n",
              "    background-color: var(--hover-bg-color);\n",
              "    box-shadow: 0 1px 2px rgba(60, 64, 67, 0.3), 0 1px 3px 1px rgba(60, 64, 67, 0.15);\n",
              "    fill: var(--button-hover-fill-color);\n",
              "  }\n",
              "\n",
              "  .colab-df-quickchart-complete:disabled,\n",
              "  .colab-df-quickchart-complete:disabled:hover {\n",
              "    background-color: var(--disabled-bg-color);\n",
              "    fill: var(--disabled-fill-color);\n",
              "    box-shadow: none;\n",
              "  }\n",
              "\n",
              "  .colab-df-spinner {\n",
              "    border: 2px solid var(--fill-color);\n",
              "    border-color: transparent;\n",
              "    border-bottom-color: var(--fill-color);\n",
              "    animation:\n",
              "      spin 1s steps(1) infinite;\n",
              "  }\n",
              "\n",
              "  @keyframes spin {\n",
              "    0% {\n",
              "      border-color: transparent;\n",
              "      border-bottom-color: var(--fill-color);\n",
              "      border-left-color: var(--fill-color);\n",
              "    }\n",
              "    20% {\n",
              "      border-color: transparent;\n",
              "      border-left-color: var(--fill-color);\n",
              "      border-top-color: var(--fill-color);\n",
              "    }\n",
              "    30% {\n",
              "      border-color: transparent;\n",
              "      border-left-color: var(--fill-color);\n",
              "      border-top-color: var(--fill-color);\n",
              "      border-right-color: var(--fill-color);\n",
              "    }\n",
              "    40% {\n",
              "      border-color: transparent;\n",
              "      border-right-color: var(--fill-color);\n",
              "      border-top-color: var(--fill-color);\n",
              "    }\n",
              "    60% {\n",
              "      border-color: transparent;\n",
              "      border-right-color: var(--fill-color);\n",
              "    }\n",
              "    80% {\n",
              "      border-color: transparent;\n",
              "      border-right-color: var(--fill-color);\n",
              "      border-bottom-color: var(--fill-color);\n",
              "    }\n",
              "    90% {\n",
              "      border-color: transparent;\n",
              "      border-bottom-color: var(--fill-color);\n",
              "    }\n",
              "  }\n",
              "</style>\n",
              "\n",
              "  <script>\n",
              "    async function quickchart(key) {\n",
              "      const quickchartButtonEl =\n",
              "        document.querySelector('#' + key + ' button');\n",
              "      quickchartButtonEl.disabled = true;  // To prevent multiple clicks.\n",
              "      quickchartButtonEl.classList.add('colab-df-spinner');\n",
              "      try {\n",
              "        const charts = await google.colab.kernel.invokeFunction(\n",
              "            'suggestCharts', [key], {});\n",
              "      } catch (error) {\n",
              "        console.error('Error during call to suggestCharts:', error);\n",
              "      }\n",
              "      quickchartButtonEl.classList.remove('colab-df-spinner');\n",
              "      quickchartButtonEl.classList.add('colab-df-quickchart-complete');\n",
              "    }\n",
              "    (() => {\n",
              "      let quickchartButtonEl =\n",
              "        document.querySelector('#df-c8f945d6-6e4c-4e01-a385-72ec6b57069b button');\n",
              "      quickchartButtonEl.style.display =\n",
              "        google.colab.kernel.accessAllowed ? 'block' : 'none';\n",
              "    })();\n",
              "  </script>\n",
              "</div>\n",
              "    </div>\n",
              "  </div>\n"
            ]
          },
          "metadata": {},
          "execution_count": 281
        }
      ]
    },
    {
      "cell_type": "code",
      "source": [
        "score_grid[score_grid['score'].max() == score_grid['score']]"
      ],
      "metadata": {
        "colab": {
          "base_uri": "https://localhost:8080/",
          "height": 0
        },
        "outputId": "5b80d49b-9578-47b6-e4c6-4e3956fa079c",
        "id": "zdbJbTTq0zrJ"
      },
      "execution_count": 282,
      "outputs": [
        {
          "output_type": "execute_result",
          "data": {
            "text/plain": [
              "   fold    score\n",
              "7   9.0  0.87291"
            ],
            "text/html": [
              "\n",
              "  <div id=\"df-98085981-8e76-4179-931f-373180246db9\" class=\"colab-df-container\">\n",
              "    <div>\n",
              "<style scoped>\n",
              "    .dataframe tbody tr th:only-of-type {\n",
              "        vertical-align: middle;\n",
              "    }\n",
              "\n",
              "    .dataframe tbody tr th {\n",
              "        vertical-align: top;\n",
              "    }\n",
              "\n",
              "    .dataframe thead th {\n",
              "        text-align: right;\n",
              "    }\n",
              "</style>\n",
              "<table border=\"1\" class=\"dataframe\">\n",
              "  <thead>\n",
              "    <tr style=\"text-align: right;\">\n",
              "      <th></th>\n",
              "      <th>fold</th>\n",
              "      <th>score</th>\n",
              "    </tr>\n",
              "  </thead>\n",
              "  <tbody>\n",
              "    <tr>\n",
              "      <th>7</th>\n",
              "      <td>9.0</td>\n",
              "      <td>0.87291</td>\n",
              "    </tr>\n",
              "  </tbody>\n",
              "</table>\n",
              "</div>\n",
              "    <div class=\"colab-df-buttons\">\n",
              "\n",
              "  <div class=\"colab-df-container\">\n",
              "    <button class=\"colab-df-convert\" onclick=\"convertToInteractive('df-98085981-8e76-4179-931f-373180246db9')\"\n",
              "            title=\"Convert this dataframe to an interactive table.\"\n",
              "            style=\"display:none;\">\n",
              "\n",
              "  <svg xmlns=\"http://www.w3.org/2000/svg\" height=\"24px\" viewBox=\"0 -960 960 960\">\n",
              "    <path d=\"M120-120v-720h720v720H120Zm60-500h600v-160H180v160Zm220 220h160v-160H400v160Zm0 220h160v-160H400v160ZM180-400h160v-160H180v160Zm440 0h160v-160H620v160ZM180-180h160v-160H180v160Zm440 0h160v-160H620v160Z\"/>\n",
              "  </svg>\n",
              "    </button>\n",
              "\n",
              "  <style>\n",
              "    .colab-df-container {\n",
              "      display:flex;\n",
              "      gap: 12px;\n",
              "    }\n",
              "\n",
              "    .colab-df-convert {\n",
              "      background-color: #E8F0FE;\n",
              "      border: none;\n",
              "      border-radius: 50%;\n",
              "      cursor: pointer;\n",
              "      display: none;\n",
              "      fill: #1967D2;\n",
              "      height: 32px;\n",
              "      padding: 0 0 0 0;\n",
              "      width: 32px;\n",
              "    }\n",
              "\n",
              "    .colab-df-convert:hover {\n",
              "      background-color: #E2EBFA;\n",
              "      box-shadow: 0px 1px 2px rgba(60, 64, 67, 0.3), 0px 1px 3px 1px rgba(60, 64, 67, 0.15);\n",
              "      fill: #174EA6;\n",
              "    }\n",
              "\n",
              "    .colab-df-buttons div {\n",
              "      margin-bottom: 4px;\n",
              "    }\n",
              "\n",
              "    [theme=dark] .colab-df-convert {\n",
              "      background-color: #3B4455;\n",
              "      fill: #D2E3FC;\n",
              "    }\n",
              "\n",
              "    [theme=dark] .colab-df-convert:hover {\n",
              "      background-color: #434B5C;\n",
              "      box-shadow: 0px 1px 3px 1px rgba(0, 0, 0, 0.15);\n",
              "      filter: drop-shadow(0px 1px 2px rgba(0, 0, 0, 0.3));\n",
              "      fill: #FFFFFF;\n",
              "    }\n",
              "  </style>\n",
              "\n",
              "    <script>\n",
              "      const buttonEl =\n",
              "        document.querySelector('#df-98085981-8e76-4179-931f-373180246db9 button.colab-df-convert');\n",
              "      buttonEl.style.display =\n",
              "        google.colab.kernel.accessAllowed ? 'block' : 'none';\n",
              "\n",
              "      async function convertToInteractive(key) {\n",
              "        const element = document.querySelector('#df-98085981-8e76-4179-931f-373180246db9');\n",
              "        const dataTable =\n",
              "          await google.colab.kernel.invokeFunction('convertToInteractive',\n",
              "                                                    [key], {});\n",
              "        if (!dataTable) return;\n",
              "\n",
              "        const docLinkHtml = 'Like what you see? Visit the ' +\n",
              "          '<a target=\"_blank\" href=https://colab.research.google.com/notebooks/data_table.ipynb>data table notebook</a>'\n",
              "          + ' to learn more about interactive tables.';\n",
              "        element.innerHTML = '';\n",
              "        dataTable['output_type'] = 'display_data';\n",
              "        await google.colab.output.renderOutput(dataTable, element);\n",
              "        const docLink = document.createElement('div');\n",
              "        docLink.innerHTML = docLinkHtml;\n",
              "        element.appendChild(docLink);\n",
              "      }\n",
              "    </script>\n",
              "  </div>\n",
              "\n",
              "    </div>\n",
              "  </div>\n"
            ]
          },
          "metadata": {},
          "execution_count": 282
        }
      ]
    },
    {
      "cell_type": "markdown",
      "source": [
        "Mejora mucho la prediccion"
      ],
      "metadata": {
        "id": "gL3dod5xyR5S"
      }
    },
    {
      "cell_type": "markdown",
      "source": [
        "Generamos dataset para subir a kaggel"
      ],
      "metadata": {
        "id": "UuIMIfoGyVrH"
      }
    },
    {
      "cell_type": "code",
      "source": [
        "y_pred_grid_2 = model_grid_2.predict(test_sin_cuali)"
      ],
      "metadata": {
        "colab": {
          "base_uri": "https://localhost:8080/"
        },
        "id": "WHn8SdotsI_s",
        "outputId": "a92493f0-fa31-450d-ee2f-a513cb2e0d42"
      },
      "execution_count": 283,
      "outputs": [
        {
          "output_type": "stream",
          "name": "stderr",
          "text": [
            "/usr/local/lib/python3.10/dist-packages/sklearn/base.py:432: UserWarning: X has feature names, but DecisionTreeClassifier was fitted without feature names\n",
            "  warnings.warn(\n"
          ]
        }
      ]
    },
    {
      "cell_type": "code",
      "source": [
        "prediccion = pd.DataFrame({\"id\": test['id'], \"is_canceled\": y_pred_grid_2})"
      ],
      "metadata": {
        "id": "7MxVgqHDsI_s"
      },
      "execution_count": 284,
      "outputs": []
    },
    {
      "cell_type": "code",
      "source": [
        "prediccion.head()"
      ],
      "metadata": {
        "colab": {
          "base_uri": "https://localhost:8080/",
          "height": 0
        },
        "outputId": "db30e4b2-1109-47a1-e7a9-7ad8e89adf99",
        "id": "OYzZJKC7sI_s"
      },
      "execution_count": 285,
      "outputs": [
        {
          "output_type": "execute_result",
          "data": {
            "text/plain": [
              "                                     id  is_canceled\n",
              "0  e6d0d58a-ab96-44d3-b28f-85df1cc15f1e          1.0\n",
              "1  aba9aac2-4495-4645-a60e-90328713c999          0.0\n",
              "2  b345b5dc-c804-4d77-a39f-1f4e65d1f1ad          0.0\n",
              "3  ce1b400e-afa1-4946-bdff-004b859eb61c          0.0\n",
              "4  c4fbec0d-8e2e-4db2-9d4f-a6ccb9f51214          1.0"
            ],
            "text/html": [
              "\n",
              "  <div id=\"df-a732e285-2b87-4d56-9fd6-10e4bfaa7ec6\" class=\"colab-df-container\">\n",
              "    <div>\n",
              "<style scoped>\n",
              "    .dataframe tbody tr th:only-of-type {\n",
              "        vertical-align: middle;\n",
              "    }\n",
              "\n",
              "    .dataframe tbody tr th {\n",
              "        vertical-align: top;\n",
              "    }\n",
              "\n",
              "    .dataframe thead th {\n",
              "        text-align: right;\n",
              "    }\n",
              "</style>\n",
              "<table border=\"1\" class=\"dataframe\">\n",
              "  <thead>\n",
              "    <tr style=\"text-align: right;\">\n",
              "      <th></th>\n",
              "      <th>id</th>\n",
              "      <th>is_canceled</th>\n",
              "    </tr>\n",
              "  </thead>\n",
              "  <tbody>\n",
              "    <tr>\n",
              "      <th>0</th>\n",
              "      <td>e6d0d58a-ab96-44d3-b28f-85df1cc15f1e</td>\n",
              "      <td>1.0</td>\n",
              "    </tr>\n",
              "    <tr>\n",
              "      <th>1</th>\n",
              "      <td>aba9aac2-4495-4645-a60e-90328713c999</td>\n",
              "      <td>0.0</td>\n",
              "    </tr>\n",
              "    <tr>\n",
              "      <th>2</th>\n",
              "      <td>b345b5dc-c804-4d77-a39f-1f4e65d1f1ad</td>\n",
              "      <td>0.0</td>\n",
              "    </tr>\n",
              "    <tr>\n",
              "      <th>3</th>\n",
              "      <td>ce1b400e-afa1-4946-bdff-004b859eb61c</td>\n",
              "      <td>0.0</td>\n",
              "    </tr>\n",
              "    <tr>\n",
              "      <th>4</th>\n",
              "      <td>c4fbec0d-8e2e-4db2-9d4f-a6ccb9f51214</td>\n",
              "      <td>1.0</td>\n",
              "    </tr>\n",
              "  </tbody>\n",
              "</table>\n",
              "</div>\n",
              "    <div class=\"colab-df-buttons\">\n",
              "\n",
              "  <div class=\"colab-df-container\">\n",
              "    <button class=\"colab-df-convert\" onclick=\"convertToInteractive('df-a732e285-2b87-4d56-9fd6-10e4bfaa7ec6')\"\n",
              "            title=\"Convert this dataframe to an interactive table.\"\n",
              "            style=\"display:none;\">\n",
              "\n",
              "  <svg xmlns=\"http://www.w3.org/2000/svg\" height=\"24px\" viewBox=\"0 -960 960 960\">\n",
              "    <path d=\"M120-120v-720h720v720H120Zm60-500h600v-160H180v160Zm220 220h160v-160H400v160Zm0 220h160v-160H400v160ZM180-400h160v-160H180v160Zm440 0h160v-160H620v160ZM180-180h160v-160H180v160Zm440 0h160v-160H620v160Z\"/>\n",
              "  </svg>\n",
              "    </button>\n",
              "\n",
              "  <style>\n",
              "    .colab-df-container {\n",
              "      display:flex;\n",
              "      gap: 12px;\n",
              "    }\n",
              "\n",
              "    .colab-df-convert {\n",
              "      background-color: #E8F0FE;\n",
              "      border: none;\n",
              "      border-radius: 50%;\n",
              "      cursor: pointer;\n",
              "      display: none;\n",
              "      fill: #1967D2;\n",
              "      height: 32px;\n",
              "      padding: 0 0 0 0;\n",
              "      width: 32px;\n",
              "    }\n",
              "\n",
              "    .colab-df-convert:hover {\n",
              "      background-color: #E2EBFA;\n",
              "      box-shadow: 0px 1px 2px rgba(60, 64, 67, 0.3), 0px 1px 3px 1px rgba(60, 64, 67, 0.15);\n",
              "      fill: #174EA6;\n",
              "    }\n",
              "\n",
              "    .colab-df-buttons div {\n",
              "      margin-bottom: 4px;\n",
              "    }\n",
              "\n",
              "    [theme=dark] .colab-df-convert {\n",
              "      background-color: #3B4455;\n",
              "      fill: #D2E3FC;\n",
              "    }\n",
              "\n",
              "    [theme=dark] .colab-df-convert:hover {\n",
              "      background-color: #434B5C;\n",
              "      box-shadow: 0px 1px 3px 1px rgba(0, 0, 0, 0.15);\n",
              "      filter: drop-shadow(0px 1px 2px rgba(0, 0, 0, 0.3));\n",
              "      fill: #FFFFFF;\n",
              "    }\n",
              "  </style>\n",
              "\n",
              "    <script>\n",
              "      const buttonEl =\n",
              "        document.querySelector('#df-a732e285-2b87-4d56-9fd6-10e4bfaa7ec6 button.colab-df-convert');\n",
              "      buttonEl.style.display =\n",
              "        google.colab.kernel.accessAllowed ? 'block' : 'none';\n",
              "\n",
              "      async function convertToInteractive(key) {\n",
              "        const element = document.querySelector('#df-a732e285-2b87-4d56-9fd6-10e4bfaa7ec6');\n",
              "        const dataTable =\n",
              "          await google.colab.kernel.invokeFunction('convertToInteractive',\n",
              "                                                    [key], {});\n",
              "        if (!dataTable) return;\n",
              "\n",
              "        const docLinkHtml = 'Like what you see? Visit the ' +\n",
              "          '<a target=\"_blank\" href=https://colab.research.google.com/notebooks/data_table.ipynb>data table notebook</a>'\n",
              "          + ' to learn more about interactive tables.';\n",
              "        element.innerHTML = '';\n",
              "        dataTable['output_type'] = 'display_data';\n",
              "        await google.colab.output.renderOutput(dataTable, element);\n",
              "        const docLink = document.createElement('div');\n",
              "        docLink.innerHTML = docLinkHtml;\n",
              "        element.appendChild(docLink);\n",
              "      }\n",
              "    </script>\n",
              "  </div>\n",
              "\n",
              "\n",
              "<div id=\"df-79881ce5-f20c-4442-988d-f91458e455ee\">\n",
              "  <button class=\"colab-df-quickchart\" onclick=\"quickchart('df-79881ce5-f20c-4442-988d-f91458e455ee')\"\n",
              "            title=\"Suggest charts.\"\n",
              "            style=\"display:none;\">\n",
              "\n",
              "<svg xmlns=\"http://www.w3.org/2000/svg\" height=\"24px\"viewBox=\"0 0 24 24\"\n",
              "     width=\"24px\">\n",
              "    <g>\n",
              "        <path d=\"M19 3H5c-1.1 0-2 .9-2 2v14c0 1.1.9 2 2 2h14c1.1 0 2-.9 2-2V5c0-1.1-.9-2-2-2zM9 17H7v-7h2v7zm4 0h-2V7h2v10zm4 0h-2v-4h2v4z\"/>\n",
              "    </g>\n",
              "</svg>\n",
              "  </button>\n",
              "\n",
              "<style>\n",
              "  .colab-df-quickchart {\n",
              "      --bg-color: #E8F0FE;\n",
              "      --fill-color: #1967D2;\n",
              "      --hover-bg-color: #E2EBFA;\n",
              "      --hover-fill-color: #174EA6;\n",
              "      --disabled-fill-color: #AAA;\n",
              "      --disabled-bg-color: #DDD;\n",
              "  }\n",
              "\n",
              "  [theme=dark] .colab-df-quickchart {\n",
              "      --bg-color: #3B4455;\n",
              "      --fill-color: #D2E3FC;\n",
              "      --hover-bg-color: #434B5C;\n",
              "      --hover-fill-color: #FFFFFF;\n",
              "      --disabled-bg-color: #3B4455;\n",
              "      --disabled-fill-color: #666;\n",
              "  }\n",
              "\n",
              "  .colab-df-quickchart {\n",
              "    background-color: var(--bg-color);\n",
              "    border: none;\n",
              "    border-radius: 50%;\n",
              "    cursor: pointer;\n",
              "    display: none;\n",
              "    fill: var(--fill-color);\n",
              "    height: 32px;\n",
              "    padding: 0;\n",
              "    width: 32px;\n",
              "  }\n",
              "\n",
              "  .colab-df-quickchart:hover {\n",
              "    background-color: var(--hover-bg-color);\n",
              "    box-shadow: 0 1px 2px rgba(60, 64, 67, 0.3), 0 1px 3px 1px rgba(60, 64, 67, 0.15);\n",
              "    fill: var(--button-hover-fill-color);\n",
              "  }\n",
              "\n",
              "  .colab-df-quickchart-complete:disabled,\n",
              "  .colab-df-quickchart-complete:disabled:hover {\n",
              "    background-color: var(--disabled-bg-color);\n",
              "    fill: var(--disabled-fill-color);\n",
              "    box-shadow: none;\n",
              "  }\n",
              "\n",
              "  .colab-df-spinner {\n",
              "    border: 2px solid var(--fill-color);\n",
              "    border-color: transparent;\n",
              "    border-bottom-color: var(--fill-color);\n",
              "    animation:\n",
              "      spin 1s steps(1) infinite;\n",
              "  }\n",
              "\n",
              "  @keyframes spin {\n",
              "    0% {\n",
              "      border-color: transparent;\n",
              "      border-bottom-color: var(--fill-color);\n",
              "      border-left-color: var(--fill-color);\n",
              "    }\n",
              "    20% {\n",
              "      border-color: transparent;\n",
              "      border-left-color: var(--fill-color);\n",
              "      border-top-color: var(--fill-color);\n",
              "    }\n",
              "    30% {\n",
              "      border-color: transparent;\n",
              "      border-left-color: var(--fill-color);\n",
              "      border-top-color: var(--fill-color);\n",
              "      border-right-color: var(--fill-color);\n",
              "    }\n",
              "    40% {\n",
              "      border-color: transparent;\n",
              "      border-right-color: var(--fill-color);\n",
              "      border-top-color: var(--fill-color);\n",
              "    }\n",
              "    60% {\n",
              "      border-color: transparent;\n",
              "      border-right-color: var(--fill-color);\n",
              "    }\n",
              "    80% {\n",
              "      border-color: transparent;\n",
              "      border-right-color: var(--fill-color);\n",
              "      border-bottom-color: var(--fill-color);\n",
              "    }\n",
              "    90% {\n",
              "      border-color: transparent;\n",
              "      border-bottom-color: var(--fill-color);\n",
              "    }\n",
              "  }\n",
              "</style>\n",
              "\n",
              "  <script>\n",
              "    async function quickchart(key) {\n",
              "      const quickchartButtonEl =\n",
              "        document.querySelector('#' + key + ' button');\n",
              "      quickchartButtonEl.disabled = true;  // To prevent multiple clicks.\n",
              "      quickchartButtonEl.classList.add('colab-df-spinner');\n",
              "      try {\n",
              "        const charts = await google.colab.kernel.invokeFunction(\n",
              "            'suggestCharts', [key], {});\n",
              "      } catch (error) {\n",
              "        console.error('Error during call to suggestCharts:', error);\n",
              "      }\n",
              "      quickchartButtonEl.classList.remove('colab-df-spinner');\n",
              "      quickchartButtonEl.classList.add('colab-df-quickchart-complete');\n",
              "    }\n",
              "    (() => {\n",
              "      let quickchartButtonEl =\n",
              "        document.querySelector('#df-79881ce5-f20c-4442-988d-f91458e455ee button');\n",
              "      quickchartButtonEl.style.display =\n",
              "        google.colab.kernel.accessAllowed ? 'block' : 'none';\n",
              "    })();\n",
              "  </script>\n",
              "</div>\n",
              "    </div>\n",
              "  </div>\n"
            ]
          },
          "metadata": {},
          "execution_count": 285
        }
      ]
    },
    {
      "cell_type": "markdown",
      "source": [
        "Vemos que is_canceled es un float. Lo pasamos a int para poder subir el archivo a kaggel."
      ],
      "metadata": {
        "id": "AGVIy4lyJpBq"
      }
    },
    {
      "cell_type": "code",
      "source": [
        "prediccion['is_canceled'] = prediccion['is_canceled'].astype(int)"
      ],
      "metadata": {
        "id": "SSo0zZuJJMkc"
      },
      "execution_count": 286,
      "outputs": []
    },
    {
      "cell_type": "code",
      "source": [
        "prediccion.head()"
      ],
      "metadata": {
        "colab": {
          "base_uri": "https://localhost:8080/",
          "height": 0
        },
        "id": "A8TXS0DNJjzv",
        "outputId": "075410da-6fa3-4c46-b2ab-c84836b1ab03"
      },
      "execution_count": 287,
      "outputs": [
        {
          "output_type": "execute_result",
          "data": {
            "text/plain": [
              "                                     id  is_canceled\n",
              "0  e6d0d58a-ab96-44d3-b28f-85df1cc15f1e            1\n",
              "1  aba9aac2-4495-4645-a60e-90328713c999            0\n",
              "2  b345b5dc-c804-4d77-a39f-1f4e65d1f1ad            0\n",
              "3  ce1b400e-afa1-4946-bdff-004b859eb61c            0\n",
              "4  c4fbec0d-8e2e-4db2-9d4f-a6ccb9f51214            1"
            ],
            "text/html": [
              "\n",
              "  <div id=\"df-3c238f8e-ec21-48de-8fd9-5f4cac7d9e95\" class=\"colab-df-container\">\n",
              "    <div>\n",
              "<style scoped>\n",
              "    .dataframe tbody tr th:only-of-type {\n",
              "        vertical-align: middle;\n",
              "    }\n",
              "\n",
              "    .dataframe tbody tr th {\n",
              "        vertical-align: top;\n",
              "    }\n",
              "\n",
              "    .dataframe thead th {\n",
              "        text-align: right;\n",
              "    }\n",
              "</style>\n",
              "<table border=\"1\" class=\"dataframe\">\n",
              "  <thead>\n",
              "    <tr style=\"text-align: right;\">\n",
              "      <th></th>\n",
              "      <th>id</th>\n",
              "      <th>is_canceled</th>\n",
              "    </tr>\n",
              "  </thead>\n",
              "  <tbody>\n",
              "    <tr>\n",
              "      <th>0</th>\n",
              "      <td>e6d0d58a-ab96-44d3-b28f-85df1cc15f1e</td>\n",
              "      <td>1</td>\n",
              "    </tr>\n",
              "    <tr>\n",
              "      <th>1</th>\n",
              "      <td>aba9aac2-4495-4645-a60e-90328713c999</td>\n",
              "      <td>0</td>\n",
              "    </tr>\n",
              "    <tr>\n",
              "      <th>2</th>\n",
              "      <td>b345b5dc-c804-4d77-a39f-1f4e65d1f1ad</td>\n",
              "      <td>0</td>\n",
              "    </tr>\n",
              "    <tr>\n",
              "      <th>3</th>\n",
              "      <td>ce1b400e-afa1-4946-bdff-004b859eb61c</td>\n",
              "      <td>0</td>\n",
              "    </tr>\n",
              "    <tr>\n",
              "      <th>4</th>\n",
              "      <td>c4fbec0d-8e2e-4db2-9d4f-a6ccb9f51214</td>\n",
              "      <td>1</td>\n",
              "    </tr>\n",
              "  </tbody>\n",
              "</table>\n",
              "</div>\n",
              "    <div class=\"colab-df-buttons\">\n",
              "\n",
              "  <div class=\"colab-df-container\">\n",
              "    <button class=\"colab-df-convert\" onclick=\"convertToInteractive('df-3c238f8e-ec21-48de-8fd9-5f4cac7d9e95')\"\n",
              "            title=\"Convert this dataframe to an interactive table.\"\n",
              "            style=\"display:none;\">\n",
              "\n",
              "  <svg xmlns=\"http://www.w3.org/2000/svg\" height=\"24px\" viewBox=\"0 -960 960 960\">\n",
              "    <path d=\"M120-120v-720h720v720H120Zm60-500h600v-160H180v160Zm220 220h160v-160H400v160Zm0 220h160v-160H400v160ZM180-400h160v-160H180v160Zm440 0h160v-160H620v160ZM180-180h160v-160H180v160Zm440 0h160v-160H620v160Z\"/>\n",
              "  </svg>\n",
              "    </button>\n",
              "\n",
              "  <style>\n",
              "    .colab-df-container {\n",
              "      display:flex;\n",
              "      gap: 12px;\n",
              "    }\n",
              "\n",
              "    .colab-df-convert {\n",
              "      background-color: #E8F0FE;\n",
              "      border: none;\n",
              "      border-radius: 50%;\n",
              "      cursor: pointer;\n",
              "      display: none;\n",
              "      fill: #1967D2;\n",
              "      height: 32px;\n",
              "      padding: 0 0 0 0;\n",
              "      width: 32px;\n",
              "    }\n",
              "\n",
              "    .colab-df-convert:hover {\n",
              "      background-color: #E2EBFA;\n",
              "      box-shadow: 0px 1px 2px rgba(60, 64, 67, 0.3), 0px 1px 3px 1px rgba(60, 64, 67, 0.15);\n",
              "      fill: #174EA6;\n",
              "    }\n",
              "\n",
              "    .colab-df-buttons div {\n",
              "      margin-bottom: 4px;\n",
              "    }\n",
              "\n",
              "    [theme=dark] .colab-df-convert {\n",
              "      background-color: #3B4455;\n",
              "      fill: #D2E3FC;\n",
              "    }\n",
              "\n",
              "    [theme=dark] .colab-df-convert:hover {\n",
              "      background-color: #434B5C;\n",
              "      box-shadow: 0px 1px 3px 1px rgba(0, 0, 0, 0.15);\n",
              "      filter: drop-shadow(0px 1px 2px rgba(0, 0, 0, 0.3));\n",
              "      fill: #FFFFFF;\n",
              "    }\n",
              "  </style>\n",
              "\n",
              "    <script>\n",
              "      const buttonEl =\n",
              "        document.querySelector('#df-3c238f8e-ec21-48de-8fd9-5f4cac7d9e95 button.colab-df-convert');\n",
              "      buttonEl.style.display =\n",
              "        google.colab.kernel.accessAllowed ? 'block' : 'none';\n",
              "\n",
              "      async function convertToInteractive(key) {\n",
              "        const element = document.querySelector('#df-3c238f8e-ec21-48de-8fd9-5f4cac7d9e95');\n",
              "        const dataTable =\n",
              "          await google.colab.kernel.invokeFunction('convertToInteractive',\n",
              "                                                    [key], {});\n",
              "        if (!dataTable) return;\n",
              "\n",
              "        const docLinkHtml = 'Like what you see? Visit the ' +\n",
              "          '<a target=\"_blank\" href=https://colab.research.google.com/notebooks/data_table.ipynb>data table notebook</a>'\n",
              "          + ' to learn more about interactive tables.';\n",
              "        element.innerHTML = '';\n",
              "        dataTable['output_type'] = 'display_data';\n",
              "        await google.colab.output.renderOutput(dataTable, element);\n",
              "        const docLink = document.createElement('div');\n",
              "        docLink.innerHTML = docLinkHtml;\n",
              "        element.appendChild(docLink);\n",
              "      }\n",
              "    </script>\n",
              "  </div>\n",
              "\n",
              "\n",
              "<div id=\"df-1e72eac1-dff5-4660-96de-be3850b3ef7f\">\n",
              "  <button class=\"colab-df-quickchart\" onclick=\"quickchart('df-1e72eac1-dff5-4660-96de-be3850b3ef7f')\"\n",
              "            title=\"Suggest charts.\"\n",
              "            style=\"display:none;\">\n",
              "\n",
              "<svg xmlns=\"http://www.w3.org/2000/svg\" height=\"24px\"viewBox=\"0 0 24 24\"\n",
              "     width=\"24px\">\n",
              "    <g>\n",
              "        <path d=\"M19 3H5c-1.1 0-2 .9-2 2v14c0 1.1.9 2 2 2h14c1.1 0 2-.9 2-2V5c0-1.1-.9-2-2-2zM9 17H7v-7h2v7zm4 0h-2V7h2v10zm4 0h-2v-4h2v4z\"/>\n",
              "    </g>\n",
              "</svg>\n",
              "  </button>\n",
              "\n",
              "<style>\n",
              "  .colab-df-quickchart {\n",
              "      --bg-color: #E8F0FE;\n",
              "      --fill-color: #1967D2;\n",
              "      --hover-bg-color: #E2EBFA;\n",
              "      --hover-fill-color: #174EA6;\n",
              "      --disabled-fill-color: #AAA;\n",
              "      --disabled-bg-color: #DDD;\n",
              "  }\n",
              "\n",
              "  [theme=dark] .colab-df-quickchart {\n",
              "      --bg-color: #3B4455;\n",
              "      --fill-color: #D2E3FC;\n",
              "      --hover-bg-color: #434B5C;\n",
              "      --hover-fill-color: #FFFFFF;\n",
              "      --disabled-bg-color: #3B4455;\n",
              "      --disabled-fill-color: #666;\n",
              "  }\n",
              "\n",
              "  .colab-df-quickchart {\n",
              "    background-color: var(--bg-color);\n",
              "    border: none;\n",
              "    border-radius: 50%;\n",
              "    cursor: pointer;\n",
              "    display: none;\n",
              "    fill: var(--fill-color);\n",
              "    height: 32px;\n",
              "    padding: 0;\n",
              "    width: 32px;\n",
              "  }\n",
              "\n",
              "  .colab-df-quickchart:hover {\n",
              "    background-color: var(--hover-bg-color);\n",
              "    box-shadow: 0 1px 2px rgba(60, 64, 67, 0.3), 0 1px 3px 1px rgba(60, 64, 67, 0.15);\n",
              "    fill: var(--button-hover-fill-color);\n",
              "  }\n",
              "\n",
              "  .colab-df-quickchart-complete:disabled,\n",
              "  .colab-df-quickchart-complete:disabled:hover {\n",
              "    background-color: var(--disabled-bg-color);\n",
              "    fill: var(--disabled-fill-color);\n",
              "    box-shadow: none;\n",
              "  }\n",
              "\n",
              "  .colab-df-spinner {\n",
              "    border: 2px solid var(--fill-color);\n",
              "    border-color: transparent;\n",
              "    border-bottom-color: var(--fill-color);\n",
              "    animation:\n",
              "      spin 1s steps(1) infinite;\n",
              "  }\n",
              "\n",
              "  @keyframes spin {\n",
              "    0% {\n",
              "      border-color: transparent;\n",
              "      border-bottom-color: var(--fill-color);\n",
              "      border-left-color: var(--fill-color);\n",
              "    }\n",
              "    20% {\n",
              "      border-color: transparent;\n",
              "      border-left-color: var(--fill-color);\n",
              "      border-top-color: var(--fill-color);\n",
              "    }\n",
              "    30% {\n",
              "      border-color: transparent;\n",
              "      border-left-color: var(--fill-color);\n",
              "      border-top-color: var(--fill-color);\n",
              "      border-right-color: var(--fill-color);\n",
              "    }\n",
              "    40% {\n",
              "      border-color: transparent;\n",
              "      border-right-color: var(--fill-color);\n",
              "      border-top-color: var(--fill-color);\n",
              "    }\n",
              "    60% {\n",
              "      border-color: transparent;\n",
              "      border-right-color: var(--fill-color);\n",
              "    }\n",
              "    80% {\n",
              "      border-color: transparent;\n",
              "      border-right-color: var(--fill-color);\n",
              "      border-bottom-color: var(--fill-color);\n",
              "    }\n",
              "    90% {\n",
              "      border-color: transparent;\n",
              "      border-bottom-color: var(--fill-color);\n",
              "    }\n",
              "  }\n",
              "</style>\n",
              "\n",
              "  <script>\n",
              "    async function quickchart(key) {\n",
              "      const quickchartButtonEl =\n",
              "        document.querySelector('#' + key + ' button');\n",
              "      quickchartButtonEl.disabled = true;  // To prevent multiple clicks.\n",
              "      quickchartButtonEl.classList.add('colab-df-spinner');\n",
              "      try {\n",
              "        const charts = await google.colab.kernel.invokeFunction(\n",
              "            'suggestCharts', [key], {});\n",
              "      } catch (error) {\n",
              "        console.error('Error during call to suggestCharts:', error);\n",
              "      }\n",
              "      quickchartButtonEl.classList.remove('colab-df-spinner');\n",
              "      quickchartButtonEl.classList.add('colab-df-quickchart-complete');\n",
              "    }\n",
              "    (() => {\n",
              "      let quickchartButtonEl =\n",
              "        document.querySelector('#df-1e72eac1-dff5-4660-96de-be3850b3ef7f button');\n",
              "      quickchartButtonEl.style.display =\n",
              "        google.colab.kernel.accessAllowed ? 'block' : 'none';\n",
              "    })();\n",
              "  </script>\n",
              "</div>\n",
              "    </div>\n",
              "  </div>\n"
            ]
          },
          "metadata": {},
          "execution_count": 287
        }
      ]
    },
    {
      "cell_type": "code",
      "source": [
        "prediccion.to_csv('/content/sample_data/prediccion_grid_hiperparametros_balanceo_normalizacion.csv', index = False)"
      ],
      "metadata": {
        "id": "kklrkJq9sI_s"
      },
      "execution_count": 288,
      "outputs": []
    },
    {
      "cell_type": "markdown",
      "source": [
        "# Queremos ver la diferencia de puntaje segun el hiperparametro scoring"
      ],
      "metadata": {
        "id": "mPtX2TLNd6dh"
      }
    },
    {
      "cell_type": "markdown",
      "source": [
        "Queremos ver cual score es el mejor para entrenar"
      ],
      "metadata": {
        "id": "Jd4TF3-xsSCG"
      }
    },
    {
      "cell_type": "markdown",
      "source": [
        "Pasamos los mejores params_grid y 7 folds"
      ],
      "metadata": {
        "id": "7hTI8tFINR-B"
      }
    },
    {
      "cell_type": "code",
      "source": [
        "score_types = pd.DataFrame()\n",
        "\n",
        "lista_scorings = ['f1','accuracy','recall','precision','roc_auc','neg_log_loss','neg_mean_absolute_error','neg_mean_squared_error','r2']\n",
        "\n",
        "X_train_grid, X_test_grid, y_train_grid, y_test_grid = train_test_split(X_train_balanced, y_train_balanced, test_size=0.2, random_state=42)\n",
        "\n",
        "for k in lista_scorings:\n",
        "\n",
        "  clf = DecisionTreeClassifier(random_state=42)\n",
        "\n",
        "  param_grid = {\n",
        "    'criterion': ['entropy'],\n",
        "    'max_depth': [None],\n",
        "    'min_samples_split': [2],\n",
        "    'min_samples_leaf': [1]\n",
        "  }\n",
        "\n",
        "\n",
        "  grid_search = GridSearchCV(clf, param_grid, cv=7, scoring=k, n_jobs=-1)\n",
        "\n",
        "  grid_search.fit(X_train_grid, y_train_grid)\n",
        "\n",
        "  y_pred = grid_search.predict(X_test_grid)\n",
        "\n",
        "  new_row = {'scoring': k, \"score\": f1_score(y_test_grid, y_pred), \"best_params\": grid_search.best_params_}\n",
        "  score_types = score_types.append(new_row, ignore_index=True)"
      ],
      "metadata": {
        "colab": {
          "base_uri": "https://localhost:8080/"
        },
        "id": "oZ9SWgnMbqq7",
        "outputId": "367997b1-a7e0-46a7-b48b-9f51f1f11669"
      },
      "execution_count": 289,
      "outputs": [
        {
          "output_type": "stream",
          "name": "stderr",
          "text": [
            "<ipython-input-289-b421fecb08a7>:26: FutureWarning: The frame.append method is deprecated and will be removed from pandas in a future version. Use pandas.concat instead.\n",
            "  score_types = score_types.append(new_row, ignore_index=True)\n",
            "<ipython-input-289-b421fecb08a7>:26: FutureWarning: The frame.append method is deprecated and will be removed from pandas in a future version. Use pandas.concat instead.\n",
            "  score_types = score_types.append(new_row, ignore_index=True)\n",
            "<ipython-input-289-b421fecb08a7>:26: FutureWarning: The frame.append method is deprecated and will be removed from pandas in a future version. Use pandas.concat instead.\n",
            "  score_types = score_types.append(new_row, ignore_index=True)\n",
            "<ipython-input-289-b421fecb08a7>:26: FutureWarning: The frame.append method is deprecated and will be removed from pandas in a future version. Use pandas.concat instead.\n",
            "  score_types = score_types.append(new_row, ignore_index=True)\n",
            "<ipython-input-289-b421fecb08a7>:26: FutureWarning: The frame.append method is deprecated and will be removed from pandas in a future version. Use pandas.concat instead.\n",
            "  score_types = score_types.append(new_row, ignore_index=True)\n",
            "<ipython-input-289-b421fecb08a7>:26: FutureWarning: The frame.append method is deprecated and will be removed from pandas in a future version. Use pandas.concat instead.\n",
            "  score_types = score_types.append(new_row, ignore_index=True)\n",
            "<ipython-input-289-b421fecb08a7>:26: FutureWarning: The frame.append method is deprecated and will be removed from pandas in a future version. Use pandas.concat instead.\n",
            "  score_types = score_types.append(new_row, ignore_index=True)\n",
            "<ipython-input-289-b421fecb08a7>:26: FutureWarning: The frame.append method is deprecated and will be removed from pandas in a future version. Use pandas.concat instead.\n",
            "  score_types = score_types.append(new_row, ignore_index=True)\n",
            "<ipython-input-289-b421fecb08a7>:26: FutureWarning: The frame.append method is deprecated and will be removed from pandas in a future version. Use pandas.concat instead.\n",
            "  score_types = score_types.append(new_row, ignore_index=True)\n"
          ]
        }
      ]
    },
    {
      "cell_type": "code",
      "source": [
        "score_types.head(10)"
      ],
      "metadata": {
        "colab": {
          "base_uri": "https://localhost:8080/",
          "height": 331
        },
        "id": "YS7CscLfhnyW",
        "outputId": "80fa8a6d-cc25-42d8-cfcc-78ef95b60b65"
      },
      "execution_count": 290,
      "outputs": [
        {
          "output_type": "execute_result",
          "data": {
            "text/plain": [
              "                   scoring     score  \\\n",
              "0                       f1  0.889738   \n",
              "1                 accuracy  0.889738   \n",
              "2                   recall  0.889738   \n",
              "3                precision  0.889738   \n",
              "4                  roc_auc  0.889738   \n",
              "5             neg_log_loss  0.889738   \n",
              "6  neg_mean_absolute_error  0.889738   \n",
              "7   neg_mean_squared_error  0.889738   \n",
              "8                       r2  0.889738   \n",
              "\n",
              "                                         best_params  \n",
              "0  {'criterion': 'entropy', 'max_depth': None, 'm...  \n",
              "1  {'criterion': 'entropy', 'max_depth': None, 'm...  \n",
              "2  {'criterion': 'entropy', 'max_depth': None, 'm...  \n",
              "3  {'criterion': 'entropy', 'max_depth': None, 'm...  \n",
              "4  {'criterion': 'entropy', 'max_depth': None, 'm...  \n",
              "5  {'criterion': 'entropy', 'max_depth': None, 'm...  \n",
              "6  {'criterion': 'entropy', 'max_depth': None, 'm...  \n",
              "7  {'criterion': 'entropy', 'max_depth': None, 'm...  \n",
              "8  {'criterion': 'entropy', 'max_depth': None, 'm...  "
            ],
            "text/html": [
              "\n",
              "  <div id=\"df-690d3bf7-b63a-4ac7-a1fa-8fad30bde3c2\" class=\"colab-df-container\">\n",
              "    <div>\n",
              "<style scoped>\n",
              "    .dataframe tbody tr th:only-of-type {\n",
              "        vertical-align: middle;\n",
              "    }\n",
              "\n",
              "    .dataframe tbody tr th {\n",
              "        vertical-align: top;\n",
              "    }\n",
              "\n",
              "    .dataframe thead th {\n",
              "        text-align: right;\n",
              "    }\n",
              "</style>\n",
              "<table border=\"1\" class=\"dataframe\">\n",
              "  <thead>\n",
              "    <tr style=\"text-align: right;\">\n",
              "      <th></th>\n",
              "      <th>scoring</th>\n",
              "      <th>score</th>\n",
              "      <th>best_params</th>\n",
              "    </tr>\n",
              "  </thead>\n",
              "  <tbody>\n",
              "    <tr>\n",
              "      <th>0</th>\n",
              "      <td>f1</td>\n",
              "      <td>0.889738</td>\n",
              "      <td>{'criterion': 'entropy', 'max_depth': None, 'm...</td>\n",
              "    </tr>\n",
              "    <tr>\n",
              "      <th>1</th>\n",
              "      <td>accuracy</td>\n",
              "      <td>0.889738</td>\n",
              "      <td>{'criterion': 'entropy', 'max_depth': None, 'm...</td>\n",
              "    </tr>\n",
              "    <tr>\n",
              "      <th>2</th>\n",
              "      <td>recall</td>\n",
              "      <td>0.889738</td>\n",
              "      <td>{'criterion': 'entropy', 'max_depth': None, 'm...</td>\n",
              "    </tr>\n",
              "    <tr>\n",
              "      <th>3</th>\n",
              "      <td>precision</td>\n",
              "      <td>0.889738</td>\n",
              "      <td>{'criterion': 'entropy', 'max_depth': None, 'm...</td>\n",
              "    </tr>\n",
              "    <tr>\n",
              "      <th>4</th>\n",
              "      <td>roc_auc</td>\n",
              "      <td>0.889738</td>\n",
              "      <td>{'criterion': 'entropy', 'max_depth': None, 'm...</td>\n",
              "    </tr>\n",
              "    <tr>\n",
              "      <th>5</th>\n",
              "      <td>neg_log_loss</td>\n",
              "      <td>0.889738</td>\n",
              "      <td>{'criterion': 'entropy', 'max_depth': None, 'm...</td>\n",
              "    </tr>\n",
              "    <tr>\n",
              "      <th>6</th>\n",
              "      <td>neg_mean_absolute_error</td>\n",
              "      <td>0.889738</td>\n",
              "      <td>{'criterion': 'entropy', 'max_depth': None, 'm...</td>\n",
              "    </tr>\n",
              "    <tr>\n",
              "      <th>7</th>\n",
              "      <td>neg_mean_squared_error</td>\n",
              "      <td>0.889738</td>\n",
              "      <td>{'criterion': 'entropy', 'max_depth': None, 'm...</td>\n",
              "    </tr>\n",
              "    <tr>\n",
              "      <th>8</th>\n",
              "      <td>r2</td>\n",
              "      <td>0.889738</td>\n",
              "      <td>{'criterion': 'entropy', 'max_depth': None, 'm...</td>\n",
              "    </tr>\n",
              "  </tbody>\n",
              "</table>\n",
              "</div>\n",
              "    <div class=\"colab-df-buttons\">\n",
              "\n",
              "  <div class=\"colab-df-container\">\n",
              "    <button class=\"colab-df-convert\" onclick=\"convertToInteractive('df-690d3bf7-b63a-4ac7-a1fa-8fad30bde3c2')\"\n",
              "            title=\"Convert this dataframe to an interactive table.\"\n",
              "            style=\"display:none;\">\n",
              "\n",
              "  <svg xmlns=\"http://www.w3.org/2000/svg\" height=\"24px\" viewBox=\"0 -960 960 960\">\n",
              "    <path d=\"M120-120v-720h720v720H120Zm60-500h600v-160H180v160Zm220 220h160v-160H400v160Zm0 220h160v-160H400v160ZM180-400h160v-160H180v160Zm440 0h160v-160H620v160ZM180-180h160v-160H180v160Zm440 0h160v-160H620v160Z\"/>\n",
              "  </svg>\n",
              "    </button>\n",
              "\n",
              "  <style>\n",
              "    .colab-df-container {\n",
              "      display:flex;\n",
              "      gap: 12px;\n",
              "    }\n",
              "\n",
              "    .colab-df-convert {\n",
              "      background-color: #E8F0FE;\n",
              "      border: none;\n",
              "      border-radius: 50%;\n",
              "      cursor: pointer;\n",
              "      display: none;\n",
              "      fill: #1967D2;\n",
              "      height: 32px;\n",
              "      padding: 0 0 0 0;\n",
              "      width: 32px;\n",
              "    }\n",
              "\n",
              "    .colab-df-convert:hover {\n",
              "      background-color: #E2EBFA;\n",
              "      box-shadow: 0px 1px 2px rgba(60, 64, 67, 0.3), 0px 1px 3px 1px rgba(60, 64, 67, 0.15);\n",
              "      fill: #174EA6;\n",
              "    }\n",
              "\n",
              "    .colab-df-buttons div {\n",
              "      margin-bottom: 4px;\n",
              "    }\n",
              "\n",
              "    [theme=dark] .colab-df-convert {\n",
              "      background-color: #3B4455;\n",
              "      fill: #D2E3FC;\n",
              "    }\n",
              "\n",
              "    [theme=dark] .colab-df-convert:hover {\n",
              "      background-color: #434B5C;\n",
              "      box-shadow: 0px 1px 3px 1px rgba(0, 0, 0, 0.15);\n",
              "      filter: drop-shadow(0px 1px 2px rgba(0, 0, 0, 0.3));\n",
              "      fill: #FFFFFF;\n",
              "    }\n",
              "  </style>\n",
              "\n",
              "    <script>\n",
              "      const buttonEl =\n",
              "        document.querySelector('#df-690d3bf7-b63a-4ac7-a1fa-8fad30bde3c2 button.colab-df-convert');\n",
              "      buttonEl.style.display =\n",
              "        google.colab.kernel.accessAllowed ? 'block' : 'none';\n",
              "\n",
              "      async function convertToInteractive(key) {\n",
              "        const element = document.querySelector('#df-690d3bf7-b63a-4ac7-a1fa-8fad30bde3c2');\n",
              "        const dataTable =\n",
              "          await google.colab.kernel.invokeFunction('convertToInteractive',\n",
              "                                                    [key], {});\n",
              "        if (!dataTable) return;\n",
              "\n",
              "        const docLinkHtml = 'Like what you see? Visit the ' +\n",
              "          '<a target=\"_blank\" href=https://colab.research.google.com/notebooks/data_table.ipynb>data table notebook</a>'\n",
              "          + ' to learn more about interactive tables.';\n",
              "        element.innerHTML = '';\n",
              "        dataTable['output_type'] = 'display_data';\n",
              "        await google.colab.output.renderOutput(dataTable, element);\n",
              "        const docLink = document.createElement('div');\n",
              "        docLink.innerHTML = docLinkHtml;\n",
              "        element.appendChild(docLink);\n",
              "      }\n",
              "    </script>\n",
              "  </div>\n",
              "\n",
              "\n",
              "<div id=\"df-a2561f60-20c2-4780-b015-2b08b4338224\">\n",
              "  <button class=\"colab-df-quickchart\" onclick=\"quickchart('df-a2561f60-20c2-4780-b015-2b08b4338224')\"\n",
              "            title=\"Suggest charts.\"\n",
              "            style=\"display:none;\">\n",
              "\n",
              "<svg xmlns=\"http://www.w3.org/2000/svg\" height=\"24px\"viewBox=\"0 0 24 24\"\n",
              "     width=\"24px\">\n",
              "    <g>\n",
              "        <path d=\"M19 3H5c-1.1 0-2 .9-2 2v14c0 1.1.9 2 2 2h14c1.1 0 2-.9 2-2V5c0-1.1-.9-2-2-2zM9 17H7v-7h2v7zm4 0h-2V7h2v10zm4 0h-2v-4h2v4z\"/>\n",
              "    </g>\n",
              "</svg>\n",
              "  </button>\n",
              "\n",
              "<style>\n",
              "  .colab-df-quickchart {\n",
              "      --bg-color: #E8F0FE;\n",
              "      --fill-color: #1967D2;\n",
              "      --hover-bg-color: #E2EBFA;\n",
              "      --hover-fill-color: #174EA6;\n",
              "      --disabled-fill-color: #AAA;\n",
              "      --disabled-bg-color: #DDD;\n",
              "  }\n",
              "\n",
              "  [theme=dark] .colab-df-quickchart {\n",
              "      --bg-color: #3B4455;\n",
              "      --fill-color: #D2E3FC;\n",
              "      --hover-bg-color: #434B5C;\n",
              "      --hover-fill-color: #FFFFFF;\n",
              "      --disabled-bg-color: #3B4455;\n",
              "      --disabled-fill-color: #666;\n",
              "  }\n",
              "\n",
              "  .colab-df-quickchart {\n",
              "    background-color: var(--bg-color);\n",
              "    border: none;\n",
              "    border-radius: 50%;\n",
              "    cursor: pointer;\n",
              "    display: none;\n",
              "    fill: var(--fill-color);\n",
              "    height: 32px;\n",
              "    padding: 0;\n",
              "    width: 32px;\n",
              "  }\n",
              "\n",
              "  .colab-df-quickchart:hover {\n",
              "    background-color: var(--hover-bg-color);\n",
              "    box-shadow: 0 1px 2px rgba(60, 64, 67, 0.3), 0 1px 3px 1px rgba(60, 64, 67, 0.15);\n",
              "    fill: var(--button-hover-fill-color);\n",
              "  }\n",
              "\n",
              "  .colab-df-quickchart-complete:disabled,\n",
              "  .colab-df-quickchart-complete:disabled:hover {\n",
              "    background-color: var(--disabled-bg-color);\n",
              "    fill: var(--disabled-fill-color);\n",
              "    box-shadow: none;\n",
              "  }\n",
              "\n",
              "  .colab-df-spinner {\n",
              "    border: 2px solid var(--fill-color);\n",
              "    border-color: transparent;\n",
              "    border-bottom-color: var(--fill-color);\n",
              "    animation:\n",
              "      spin 1s steps(1) infinite;\n",
              "  }\n",
              "\n",
              "  @keyframes spin {\n",
              "    0% {\n",
              "      border-color: transparent;\n",
              "      border-bottom-color: var(--fill-color);\n",
              "      border-left-color: var(--fill-color);\n",
              "    }\n",
              "    20% {\n",
              "      border-color: transparent;\n",
              "      border-left-color: var(--fill-color);\n",
              "      border-top-color: var(--fill-color);\n",
              "    }\n",
              "    30% {\n",
              "      border-color: transparent;\n",
              "      border-left-color: var(--fill-color);\n",
              "      border-top-color: var(--fill-color);\n",
              "      border-right-color: var(--fill-color);\n",
              "    }\n",
              "    40% {\n",
              "      border-color: transparent;\n",
              "      border-right-color: var(--fill-color);\n",
              "      border-top-color: var(--fill-color);\n",
              "    }\n",
              "    60% {\n",
              "      border-color: transparent;\n",
              "      border-right-color: var(--fill-color);\n",
              "    }\n",
              "    80% {\n",
              "      border-color: transparent;\n",
              "      border-right-color: var(--fill-color);\n",
              "      border-bottom-color: var(--fill-color);\n",
              "    }\n",
              "    90% {\n",
              "      border-color: transparent;\n",
              "      border-bottom-color: var(--fill-color);\n",
              "    }\n",
              "  }\n",
              "</style>\n",
              "\n",
              "  <script>\n",
              "    async function quickchart(key) {\n",
              "      const quickchartButtonEl =\n",
              "        document.querySelector('#' + key + ' button');\n",
              "      quickchartButtonEl.disabled = true;  // To prevent multiple clicks.\n",
              "      quickchartButtonEl.classList.add('colab-df-spinner');\n",
              "      try {\n",
              "        const charts = await google.colab.kernel.invokeFunction(\n",
              "            'suggestCharts', [key], {});\n",
              "      } catch (error) {\n",
              "        console.error('Error during call to suggestCharts:', error);\n",
              "      }\n",
              "      quickchartButtonEl.classList.remove('colab-df-spinner');\n",
              "      quickchartButtonEl.classList.add('colab-df-quickchart-complete');\n",
              "    }\n",
              "    (() => {\n",
              "      let quickchartButtonEl =\n",
              "        document.querySelector('#df-a2561f60-20c2-4780-b015-2b08b4338224 button');\n",
              "      quickchartButtonEl.style.display =\n",
              "        google.colab.kernel.accessAllowed ? 'block' : 'none';\n",
              "    })();\n",
              "  </script>\n",
              "</div>\n",
              "    </div>\n",
              "  </div>\n"
            ]
          },
          "metadata": {},
          "execution_count": 290
        }
      ]
    },
    {
      "cell_type": "code",
      "source": [
        "score_types[score_types['score'].max() == score_types['score']]"
      ],
      "metadata": {
        "colab": {
          "base_uri": "https://localhost:8080/",
          "height": 331
        },
        "id": "wn9npTQvck7P",
        "outputId": "da16312e-5acc-4e9c-f59d-3b6d1bfa3553"
      },
      "execution_count": 291,
      "outputs": [
        {
          "output_type": "execute_result",
          "data": {
            "text/plain": [
              "                   scoring     score  \\\n",
              "0                       f1  0.889738   \n",
              "1                 accuracy  0.889738   \n",
              "2                   recall  0.889738   \n",
              "3                precision  0.889738   \n",
              "4                  roc_auc  0.889738   \n",
              "5             neg_log_loss  0.889738   \n",
              "6  neg_mean_absolute_error  0.889738   \n",
              "7   neg_mean_squared_error  0.889738   \n",
              "8                       r2  0.889738   \n",
              "\n",
              "                                         best_params  \n",
              "0  {'criterion': 'entropy', 'max_depth': None, 'm...  \n",
              "1  {'criterion': 'entropy', 'max_depth': None, 'm...  \n",
              "2  {'criterion': 'entropy', 'max_depth': None, 'm...  \n",
              "3  {'criterion': 'entropy', 'max_depth': None, 'm...  \n",
              "4  {'criterion': 'entropy', 'max_depth': None, 'm...  \n",
              "5  {'criterion': 'entropy', 'max_depth': None, 'm...  \n",
              "6  {'criterion': 'entropy', 'max_depth': None, 'm...  \n",
              "7  {'criterion': 'entropy', 'max_depth': None, 'm...  \n",
              "8  {'criterion': 'entropy', 'max_depth': None, 'm...  "
            ],
            "text/html": [
              "\n",
              "  <div id=\"df-3ca94950-37cd-495b-a9cb-42133afeaa19\" class=\"colab-df-container\">\n",
              "    <div>\n",
              "<style scoped>\n",
              "    .dataframe tbody tr th:only-of-type {\n",
              "        vertical-align: middle;\n",
              "    }\n",
              "\n",
              "    .dataframe tbody tr th {\n",
              "        vertical-align: top;\n",
              "    }\n",
              "\n",
              "    .dataframe thead th {\n",
              "        text-align: right;\n",
              "    }\n",
              "</style>\n",
              "<table border=\"1\" class=\"dataframe\">\n",
              "  <thead>\n",
              "    <tr style=\"text-align: right;\">\n",
              "      <th></th>\n",
              "      <th>scoring</th>\n",
              "      <th>score</th>\n",
              "      <th>best_params</th>\n",
              "    </tr>\n",
              "  </thead>\n",
              "  <tbody>\n",
              "    <tr>\n",
              "      <th>0</th>\n",
              "      <td>f1</td>\n",
              "      <td>0.889738</td>\n",
              "      <td>{'criterion': 'entropy', 'max_depth': None, 'm...</td>\n",
              "    </tr>\n",
              "    <tr>\n",
              "      <th>1</th>\n",
              "      <td>accuracy</td>\n",
              "      <td>0.889738</td>\n",
              "      <td>{'criterion': 'entropy', 'max_depth': None, 'm...</td>\n",
              "    </tr>\n",
              "    <tr>\n",
              "      <th>2</th>\n",
              "      <td>recall</td>\n",
              "      <td>0.889738</td>\n",
              "      <td>{'criterion': 'entropy', 'max_depth': None, 'm...</td>\n",
              "    </tr>\n",
              "    <tr>\n",
              "      <th>3</th>\n",
              "      <td>precision</td>\n",
              "      <td>0.889738</td>\n",
              "      <td>{'criterion': 'entropy', 'max_depth': None, 'm...</td>\n",
              "    </tr>\n",
              "    <tr>\n",
              "      <th>4</th>\n",
              "      <td>roc_auc</td>\n",
              "      <td>0.889738</td>\n",
              "      <td>{'criterion': 'entropy', 'max_depth': None, 'm...</td>\n",
              "    </tr>\n",
              "    <tr>\n",
              "      <th>5</th>\n",
              "      <td>neg_log_loss</td>\n",
              "      <td>0.889738</td>\n",
              "      <td>{'criterion': 'entropy', 'max_depth': None, 'm...</td>\n",
              "    </tr>\n",
              "    <tr>\n",
              "      <th>6</th>\n",
              "      <td>neg_mean_absolute_error</td>\n",
              "      <td>0.889738</td>\n",
              "      <td>{'criterion': 'entropy', 'max_depth': None, 'm...</td>\n",
              "    </tr>\n",
              "    <tr>\n",
              "      <th>7</th>\n",
              "      <td>neg_mean_squared_error</td>\n",
              "      <td>0.889738</td>\n",
              "      <td>{'criterion': 'entropy', 'max_depth': None, 'm...</td>\n",
              "    </tr>\n",
              "    <tr>\n",
              "      <th>8</th>\n",
              "      <td>r2</td>\n",
              "      <td>0.889738</td>\n",
              "      <td>{'criterion': 'entropy', 'max_depth': None, 'm...</td>\n",
              "    </tr>\n",
              "  </tbody>\n",
              "</table>\n",
              "</div>\n",
              "    <div class=\"colab-df-buttons\">\n",
              "\n",
              "  <div class=\"colab-df-container\">\n",
              "    <button class=\"colab-df-convert\" onclick=\"convertToInteractive('df-3ca94950-37cd-495b-a9cb-42133afeaa19')\"\n",
              "            title=\"Convert this dataframe to an interactive table.\"\n",
              "            style=\"display:none;\">\n",
              "\n",
              "  <svg xmlns=\"http://www.w3.org/2000/svg\" height=\"24px\" viewBox=\"0 -960 960 960\">\n",
              "    <path d=\"M120-120v-720h720v720H120Zm60-500h600v-160H180v160Zm220 220h160v-160H400v160Zm0 220h160v-160H400v160ZM180-400h160v-160H180v160Zm440 0h160v-160H620v160ZM180-180h160v-160H180v160Zm440 0h160v-160H620v160Z\"/>\n",
              "  </svg>\n",
              "    </button>\n",
              "\n",
              "  <style>\n",
              "    .colab-df-container {\n",
              "      display:flex;\n",
              "      gap: 12px;\n",
              "    }\n",
              "\n",
              "    .colab-df-convert {\n",
              "      background-color: #E8F0FE;\n",
              "      border: none;\n",
              "      border-radius: 50%;\n",
              "      cursor: pointer;\n",
              "      display: none;\n",
              "      fill: #1967D2;\n",
              "      height: 32px;\n",
              "      padding: 0 0 0 0;\n",
              "      width: 32px;\n",
              "    }\n",
              "\n",
              "    .colab-df-convert:hover {\n",
              "      background-color: #E2EBFA;\n",
              "      box-shadow: 0px 1px 2px rgba(60, 64, 67, 0.3), 0px 1px 3px 1px rgba(60, 64, 67, 0.15);\n",
              "      fill: #174EA6;\n",
              "    }\n",
              "\n",
              "    .colab-df-buttons div {\n",
              "      margin-bottom: 4px;\n",
              "    }\n",
              "\n",
              "    [theme=dark] .colab-df-convert {\n",
              "      background-color: #3B4455;\n",
              "      fill: #D2E3FC;\n",
              "    }\n",
              "\n",
              "    [theme=dark] .colab-df-convert:hover {\n",
              "      background-color: #434B5C;\n",
              "      box-shadow: 0px 1px 3px 1px rgba(0, 0, 0, 0.15);\n",
              "      filter: drop-shadow(0px 1px 2px rgba(0, 0, 0, 0.3));\n",
              "      fill: #FFFFFF;\n",
              "    }\n",
              "  </style>\n",
              "\n",
              "    <script>\n",
              "      const buttonEl =\n",
              "        document.querySelector('#df-3ca94950-37cd-495b-a9cb-42133afeaa19 button.colab-df-convert');\n",
              "      buttonEl.style.display =\n",
              "        google.colab.kernel.accessAllowed ? 'block' : 'none';\n",
              "\n",
              "      async function convertToInteractive(key) {\n",
              "        const element = document.querySelector('#df-3ca94950-37cd-495b-a9cb-42133afeaa19');\n",
              "        const dataTable =\n",
              "          await google.colab.kernel.invokeFunction('convertToInteractive',\n",
              "                                                    [key], {});\n",
              "        if (!dataTable) return;\n",
              "\n",
              "        const docLinkHtml = 'Like what you see? Visit the ' +\n",
              "          '<a target=\"_blank\" href=https://colab.research.google.com/notebooks/data_table.ipynb>data table notebook</a>'\n",
              "          + ' to learn more about interactive tables.';\n",
              "        element.innerHTML = '';\n",
              "        dataTable['output_type'] = 'display_data';\n",
              "        await google.colab.output.renderOutput(dataTable, element);\n",
              "        const docLink = document.createElement('div');\n",
              "        docLink.innerHTML = docLinkHtml;\n",
              "        element.appendChild(docLink);\n",
              "      }\n",
              "    </script>\n",
              "  </div>\n",
              "\n",
              "\n",
              "<div id=\"df-8e1e7cca-98e7-474a-93aa-eac5c192fe55\">\n",
              "  <button class=\"colab-df-quickchart\" onclick=\"quickchart('df-8e1e7cca-98e7-474a-93aa-eac5c192fe55')\"\n",
              "            title=\"Suggest charts.\"\n",
              "            style=\"display:none;\">\n",
              "\n",
              "<svg xmlns=\"http://www.w3.org/2000/svg\" height=\"24px\"viewBox=\"0 0 24 24\"\n",
              "     width=\"24px\">\n",
              "    <g>\n",
              "        <path d=\"M19 3H5c-1.1 0-2 .9-2 2v14c0 1.1.9 2 2 2h14c1.1 0 2-.9 2-2V5c0-1.1-.9-2-2-2zM9 17H7v-7h2v7zm4 0h-2V7h2v10zm4 0h-2v-4h2v4z\"/>\n",
              "    </g>\n",
              "</svg>\n",
              "  </button>\n",
              "\n",
              "<style>\n",
              "  .colab-df-quickchart {\n",
              "      --bg-color: #E8F0FE;\n",
              "      --fill-color: #1967D2;\n",
              "      --hover-bg-color: #E2EBFA;\n",
              "      --hover-fill-color: #174EA6;\n",
              "      --disabled-fill-color: #AAA;\n",
              "      --disabled-bg-color: #DDD;\n",
              "  }\n",
              "\n",
              "  [theme=dark] .colab-df-quickchart {\n",
              "      --bg-color: #3B4455;\n",
              "      --fill-color: #D2E3FC;\n",
              "      --hover-bg-color: #434B5C;\n",
              "      --hover-fill-color: #FFFFFF;\n",
              "      --disabled-bg-color: #3B4455;\n",
              "      --disabled-fill-color: #666;\n",
              "  }\n",
              "\n",
              "  .colab-df-quickchart {\n",
              "    background-color: var(--bg-color);\n",
              "    border: none;\n",
              "    border-radius: 50%;\n",
              "    cursor: pointer;\n",
              "    display: none;\n",
              "    fill: var(--fill-color);\n",
              "    height: 32px;\n",
              "    padding: 0;\n",
              "    width: 32px;\n",
              "  }\n",
              "\n",
              "  .colab-df-quickchart:hover {\n",
              "    background-color: var(--hover-bg-color);\n",
              "    box-shadow: 0 1px 2px rgba(60, 64, 67, 0.3), 0 1px 3px 1px rgba(60, 64, 67, 0.15);\n",
              "    fill: var(--button-hover-fill-color);\n",
              "  }\n",
              "\n",
              "  .colab-df-quickchart-complete:disabled,\n",
              "  .colab-df-quickchart-complete:disabled:hover {\n",
              "    background-color: var(--disabled-bg-color);\n",
              "    fill: var(--disabled-fill-color);\n",
              "    box-shadow: none;\n",
              "  }\n",
              "\n",
              "  .colab-df-spinner {\n",
              "    border: 2px solid var(--fill-color);\n",
              "    border-color: transparent;\n",
              "    border-bottom-color: var(--fill-color);\n",
              "    animation:\n",
              "      spin 1s steps(1) infinite;\n",
              "  }\n",
              "\n",
              "  @keyframes spin {\n",
              "    0% {\n",
              "      border-color: transparent;\n",
              "      border-bottom-color: var(--fill-color);\n",
              "      border-left-color: var(--fill-color);\n",
              "    }\n",
              "    20% {\n",
              "      border-color: transparent;\n",
              "      border-left-color: var(--fill-color);\n",
              "      border-top-color: var(--fill-color);\n",
              "    }\n",
              "    30% {\n",
              "      border-color: transparent;\n",
              "      border-left-color: var(--fill-color);\n",
              "      border-top-color: var(--fill-color);\n",
              "      border-right-color: var(--fill-color);\n",
              "    }\n",
              "    40% {\n",
              "      border-color: transparent;\n",
              "      border-right-color: var(--fill-color);\n",
              "      border-top-color: var(--fill-color);\n",
              "    }\n",
              "    60% {\n",
              "      border-color: transparent;\n",
              "      border-right-color: var(--fill-color);\n",
              "    }\n",
              "    80% {\n",
              "      border-color: transparent;\n",
              "      border-right-color: var(--fill-color);\n",
              "      border-bottom-color: var(--fill-color);\n",
              "    }\n",
              "    90% {\n",
              "      border-color: transparent;\n",
              "      border-bottom-color: var(--fill-color);\n",
              "    }\n",
              "  }\n",
              "</style>\n",
              "\n",
              "  <script>\n",
              "    async function quickchart(key) {\n",
              "      const quickchartButtonEl =\n",
              "        document.querySelector('#' + key + ' button');\n",
              "      quickchartButtonEl.disabled = true;  // To prevent multiple clicks.\n",
              "      quickchartButtonEl.classList.add('colab-df-spinner');\n",
              "      try {\n",
              "        const charts = await google.colab.kernel.invokeFunction(\n",
              "            'suggestCharts', [key], {});\n",
              "      } catch (error) {\n",
              "        console.error('Error during call to suggestCharts:', error);\n",
              "      }\n",
              "      quickchartButtonEl.classList.remove('colab-df-spinner');\n",
              "      quickchartButtonEl.classList.add('colab-df-quickchart-complete');\n",
              "    }\n",
              "    (() => {\n",
              "      let quickchartButtonEl =\n",
              "        document.querySelector('#df-8e1e7cca-98e7-474a-93aa-eac5c192fe55 button');\n",
              "      quickchartButtonEl.style.display =\n",
              "        google.colab.kernel.accessAllowed ? 'block' : 'none';\n",
              "    })();\n",
              "  </script>\n",
              "</div>\n",
              "    </div>\n",
              "  </div>\n"
            ]
          },
          "metadata": {},
          "execution_count": 291
        }
      ]
    },
    {
      "cell_type": "markdown",
      "source": [
        "con todos los scorings devuelve el mismo puntaje."
      ],
      "metadata": {
        "id": "7YqNDI1i6ASP"
      }
    },
    {
      "cell_type": "code",
      "source": [
        "from sklearn.tree import plot_tree\n",
        "import matplotlib.pyplot as plt\n",
        "\n",
        "best_model = grid_search_2.best_estimator_\n",
        "\n",
        "\n",
        "plt.figure(figsize=(12, 8))\n",
        "plot_tree(best_model, filled=True, feature_names=a.columns, class_names=[\"0\", \"1\"])\n",
        "plt.show()"
      ],
      "metadata": {
        "colab": {
          "base_uri": "https://localhost:8080/",
          "height": 653
        },
        "outputId": "112f1be5-ea36-4fa1-d882-81848da0d7f7",
        "id": "OwoMC4A1YBTQ"
      },
      "execution_count": 292,
      "outputs": [
        {
          "output_type": "display_data",
          "data": {
            "text/plain": [
              "<Figure size 1200x800 with 1 Axes>"
            ],
            "image/png": "[encoded data removed]"
          },
          "metadata": {}
        }
      ]
    },
    {
      "cell_type": "markdown",
      "source": [
        "Mostramos un arbol representativo de los datos donde se pueda ver mejor."
      ],
      "metadata": {
        "id": "Tq32PkNfYiw8"
      }
    },
    {
      "cell_type": "code",
      "source": [
        "best_model = grid_search_2.best_estimator_\n",
        "\n",
        "\n",
        "plt.figure(figsize=(12, 8))\n",
        "plot_tree(best_model, filled=True, feature_names=a.columns, class_names=[\"0\", \"1\"],max_depth=3)\n",
        "plt.show()\n",
        "\n"
      ],
      "metadata": {
        "colab": {
          "base_uri": "https://localhost:8080/",
          "height": 653
        },
        "id": "UQEGZ1IpX_uc",
        "outputId": "858d42d3-61bc-495c-d99e-56128157d71f"
      },
      "execution_count": 293,
      "outputs": [
        {
          "output_type": "display_data",
          "data": {
            "text/plain": [
              "<Figure size 1200x800 with 1 Axes>"
            ],
            "image/png": "[encoded data removed]"
          },
          "metadata": {}
        }
      ]
    }
  ]
}