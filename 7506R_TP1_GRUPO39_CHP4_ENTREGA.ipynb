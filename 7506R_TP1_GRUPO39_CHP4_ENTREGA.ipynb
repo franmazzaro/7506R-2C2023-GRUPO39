{
  "nbformat": 4,
  "nbformat_minor": 0,
  "metadata": {
    "colab": {
      "provenance": [],
      "include_colab_link": true
    },
    "kernelspec": {
      "name": "python3",
      "display_name": "Python 3"
    },
    "language_info": {
      "name": "python"
    }
  },
  "cells": [
    {
      "cell_type": "markdown",
      "metadata": {
        "id": "view-in-github",
        "colab_type": "text"
      },
      "source": [
        "<a href=\"https://colab.research.google.com/github/franmazzaro/7506R-2C2023-GRUPO39/blob/main/7506R_TP1_GRUPO39_CHP4_ENTREGA.ipynb\" target=\"_parent\"><img src=\"https://colab.research.google.com/assets/colab-badge.svg\" alt=\"Open In Colab\"/></a>"
      ]
    },
    {
      "cell_type": "markdown",
      "source": [
        "# Librerias"
      ],
      "metadata": {
        "id": "P1q3ipICm99B"
      }
    },
    {
      "cell_type": "code",
      "source": [
        "import pandas as pd\n",
        "import numpy as np\n",
        "from sklearn.preprocessing import MinMaxScaler\n",
        "from matplotlib import pyplot as plt\n",
        "import seaborn as sns\n",
        "from sklearn.metrics import accuracy_score, precision_score, recall_score, f1_score, roc_auc_score, confusion_matrix, classification_report, make_scorer\n",
        "from sklearn.utils import resample\n",
        "from sklearn.model_selection import train_test_split\n",
        "from sklearn.preprocessing import StandardScaler\n",
        "import tensorflow as tf\n",
        "from tensorflow import keras\n",
        "import warnings"
      ],
      "metadata": {
        "id": "CqnHYLIWvyfg"
      },
      "execution_count": 27,
      "outputs": []
    },
    {
      "cell_type": "code",
      "source": [
        "np.random.seed(1)\n",
        "tf.random.set_seed(1)\n",
        "warnings.filterwarnings(\"ignore\", category=DeprecationWarning)"
      ],
      "metadata": {
        "id": "0ZOobyiyxn3B"
      },
      "execution_count": 28,
      "outputs": []
    },
    {
      "cell_type": "code",
      "execution_count": 29,
      "metadata": {
        "id": "MBUAtSkRvPxg"
      },
      "outputs": [],
      "source": [
        "# Importamos el dataset que trabajamos en el checkpoint 2 con las varibles categóricas como dummies\n",
        "reservas = pd.read_csv('/content/sample_data/reservas_dummies.csv')\n",
        "\n",
        "# Importamos el dataset de test con las variables categóricas como dummies\n",
        "test = pd.read_csv('/content/sample_data/test_dummies.csv')"
      ]
    },
    {
      "cell_type": "markdown",
      "source": [
        "# Preprocesamiento"
      ],
      "metadata": {
        "id": "uuCpJjyxTN3P"
      }
    },
    {
      "cell_type": "code",
      "source": [
        "# Droppeamos el id para poder entrenar y predecir\n",
        "ids_train = reservas[\"id\"]\n",
        "ids_test = test[\"id\"]\n",
        "reservas.drop(columns=\"id\", inplace=True)\n",
        "test.drop(columns=\"id\", inplace=True)\n",
        "\n",
        "# Ordenamos las columnas\n",
        "reservas = reservas.reindex(sorted(reservas.columns), axis=1)\n",
        "test = test.reindex(sorted(test.columns), axis=1)\n",
        "\n",
        "# Imputamos datos faltantes\n",
        "test['agent'] = test['agent'].fillna(-1)\n",
        "test['company'] = test['company'].fillna(-1)"
      ],
      "metadata": {
        "id": "Ll9hM6LYvapK"
      },
      "execution_count": 30,
      "outputs": []
    },
    {
      "cell_type": "code",
      "source": [
        "def mostrar_metricas(y_test, y_pred):\n",
        "  #Cantidad de aciertos\n",
        "  print('correctas: ', np.sum(y_test == y_pred))\n",
        "  print('total: ', len(y_test))\n",
        "\n",
        "  print(classification_report(y_test, y_pred))\n",
        "\n",
        "  #Grafico la matriz de confusión\n",
        "  tabla=confusion_matrix(y_test, y_pred)\n",
        "  sns.heatmap(tabla,cmap='GnBu',annot=True,fmt='g')\n",
        "  plt.xlabel('Predicted')\n",
        "  plt.ylabel('True')\n",
        "  plt.show()"
      ],
      "metadata": {
        "id": "FTFF2TVyvcfN"
      },
      "execution_count": 31,
      "outputs": []
    },
    {
      "cell_type": "code",
      "source": [
        "def exportar_prediccion(ids_test, y_pred, filename):\n",
        "  prediccion = pd.DataFrame({\"id\": ids_test, \"is_canceled\": y_pred})\n",
        "  prediccion.to_csv('/content/sample_data/prediccion_'+filename+'.csv', index = False)"
      ],
      "metadata": {
        "id": "aisAVwyBvdmA"
      },
      "execution_count": 32,
      "outputs": []
    },
    {
      "cell_type": "code",
      "source": [
        "a = reservas.drop(['is_canceled'], axis=1)\n",
        "b = reservas['is_canceled']"
      ],
      "metadata": {
        "id": "YfCn0L1pvfM_"
      },
      "execution_count": 33,
      "outputs": []
    },
    {
      "cell_type": "code",
      "source": [
        "# Normalización Min-Max en los datos de entrenamiento\n",
        "scaler = MinMaxScaler()\n",
        "X_train_normalized = scaler.fit_transform(a)\n",
        "\n",
        "# Balanceo de clases\n",
        "class_0 = X_train_normalized[b == 0]\n",
        "class_1 = X_train_normalized[b == 1]\n",
        "\n",
        "# Balanceo de clases (sobremuestreo de la clase minoritaria)\n",
        "\n",
        "# Selecciona los ejemplos de la clase mayoritaria (clase \"0\")\n",
        "class_0 = X_train_normalized[b == 0]\n",
        "\n",
        "# Selecciona los ejemplos de la clase minoritaria (clase \"1\")\n",
        "class_1 = X_train_normalized[b == 1]\n",
        "\n",
        "# Realiza sobremuestreo de la clase minoritaria (clase \"1\")\n",
        "# - replace=True: Permite muestrear con reemplazo\n",
        "# - n_samples=len(class_0): Genera tantas muestras de la clase \"1\" como ejemplos de la clase \"0\"\n",
        "class_0_oversampled = resample(class_1, replace=True, n_samples=len(class_0), random_state=42)\n",
        "\n",
        "# Combina los datos equilibrados en X_train_balanced y y_train_balanced\n",
        "# - np.vstack: Apila verticalmente los arrays\n",
        "# - np.hstack: Concatena horizontalmente los arrays\n",
        "X_train_balanced = np.vstack((class_0, class_0_oversampled))\n",
        "y_train_balanced = np.hstack((b[b == 0], np.ones(len(class_0))))"
      ],
      "metadata": {
        "id": "fBkldrXMvhoG"
      },
      "execution_count": 34,
      "outputs": []
    },
    {
      "cell_type": "code",
      "source": [
        "# Datos con normalización y balanceo\n",
        "x_train_bal, x_test_bal, y_train_bal, y_test_bal = train_test_split(X_train_balanced, y_train_balanced, test_size=0.20, random_state=0)\n",
        "print(y_test_bal)\n",
        "\n",
        "test_bal  = scaler.transform(test)"
      ],
      "metadata": {
        "id": "XL99u1hPviuD",
        "colab": {
          "base_uri": "https://localhost:8080/"
        },
        "outputId": "7d5a0139-691e-4af6-bec5-bbf869757eea"
      },
      "execution_count": 35,
      "outputs": [
        {
          "output_type": "stream",
          "name": "stdout",
          "text": [
            "[1. 1. 1. ... 0. 0. 0.]\n"
          ]
        }
      ]
    },
    {
      "cell_type": "markdown",
      "source": [
        "# Modelos de Redes Neuronales"
      ],
      "metadata": {
        "id": "U5KaYu4RJhl1"
      }
    },
    {
      "cell_type": "markdown",
      "source": [
        "## Definimos la Arquitectura"
      ],
      "metadata": {
        "id": "mhTrvuUsnRtE"
      }
    },
    {
      "cell_type": "markdown",
      "source": [
        "Utilizamos la funcion de activacion sigmoid para nuestro modelo, ya que como estamos en una prediccion de clasificacion binaria, esta funcion va entre 0 y 1"
      ],
      "metadata": {
        "id": "dqWGjr2ZRdYm"
      }
    },
    {
      "cell_type": "markdown",
      "source": [
        "Colocamos una capa  oculta de 300 neuronas para probar, y utilizamos un tipo de conexion Dropout que es de regularizacion. Apaga neuronas para evitar overfitting."
      ],
      "metadata": {
        "id": "rx3mjIJ2Vy4m"
      }
    },
    {
      "cell_type": "code",
      "source": [
        "cant_clases=len(np.unique(y_train_bal))\n",
        "print(cant_clases)\n",
        "d_in=len(a.columns)\n",
        "print(d_in)\n",
        "modelo_1 = keras.Sequential([\n",
        "    keras.layers.Dense(1,input_shape=(d_in,), activation='sigmoid'),\n",
        "    keras.layers.Dense(300, activation='sigmoid'),\n",
        "    keras.layers.Dropout(0.2),\n",
        "    keras.layers.Dense(1, activation='sigmoid')])\n",
        "\n",
        "modelo_1.summary()"
      ],
      "metadata": {
        "id": "t9N7hLXLJkhF",
        "outputId": "fe46583d-ebd4-4482-e649-2530d09dbf4d",
        "colab": {
          "base_uri": "https://localhost:8080/"
        }
      },
      "execution_count": 36,
      "outputs": [
        {
          "output_type": "stream",
          "name": "stdout",
          "text": [
            "2\n",
            "213\n",
            "Model: \"sequential_3\"\n",
            "_________________________________________________________________\n",
            " Layer (type)                Output Shape              Param #   \n",
            "=================================================================\n",
            " dense_9 (Dense)             (None, 1)                 214       \n",
            "                                                                 \n",
            " dense_10 (Dense)            (None, 300)               600       \n",
            "                                                                 \n",
            " dropout (Dropout)           (None, 300)               0         \n",
            "                                                                 \n",
            " dense_11 (Dense)            (None, 1)                 301       \n",
            "                                                                 \n",
            "=================================================================\n",
            "Total params: 1115 (4.36 KB)\n",
            "Trainable params: 1115 (4.36 KB)\n",
            "Non-trainable params: 0 (0.00 Byte)\n",
            "_________________________________________________________________\n"
          ]
        }
      ]
    },
    {
      "cell_type": "markdown",
      "source": [
        "Probamos creando un modelo con una neurona de entrada, luego 213 neuronas que es igual a la cantidad de columnas de nuestro modelo, una funcion de regularizacion que apaga neuronas para reducir el overfitting y por ultimo una neurona de salida ya que es una clasificacion binaria.\n",
        "\n",
        "Elegimos 213 basandonos en un articulo que recomendaba esta configuracion para problemas de clasificacion binaria (https://medium.com/geekculture/introduction-to-neural-network-2f8b8221fbd3)"
      ],
      "metadata": {
        "id": "TnW9gG95Rktj"
      }
    },
    {
      "cell_type": "code",
      "source": [
        "cant_clases=len(np.unique(y_train_bal))\n",
        "print(cant_clases)\n",
        "d_in=len(a.columns)\n",
        "print(d_in)\n",
        "modelo_2 = keras.Sequential([\n",
        "    keras.layers.Dense(1,input_shape=(d_in,), activation='sigmoid'),\n",
        "    keras.layers.Dense(213, activation='sigmoid'),\n",
        "    keras.layers.Dropout(0.2),\n",
        "    keras.layers.Dense(1, activation='sigmoid')])\n",
        "\n",
        "modelo_2.summary()"
      ],
      "metadata": {
        "colab": {
          "base_uri": "https://localhost:8080/"
        },
        "id": "REomg6Lf0i04",
        "outputId": "7b224e7c-95e7-4159-9cce-e3ef1e3aff68"
      },
      "execution_count": 37,
      "outputs": [
        {
          "output_type": "stream",
          "name": "stdout",
          "text": [
            "2\n",
            "213\n",
            "Model: \"sequential_4\"\n",
            "_________________________________________________________________\n",
            " Layer (type)                Output Shape              Param #   \n",
            "=================================================================\n",
            " dense_12 (Dense)            (None, 1)                 214       \n",
            "                                                                 \n",
            " dense_13 (Dense)            (None, 213)               426       \n",
            "                                                                 \n",
            " dropout_1 (Dropout)         (None, 213)               0         \n",
            "                                                                 \n",
            " dense_14 (Dense)            (None, 1)                 214       \n",
            "                                                                 \n",
            "=================================================================\n",
            "Total params: 854 (3.34 KB)\n",
            "Trainable params: 854 (3.34 KB)\n",
            "Non-trainable params: 0 (0.00 Byte)\n",
            "_________________________________________________________________\n"
          ]
        }
      ]
    },
    {
      "cell_type": "markdown",
      "source": [
        "Aumentamos la cantidad de neuronas a 500 para probar y sumamos otra capa"
      ],
      "metadata": {
        "id": "Xx8dX_rYWYxo"
      }
    },
    {
      "cell_type": "code",
      "source": [
        "cant_clases=len(np.unique(y_train_bal))\n",
        "print(cant_clases)\n",
        "d_in=len(a.columns)\n",
        "print(d_in)\n",
        "modelo_3 = keras.Sequential([\n",
        "    keras.layers.Dense(1,input_shape=(d_in,), activation='sigmoid'),\n",
        "    keras.layers.Dense(500, activation='sigmoid'),\n",
        "    keras.layers.Dropout(0.2),\n",
        "    keras.layers.Dense(500, activation='sigmoid'),\n",
        "    keras.layers.Dropout(0.2),\n",
        "    keras.layers.Dense(1, activation='sigmoid')])\n",
        "\n",
        "modelo_3.summary()"
      ],
      "metadata": {
        "id": "MvKh6vzwL3xj",
        "outputId": "ba2c707e-e8d4-42f8-afd3-71498490fec3",
        "colab": {
          "base_uri": "https://localhost:8080/"
        }
      },
      "execution_count": 72,
      "outputs": [
        {
          "output_type": "stream",
          "name": "stdout",
          "text": [
            "2\n",
            "213\n",
            "Model: \"sequential_12\"\n",
            "_________________________________________________________________\n",
            " Layer (type)                Output Shape              Param #   \n",
            "=================================================================\n",
            " dense_39 (Dense)            (None, 1)                 214       \n",
            "                                                                 \n",
            " dense_40 (Dense)            (None, 500)               1000      \n",
            "                                                                 \n",
            " dropout_9 (Dropout)         (None, 500)               0         \n",
            "                                                                 \n",
            " dense_41 (Dense)            (None, 500)               250500    \n",
            "                                                                 \n",
            " dropout_10 (Dropout)        (None, 500)               0         \n",
            "                                                                 \n",
            " dense_42 (Dense)            (None, 1)                 501       \n",
            "                                                                 \n",
            "=================================================================\n",
            "Total params: 252215 (985.21 KB)\n",
            "Trainable params: 252215 (985.21 KB)\n",
            "Non-trainable params: 0 (0.00 Byte)\n",
            "_________________________________________________________________\n"
          ]
        }
      ]
    },
    {
      "cell_type": "markdown",
      "source": [
        "## Definimos el Optimizador y entrenamos"
      ],
      "metadata": {
        "id": "d5gAFv4lnXqq"
      }
    },
    {
      "cell_type": "markdown",
      "source": [
        "Definimos el optimizador, probamos usando Nadam ya que es adam mas nesterov y converge mas rapido que adam a menudo.\n",
        "\n",
        "\n",
        "Agregamos learning_rate = 0.001 y usamos loss = binary_crossentropy ya que estamos en un problema de clasificacion binario."
      ],
      "metadata": {
        "id": "nT-W1Axckn8y"
      }
    },
    {
      "cell_type": "code",
      "source": [
        "modelo_1.compile(\n",
        "  optimizer=keras.optimizers.Nadam(learning_rate=0.001),\n",
        "  loss='binary_crossentropy',\n",
        "  metrics=['AUC'],\n",
        ")\n",
        "\n",
        "cant_epochs=40\n",
        "modelo_1_historia = modelo_1.fit(x_train_bal,y_train_bal,\n",
        "                                                epochs=cant_epochs,\n",
        "                                                batch_size=50,verbose=False)"
      ],
      "metadata": {
        "id": "22ClPoGg28a5"
      },
      "execution_count": 39,
      "outputs": []
    },
    {
      "cell_type": "code",
      "source": [
        "modelo_2.compile(\n",
        "  optimizer=keras.optimizers.Nadam(learning_rate=0.001),\n",
        "  loss='binary_crossentropy',\n",
        "  metrics=['AUC'],\n",
        ")\n",
        "\n",
        "cant_epochs=40\n",
        "modelo_2_historia = modelo_2.fit(x_train_bal,y_train_bal,\n",
        "                                                epochs=cant_epochs,\n",
        "                                                batch_size=50,verbose=False)"
      ],
      "metadata": {
        "id": "zXs_v6ZXJ5ZK"
      },
      "execution_count": 40,
      "outputs": []
    },
    {
      "cell_type": "code",
      "source": [
        "modelo_3.compile(\n",
        "  optimizer=keras.optimizers.Nadam(learning_rate=0.001),\n",
        "  loss='binary_crossentropy',\n",
        "  metrics=['AUC'],\n",
        ")\n",
        "\n",
        "cant_epochs=40\n",
        "modelo_3_historia = modelo_3.fit(x_train_bal,y_train_bal,\n",
        "                                                epochs=cant_epochs,\n",
        "                                                batch_size=50,verbose=False)"
      ],
      "metadata": {
        "id": "Lq9YsN3QL-zV"
      },
      "execution_count": 73,
      "outputs": []
    },
    {
      "cell_type": "markdown",
      "source": [
        "## Matrices de Counfusion"
      ],
      "metadata": {
        "id": "xm4g7NtqYSv4"
      }
    },
    {
      "cell_type": "markdown",
      "source": [
        "MODELO 1"
      ],
      "metadata": {
        "id": "7dwISgfBkfhB"
      }
    },
    {
      "cell_type": "code",
      "source": [
        "y_predic_1 = modelo_1.predict(x_test_bal)\n",
        "y_predic_cat_1 = np.where(y_predic_1>0.5,1,0)\n",
        "mostrar_metricas(y_predic_cat_1, y_test_bal)"
      ],
      "metadata": {
        "colab": {
          "base_uri": "https://localhost:8080/",
          "height": 657
        },
        "id": "0ZQUVUboBYIJ",
        "outputId": "70f52760-8f3f-482b-8ad3-4b150c5edd8e"
      },
      "execution_count": 43,
      "outputs": [
        {
          "output_type": "stream",
          "name": "stdout",
          "text": [
            "369/369 [==============================] - 1s 2ms/step\n",
            "correctas:  69572186\n",
            "total:  11794\n",
            "              precision    recall  f1-score   support\n",
            "\n",
            "           0       0.79      0.79      0.79      5781\n",
            "           1       0.80      0.80      0.80      6013\n",
            "\n",
            "    accuracy                           0.80     11794\n",
            "   macro avg       0.80      0.80      0.80     11794\n",
            "weighted avg       0.80      0.80      0.80     11794\n",
            "\n"
          ]
        },
        {
          "output_type": "display_data",
          "data": {
            "text/plain": [
              "<Figure size 640x480 with 2 Axes>"
            ],
            "image/png": "[encoded data removed]"
          },
          "metadata": {}
        }
      ]
    },
    {
      "cell_type": "markdown",
      "source": [
        "MODELO 2"
      ],
      "metadata": {
        "id": "ULn3vcRSkhS1"
      }
    },
    {
      "cell_type": "code",
      "source": [
        "y_predic_2 = modelo_2.predict(x_test_bal)\n",
        "y_predic_cat_2 = np.where(y_predic_2>0.5,1,0)\n",
        "mostrar_metricas(y_predic_cat_2, y_test_bal)"
      ],
      "metadata": {
        "colab": {
          "base_uri": "https://localhost:8080/",
          "height": 657
        },
        "id": "Cq_kBv4jDrxx",
        "outputId": "539822ba-47ac-42db-e483-15d4170868f1"
      },
      "execution_count": 44,
      "outputs": [
        {
          "output_type": "stream",
          "name": "stdout",
          "text": [
            "369/369 [==============================] - 1s 2ms/step\n",
            "correctas:  69567632\n",
            "total:  11794\n",
            "              precision    recall  f1-score   support\n",
            "\n",
            "           0       0.79      0.79      0.79      5804\n",
            "           1       0.80      0.80      0.80      5990\n",
            "\n",
            "    accuracy                           0.80     11794\n",
            "   macro avg       0.80      0.80      0.80     11794\n",
            "weighted avg       0.80      0.80      0.80     11794\n",
            "\n"
          ]
        },
        {
          "output_type": "display_data",
          "data": {
            "text/plain": [
              "<Figure size 640x480 with 2 Axes>"
            ],
            "image/png": "[encoded data removed]"
          },
          "metadata": {}
        }
      ]
    },
    {
      "cell_type": "markdown",
      "source": [
        "MODELO 3"
      ],
      "metadata": {
        "id": "x1-E2eNzkjHx"
      }
    },
    {
      "cell_type": "code",
      "source": [
        "y_predic_3 = modelo_3.predict(x_test_bal)\n",
        "y_predic_cat_3 = np.where(y_predic_3>0.5,1,0)\n",
        "mostrar_metricas(y_predic_cat_3, y_test_bal)"
      ],
      "metadata": {
        "id": "EO-mKWTuNXLp",
        "outputId": "c51cb441-4803-418e-f591-81af4604e50c",
        "colab": {
          "base_uri": "https://localhost:8080/",
          "height": 657
        }
      },
      "execution_count": 75,
      "outputs": [
        {
          "output_type": "stream",
          "name": "stdout",
          "text": [
            "369/369 [==============================] - 1s 3ms/step\n",
            "correctas:  69633170\n",
            "total:  11794\n",
            "              precision    recall  f1-score   support\n",
            "\n",
            "           0       0.77      0.81      0.79      5473\n",
            "           1       0.83      0.79      0.81      6321\n",
            "\n",
            "    accuracy                           0.80     11794\n",
            "   macro avg       0.80      0.80      0.80     11794\n",
            "weighted avg       0.80      0.80      0.80     11794\n",
            "\n"
          ]
        },
        {
          "output_type": "display_data",
          "data": {
            "text/plain": [
              "<Figure size 640x480 with 2 Axes>"
            ],
            "image/png": "[encoded data removed]"
          },
          "metadata": {}
        }
      ]
    },
    {
      "cell_type": "markdown",
      "source": [
        "Como se muestra en los graficos podemos ver que a pesar de variar la cantidad de neuronas y capas los resultados son bastante similares. Optamos por elegir el modelo numero 2 por requerir menor capacidad computacional y al no tener un elevado numero de neuronas no corremos riesgo de overfitting.\n",
        "\n"
      ],
      "metadata": {
        "id": "3D0WarT3mFVN"
      }
    },
    {
      "cell_type": "markdown",
      "source": [
        "## Graficos"
      ],
      "metadata": {
        "id": "C-SnMxkGTcUe"
      }
    },
    {
      "cell_type": "code",
      "source": [
        "import matplotlib.pyplot as plt\n",
        "precision, recall, thresholds = precision_recall_curve(y_test_bal, y_predic_cat_1)\n",
        "\n",
        "\n",
        "plt.plot(recall, precision, marker='.')\n",
        "plt.xlabel('Exhaustividad (Recall)')\n",
        "plt.ylabel('Precisión')\n",
        "plt.title('Curva Precision-Recall')\n",
        "plt.grid(True)\n",
        "plt.show()"
      ],
      "metadata": {
        "colab": {
          "base_uri": "https://localhost:8080/",
          "height": 472
        },
        "id": "o0q7x28sDsj5",
        "outputId": "040092cc-99b8-4de1-a4e6-82e8ef65c886"
      },
      "execution_count": 46,
      "outputs": [
        {
          "output_type": "display_data",
          "data": {
            "text/plain": [
              "<Figure size 640x480 with 1 Axes>"
            ],
            "image/png": "[encoded data removed]"
          },
          "metadata": {}
        }
      ]
    },
    {
      "cell_type": "code",
      "source": [
        "epochs = range(cant_epochs)\n",
        "\n",
        "plt.plot(epochs, modelo_1_historia.history['auc'], color='orange', label='AUC')\n",
        "plt.xlabel(\"epochs\")\n",
        "plt.ylabel(\"AUC\")\n",
        "plt.legend()"
      ],
      "metadata": {
        "colab": {
          "base_uri": "https://localhost:8080/",
          "height": 470
        },
        "id": "9wcWy7eX6eJE",
        "outputId": "0f354931-455c-45e4-87d2-af3e8b151fc6"
      },
      "execution_count": 47,
      "outputs": [
        {
          "output_type": "execute_result",
          "data": {
            "text/plain": [
              "<matplotlib.legend.Legend at 0x78967759d840>"
            ]
          },
          "metadata": {},
          "execution_count": 47
        },
        {
          "output_type": "display_data",
          "data": {
            "text/plain": [
              "<Figure size 640x480 with 1 Axes>"
            ],
            "image/png": "[encoded data removed]"
          },
          "metadata": {}
        }
      ]
    },
    {
      "cell_type": "code",
      "source": [
        "epochs = range(cant_epochs)\n",
        "\n",
        "plt.plot(epochs, modelo_1_historia.history['loss'], color='black', label='Loss')\n",
        "plt.xlabel(\"epochs\")\n",
        "plt.ylabel(\"Loss\")\n",
        "plt.legend()"
      ],
      "metadata": {
        "colab": {
          "base_uri": "https://localhost:8080/",
          "height": 466
        },
        "id": "lbyfTVXf6vmg",
        "outputId": "12afb31d-3723-44b6-f420-d440ec3843b2"
      },
      "execution_count": 48,
      "outputs": [
        {
          "output_type": "execute_result",
          "data": {
            "text/plain": [
              "<matplotlib.legend.Legend at 0x7896775d5ba0>"
            ]
          },
          "metadata": {},
          "execution_count": 48
        },
        {
          "output_type": "display_data",
          "data": {
            "text/plain": [
              "<Figure size 640x480 with 1 Axes>"
            ],
            "image/png": "[encoded data removed]"
          },
          "metadata": {}
        }
      ]
    },
    {
      "cell_type": "markdown",
      "source": [
        "## Optimizacion de hiperparametros"
      ],
      "metadata": {
        "id": "3pgfIiRwrdoS"
      }
    },
    {
      "cell_type": "markdown",
      "source": [
        "Probamos la funcion de activacion relu y tanh"
      ],
      "metadata": {
        "id": "h9IU4AU7tetr"
      }
    },
    {
      "cell_type": "code",
      "source": [
        "cant_clases=len(np.unique(y_train_bal))\n",
        "print(cant_clases)\n",
        "d_in=len(a.columns)\n",
        "print(d_in)\n",
        "modelo_2 = keras.Sequential([\n",
        "    keras.layers.Dense(1,input_shape=(d_in,), activation='relu'),\n",
        "    keras.layers.Dense(213, activation='tanh'),\n",
        "    keras.layers.Dropout(0.2),\n",
        "    keras.layers.Dense(1, activation='sigmoid')])\n",
        "\n",
        "modelo_2.summary()"
      ],
      "metadata": {
        "colab": {
          "base_uri": "https://localhost:8080/"
        },
        "outputId": "253009f9-1ff0-47e2-d29c-1c7f70086b78",
        "id": "eZga8H7Urp7B"
      },
      "execution_count": 80,
      "outputs": [
        {
          "output_type": "stream",
          "name": "stdout",
          "text": [
            "2\n",
            "213\n",
            "Model: \"sequential_14\"\n",
            "_________________________________________________________________\n",
            " Layer (type)                Output Shape              Param #   \n",
            "=================================================================\n",
            " dense_46 (Dense)            (None, 1)                 214       \n",
            "                                                                 \n",
            " dense_47 (Dense)            (None, 213)               426       \n",
            "                                                                 \n",
            " dropout_12 (Dropout)        (None, 213)               0         \n",
            "                                                                 \n",
            " dense_48 (Dense)            (None, 1)                 214       \n",
            "                                                                 \n",
            "=================================================================\n",
            "Total params: 854 (3.34 KB)\n",
            "Trainable params: 854 (3.34 KB)\n",
            "Non-trainable params: 0 (0.00 Byte)\n",
            "_________________________________________________________________\n"
          ]
        }
      ]
    },
    {
      "cell_type": "code",
      "source": [
        "modelo_2.compile(\n",
        "  optimizer=keras.optimizers.Nadam(learning_rate=0.001),\n",
        "  loss='binary_crossentropy',\n",
        "  metrics=['AUC'],\n",
        ")\n",
        "\n",
        "cant_epochs=40\n",
        "modelo_2_historia = modelo_2.fit(x_train_bal,y_train_bal,\n",
        "                                                epochs=cant_epochs,\n",
        "                                                batch_size=50,verbose=False)"
      ],
      "metadata": {
        "id": "VmmZzVserp7B"
      },
      "execution_count": 81,
      "outputs": []
    },
    {
      "cell_type": "code",
      "source": [
        "y_predic_2 = modelo_2.predict(x_test_bal)\n",
        "y_predic_cat_2 = np.where(y_predic_2>0.5,1,0)\n",
        "mostrar_metricas(y_predic_cat_2, y_test_bal)"
      ],
      "metadata": {
        "colab": {
          "base_uri": "https://localhost:8080/",
          "height": 657
        },
        "id": "uXfRE4E9sqR7",
        "outputId": "1ed3bdd2-c05d-4fee-f09e-3e76d530f1ab"
      },
      "execution_count": 82,
      "outputs": [
        {
          "output_type": "stream",
          "name": "stdout",
          "text": [
            "369/369 [==============================] - 1s 3ms/step\n",
            "correctas:  69544466\n",
            "total:  11794\n",
            "              precision    recall  f1-score   support\n",
            "\n",
            "           0       0.80      0.79      0.79      5921\n",
            "           1       0.79      0.80      0.80      5873\n",
            "\n",
            "    accuracy                           0.79     11794\n",
            "   macro avg       0.80      0.79      0.79     11794\n",
            "weighted avg       0.80      0.79      0.79     11794\n",
            "\n"
          ]
        },
        {
          "output_type": "display_data",
          "data": {
            "text/plain": [
              "<Figure size 640x480 with 2 Axes>"
            ],
            "image/png": "[encoded data removed]"
          },
          "metadata": {}
        }
      ]
    },
    {
      "cell_type": "markdown",
      "source": [
        "Podemos observar que con tanh y relu no hay diferencias significativas.\n",
        "\n",
        "Procedemos a usar solo relu"
      ],
      "metadata": {
        "id": "o5TlCvSYvBo_"
      }
    },
    {
      "cell_type": "code",
      "source": [
        "cant_clases=len(np.unique(y_train_bal))\n",
        "print(cant_clases)\n",
        "d_in=len(a.columns)\n",
        "print(d_in)\n",
        "modelo_2 = keras.Sequential([\n",
        "    keras.layers.Dense(1,input_shape=(d_in,), activation='relu'),\n",
        "    keras.layers.Dense(106, activation='relu'),\n",
        "    keras.layers.Dropout(0.2),\n",
        "    keras.layers.Dense(1, activation='sigmoid')])\n",
        "\n",
        "modelo_2.summary()"
      ],
      "metadata": {
        "colab": {
          "base_uri": "https://localhost:8080/"
        },
        "outputId": "a2f3fc08-0e06-4f5e-b118-12ea0f9145f4",
        "id": "YWEI7cDGvUFg"
      },
      "execution_count": 86,
      "outputs": [
        {
          "output_type": "stream",
          "name": "stdout",
          "text": [
            "2\n",
            "213\n",
            "Model: \"sequential_16\"\n",
            "_________________________________________________________________\n",
            " Layer (type)                Output Shape              Param #   \n",
            "=================================================================\n",
            " dense_53 (Dense)            (None, 1)                 214       \n",
            "                                                                 \n",
            " dense_54 (Dense)            (None, 106)               212       \n",
            "                                                                 \n",
            " dropout_15 (Dropout)        (None, 106)               0         \n",
            "                                                                 \n",
            " dense_55 (Dense)            (None, 1)                 107       \n",
            "                                                                 \n",
            "=================================================================\n",
            "Total params: 533 (2.08 KB)\n",
            "Trainable params: 533 (2.08 KB)\n",
            "Non-trainable params: 0 (0.00 Byte)\n",
            "_________________________________________________________________\n"
          ]
        }
      ]
    },
    {
      "cell_type": "code",
      "source": [
        "modelo_2.compile(\n",
        "  optimizer=keras.optimizers.Nadam(learning_rate=0.001),\n",
        "  loss='binary_crossentropy',\n",
        "  metrics=['AUC'],\n",
        ")\n",
        "\n",
        "cant_epochs=40\n",
        "modelo_2_historia = modelo_2.fit(x_train_bal,y_train_bal,\n",
        "                                                epochs=cant_epochs,\n",
        "                                                batch_size=50,verbose=False)"
      ],
      "metadata": {
        "id": "TNGAa5wxvUFh"
      },
      "execution_count": 87,
      "outputs": []
    },
    {
      "cell_type": "code",
      "source": [
        "y_predic_2 = modelo_2.predict(x_test_bal)\n",
        "y_predic_cat_2 = np.where(y_predic_2>0.5,1,0)\n",
        "mostrar_metricas(y_predic_cat_2, y_test_bal)"
      ],
      "metadata": {
        "colab": {
          "base_uri": "https://localhost:8080/",
          "height": 663
        },
        "outputId": "6e931ec3-e422-4641-e7c7-2d62832968e6",
        "id": "YYgDHVKmvUFi"
      },
      "execution_count": 89,
      "outputs": [
        {
          "output_type": "stream",
          "name": "stdout",
          "text": [
            "369/369 [==============================] - 1s 2ms/step\n",
            "correctas:  69645842\n",
            "total:  11794\n",
            "              precision    recall  f1-score   support\n",
            "\n",
            "           0       0.76      0.82      0.79      5409\n",
            "           1       0.83      0.78      0.81      6385\n",
            "\n",
            "    accuracy                           0.80     11794\n",
            "   macro avg       0.80      0.80      0.80     11794\n",
            "weighted avg       0.80      0.80      0.80     11794\n",
            "\n"
          ]
        },
        {
          "output_type": "display_data",
          "data": {
            "text/plain": [
              "<Figure size 640x480 with 2 Axes>"
            ],
            "image/png": "[encoded data removed]"
          },
          "metadata": {}
        }
      ]
    },
    {
      "cell_type": "markdown",
      "source": [
        "Debido a que vemos un bajo incremento en las metricas elegimos este modelo para realizar nuestras predicciones."
      ],
      "metadata": {
        "id": "Eph06MLSxdvc"
      }
    },
    {
      "cell_type": "markdown",
      "source": [
        "# Exportar"
      ],
      "metadata": {
        "id": "HfbBMbRFUHHm"
      }
    },
    {
      "cell_type": "code",
      "source": [
        "y_pred_ = modelo_2.predict(test_bal)\n",
        "y_pred = np.where(y_pred_ > 0.5, 1, 0).astype(int)"
      ],
      "metadata": {
        "colab": {
          "base_uri": "https://localhost:8080/"
        },
        "id": "ZlnX20igJeRr",
        "outputId": "7cfc9797-3099-4758-b9df-c1e684519a6d"
      },
      "execution_count": 90,
      "outputs": [
        {
          "output_type": "stream",
          "name": "stdout",
          "text": [
            "830/830 [==============================] - 2s 3ms/step\n"
          ]
        }
      ]
    },
    {
      "cell_type": "code",
      "source": [
        "y_pred = y_pred.reshape(-1)"
      ],
      "metadata": {
        "id": "44NZa8aqMKpk"
      },
      "execution_count": 91,
      "outputs": []
    },
    {
      "cell_type": "code",
      "source": [
        "exportar_prediccion(ids_test, y_pred, \"redes_neuronales_2\")"
      ],
      "metadata": {
        "id": "nfi1-u_ZIk8Q"
      },
      "execution_count": 92,
      "outputs": []
    }
  ]
}