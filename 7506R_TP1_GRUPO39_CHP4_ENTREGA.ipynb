{
  "nbformat": 4,
  "nbformat_minor": 0,
  "metadata": {
    "colab": {
      "provenance": []
    },
    "kernelspec": {
      "name": "python3",
      "display_name": "Python 3"
    },
    "language_info": {
      "name": "python"
    }
  },
  "cells": [
    {
      "cell_type": "code",
      "source": [
        "import pandas as pd\n",
        "import numpy as np\n",
        "from sklearn.preprocessing import MinMaxScaler\n",
        "from matplotlib import pyplot as plt\n",
        "import seaborn as sns\n",
        "from sklearn.metrics import accuracy_score, precision_score, recall_score, f1_score, roc_auc_score, confusion_matrix, classification_report, make_scorer\n",
        "from sklearn.utils import resample\n",
        "from sklearn.model_selection import train_test_split"
      ],
      "metadata": {
        "id": "CqnHYLIWvyfg"
      },
      "execution_count": 60,
      "outputs": []
    },
    {
      "cell_type": "code",
      "source": [
        "from sklearn.preprocessing import StandardScaler\n",
        "\n",
        "\n",
        "import tensorflow as tf\n",
        "from tensorflow import keras\n",
        "# from keras.utils.vis_utils import plot_model\n",
        "# import visualkeras\n",
        "\n",
        "np.random.seed(1)\n",
        "tf.random.set_seed(1)\n",
        "\n",
        "import warnings\n",
        "warnings.filterwarnings(\"ignore\", category=DeprecationWarning)"
      ],
      "metadata": {
        "id": "0ZOobyiyxn3B"
      },
      "execution_count": 61,
      "outputs": []
    },
    {
      "cell_type": "code",
      "execution_count": 62,
      "metadata": {
        "id": "MBUAtSkRvPxg"
      },
      "outputs": [],
      "source": [
        "# Importamos el dataset que trabajamos en el checkpoint 2 con las varibles categóricas como dummies\n",
        "reservas = pd.read_csv('/content/sample_data/reservas_dummies.csv')\n",
        "\n",
        "# Importamos el dataset de test con las variables categóricas como dummies\n",
        "test = pd.read_csv('/content/sample_data/test_dummies.csv')"
      ]
    },
    {
      "cell_type": "code",
      "source": [
        "# Droppeamos el id para poder entrenar y predecir\n",
        "ids_train = reservas[\"id\"]\n",
        "ids_test = test[\"id\"]\n",
        "reservas.drop(columns=\"id\", inplace=True)\n",
        "test.drop(columns=\"id\", inplace=True)\n",
        "\n",
        "# Ordenamos las columnas\n",
        "reservas = reservas.reindex(sorted(reservas.columns), axis=1)\n",
        "test = test.reindex(sorted(test.columns), axis=1)\n",
        "\n",
        "# Imputamos datos faltantes\n",
        "test['agent'] = test['agent'].fillna(-1)\n",
        "test['company'] = test['company'].fillna(-1)"
      ],
      "metadata": {
        "id": "Ll9hM6LYvapK"
      },
      "execution_count": 63,
      "outputs": []
    },
    {
      "cell_type": "code",
      "source": [
        "def mostrar_metricas(y_test, y_pred):\n",
        "  #Cantidad de aciertos\n",
        "  print('correctas: ', np.sum(y_test == y_pred))\n",
        "  print('total: ', len(y_test))\n",
        "\n",
        "  print(classification_report(y_test, y_pred))\n",
        "\n",
        "  #Grafico la matriz de confusión\n",
        "  tabla=confusion_matrix(y_test, y_pred)\n",
        "  sns.heatmap(tabla,cmap='GnBu',annot=True,fmt='g')\n",
        "  plt.xlabel('Predicted')\n",
        "  plt.ylabel('True')\n",
        "  plt.show()"
      ],
      "metadata": {
        "id": "FTFF2TVyvcfN"
      },
      "execution_count": 64,
      "outputs": []
    },
    {
      "cell_type": "code",
      "source": [
        "def exportar_prediccion(ids_test, y_pred, filename):\n",
        "  prediccion = pd.DataFrame({\"id\": ids_test, \"is_canceled\": y_pred})\n",
        "  prediccion.to_csv('/content/sample_data/prediccion_'+filename+'.csv', index = False)"
      ],
      "metadata": {
        "id": "aisAVwyBvdmA"
      },
      "execution_count": 65,
      "outputs": []
    },
    {
      "cell_type": "code",
      "source": [
        "a = reservas.drop(['is_canceled'], axis=1)\n",
        "b = reservas['is_canceled']"
      ],
      "metadata": {
        "id": "YfCn0L1pvfM_"
      },
      "execution_count": 66,
      "outputs": []
    },
    {
      "cell_type": "code",
      "source": [
        "# Normalización Min-Max en los datos de entrenamiento\n",
        "scaler = MinMaxScaler()\n",
        "X_train_normalized = scaler.fit_transform(a)\n",
        "\n",
        "# Balanceo de clases\n",
        "class_0 = X_train_normalized[b == 0]\n",
        "class_1 = X_train_normalized[b == 1]\n",
        "\n",
        "# Balanceo de clases (sobremuestreo de la clase minoritaria)\n",
        "\n",
        "# Selecciona los ejemplos de la clase mayoritaria (clase \"0\")\n",
        "class_0 = X_train_normalized[b == 0]\n",
        "\n",
        "# Selecciona los ejemplos de la clase minoritaria (clase \"1\")\n",
        "class_1 = X_train_normalized[b == 1]\n",
        "\n",
        "# Realiza sobremuestreo de la clase minoritaria (clase \"1\")\n",
        "# - replace=True: Permite muestrear con reemplazo\n",
        "# - n_samples=len(class_0): Genera tantas muestras de la clase \"1\" como ejemplos de la clase \"0\"\n",
        "class_0_oversampled = resample(class_1, replace=True, n_samples=len(class_0), random_state=42)\n",
        "\n",
        "# Combina los datos equilibrados en X_train_balanced y y_train_balanced\n",
        "# - np.vstack: Apila verticalmente los arrays\n",
        "# - np.hstack: Concatena horizontalmente los arrays\n",
        "X_train_balanced = np.vstack((class_0, class_0_oversampled))\n",
        "y_train_balanced = np.hstack((b[b == 0], np.ones(len(class_0))))"
      ],
      "metadata": {
        "id": "fBkldrXMvhoG"
      },
      "execution_count": 67,
      "outputs": []
    },
    {
      "cell_type": "code",
      "source": [
        "# Datos con normalización y balanceo\n",
        "x_train_bal, x_test_bal, y_train_bal, y_test_bal = train_test_split(X_train_balanced, y_train_balanced, test_size=0.20, random_state=0)\n",
        "\n",
        "test_bal  = scaler.transform(test)"
      ],
      "metadata": {
        "id": "XL99u1hPviuD"
      },
      "execution_count": 68,
      "outputs": []
    },
    {
      "cell_type": "code",
      "source": [
        "cant_clases=len(np.unique(y_train_bal))\n",
        "d_in=len(a.columns)\n",
        "\n",
        "modelo_1 = keras.Sequential([\n",
        "    keras.layers.Dense(1,input_shape=(d_in,)),\n",
        "    keras.layers.Dense(1, activation='sigmoid')])\n",
        "\n",
        "modelo_1.summary()"
      ],
      "metadata": {
        "colab": {
          "base_uri": "https://localhost:8080/"
        },
        "id": "REomg6Lf0i04",
        "outputId": "2392ed46-a520-4a8a-dcaa-55a0f52def56"
      },
      "execution_count": 70,
      "outputs": [
        {
          "output_type": "stream",
          "name": "stdout",
          "text": [
            "Model: \"sequential_3\"\n",
            "_________________________________________________________________\n",
            " Layer (type)                Output Shape              Param #   \n",
            "=================================================================\n",
            " dense_6 (Dense)             (None, 1)                 214       \n",
            "                                                                 \n",
            " dense_7 (Dense)             (None, 1)                 2         \n",
            "                                                                 \n",
            "=================================================================\n",
            "Total params: 216 (864.00 Byte)\n",
            "Trainable params: 216 (864.00 Byte)\n",
            "Non-trainable params: 0 (0.00 Byte)\n",
            "_________________________________________________________________\n"
          ]
        }
      ]
    },
    {
      "cell_type": "code",
      "source": [
        "modelo_1.compile(\n",
        "  optimizer=keras.optimizers.SGD(learning_rate=0.01),\n",
        "  loss='binary_crossentropy',\n",
        "  # metricas para ir calculando en cada iteracion o batch\n",
        "  metrics=['AUC'],\n",
        ")\n",
        "\n",
        "cant_epochs_titanic=100\n",
        "modelo_titanic1_historia = modelo_1.fit(x_train_bal,y_train_bal,\n",
        "                                                epochs=cant_epochs_titanic,\n",
        "                                                batch_size=50,verbose=False)"
      ],
      "metadata": {
        "id": "22ClPoGg28a5"
      },
      "execution_count": 71,
      "outputs": []
    },
    {
      "cell_type": "code",
      "source": [
        "y_predic_ej1 = modelo_1.predict(x_test_bal)\n",
        "y_predic_cat_ej1 = np.where(y_predic_ej1>0.5,1,0)\n",
        "\n",
        "ds_validacion=pd.DataFrame(y_predic_cat_ej1,y_test_bal).reset_index()\n",
        "ds_validacion.columns=['y_pred','y_real']\n",
        "\n",
        "tabla=pd.crosstab(ds_validacion.y_pred, ds_validacion.y_real)\n",
        "grf=sns.heatmap(tabla,annot=True, cmap = 'Blues')\n",
        "plt.show()"
      ],
      "metadata": {
        "colab": {
          "base_uri": "https://localhost:8080/",
          "height": 467
        },
        "id": "aV1EaSMS3EP0",
        "outputId": "395eb202-eacb-4860-8c16-7b0f47841eaf"
      },
      "execution_count": 83,
      "outputs": [
        {
          "output_type": "stream",
          "name": "stdout",
          "text": [
            "369/369 [==============================] - 2s 5ms/step\n"
          ]
        },
        {
          "output_type": "display_data",
          "data": {
            "text/plain": [
              "<Figure size 640x480 with 2 Axes>"
            ],
            "image/png": "[encoded data removed]"
          },
          "metadata": {}
        }
      ]
    },
    {
      "cell_type": "code",
      "source": [
        "y_pred_ = modelo_1.predict(test_bal)\n",
        "y_pred = np.where(y_pred_ > 0.5, 1, 0).astype(int)"
      ],
      "metadata": {
        "colab": {
          "base_uri": "https://localhost:8080/"
        },
        "id": "ZlnX20igJeRr",
        "outputId": "d7841a93-911a-4a21-c05b-1ea58eb50b30"
      },
      "execution_count": 112,
      "outputs": [
        {
          "output_type": "stream",
          "name": "stdout",
          "text": [
            "830/830 [==============================] - 1s 2ms/step\n"
          ]
        }
      ]
    },
    {
      "cell_type": "code",
      "source": [
        "y_pred = y_pred.reshape(-1)"
      ],
      "metadata": {
        "id": "44NZa8aqMKpk"
      },
      "execution_count": 113,
      "outputs": []
    },
    {
      "cell_type": "code",
      "source": [
        "y_pred"
      ],
      "metadata": {
        "colab": {
          "base_uri": "https://localhost:8080/"
        },
        "id": "tHbJg6s6NQqQ",
        "outputId": "369b3da1-bc8b-4abf-ff2d-829cd2645e69"
      },
      "execution_count": 114,
      "outputs": [
        {
          "output_type": "execute_result",
          "data": {
            "text/plain": [
              "array([1, 0, 0, ..., 1, 1, 0])"
            ]
          },
          "metadata": {},
          "execution_count": 114
        }
      ]
    },
    {
      "cell_type": "code",
      "source": [
        "exportar_prediccion(ids_test, y_pred, \"redes_neuronales_1\")"
      ],
      "metadata": {
        "id": "nfi1-u_ZIk8Q"
      },
      "execution_count": 116,
      "outputs": []
    }
  ]
}