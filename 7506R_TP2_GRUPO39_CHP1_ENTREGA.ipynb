{
  "cells": [
    {
      "cell_type": "markdown",
      "metadata": {
        "id": "view-in-github",
        "colab_type": "text"
      },
      "source": [
        "<a href=\"https://colab.research.google.com/github/franmazzaro/7506R-2C2023-GRUPO39/blob/main/7506R_TP2_GRUPO39_CHP1_ENTREGA.ipynb\" target=\"_parent\"><img src=\"https://colab.research.google.com/assets/colab-badge.svg\" alt=\"Open In Colab\"/></a>"
      ]
    },
    {
      "cell_type": "markdown",
      "metadata": {
        "id": "dj2GC5UchzVJ"
      },
      "source": [
        "# **Librerias**"
      ]
    },
    {
      "cell_type": "markdown",
      "metadata": {
        "id": "j3xIXE0QS3s9"
      },
      "source": [
        "Empezamos importando las librerias que vamos a utilizar"
      ]
    },
    {
      "cell_type": "code",
      "execution_count": null,
      "metadata": {
        "id": "iAXj38aTS0Fp"
      },
      "outputs": [],
      "source": [
        "import pandas as pd\n",
        "import numpy as np\n",
        "import matplotlib.pyplot as plt\n",
        "import seaborn as sns\n",
        "import xgboost as xgb\n",
        "from sklearn.model_selection import train_test_split\n",
        "from sklearn.naive_bayes import MultinomialNB\n",
        "from sklearn.feature_extraction.text import CountVectorizer, TfidfVectorizer\n",
        "from sklearn.pipeline import make_pipeline\n",
        "from sklearn.metrics import accuracy_score, precision_score, recall_score, f1_score, roc_auc_score, confusion_matrix, classification_report, make_scorer\n",
        "from sklearn.ensemble import RandomForestClassifier, VotingClassifier, StackingClassifier\n",
        "from sklearn.preprocessing import LabelEncoder\n",
        "from sklearn.model_selection import RandomizedSearchCV, StratifiedKFold\n",
        "from sklearn.linear_model import LogisticRegressionCV\n",
        "from sklearn.neighbors import KNeighborsClassifier\n",
        "from sklearn.svm import SVC\n",
        "import tensorflow as tf\n",
        "from tensorflow.keras.preprocessing.text import Tokenizer\n",
        "from tensorflow.keras.preprocessing.sequence import pad_sequences\n",
        "from tensorflow.keras.models import Sequential\n",
        "from tensorflow.keras.layers import Embedding, Flatten, Dense, Dropout\n",
        "from tensorflow.keras.optimizers import Nadam"
      ]
    },
    {
      "cell_type": "markdown",
      "metadata": {
        "id": "LCrMz2Uui4Gd"
      },
      "source": [
        "# Carga de datasets"
      ]
    },
    {
      "cell_type": "code",
      "execution_count": null,
      "metadata": {
        "id": "MM1R6XlUi6_G"
      },
      "outputs": [],
      "source": [
        "df_criticas = pd.read_csv('./content/sample_data/train.csv')\n",
        "df_criticas_test = pd.read_csv('./content/sample_data/test.csv')"
      ]
    },
    {
      "cell_type": "markdown",
      "source": [
        "# Analisis Exploratorio"
      ],
      "metadata": {
        "id": "RIxWDBY2y18W"
      }
    },
    {
      "cell_type": "code",
      "source": [
        "df_criticas.head(4)"
      ],
      "metadata": {
        "id": "9Rv5Sbxny_xL"
      },
      "execution_count": null,
      "outputs": []
    },
    {
      "cell_type": "code",
      "source": [
        "# Resumen de datos\n",
        "print(\"Resumen de datos:\")\n",
        "print(df_criticas.info())\n",
        "print(df_criticas.describe())\n"
      ],
      "metadata": {
        "id": "qh0zfK1YttHC",
        "outputId": "9ee2721d-615f-4fad-a869-2dc15d4bbd25",
        "colab": {
          "base_uri": "https://localhost:8080/"
        }
      },
      "execution_count": null,
      "outputs": [
        {
          "output_type": "stream",
          "name": "stdout",
          "text": [
            "Resumen de datos:\n",
            "<class 'pandas.core.frame.DataFrame'>\n",
            "RangeIndex: 50000 entries, 0 to 49999\n",
            "Data columns (total 3 columns):\n",
            " #   Column       Non-Null Count  Dtype \n",
            "---  ------       --------------  ----- \n",
            " 0   ID           50000 non-null  int64 \n",
            " 1   review_es    50000 non-null  object\n",
            " 2   sentimiento  50000 non-null  object\n",
            "dtypes: int64(1), object(2)\n",
            "memory usage: 1.1+ MB\n",
            "None\n",
            "                 ID\n",
            "count  50000.000000\n",
            "mean   24999.500000\n",
            "std    14433.901067\n",
            "min        0.000000\n",
            "25%    12499.750000\n",
            "50%    24999.500000\n",
            "75%    37499.250000\n",
            "max    49999.000000\n"
          ]
        }
      ]
    },
    {
      "cell_type": "code",
      "source": [
        "# Exploración de la variable objetivo (sentimiento)\n",
        "print(\"\\nCantidad de muestras por categoría:\")\n",
        "print(df_criticas['sentimiento'].value_counts())"
      ],
      "metadata": {
        "id": "Vkf0wVZCtt5W",
        "outputId": "384e0604-8587-4f24-daa9-628f91c16a7f",
        "colab": {
          "base_uri": "https://localhost:8080/"
        }
      },
      "execution_count": null,
      "outputs": [
        {
          "output_type": "stream",
          "name": "stdout",
          "text": [
            "\n",
            "Cantidad de muestras por categoría:\n",
            "positivo    25000\n",
            "negativo    25000\n",
            "Name: sentimiento, dtype: int64\n"
          ]
        }
      ]
    },
    {
      "cell_type": "markdown",
      "source": [
        "Vemos que hay la misma cantidad de reviews positivas y negativas."
      ],
      "metadata": {
        "id": "EgB358_NvLYk"
      }
    },
    {
      "cell_type": "code",
      "source": [
        "# Análisis de la variable 'review'\n",
        "# Longitud de las reseñas\n",
        "df_criticas_copy = df_criticas.copy()\n",
        "df_criticas_copy['longitud_review'] = df_criticas_copy['review_es'].apply(lambda x: len(str(x)))\n",
        "print(\"\\nAnálisis de longitud de reseñas:\")\n",
        "print(df_criticas_copy.groupby('sentimiento')['longitud_review'].describe())"
      ],
      "metadata": {
        "id": "pFERLqL5tvH5",
        "outputId": "112830b1-8f99-4d7f-d829-0aa0944d9ddc",
        "colab": {
          "base_uri": "https://localhost:8080/"
        }
      },
      "execution_count": null,
      "outputs": [
        {
          "output_type": "stream",
          "name": "stdout",
          "text": [
            "\n",
            "Análisis de longitud de reseñas:\n",
            "               count        mean          std   min    25%     50%      75%  \\\n",
            "sentimiento                                                                   \n",
            "negativo     25000.0  1382.77380   994.097890  39.0  755.0  1041.0  1685.00   \n",
            "positivo     25000.0  1413.34268  1079.324047  64.0  738.0  1032.0  1733.25   \n",
            "\n",
            "                 max  \n",
            "sentimiento           \n",
            "negativo      8587.0  \n",
            "positivo     13465.0  \n"
          ]
        }
      ]
    },
    {
      "cell_type": "markdown",
      "source": [
        "Podemos ver las metricas de las reviews segun la cantidad de caracteres."
      ],
      "metadata": {
        "id": "g1YE1y6cv2Ng"
      }
    },
    {
      "cell_type": "code",
      "source": [
        "\n",
        "# Visualización de datos\n",
        "plt.figure(figsize=(8, 6))\n",
        "sns.countplot(x='sentimiento', data=df_criticas)\n",
        "plt.title('Distribución de clases')\n",
        "plt.show()"
      ],
      "metadata": {
        "id": "4dR0aIcRtzJp",
        "outputId": "c020ccc4-2efe-4e74-bb94-eb00bfd50bae",
        "colab": {
          "base_uri": "https://localhost:8080/",
          "height": 564
        }
      },
      "execution_count": null,
      "outputs": [
        {
          "output_type": "display_data",
          "data": {
            "text/plain": [
              "<Figure size 800x600 with 1 Axes>"
            ],
            "image/png": "[encoded data removed]"
          },
          "metadata": {}
        }
      ]
    },
    {
      "cell_type": "code",
      "source": [
        "\n",
        "plt.figure(figsize=(8, 6))\n",
        "sns.histplot(data=df_criticas_copy, x='longitud_review', hue='sentimiento', bins=30, kde=True)\n",
        "plt.title('Histograma de longitud de reseñas por sentimiento')\n",
        "plt.show()"
      ],
      "metadata": {
        "id": "9zSUH45ft0Rq",
        "outputId": "86272091-b7b7-4ad6-a98e-d5edc7b2b022",
        "colab": {
          "base_uri": "https://localhost:8080/",
          "height": 564
        }
      },
      "execution_count": null,
      "outputs": [
        {
          "output_type": "display_data",
          "data": {
            "text/plain": [
              "<Figure size 800x600 with 1 Axes>"
            ],
            "image/png": "[encoded data removed]"
          },
          "metadata": {}
        }
      ]
    },
    {
      "cell_type": "markdown",
      "source": [
        "Podemos ver que la mayoria de las reseñas tienen entre 0 y 2000 caracteres."
      ],
      "metadata": {
        "id": "lx2Mh9pBwcnt"
      }
    },
    {
      "cell_type": "markdown",
      "metadata": {
        "id": "_pZpX567m7Ob"
      },
      "source": [
        "# Preprocesamiento"
      ]
    },
    {
      "cell_type": "markdown",
      "metadata": {
        "id": "ORRtpnvmzDgY"
      },
      "source": [
        "Comenzamos el preprocesamiento vectorizando las reviews del dataset de train y test asi convertimos las criticas de texto a una representacion numerica.\n",
        "\n",
        "\n",
        "Tambien hacemos lo mismo para transformar los sentimientos \"positivo\" y \"negativo\"\n",
        "\n",
        "Dividimos nuestro dataset de train en 70% para entrenar y 30% para validar.\n"
      ]
    },
    {
      "cell_type": "code",
      "execution_count": null,
      "metadata": {
        "id": "AhDpWnBLl_B3"
      },
      "outputs": [],
      "source": [
        "# Vectorización de texto usando CountVectorizer\n",
        "vectorizer = CountVectorizer()\n",
        "X = vectorizer.fit_transform(df_criticas['review_es'])\n",
        "X_test = vectorizer.transform(df_criticas_test['review_es'])\n",
        "\n",
        "# Codificar las etiquetas de sentimiento\n",
        "label_encoder = LabelEncoder()\n",
        "y = label_encoder.fit_transform(df_criticas['sentimiento'])\n",
        "\n",
        "x_train, x_test, y_train, y_test = train_test_split(X, y, test_size=0.30, random_state=25)"
      ]
    },
    {
      "cell_type": "code",
      "execution_count": null,
      "metadata": {
        "id": "Ml35X5nHNUk6"
      },
      "outputs": [],
      "source": [
        "# Función para convertir valores\n",
        "def convertir(valor):\n",
        "    return \"negativo\" if valor == 0 else \"positivo\""
      ]
    },
    {
      "cell_type": "markdown",
      "metadata": {
        "id": "ovOUIDuF1EJM"
      },
      "source": [
        "Esta funcion transforma de numerico a String el sentimiento"
      ]
    },
    {
      "cell_type": "code",
      "execution_count": null,
      "metadata": {
        "id": "2xAMVGwaHo_P"
      },
      "outputs": [],
      "source": [
        "def mostrar_metricas(y_test, y_pred):\n",
        "  #Cantidad de aciertos\n",
        "  print('correctas: ', np.sum(y_test == y_pred))\n",
        "  print('total: ', len(y_test))\n",
        "\n",
        "  print(classification_report(y_test, y_pred))\n",
        "\n",
        "  #Grafico la matriz de confusión\n",
        "  tabla=confusion_matrix(y_test, y_pred)\n",
        "  sns.heatmap(tabla,cmap='GnBu',annot=True,fmt='g')\n",
        "  plt.xlabel('Predicted')\n",
        "  plt.ylabel('True')\n",
        "  plt.show()\n"
      ]
    },
    {
      "cell_type": "markdown",
      "metadata": {
        "id": "zn64ylY6VBS4"
      },
      "source": [
        "# Bayes Naive"
      ]
    },
    {
      "cell_type": "markdown",
      "metadata": {
        "id": "XHftKHIelBCf"
      },
      "source": [
        "Dividimos nuestro conjunto de train en 70 30"
      ]
    },
    {
      "cell_type": "code",
      "execution_count": null,
      "metadata": {
        "id": "RmdI8JvSkHif"
      },
      "outputs": [],
      "source": [
        "x_train_bayes, x_test_bayes, y_train_bayes, y_test_bayes = train_test_split(df_criticas.review_es,\n",
        "                                                    df_criticas.sentimiento,\n",
        "                                                    test_size=0.20,\n",
        "                                                    random_state=25,\n",
        "                                                    shuffle=True)"
      ]
    },
    {
      "cell_type": "markdown",
      "metadata": {
        "id": "pY4LomqalQWU"
      },
      "source": [
        "Antes de entrear un modelo para clasificacion necesitamos que este entrenamiento sea con valores numericos, y como nosotros tenemos palabras necesitamos convertirlas a vectores.\n",
        "\n",
        "Utilizamos make_pipeline para aplicarle a nuestros modelos dos metodos distintos para vectorizar y luego el modelo de Naive Bayes Multidimensional. Una vez obtenidos los entrenamos"
      ]
    },
    {
      "cell_type": "code",
      "execution_count": null,
      "metadata": {
        "id": "soysruezkvJh"
      },
      "outputs": [],
      "source": [
        "model_NB = make_pipeline(TfidfVectorizer(), MultinomialNB())\n",
        "model_NB_2 = make_pipeline(CountVectorizer(), MultinomialNB())\n",
        "\n",
        "model_NB.fit(x_train_bayes, y_train_bayes)\n",
        "model_NB_2.fit(x_train_bayes, y_train_bayes)\n",
        "\n",
        "categorias_predichas = model_NB.predict(x_test_bayes)\n",
        "categorias_predichas_2 = model_NB_2.predict(x_test_bayes)\n"
      ]
    },
    {
      "cell_type": "code",
      "execution_count": null,
      "metadata": {
        "colab": {
          "base_uri": "https://localhost:8080/"
        },
        "id": "s-9orUvSqqf5",
        "outputId": "09b01faf-97d4-4bd9-d8bd-502dc47a9c6d"
      },
      "outputs": [
        {
          "name": "stdout",
          "output_type": "stream",
          "text": [
            "correctas:  8528\n",
            "total:  10000\n",
            "              precision    recall  f1-score   support\n",
            "\n",
            "    negativo       0.85      0.86      0.86      5093\n",
            "    positivo       0.85      0.85      0.85      4907\n",
            "\n",
            "    accuracy                           0.85     10000\n",
            "   macro avg       0.85      0.85      0.85     10000\n",
            "weighted avg       0.85      0.85      0.85     10000\n",
            "\n"
          ]
        },
        {
          "data": {
            "image/png": "[encoded data removed]",
            "text/plain": [
              "<Figure size 640x480 with 2 Axes>"
            ]
          },
          "metadata": {},
          "output_type": "display_data"
        },
        {
          "name": "stdout",
          "output_type": "stream",
          "text": [
            "correctas:  8352\n",
            "total:  10000\n",
            "              precision    recall  f1-score   support\n",
            "\n",
            "    negativo       0.81      0.88      0.84      5093\n",
            "    positivo       0.86      0.79      0.82      4907\n",
            "\n",
            "    accuracy                           0.84     10000\n",
            "   macro avg       0.84      0.83      0.83     10000\n",
            "weighted avg       0.84      0.84      0.83     10000\n",
            "\n"
          ]
        },
        {
          "data": {
            "image/png": "[encoded data removed]",
            "text/plain": [
              "<Figure size 640x480 with 2 Axes>"
            ]
          },
          "metadata": {},
          "output_type": "display_data"
        }
      ],
      "source": [
        "mostrar_metricas(y_test_bayes, categorias_predichas)\n",
        "mostrar_metricas(y_test_bayes, categorias_predichas_2)"
      ]
    },
    {
      "cell_type": "markdown",
      "metadata": {
        "id": "99WOvviGW0tE"
      },
      "source": [
        "Ya que el modelo 1 tuvo mejor accuracy es el que utilizamos para realizar la predicción de test"
      ]
    },
    {
      "cell_type": "markdown",
      "metadata": {
        "id": "G1-HnGzTUfs3"
      },
      "source": [
        "## Predicción sobre los datos de test"
      ]
    },
    {
      "cell_type": "code",
      "execution_count": null,
      "metadata": {
        "id": "FQLrG_YfuvXu"
      },
      "outputs": [],
      "source": [
        "criticas_test = df_criticas_test['review_es']\n",
        "categorias_predichas_test = model_NB.predict(criticas_test)"
      ]
    },
    {
      "cell_type": "markdown",
      "metadata": {
        "id": "gPfFD-ZHvRxz"
      },
      "source": [
        "Generamos el archivo de predicciones"
      ]
    },
    {
      "cell_type": "code",
      "execution_count": null,
      "metadata": {
        "id": "x2GPx5lnr3-g"
      },
      "outputs": [],
      "source": [
        "ids_test =  df_criticas_test.ID\n",
        "filename = 'Naive_Bayes_Multidimensional'\n",
        "prediccion = pd.DataFrame({\"id\": ids_test, \"sentimiento\": categorias_predichas_test})\n",
        "prediccion.to_csv('/content/sample_data/prediccion_'+filename+'.csv', index = False)"
      ]
    },
    {
      "cell_type": "markdown",
      "metadata": {
        "id": "6WKEg6rhIsff"
      },
      "source": [
        "# Random Forest"
      ]
    },
    {
      "cell_type": "markdown",
      "metadata": {
        "id": "l_WBqXCxoBSl"
      },
      "source": [
        "Optimizamos hiperparámetros"
      ]
    },
    {
      "cell_type": "code",
      "execution_count": null,
      "metadata": {
        "id": "KaVgcRCIn8RG",
        "outputId": "620a6497-f587-4a41-8d37-4688f0554425"
      },
      "outputs": [
        {
          "data": {
            "text/plain": [
              "array([0.66917622, 0.84101165, 0.76189623, 0.60415415, 0.79556803,\n",
              "       0.68255784, 0.48244134, 0.67536519, 0.73080456, 0.69656625])"
            ]
          },
          "execution_count": 22,
          "metadata": {},
          "output_type": "execute_result"
        }
      ],
      "source": [
        "tree = RandomForestClassifier(random_state=1)\n",
        "params_grid = {\n",
        "    'bootstrap': [True, False],\n",
        "    'ccp_alpha': [0.0, 0.01, 0.02],\n",
        "    'class_weight': [None, 'balanced'],\n",
        "    'criterion': ['gini', 'entropy'],\n",
        "    'max_depth': [None, 10, 20, 30],\n",
        "    'max_features': ['sqrt', 'log2'],\n",
        "    'min_samples_leaf': [1, 2, 4],\n",
        "    'min_samples_split': [2, 5, 10],\n",
        "    'n_estimators': [10, 50, 100, 200],\n",
        "}\n",
        "rand = RandomizedSearchCV(tree, params_grid, cv=10, scoring='f1', n_iter=10, random_state=1)\n",
        "rand.fit(x_train, y_train)\n",
        "rand.cv_results_['mean_test_score']"
      ]
    },
    {
      "cell_type": "code",
      "execution_count": null,
      "metadata": {
        "id": "qudPycP1Fidb",
        "outputId": "bf1c395f-708f-4f20-a863-e2d81e38f8cc"
      },
      "outputs": [
        {
          "data": {
            "text/plain": [
              "{'n_estimators': 200,\n",
              " 'min_samples_split': 5,\n",
              " 'min_samples_leaf': 2,\n",
              " 'max_features': 'sqrt',\n",
              " 'max_depth': 30,\n",
              " 'criterion': 'gini',\n",
              " 'class_weight': None,\n",
              " 'ccp_alpha': 0.0,\n",
              " 'bootstrap': True}"
            ]
          },
          "execution_count": 23,
          "metadata": {},
          "output_type": "execute_result"
        }
      ],
      "source": [
        "rand.best_params_"
      ]
    },
    {
      "cell_type": "markdown",
      "metadata": {
        "id": "UtVAQNOsON3J"
      },
      "source": [
        "Usamos el mejor estimador para predecir sobre el conjunto de training y obtenemos sus métricas"
      ]
    },
    {
      "cell_type": "code",
      "execution_count": null,
      "metadata": {
        "id": "5gMGfijSEhPy",
        "outputId": "0c73ede4-b799-4329-9631-099136d80383"
      },
      "outputs": [
        {
          "name": "stdout",
          "output_type": "stream",
          "text": [
            "correctas:  12476\n",
            "total:  15000\n",
            "              precision    recall  f1-score   support\n",
            "\n",
            "           0       0.86      0.79      0.83      7599\n",
            "           1       0.80      0.87      0.84      7401\n",
            "\n",
            "    accuracy                           0.83     15000\n",
            "   macro avg       0.83      0.83      0.83     15000\n",
            "weighted avg       0.83      0.83      0.83     15000\n",
            "\n"
          ]
        },
        {
          "data": {
            "image/png": "[encoded data removed]",
            "text/plain": [
              "<Figure size 640x480 with 2 Axes>"
            ]
          },
          "metadata": {},
          "output_type": "display_data"
        }
      ],
      "source": [
        "opt_tree = rand.best_estimator_\n",
        "y_pred = opt_tree.predict(x_test)\n",
        "mostrar_metricas(y_test, y_pred)"
      ]
    },
    {
      "cell_type": "markdown",
      "metadata": {
        "id": "TjDMmXetUY16"
      },
      "source": [
        "## Predicción sobre los datos de test"
      ]
    },
    {
      "cell_type": "code",
      "execution_count": null,
      "metadata": {
        "id": "PEVKptn3NGYu"
      },
      "outputs": [],
      "source": [
        "categorias_predichas_test = opt_tree.predict(X_test)\n",
        "\n",
        "# Aplicar la función a cada elemento del array usando comprensión de listas\n",
        "sentimientos = [convertir(valor) for valor in categorias_predichas_test]"
      ]
    },
    {
      "cell_type": "code",
      "execution_count": null,
      "metadata": {
        "id": "SRZTz_ciF5as"
      },
      "outputs": [],
      "source": [
        "filename = 'Random_Forest_opt'\n",
        "prediccion = pd.DataFrame({\"id\": df_criticas_test.ID, \"sentimiento\": sentimientos})\n",
        "prediccion.to_csv('/content/sample_data/prediccion_'+filename+'.csv', index = False)"
      ]
    },
    {
      "cell_type": "markdown",
      "metadata": {
        "id": "s6c_TK5qAUDP"
      },
      "source": [
        "# XG Boost"
      ]
    },
    {
      "cell_type": "markdown",
      "metadata": {
        "id": "qvQu9qP81Pz4"
      },
      "source": [
        "Utilizamos un clasificador XGBoost para entrenar nuestro modelo"
      ]
    },
    {
      "cell_type": "markdown",
      "metadata": {
        "id": "ZXqvrRU9VOAm"
      },
      "source": [
        "## XG Boost con parámetros default"
      ]
    },
    {
      "cell_type": "code",
      "execution_count": null,
      "metadata": {
        "colab": {
          "base_uri": "https://localhost:8080/",
          "height": 248
        },
        "id": "oKcI1CpdB1sJ",
        "outputId": "fa9c6ca2-f08f-4cae-88c0-2195ffa06e3e"
      },
      "outputs": [
        {
          "data": {
            "text/html": [
              "<style>#sk-container-id-1 {color: black;background-color: white;}#sk-container-id-1 pre{padding: 0;}#sk-container-id-1 div.sk-toggleable {background-color: white;}#sk-container-id-1 label.sk-toggleable__label {cursor: pointer;display: block;width: 100%;margin-bottom: 0;padding: 0.3em;box-sizing: border-box;text-align: center;}#sk-container-id-1 label.sk-toggleable__label-arrow:before {content: \"▸\";float: left;margin-right: 0.25em;color: #696969;}#sk-container-id-1 label.sk-toggleable__label-arrow:hover:before {color: black;}#sk-container-id-1 div.sk-estimator:hover label.sk-toggleable__label-arrow:before {color: black;}#sk-container-id-1 div.sk-toggleable__content {max-height: 0;max-width: 0;overflow: hidden;text-align: left;background-color: #f0f8ff;}#sk-container-id-1 div.sk-toggleable__content pre {margin: 0.2em;color: black;border-radius: 0.25em;background-color: #f0f8ff;}#sk-container-id-1 input.sk-toggleable__control:checked~div.sk-toggleable__content {max-height: 200px;max-width: 100%;overflow: auto;}#sk-container-id-1 input.sk-toggleable__control:checked~label.sk-toggleable__label-arrow:before {content: \"▾\";}#sk-container-id-1 div.sk-estimator input.sk-toggleable__control:checked~label.sk-toggleable__label {background-color: #d4ebff;}#sk-container-id-1 div.sk-label input.sk-toggleable__control:checked~label.sk-toggleable__label {background-color: #d4ebff;}#sk-container-id-1 input.sk-hidden--visually {border: 0;clip: rect(1px 1px 1px 1px);clip: rect(1px, 1px, 1px, 1px);height: 1px;margin: -1px;overflow: hidden;padding: 0;position: absolute;width: 1px;}#sk-container-id-1 div.sk-estimator {font-family: monospace;background-color: #f0f8ff;border: 1px dotted black;border-radius: 0.25em;box-sizing: border-box;margin-bottom: 0.5em;}#sk-container-id-1 div.sk-estimator:hover {background-color: #d4ebff;}#sk-container-id-1 div.sk-parallel-item::after {content: \"\";width: 100%;border-bottom: 1px solid gray;flex-grow: 1;}#sk-container-id-1 div.sk-label:hover label.sk-toggleable__label {background-color: #d4ebff;}#sk-container-id-1 div.sk-serial::before {content: \"\";position: absolute;border-left: 1px solid gray;box-sizing: border-box;top: 0;bottom: 0;left: 50%;z-index: 0;}#sk-container-id-1 div.sk-serial {display: flex;flex-direction: column;align-items: center;background-color: white;padding-right: 0.2em;padding-left: 0.2em;position: relative;}#sk-container-id-1 div.sk-item {position: relative;z-index: 1;}#sk-container-id-1 div.sk-parallel {display: flex;align-items: stretch;justify-content: center;background-color: white;position: relative;}#sk-container-id-1 div.sk-item::before, #sk-container-id-1 div.sk-parallel-item::before {content: \"\";position: absolute;border-left: 1px solid gray;box-sizing: border-box;top: 0;bottom: 0;left: 50%;z-index: -1;}#sk-container-id-1 div.sk-parallel-item {display: flex;flex-direction: column;z-index: 1;position: relative;background-color: white;}#sk-container-id-1 div.sk-parallel-item:first-child::after {align-self: flex-end;width: 50%;}#sk-container-id-1 div.sk-parallel-item:last-child::after {align-self: flex-start;width: 50%;}#sk-container-id-1 div.sk-parallel-item:only-child::after {width: 0;}#sk-container-id-1 div.sk-dashed-wrapped {border: 1px dashed gray;margin: 0 0.4em 0.5em 0.4em;box-sizing: border-box;padding-bottom: 0.4em;background-color: white;}#sk-container-id-1 div.sk-label label {font-family: monospace;font-weight: bold;display: inline-block;line-height: 1.2em;}#sk-container-id-1 div.sk-label-container {text-align: center;}#sk-container-id-1 div.sk-container {/* jupyter's `normalize.less` sets `[hidden] { display: none; }` but bootstrap.min.css set `[hidden] { display: none !important; }` so we also need the `!important` here to be able to override the default hidden behavior on the sphinx rendered scikit-learn.org. See: https://github.com/scikit-learn/scikit-learn/issues/21755 */display: inline-block !important;position: relative;}#sk-container-id-1 div.sk-text-repr-fallback {display: none;}</style><div id=\"sk-container-id-1\" class=\"sk-top-container\"><div class=\"sk-text-repr-fallback\"><pre>XGBClassifier(base_score=None, booster=None, callbacks=None,\n",
              "              colsample_bylevel=None, colsample_bynode=None,\n",
              "              colsample_bytree=None, device=None, early_stopping_rounds=None,\n",
              "              enable_categorical=False, eval_metric=None, feature_types=None,\n",
              "              gamma=None, grow_policy=None, importance_type=None,\n",
              "              interaction_constraints=None, learning_rate=None, max_bin=None,\n",
              "              max_cat_threshold=None, max_cat_to_onehot=None,\n",
              "              max_delta_step=None, max_depth=None, max_leaves=None,\n",
              "              min_child_weight=None, missing=nan, monotone_constraints=None,\n",
              "              multi_strategy=None, n_estimators=100, n_jobs=None,\n",
              "              num_parallel_tree=None, random_state=25, ...)</pre><b>In a Jupyter environment, please rerun this cell to show the HTML representation or trust the notebook. <br />On GitHub, the HTML representation is unable to render, please try loading this page with nbviewer.org.</b></div><div class=\"sk-container\" hidden><div class=\"sk-item\"><div class=\"sk-estimator sk-toggleable\"><input class=\"sk-toggleable__control sk-hidden--visually\" id=\"sk-estimator-id-1\" type=\"checkbox\" checked><label for=\"sk-estimator-id-1\" class=\"sk-toggleable__label sk-toggleable__label-arrow\">XGBClassifier</label><div class=\"sk-toggleable__content\"><pre>XGBClassifier(base_score=None, booster=None, callbacks=None,\n",
              "              colsample_bylevel=None, colsample_bynode=None,\n",
              "              colsample_bytree=None, device=None, early_stopping_rounds=None,\n",
              "              enable_categorical=False, eval_metric=None, feature_types=None,\n",
              "              gamma=None, grow_policy=None, importance_type=None,\n",
              "              interaction_constraints=None, learning_rate=None, max_bin=None,\n",
              "              max_cat_threshold=None, max_cat_to_onehot=None,\n",
              "              max_delta_step=None, max_depth=None, max_leaves=None,\n",
              "              min_child_weight=None, missing=nan, monotone_constraints=None,\n",
              "              multi_strategy=None, n_estimators=100, n_jobs=None,\n",
              "              num_parallel_tree=None, random_state=25, ...)</pre></div></div></div></div></div>"
            ],
            "text/plain": [
              "XGBClassifier(base_score=None, booster=None, callbacks=None,\n",
              "              colsample_bylevel=None, colsample_bynode=None,\n",
              "              colsample_bytree=None, device=None, early_stopping_rounds=None,\n",
              "              enable_categorical=False, eval_metric=None, feature_types=None,\n",
              "              gamma=None, grow_policy=None, importance_type=None,\n",
              "              interaction_constraints=None, learning_rate=None, max_bin=None,\n",
              "              max_cat_threshold=None, max_cat_to_onehot=None,\n",
              "              max_delta_step=None, max_depth=None, max_leaves=None,\n",
              "              min_child_weight=None, missing=nan, monotone_constraints=None,\n",
              "              multi_strategy=None, n_estimators=100, n_jobs=None,\n",
              "              num_parallel_tree=None, random_state=25, ...)"
            ]
          },
          "execution_count": 18,
          "metadata": {},
          "output_type": "execute_result"
        }
      ],
      "source": [
        "xg_boost_model = xgb.XGBClassifier(random_state=25, n_estimators=100)\n",
        "xg_boost_model.fit(x_train, y_train)"
      ]
    },
    {
      "cell_type": "code",
      "execution_count": null,
      "metadata": {
        "id": "r-SAYkrk12a3"
      },
      "outputs": [],
      "source": [
        "y_pred = xg_boost_model.predict(x_test)"
      ]
    },
    {
      "cell_type": "code",
      "execution_count": null,
      "metadata": {
        "colab": {
          "base_uri": "https://localhost:8080/",
          "height": 640
        },
        "id": "Jc2IofCZ424f",
        "outputId": "a41f91f6-d470-4aa5-86c0-2d8e457f8911"
      },
      "outputs": [
        {
          "name": "stdout",
          "output_type": "stream",
          "text": [
            "correctas:  12561\n",
            "total:  15000\n",
            "              precision    recall  f1-score   support\n",
            "\n",
            "           0       0.86      0.82      0.84      7599\n",
            "           1       0.82      0.86      0.84      7401\n",
            "\n",
            "    accuracy                           0.84     15000\n",
            "   macro avg       0.84      0.84      0.84     15000\n",
            "weighted avg       0.84      0.84      0.84     15000\n",
            "\n"
          ]
        },
        {
          "data": {
            "image/png": "[encoded data removed]",
            "text/plain": [
              "<Figure size 640x480 with 2 Axes>"
            ]
          },
          "metadata": {},
          "output_type": "display_data"
        }
      ],
      "source": [
        "mostrar_metricas(y_test, y_pred)"
      ]
    },
    {
      "cell_type": "markdown",
      "metadata": {
        "id": "FBtBpZ-iJORV"
      },
      "source": [
        "El modelo basico predice correctamente 12561 de 15000"
      ]
    },
    {
      "cell_type": "markdown",
      "metadata": {
        "id": "MTR36IL8VOAs"
      },
      "source": [
        "## XG Boost con parámetros optimizados"
      ]
    },
    {
      "cell_type": "code",
      "execution_count": null,
      "metadata": {
        "colab": {
          "base_uri": "https://localhost:8080/"
        },
        "id": "FSwb13Y4CSIV",
        "outputId": "aaa39366-e080-4aea-ea11-2e41f14f1b30"
      },
      "outputs": [
        {
          "data": {
            "text/plain": [
              "{'subsample': 1.0,\n",
              " 'n_estimators': 300,\n",
              " 'min_child_weight': 4,\n",
              " 'max_depth': 4,\n",
              " 'learning_rate': 0.3,\n",
              " 'gamma': 0,\n",
              " 'colsample_bytree': 0.9}"
            ]
          },
          "execution_count": 19,
          "metadata": {},
          "output_type": "execute_result"
        }
      ],
      "source": [
        "param_dist = {\n",
        "    'learning_rate': [0.01, 0.1, 0.2, 0.3],  # Tasa de aprendizaje\n",
        "    'max_depth': [3, 4, 5, 6, 7, 8, 9],  # Profundidad máxima del árbol\n",
        "    'min_child_weight': [1, 2, 3, 4],  # Mínimo peso de un niño (para evitar divisiones adicionales)\n",
        "    'subsample': [0.8, 0.9, 1.0],  # Proporción de muestras utilizadas para entrenar árboles\n",
        "    'colsample_bytree': [0.8, 0.9, 1.0],  # Proporción de características utilizadas para entrenar árboles\n",
        "    'gamma': [0, 0.1, 0.2, 0.3],  # Parámetro de regularización para la poda\n",
        "    'n_estimators': [100, 200, 300],  # Número de árboles (estimadores) en el bosque\n",
        "}\n",
        "\n",
        "# Inicializa el clasificador XGBoost\n",
        "xgb_classifier = xgb.XGBClassifier(objective='binary:logistic', random_state=0)\n",
        "\n",
        "# Realiza la búsqueda de hiperparámetros utilizando RandomizedSearchCV\n",
        "n_iter = 10  # Número de combinaciones aleatorias a probar\n",
        "xgb_search = RandomizedSearchCV(xgb_classifier, param_distributions=param_dist, n_iter=n_iter, scoring='f1', cv=5, random_state=0)\n",
        "\n",
        "# Ajusta el modelo a los datos de entrenamiento\n",
        "xgb_search.fit(x_train, y_train)\n",
        "\n",
        "xgb_search.best_params_"
      ]
    },
    {
      "cell_type": "markdown",
      "metadata": {
        "id": "O2Pkj72S1fRZ"
      },
      "source": [
        "Colocamos varios parametros para utilizar un RandomizedSearchCV y asi encontrar los mejores hiperparametros usando f1 como score ya que este se utiliza para medir en Kaggle y luego entrenamos el modelo"
      ]
    },
    {
      "cell_type": "code",
      "execution_count": null,
      "metadata": {
        "colab": {
          "base_uri": "https://localhost:8080/",
          "height": 796
        },
        "id": "8wMPNTm4C7vN",
        "outputId": "d421a49e-7920-45b9-bd22-f8200611dfd7"
      },
      "outputs": [
        {
          "name": "stdout",
          "output_type": "stream",
          "text": [
            "              precision    recall  f1-score   support\n",
            "\n",
            "           0       0.87      0.84      0.86      7599\n",
            "           1       0.84      0.87      0.86      7401\n",
            "\n",
            "    accuracy                           0.86     15000\n",
            "   macro avg       0.86      0.86      0.86     15000\n",
            "weighted avg       0.86      0.86      0.86     15000\n",
            "\n",
            "correctas:  12844\n",
            "total:  15000\n",
            "              precision    recall  f1-score   support\n",
            "\n",
            "           0       0.87      0.84      0.86      7599\n",
            "           1       0.84      0.87      0.86      7401\n",
            "\n",
            "    accuracy                           0.86     15000\n",
            "   macro avg       0.86      0.86      0.86     15000\n",
            "weighted avg       0.86      0.86      0.86     15000\n",
            "\n"
          ]
        },
        {
          "data": {
            "image/png": "[encoded data removed]",
            "text/plain": [
              "<Figure size 640x480 with 2 Axes>"
            ]
          },
          "metadata": {},
          "output_type": "display_data"
        }
      ],
      "source": [
        "opt_xg = xgb_search.best_estimator_\n",
        "y_pred = opt_xg.predict(x_test)\n",
        "print(classification_report(y_test, y_pred))\n",
        "mostrar_metricas(y_test, y_pred)"
      ]
    },
    {
      "cell_type": "markdown",
      "metadata": {
        "id": "mqgzK8c-2FoF"
      },
      "source": [
        "Vemos que predice correctamente 12908 de 15000.\n",
        "\n",
        "Predice 347 reviews mejor que el modelo default."
      ]
    },
    {
      "cell_type": "markdown",
      "metadata": {
        "id": "4qnkf7igUQT8"
      },
      "source": [
        "## Predicción sobre los datos de test"
      ]
    },
    {
      "cell_type": "code",
      "execution_count": null,
      "metadata": {
        "id": "iSs2Y48zDC3p"
      },
      "outputs": [],
      "source": [
        "categorias_predichas_test_xg = opt_xg.predict(X_test)\n",
        "\n",
        "# Aplicar la función a cada elemento del array usando comprensión de listas\n",
        "sentimientos = [convertir(valor) for valor in categorias_predichas_test_xg]"
      ]
    },
    {
      "cell_type": "code",
      "execution_count": null,
      "metadata": {
        "id": "nzprhI5oQ27r"
      },
      "outputs": [],
      "source": [
        "filename = 'Xg_Boost_opt'\n",
        "prediccion = pd.DataFrame({\"id\": df_criticas_test.ID, \"sentimiento\": sentimientos})\n",
        "prediccion.to_csv('/content/sample_data/prediccion_'+filename+'.csv', index = False)"
      ]
    },
    {
      "cell_type": "markdown",
      "metadata": {
        "id": "_IhJg8oUWkVt"
      },
      "source": [
        "# Red neuronal (Keras Tensorflow)"
      ]
    },
    {
      "cell_type": "markdown",
      "metadata": {
        "id": "D9CXHGEDgjmK"
      },
      "source": [
        "## Modelo 1\n",
        "\n",
        "Maxlen=1000"
      ]
    },
    {
      "cell_type": "code",
      "execution_count": null,
      "metadata": {
        "id": "EHVqtCwHb1OU"
      },
      "outputs": [],
      "source": [
        "# Tokenización y secuenciación de texto en los datos de entrenamiento\n",
        "tokenizer = Tokenizer()\n",
        "tokenizer.fit_on_texts(x_train_bayes)\n",
        "\n",
        "X_train_seq = tokenizer.texts_to_sequences(x_train_bayes)  # Convertir texto a secuencias\n",
        "X_test_seq = tokenizer.texts_to_sequences(x_test_bayes)\n",
        "\n",
        "X_train_pad = pad_sequences(X_train_seq, maxlen=1000)  # Ajustar secuencias a una longitud máxima de 1000\n",
        "X_test_pad = pad_sequences(X_test_seq, maxlen=1000)\n",
        "\n",
        "encoder = LabelEncoder()\n",
        "y_train_binario = encoder.fit_transform(y_train_bayes) # Enconding de la columna sentimiento\n",
        "y_test_binario = encoder.transform(y_test_bayes)\n"
      ]
    },
    {
      "cell_type": "code",
      "execution_count": null,
      "metadata": {
        "id": "Kw3LfT9EcI8_"
      },
      "outputs": [],
      "source": [
        "# Crear el modelo de red neuronal\n",
        "model_1 = Sequential()\n",
        "model_1.add(Embedding(len(tokenizer.word_index) + 1, 32, input_length=1000))  # Capa de embedding\n",
        "model_1.add(Flatten())  # Aplanar la salida de la capa de embedding\n",
        "model_1.add(Dense(16, activation='relu'))  # Capa densa con activación ReLU\n",
        "model_1.add(Dense(1, activation='sigmoid'))  # Capa de salida con activación sigmoide para clasificación binaria\n"
      ]
    },
    {
      "cell_type": "markdown",
      "metadata": {
        "id": "N1BV0jpc3sz7"
      },
      "source": [
        "Embedding es una capa de procesamiento fundamental para el manejo de texto en redes neuronales. Esta capa se utiliza para convertir representaciones numéricas de palabras (índices enteros) en vectores densos de longitud fija.\n",
        "\n",
        "\n",
        "El primer argumento, len(tokenizer.word_index) + 1, especifica el tamaño del vocabulario de entrada. tokenizer.word_index contiene un diccionario que asigna palabras a índices numéricos, y sumar 1 se hace porque generalmente se reserva un índice para palabras fuera del vocabulario o para el relleno.\n",
        "\n",
        "El segundo argumento, 32, representa la dimensionalidad de los vectores de embedding. En este caso, cada palabra se representará mediante un vector de 32 dimensiones.\n"
      ]
    },
    {
      "cell_type": "code",
      "execution_count": null,
      "metadata": {
        "colab": {
          "base_uri": "https://localhost:8080/"
        },
        "id": "riWaE4r0cK2H",
        "outputId": "7ecc79d2-f835-4fa0-9046-50b2281c9ac5"
      },
      "outputs": [
        {
          "name": "stdout",
          "output_type": "stream",
          "text": [
            "Epoch 1/5\n",
            "875/875 [==============================] - 114s 128ms/step - loss: 0.3813 - accuracy: 0.8251 - val_loss: 0.2848 - val_accuracy: 0.8827\n",
            "Epoch 2/5\n",
            "875/875 [==============================] - 100s 115ms/step - loss: 0.0721 - accuracy: 0.9785 - val_loss: 0.3273 - val_accuracy: 0.8733\n",
            "Epoch 3/5\n",
            "875/875 [==============================] - 100s 114ms/step - loss: 0.0068 - accuracy: 0.9993 - val_loss: 0.3954 - val_accuracy: 0.8726\n",
            "Epoch 4/5\n",
            "875/875 [==============================] - 126s 143ms/step - loss: 0.0011 - accuracy: 1.0000 - val_loss: 0.4239 - val_accuracy: 0.8756\n",
            "Epoch 5/5\n",
            "875/875 [==============================] - 111s 127ms/step - loss: 2.6713e-04 - accuracy: 1.0000 - val_loss: 0.4505 - val_accuracy: 0.8750\n",
            "469/469 [==============================] - 3s 7ms/step\n"
          ]
        }
      ],
      "source": [
        "model_1.compile(optimizer='adam', loss='binary_crossentropy', metrics=['accuracy'])\n",
        "\n",
        "# Entrenamiento del modelo\n",
        "model_1.fit(X_train_pad, y_train_binario, epochs=5, batch_size=32, validation_split=0.2)\n",
        "y_pred = model_1.predict(X_test_pad)\n"
      ]
    },
    {
      "cell_type": "markdown",
      "metadata": {
        "id": "Nr9c4bkX3OId"
      },
      "source": [
        "Definimos el optimizador, probamos usando adam y usamos loss = binary_crossentropy ya que estamos en un problema de clasificacion binario."
      ]
    },
    {
      "cell_type": "code",
      "execution_count": null,
      "metadata": {
        "colab": {
          "base_uri": "https://localhost:8080/",
          "height": 652
        },
        "id": "8dpZEYa4H95N",
        "outputId": "f3e9dcad-2009-4d00-847c-f53e1454446f"
      },
      "outputs": [
        {
          "name": "stdout",
          "output_type": "stream",
          "text": [
            "correctas:  13092\n",
            "total:  15000\n",
            "              precision    recall  f1-score   support\n",
            "\n",
            "           0       0.88      0.87      0.87      7599\n",
            "           1       0.86      0.88      0.87      7401\n",
            "\n",
            "    accuracy                           0.87     15000\n",
            "   macro avg       0.87      0.87      0.87     15000\n",
            "weighted avg       0.87      0.87      0.87     15000\n",
            "\n"
          ]
        },
        {
          "data": {
            "image/png": "[encoded data removed]",
            "text/plain": [
              "<Figure size 640x480 with 2 Axes>"
            ]
          },
          "metadata": {},
          "output_type": "display_data"
        }
      ],
      "source": [
        "threshold = 0.5\n",
        "predicted_sentiments = [1 if pred > threshold else 0 for pred in y_pred]\n",
        "mostrar_metricas(y_test_binario, predicted_sentiments)"
      ]
    },
    {
      "cell_type": "markdown",
      "metadata": {
        "id": "FVWIyjKmVOAu"
      },
      "source": [
        "Vemos que este modelo predijo correctamente 13092 de 15000 reviews"
      ]
    },
    {
      "cell_type": "markdown",
      "metadata": {
        "id": "8lSfFSeJUGzW"
      },
      "source": [
        "### Predicción sobre los datos de test"
      ]
    },
    {
      "cell_type": "code",
      "execution_count": null,
      "metadata": {
        "id": "W760RR-4eZwF"
      },
      "outputs": [],
      "source": [
        "# Preprocesamiento de los datos de prueba\n",
        "X_test = df_criticas_test['review_es']  # Datos de texto de prueba\n",
        "X_test_seq = tokenizer.texts_to_sequences(X_test)  # Convertir texto a secuencias para datos de prueba\n",
        "X_test_pad = pad_sequences(X_test_seq, maxlen=1000)  # Ajustar secuencias a una longitud máxima de 1000 para datos de prueba\n",
        "\n",
        "# Predicción en el conjunto de prueba\n",
        "predictions = model_1.predict(X_test_pad)\n",
        "\n",
        "# Ajustar un umbral para determinar las clases basadas en las probabilidades\n",
        "threshold = 0.5\n",
        "predicted_sentiments = ['positivo' if pred > threshold else 'negativo' for pred in predictions]"
      ]
    },
    {
      "cell_type": "code",
      "execution_count": null,
      "metadata": {
        "id": "ZsRt47HCgcAi"
      },
      "outputs": [],
      "source": [
        "filename = 'tensorflow_2'\n",
        "prediccion = pd.DataFrame({\"id\": df_criticas_test.ID, \"sentimiento\": predicted_sentiments})\n",
        "prediccion.to_csv('/content/sample_data/prediccion_'+filename+'.csv', index = False)"
      ]
    },
    {
      "cell_type": "markdown",
      "metadata": {
        "id": "y8ru6vcAVOAv"
      },
      "source": [
        "Este modelo nos dio un score de 0.74336 en Kaggle, nuestra mejor predicción"
      ]
    },
    {
      "cell_type": "markdown",
      "metadata": {
        "id": "QViMs8iBU5G2"
      },
      "source": [
        "## Modelo 2\n",
        "\n",
        "Maxlen=1500\n",
        "\n",
        "learning_rate=0.001\n",
        "\n",
        "optimizer=Nadam\n",
        "\n",
        "Ahora probamos extender la longitud de las secuencias a 1500 caracteres y aplicamos learning_rate para reducir el overfitting"
      ]
    },
    {
      "cell_type": "code",
      "execution_count": null,
      "metadata": {
        "id": "h8jZQNXaf_y5"
      },
      "outputs": [],
      "source": [
        "# Tokenización y secuenciación de texto en los datos de entrenamiento\n",
        "tokenizer = Tokenizer()\n",
        "tokenizer.fit_on_texts(x_train_bayes)\n",
        "\n",
        "X_train_seq = tokenizer.texts_to_sequences(x_train_bayes)  # Convertir texto a secuencias\n",
        "X_test_seq = tokenizer.texts_to_sequences(x_test_bayes)\n",
        "\n",
        "X_train_pad = pad_sequences(X_train_seq, maxlen=1500)  # Ajustar secuencias a una longitud máxima de 1500\n",
        "X_test_pad = pad_sequences(X_test_seq, maxlen=1500)\n",
        "\n",
        "encoder = LabelEncoder()\n",
        "y_train_binario = encoder.fit_transform(y_train_bayes) # Enconding de la columna sentimiento\n",
        "y_test_binario = encoder.transform(y_test_bayes)"
      ]
    },
    {
      "cell_type": "markdown",
      "metadata": {
        "id": "M5pQBBvMVOAv"
      },
      "source": [
        "Por lo tanto, aumentamos el parámetro input_length a 1500"
      ]
    },
    {
      "cell_type": "code",
      "execution_count": null,
      "metadata": {
        "id": "Zbb-UTdYf_y6"
      },
      "outputs": [],
      "source": [
        "# Crear el modelo de red neuronal\n",
        "model_2 = Sequential()\n",
        "model_2.add(Embedding(len(tokenizer.word_index) + 1, 32, input_length=1500))  # Capa de embedding\n",
        "model_2.add(Flatten())  # Aplanar la salida de la capa de embedding\n",
        "model_2.add(Dense(16, activation='relu'))  # Capa densa con activación ReLU\n",
        "model_2.add(Dense(1, activation='sigmoid'))  # Capa de salida con activación sigmoide para clasificación binaria"
      ]
    },
    {
      "cell_type": "code",
      "execution_count": null,
      "metadata": {
        "colab": {
          "base_uri": "https://localhost:8080/"
        },
        "id": "yWEfuDr9f_y6",
        "outputId": "d18af9b0-9fee-4a83-d9c6-8031a5bbbc15"
      },
      "outputs": [
        {
          "name": "stdout",
          "output_type": "stream",
          "text": [
            "Epoch 1/5\n",
            "875/875 [==============================] - 141s 155ms/step - loss: 0.6938 - accuracy: 0.5050 - val_loss: 0.6937 - val_accuracy: 0.4860\n",
            "Epoch 2/5\n",
            "875/875 [==============================] - 132s 151ms/step - loss: 0.6928 - accuracy: 0.5073 - val_loss: 0.6936 - val_accuracy: 0.4861\n",
            "Epoch 3/5\n",
            "875/875 [==============================] - 130s 149ms/step - loss: 0.4267 - accuracy: 0.7746 - val_loss: 0.3007 - val_accuracy: 0.8753\n",
            "Epoch 4/5\n",
            "875/875 [==============================] - 131s 150ms/step - loss: 0.0885 - accuracy: 0.9707 - val_loss: 0.3363 - val_accuracy: 0.8710\n",
            "Epoch 5/5\n",
            "875/875 [==============================] - 131s 150ms/step - loss: 0.0112 - accuracy: 0.9984 - val_loss: 0.3880 - val_accuracy: 0.8706\n",
            "469/469 [==============================] - 3s 6ms/step\n"
          ]
        }
      ],
      "source": [
        "model_2.compile(optimizer=Nadam(learning_rate=0.001), loss='binary_crossentropy', metrics=['accuracy'])\n",
        "\n",
        "# Entrenamiento del modelo\n",
        "model_2.fit(X_train_pad, y_train_binario, epochs=5, batch_size=32, validation_split=0.2)\n",
        "y_pred = model_2.predict(X_test_pad)\n"
      ]
    },
    {
      "cell_type": "code",
      "execution_count": null,
      "metadata": {
        "colab": {
          "base_uri": "https://localhost:8080/",
          "height": 652
        },
        "id": "SFsqifN-f_y7",
        "outputId": "a7a13eff-f688-4502-aa9c-15a674487c94"
      },
      "outputs": [
        {
          "name": "stdout",
          "output_type": "stream",
          "text": [
            "correctas:  13085\n",
            "total:  15000\n",
            "              precision    recall  f1-score   support\n",
            "\n",
            "           0       0.86      0.90      0.88      7599\n",
            "           1       0.89      0.85      0.87      7401\n",
            "\n",
            "    accuracy                           0.87     15000\n",
            "   macro avg       0.87      0.87      0.87     15000\n",
            "weighted avg       0.87      0.87      0.87     15000\n",
            "\n"
          ]
        },
        {
          "data": {
            "image/png": "[encoded data removed]",
            "text/plain": [
              "<Figure size 640x480 with 2 Axes>"
            ]
          },
          "metadata": {},
          "output_type": "display_data"
        }
      ],
      "source": [
        "threshold = 0.5\n",
        "predicted_sentiments = [1 if pred > threshold else 0 for pred in y_pred]\n",
        "mostrar_metricas(y_test_binario, predicted_sentiments)"
      ]
    },
    {
      "cell_type": "markdown",
      "metadata": {
        "id": "f_74iXOoVOAw"
      },
      "source": [
        "Este modelo predijo correctamente 13085 reviews, lo cual es apenas un poco peor que nuestro modelo anterior, con una diferencia de 7 reviews.\n",
        "Sin embargo esperamos que el learning rate haya logrado aumentar el score de la predicción en Kaggle"
      ]
    },
    {
      "cell_type": "markdown",
      "metadata": {
        "id": "9I74DP6sVOAw"
      },
      "source": [
        "### Predicción sobre los datos de test"
      ]
    },
    {
      "cell_type": "code",
      "execution_count": null,
      "metadata": {
        "colab": {
          "base_uri": "https://localhost:8080/"
        },
        "id": "o9wZn0M_ZTeh",
        "outputId": "4466fe4a-3b48-4a68-fd9b-bc1e488c3c2b"
      },
      "outputs": [
        {
          "name": "stdout",
          "output_type": "stream",
          "text": [
            "269/269 [==============================] - 2s 6ms/step\n"
          ]
        }
      ],
      "source": [
        "# Preprocesamiento de los datos de prueba\n",
        "X_test = df_criticas_test['review_es']  # Datos de texto de prueba\n",
        "X_test_seq = tokenizer.texts_to_sequences(X_test)  # Convertir texto a secuencias para datos de prueba\n",
        "X_test_pad = pad_sequences(X_test_seq, maxlen=1500)  # Ajustar secuencias a una longitud máxima de 1500 para datos de prueba\n",
        "\n",
        "# Predicción en el conjunto de prueba\n",
        "predictions = model_2.predict(X_test_pad)\n",
        "\n",
        "# Ajustar un umbral para determinar las clases basadas en las probabilidades\n",
        "threshold = 0.5\n",
        "predicted_sentiments = ['positivo' if pred > threshold else 'negativo' for pred in predictions]"
      ]
    },
    {
      "cell_type": "code",
      "execution_count": null,
      "metadata": {
        "id": "0Zi1GfF-WIl5"
      },
      "outputs": [],
      "source": [
        "filename = 'tensorflow_4'\n",
        "prediccion = pd.DataFrame({\"id\": df_criticas_test.ID, \"sentimiento\": predicted_sentiments})\n",
        "prediccion.to_csv('/content/sample_data/prediccion_'+filename+'.csv', index = False)"
      ]
    },
    {
      "cell_type": "markdown",
      "metadata": {
        "id": "M9vMsjt_VOAw"
      },
      "source": [
        "Con un score de 0.72824 podemos confirmar que este modelo tuvo peor desempeño que el anterior, por lo que continuaremos optimizando el modelo 1"
      ]
    },
    {
      "cell_type": "markdown",
      "metadata": {
        "id": "ae6dmNj4kx58"
      },
      "source": [
        "## Modelo 1 con más épocas"
      ]
    },
    {
      "cell_type": "code",
      "execution_count": null,
      "metadata": {
        "id": "8ANqIZMcVOAw"
      },
      "outputs": [],
      "source": [
        "# Tokenización y secuenciación de texto en los datos de entrenamiento\n",
        "tokenizer = Tokenizer()\n",
        "tokenizer.fit_on_texts(x_train_bayes)\n",
        "\n",
        "X_train_seq = tokenizer.texts_to_sequences(x_train_bayes)  # Convertir texto a secuencias\n",
        "X_test_seq = tokenizer.texts_to_sequences(x_test_bayes)\n",
        "\n",
        "X_train_pad = pad_sequences(X_train_seq, maxlen=1500)  # Ajustar secuencias a una longitud máxima de 1500\n",
        "X_test_pad = pad_sequences(X_test_seq, maxlen=1500)\n",
        "\n",
        "encoder = LabelEncoder()\n",
        "y_train_binario = encoder.fit_transform(y_train_bayes) # Enconding de la columna sentimiento\n",
        "y_test_binario = encoder.transform(y_test_bayes)\n"
      ]
    },
    {
      "cell_type": "code",
      "execution_count": null,
      "metadata": {
        "id": "y_NXsWWkVOAx",
        "outputId": "71b81c76-bffc-4e3e-87a1-8da9a2fcd732"
      },
      "outputs": [
        {
          "name": "stdout",
          "output_type": "stream",
          "text": [
            "WARNING:tensorflow:From c:\\Users\\Admin\\AppData\\Local\\Programs\\Python\\Python39\\lib\\site-packages\\keras\\src\\backend.py:873: The name tf.get_default_graph is deprecated. Please use tf.compat.v1.get_default_graph instead.\n",
            "\n"
          ]
        }
      ],
      "source": [
        "# Crear el modelo de red neuronal\n",
        "model_3 = Sequential()\n",
        "model_3.add(Embedding(len(tokenizer.word_index) + 1, 32, input_length=1000))  # Capa de embedding\n",
        "model_3.add(Flatten())  # Aplanar la salida de la capa de embedding\n",
        "model_3.add(Dense(16, activation='relu'))  # Capa densa con activación ReLU\n",
        "model_3.add(Dense(1, activation='sigmoid'))  # Capa de salida con activación sigmoide para clasificación binaria\n"
      ]
    },
    {
      "cell_type": "code",
      "execution_count": null,
      "metadata": {
        "id": "ZTYjWvBMVOAx",
        "outputId": "8ec8a45b-f3bd-4cee-ccad-8afae30ab3d9"
      },
      "outputs": [
        {
          "name": "stdout",
          "output_type": "stream",
          "text": [
            "WARNING:tensorflow:From c:\\Users\\Admin\\AppData\\Local\\Programs\\Python\\Python39\\lib\\site-packages\\keras\\src\\optimizers\\__init__.py:309: The name tf.train.Optimizer is deprecated. Please use tf.compat.v1.train.Optimizer instead.\n",
            "\n"
          ]
        },
        {
          "name": "stdout",
          "output_type": "stream",
          "text": [
            "Epoch 1/50\n",
            "WARNING:tensorflow:From c:\\Users\\Admin\\AppData\\Local\\Programs\\Python\\Python39\\lib\\site-packages\\keras\\src\\utils\\tf_utils.py:492: The name tf.ragged.RaggedTensorValue is deprecated. Please use tf.compat.v1.ragged.RaggedTensorValue instead.\n",
            "\n",
            "WARNING:tensorflow:From c:\\Users\\Admin\\AppData\\Local\\Programs\\Python\\Python39\\lib\\site-packages\\keras\\src\\engine\\base_layer_utils.py:384: The name tf.executing_eagerly_outside_functions is deprecated. Please use tf.compat.v1.executing_eagerly_outside_functions instead.\n",
            "\n",
            "1000/1000 [==============================] - 83s 82ms/step - loss: 0.6933 - accuracy: 0.5035 - val_loss: 0.6940 - val_accuracy: 0.4839\n",
            "Epoch 2/50\n",
            "1000/1000 [==============================] - 80s 80ms/step - loss: 0.6903 - accuracy: 0.5094 - val_loss: 0.6958 - val_accuracy: 0.4854\n",
            "Epoch 3/50\n",
            "1000/1000 [==============================] - 77s 77ms/step - loss: 0.4306 - accuracy: 0.7667 - val_loss: 0.2956 - val_accuracy: 0.8761\n",
            "Epoch 4/50\n",
            "1000/1000 [==============================] - 78s 78ms/step - loss: 0.0997 - accuracy: 0.9647 - val_loss: 0.3297 - val_accuracy: 0.8704\n",
            "Epoch 5/50\n",
            "1000/1000 [==============================] - 78s 78ms/step - loss: 0.0075 - accuracy: 0.9987 - val_loss: 0.4420 - val_accuracy: 0.8635\n",
            "Epoch 6/50\n",
            "1000/1000 [==============================] - 78s 78ms/step - loss: 0.0010 - accuracy: 0.9999 - val_loss: 0.4879 - val_accuracy: 0.8650\n",
            "Epoch 7/50\n",
            "1000/1000 [==============================] - 77s 77ms/step - loss: 2.3028e-04 - accuracy: 1.0000 - val_loss: 0.5210 - val_accuracy: 0.8644\n",
            "Epoch 8/50\n",
            "1000/1000 [==============================] - 79s 79ms/step - loss: 1.0220e-04 - accuracy: 1.0000 - val_loss: 0.5484 - val_accuracy: 0.8659\n",
            "Epoch 9/50\n",
            "1000/1000 [==============================] - 78s 78ms/step - loss: 5.1782e-05 - accuracy: 1.0000 - val_loss: 0.5756 - val_accuracy: 0.8664\n",
            "Epoch 10/50\n",
            "1000/1000 [==============================] - 78s 78ms/step - loss: 2.7357e-05 - accuracy: 1.0000 - val_loss: 0.6002 - val_accuracy: 0.8669\n",
            "Epoch 11/50\n",
            "1000/1000 [==============================] - 78s 78ms/step - loss: 1.4749e-05 - accuracy: 1.0000 - val_loss: 0.6277 - val_accuracy: 0.8670\n",
            "Epoch 12/50\n",
            "1000/1000 [==============================] - 78s 78ms/step - loss: 8.0508e-06 - accuracy: 1.0000 - val_loss: 0.6530 - val_accuracy: 0.8674\n",
            "Epoch 13/50\n",
            "1000/1000 [==============================] - 78s 78ms/step - loss: 4.4175e-06 - accuracy: 1.0000 - val_loss: 0.6779 - val_accuracy: 0.8676\n",
            "Epoch 14/50\n",
            "1000/1000 [==============================] - 76s 76ms/step - loss: 2.4472e-06 - accuracy: 1.0000 - val_loss: 0.7035 - val_accuracy: 0.8676\n",
            "Epoch 15/50\n",
            "1000/1000 [==============================] - 74s 74ms/step - loss: 1.3756e-06 - accuracy: 1.0000 - val_loss: 0.7287 - val_accuracy: 0.8670\n",
            "Epoch 16/50\n",
            "1000/1000 [==============================] - 74s 74ms/step - loss: 7.7905e-07 - accuracy: 1.0000 - val_loss: 0.7531 - val_accuracy: 0.8675\n",
            "Epoch 17/50\n",
            "1000/1000 [==============================] - 75s 75ms/step - loss: 4.4905e-07 - accuracy: 1.0000 - val_loss: 0.7778 - val_accuracy: 0.8679\n",
            "Epoch 18/50\n",
            "1000/1000 [==============================] - 75s 75ms/step - loss: 2.5963e-07 - accuracy: 1.0000 - val_loss: 0.8025 - val_accuracy: 0.8676\n",
            "Epoch 19/50\n",
            "1000/1000 [==============================] - 74s 74ms/step - loss: 1.5253e-07 - accuracy: 1.0000 - val_loss: 0.8271 - val_accuracy: 0.8677\n",
            "Epoch 20/50\n",
            "1000/1000 [==============================] - 75s 75ms/step - loss: 9.3298e-08 - accuracy: 1.0000 - val_loss: 0.8491 - val_accuracy: 0.8675\n",
            "Epoch 21/50\n",
            "1000/1000 [==============================] - 75s 75ms/step - loss: 5.7390e-08 - accuracy: 1.0000 - val_loss: 0.8728 - val_accuracy: 0.8681\n",
            "Epoch 22/50\n",
            "1000/1000 [==============================] - 75s 75ms/step - loss: 3.6189e-08 - accuracy: 1.0000 - val_loss: 0.8924 - val_accuracy: 0.8674\n",
            "Epoch 23/50\n",
            "1000/1000 [==============================] - 75s 75ms/step - loss: 2.3239e-08 - accuracy: 1.0000 - val_loss: 0.9151 - val_accuracy: 0.8670\n",
            "Epoch 24/50\n",
            "1000/1000 [==============================] - 74s 74ms/step - loss: 1.5318e-08 - accuracy: 1.0000 - val_loss: 0.9347 - val_accuracy: 0.8675\n",
            "Epoch 25/50\n",
            "1000/1000 [==============================] - 75s 75ms/step - loss: 1.0291e-08 - accuracy: 1.0000 - val_loss: 0.9546 - val_accuracy: 0.8673\n",
            "Epoch 26/50\n",
            "1000/1000 [==============================] - 75s 75ms/step - loss: 7.0842e-09 - accuracy: 1.0000 - val_loss: 0.9736 - val_accuracy: 0.8674\n",
            "Epoch 27/50\n",
            "1000/1000 [==============================] - 75s 75ms/step - loss: 5.0201e-09 - accuracy: 1.0000 - val_loss: 0.9906 - val_accuracy: 0.8669\n",
            "Epoch 28/50\n",
            "1000/1000 [==============================] - 74s 74ms/step - loss: 3.7181e-09 - accuracy: 1.0000 - val_loss: 1.0072 - val_accuracy: 0.8673\n",
            "Epoch 29/50\n",
            "1000/1000 [==============================] - 75s 75ms/step - loss: 2.8751e-09 - accuracy: 1.0000 - val_loss: 1.0229 - val_accuracy: 0.8670\n",
            "Epoch 30/50\n",
            "1000/1000 [==============================] - 75s 75ms/step - loss: 2.3305e-09 - accuracy: 1.0000 - val_loss: 1.0365 - val_accuracy: 0.8669\n",
            "Epoch 31/50\n",
            "1000/1000 [==============================] - 74s 74ms/step - loss: 1.9763e-09 - accuracy: 1.0000 - val_loss: 1.0479 - val_accuracy: 0.8666\n",
            "Epoch 32/50\n",
            "1000/1000 [==============================] - 74s 74ms/step - loss: 1.7639e-09 - accuracy: 1.0000 - val_loss: 1.0576 - val_accuracy: 0.8666\n",
            "Epoch 33/50\n",
            "1000/1000 [==============================] - 78s 78ms/step - loss: 1.5952e-09 - accuracy: 1.0000 - val_loss: 1.0655 - val_accuracy: 0.8669\n",
            "Epoch 34/50\n",
            "1000/1000 [==============================] - 79s 79ms/step - loss: 1.4563e-09 - accuracy: 1.0000 - val_loss: 1.0722 - val_accuracy: 0.8673\n",
            "Epoch 35/50\n",
            "1000/1000 [==============================] - 77s 77ms/step - loss: 1.3720e-09 - accuracy: 1.0000 - val_loss: 1.0905 - val_accuracy: 0.8668\n",
            "Epoch 36/50\n",
            "1000/1000 [==============================] - 77s 77ms/step - loss: 1.2557e-09 - accuracy: 1.0000 - val_loss: 1.0912 - val_accuracy: 0.8666\n",
            "Epoch 37/50\n",
            "1000/1000 [==============================] - 77s 77ms/step - loss: 1.2899e-09 - accuracy: 1.0000 - val_loss: 1.0990 - val_accuracy: 0.8680\n",
            "Epoch 38/50\n",
            "1000/1000 [==============================] - 79s 79ms/step - loss: 0.0015 - accuracy: 0.9996 - val_loss: 1.1427 - val_accuracy: 0.8384\n",
            "Epoch 39/50\n",
            "1000/1000 [==============================] - 78s 78ms/step - loss: 0.0030 - accuracy: 0.9990 - val_loss: 0.9512 - val_accuracy: 0.8430\n",
            "Epoch 40/50\n",
            "1000/1000 [==============================] - 78s 78ms/step - loss: 8.4147e-05 - accuracy: 1.0000 - val_loss: 1.2278 - val_accuracy: 0.8474\n",
            "Epoch 41/50\n",
            "1000/1000 [==============================] - 78s 78ms/step - loss: 2.8368e-07 - accuracy: 1.0000 - val_loss: 1.2386 - val_accuracy: 0.8476\n",
            "Epoch 42/50\n",
            "1000/1000 [==============================] - 79s 79ms/step - loss: 1.4514e-07 - accuracy: 1.0000 - val_loss: 1.2473 - val_accuracy: 0.8481\n",
            "Epoch 43/50\n",
            "1000/1000 [==============================] - 77s 77ms/step - loss: 1.0820e-07 - accuracy: 1.0000 - val_loss: 1.2574 - val_accuracy: 0.8476\n",
            "Epoch 44/50\n",
            "1000/1000 [==============================] - 78s 78ms/step - loss: 8.0651e-08 - accuracy: 1.0000 - val_loss: 1.2690 - val_accuracy: 0.8470\n",
            "Epoch 45/50\n",
            "1000/1000 [==============================] - 78s 78ms/step - loss: 5.9887e-08 - accuracy: 1.0000 - val_loss: 1.2819 - val_accuracy: 0.8475\n",
            "Epoch 46/50\n",
            "1000/1000 [==============================] - 78s 78ms/step - loss: 4.4240e-08 - accuracy: 1.0000 - val_loss: 1.2961 - val_accuracy: 0.8472\n",
            "Epoch 47/50\n",
            "1000/1000 [==============================] - 78s 78ms/step - loss: 3.2636e-08 - accuracy: 1.0000 - val_loss: 1.3114 - val_accuracy: 0.8472\n",
            "Epoch 48/50\n",
            "1000/1000 [==============================] - 78s 78ms/step - loss: 2.4126e-08 - accuracy: 1.0000 - val_loss: 1.3273 - val_accuracy: 0.8472\n",
            "Epoch 49/50\n",
            "1000/1000 [==============================] - 78s 78ms/step - loss: 1.7956e-08 - accuracy: 1.0000 - val_loss: 1.3440 - val_accuracy: 0.8471\n",
            "Epoch 50/50\n",
            "1000/1000 [==============================] - 77s 77ms/step - loss: 1.3434e-08 - accuracy: 1.0000 - val_loss: 1.3613 - val_accuracy: 0.8472\n",
            "313/313 [==============================] - 1s 3ms/step\n"
          ]
        }
      ],
      "source": [
        "model_3.compile(optimizer=\"adam\", loss='binary_crossentropy', metrics=['accuracy'])\n",
        "\n",
        "# Entrenamiento del modelo\n",
        "model_3.fit(X_train_pad, y_train_binario, epochs=50, batch_size=32, validation_split=0.2)\n",
        "y_pred = model_3.predict(X_test_pad)"
      ]
    },
    {
      "cell_type": "code",
      "execution_count": null,
      "metadata": {
        "id": "ryGUgmJQVOAx",
        "outputId": "98130c28-5ad4-4059-ceff-8a8c47a6d705"
      },
      "outputs": [
        {
          "name": "stdout",
          "output_type": "stream",
          "text": [
            "correctas:  8531\n",
            "total:  10000\n",
            "              precision    recall  f1-score   support\n",
            "\n",
            "           0       0.86      0.85      0.86      5093\n",
            "           1       0.85      0.85      0.85      4907\n",
            "\n",
            "    accuracy                           0.85     10000\n",
            "   macro avg       0.85      0.85      0.85     10000\n",
            "weighted avg       0.85      0.85      0.85     10000\n",
            "\n"
          ]
        },
        {
          "data": {
            "image/png": "[encoded data removed]",
            "text/plain": [
              "<Figure size 640x480 with 2 Axes>"
            ]
          },
          "metadata": {},
          "output_type": "display_data"
        }
      ],
      "source": [
        "threshold = 0.5\n",
        "predicted_sentiments = [1 if pred > threshold else 0 for pred in y_pred]\n",
        "mostrar_metricas(y_test_binario, predicted_sentiments)"
      ]
    },
    {
      "cell_type": "markdown",
      "metadata": {
        "id": "NUFkOaufVOAx"
      },
      "source": [
        "### Predicción sobre los datos de test"
      ]
    },
    {
      "cell_type": "code",
      "execution_count": null,
      "metadata": {
        "id": "FNVBg9BuVOAx",
        "outputId": "f15b1d4a-579d-4ee6-c200-3e9e464af182"
      },
      "outputs": [
        {
          "name": "stdout",
          "output_type": "stream",
          "text": [
            "269/269 [==============================] - 1s 3ms/step\n"
          ]
        }
      ],
      "source": [
        "# Preprocesamiento de los datos de prueba\n",
        "X_test = df_criticas_test['review_es']  # Datos de texto de prueba\n",
        "X_test_seq = tokenizer.texts_to_sequences(X_test)  # Convertir texto a secuencias para datos de prueba\n",
        "X_test_pad = pad_sequences(X_test_seq, maxlen=1000)  # Ajustar secuencias a una longitud máxima de 1500 para datos de prueba\n",
        "\n",
        "# Predicción en el conjunto de prueba\n",
        "predictions = model_3.predict(X_test_pad)\n",
        "\n",
        "# Ajustar un umbral para determinar las clases basadas en las probabilidades\n",
        "threshold = 0.5\n",
        "predicted_sentiments = ['positivo' if pred > threshold else 'negativo' for pred in predictions]"
      ]
    },
    {
      "cell_type": "code",
      "execution_count": null,
      "metadata": {
        "id": "7Z9WkIfnVOAx"
      },
      "outputs": [],
      "source": [
        "filename = 'tensorflow_6'\n",
        "prediccion = pd.DataFrame({\"id\": df_criticas_test.ID, \"sentimiento\": predicted_sentiments})\n",
        "prediccion.to_csv('./content/sample_data/prediccion_'+filename+'.csv', index = False)"
      ]
    },
    {
      "cell_type": "markdown",
      "metadata": {
        "id": "62RN1oK_VOAx"
      },
      "source": [
        "## Modelo 2 con más épocas"
      ]
    },
    {
      "cell_type": "code",
      "execution_count": null,
      "metadata": {
        "id": "E6N4H2dZlWIt"
      },
      "outputs": [],
      "source": [
        "# Tokenización y secuenciación de texto en los datos de entrenamiento\n",
        "tokenizer = Tokenizer()\n",
        "tokenizer.fit_on_texts(x_train_bayes)\n",
        "\n",
        "X_train_seq = tokenizer.texts_to_sequences(x_train_bayes)  # Convertir texto a secuencias\n",
        "X_test_seq = tokenizer.texts_to_sequences(x_test_bayes)\n",
        "\n",
        "X_train_pad = pad_sequences(X_train_seq, maxlen=1500)  # Ajustar secuencias a una longitud máxima de 1500\n",
        "X_test_pad = pad_sequences(X_test_seq, maxlen=1500)\n",
        "\n",
        "encoder = LabelEncoder()\n",
        "y_train_binario = encoder.fit_transform(y_train_bayes) # Enconding de la columna sentimiento\n",
        "y_test_binario = encoder.transform(y_test_bayes)\n"
      ]
    },
    {
      "cell_type": "code",
      "execution_count": null,
      "metadata": {
        "id": "k05UPaKHlWIu",
        "outputId": "26b24f73-346c-4720-b308-e66e0e97aab9"
      },
      "outputs": [
        {
          "name": "stdout",
          "output_type": "stream",
          "text": [
            "WARNING:tensorflow:From c:\\Users\\Admin\\AppData\\Local\\Programs\\Python\\Python39\\lib\\site-packages\\keras\\src\\backend.py:873: The name tf.get_default_graph is deprecated. Please use tf.compat.v1.get_default_graph instead.\n",
            "\n"
          ]
        }
      ],
      "source": [
        "# Crear el modelo de red neuronal\n",
        "model_4 = Sequential()\n",
        "model_4.add(Embedding(len(tokenizer.word_index) + 1, 32, input_length=1500))  # Capa de embedding\n",
        "model_4.add(Flatten())  # Aplanar la salida de la capa de embedding\n",
        "model_4.add(Dense(16, activation='relu'))  # Capa densa con activación ReLU\n",
        "model_4.add(Dense(1, activation='sigmoid'))  # Capa de salida con activación sigmoide para clasificación binaria\n"
      ]
    },
    {
      "cell_type": "code",
      "execution_count": null,
      "metadata": {
        "colab": {
          "base_uri": "https://localhost:8080/"
        },
        "id": "MTlq_VS9lWIv",
        "outputId": "f08e1c07-4b8c-4e28-c870-febd7a8254f5"
      },
      "outputs": [
        {
          "name": "stdout",
          "output_type": "stream",
          "text": [
            "Epoch 1/50\n",
            "WARNING:tensorflow:From c:\\Users\\Admin\\AppData\\Local\\Programs\\Python\\Python39\\lib\\site-packages\\keras\\src\\utils\\tf_utils.py:492: The name tf.ragged.RaggedTensorValue is deprecated. Please use tf.compat.v1.ragged.RaggedTensorValue instead.\n",
            "\n",
            "WARNING:tensorflow:From c:\\Users\\Admin\\AppData\\Local\\Programs\\Python\\Python39\\lib\\site-packages\\keras\\src\\engine\\base_layer_utils.py:384: The name tf.executing_eagerly_outside_functions is deprecated. Please use tf.compat.v1.executing_eagerly_outside_functions instead.\n",
            "\n",
            "1000/1000 [==============================] - 112s 111ms/step - loss: 0.3811 - accuracy: 0.8149 - val_loss: 0.2881 - val_accuracy: 0.8798\n",
            "Epoch 2/50\n",
            "1000/1000 [==============================] - 109s 109ms/step - loss: 0.0920 - accuracy: 0.9702 - val_loss: 0.3247 - val_accuracy: 0.8786\n",
            "Epoch 3/50\n",
            "1000/1000 [==============================] - 110s 110ms/step - loss: 0.0103 - accuracy: 0.9984 - val_loss: 0.3851 - val_accuracy: 0.8759\n",
            "Epoch 4/50\n",
            "1000/1000 [==============================] - 108s 108ms/step - loss: 0.0017 - accuracy: 0.9999 - val_loss: 0.4426 - val_accuracy: 0.8715\n",
            "Epoch 5/50\n",
            "1000/1000 [==============================] - 113s 112ms/step - loss: 3.6134e-04 - accuracy: 1.0000 - val_loss: 0.4638 - val_accuracy: 0.8751\n",
            "Epoch 6/50\n",
            "1000/1000 [==============================] - 116s 116ms/step - loss: 1.5449e-04 - accuracy: 1.0000 - val_loss: 0.4931 - val_accuracy: 0.8742\n",
            "Epoch 7/50\n",
            "1000/1000 [==============================] - 116s 116ms/step - loss: 7.5973e-05 - accuracy: 1.0000 - val_loss: 0.5184 - val_accuracy: 0.8765\n",
            "Epoch 8/50\n",
            "1000/1000 [==============================] - 116s 116ms/step - loss: 3.9727e-05 - accuracy: 1.0000 - val_loss: 0.5455 - val_accuracy: 0.8755\n",
            "Epoch 9/50\n",
            "1000/1000 [==============================] - 116s 116ms/step - loss: 2.1142e-05 - accuracy: 1.0000 - val_loss: 0.5695 - val_accuracy: 0.8760\n",
            "Epoch 10/50\n",
            "1000/1000 [==============================] - 116s 116ms/step - loss: 1.1472e-05 - accuracy: 1.0000 - val_loss: 0.5947 - val_accuracy: 0.8761\n",
            "Epoch 11/50\n",
            "1000/1000 [==============================] - 117s 117ms/step - loss: 6.2806e-06 - accuracy: 1.0000 - val_loss: 0.6184 - val_accuracy: 0.8765\n",
            "Epoch 12/50\n",
            "1000/1000 [==============================] - 117s 117ms/step - loss: 3.4955e-06 - accuracy: 1.0000 - val_loss: 0.6442 - val_accuracy: 0.8761\n",
            "Epoch 13/50\n",
            "1000/1000 [==============================] - 117s 117ms/step - loss: 1.9732e-06 - accuracy: 1.0000 - val_loss: 0.6659 - val_accuracy: 0.8769\n",
            "Epoch 14/50\n",
            "1000/1000 [==============================] - 117s 117ms/step - loss: 1.1261e-06 - accuracy: 1.0000 - val_loss: 0.6914 - val_accuracy: 0.8759\n",
            "Epoch 15/50\n",
            "1000/1000 [==============================] - 117s 117ms/step - loss: 6.5101e-07 - accuracy: 1.0000 - val_loss: 0.7136 - val_accuracy: 0.8760\n",
            "Epoch 16/50\n",
            "1000/1000 [==============================] - 119s 119ms/step - loss: 3.8296e-07 - accuracy: 1.0000 - val_loss: 0.7376 - val_accuracy: 0.8755\n",
            "Epoch 17/50\n",
            "1000/1000 [==============================] - 117s 117ms/step - loss: 2.2742e-07 - accuracy: 1.0000 - val_loss: 0.7583 - val_accuracy: 0.8763\n",
            "Epoch 18/50\n",
            "1000/1000 [==============================] - 117s 117ms/step - loss: 1.3818e-07 - accuracy: 1.0000 - val_loss: 0.7798 - val_accuracy: 0.8764\n",
            "Epoch 19/50\n",
            "1000/1000 [==============================] - 117s 117ms/step - loss: 8.5276e-08 - accuracy: 1.0000 - val_loss: 0.8028 - val_accuracy: 0.8759\n",
            "Epoch 20/50\n",
            "1000/1000 [==============================] - 117s 117ms/step - loss: 5.3627e-08 - accuracy: 1.0000 - val_loss: 0.8229 - val_accuracy: 0.8765\n",
            "Epoch 21/50\n",
            "1000/1000 [==============================] - 117s 117ms/step - loss: 3.4357e-08 - accuracy: 1.0000 - val_loss: 0.8433 - val_accuracy: 0.8763\n",
            "Epoch 22/50\n",
            "1000/1000 [==============================] - 117s 117ms/step - loss: 2.2232e-08 - accuracy: 1.0000 - val_loss: 0.8626 - val_accuracy: 0.8761\n",
            "Epoch 23/50\n",
            "1000/1000 [==============================] - 116s 116ms/step - loss: 1.4658e-08 - accuracy: 1.0000 - val_loss: 0.8820 - val_accuracy: 0.8764\n",
            "Epoch 24/50\n",
            "1000/1000 [==============================] - 117s 117ms/step - loss: 9.8397e-09 - accuracy: 1.0000 - val_loss: 0.9018 - val_accuracy: 0.8761\n",
            "Epoch 25/50\n",
            "1000/1000 [==============================] - 117s 117ms/step - loss: 6.7366e-09 - accuracy: 1.0000 - val_loss: 0.9183 - val_accuracy: 0.8760\n",
            "Epoch 26/50\n",
            "1000/1000 [==============================] - 117s 117ms/step - loss: 4.7733e-09 - accuracy: 1.0000 - val_loss: 0.9349 - val_accuracy: 0.8759\n",
            "Epoch 27/50\n",
            "1000/1000 [==============================] - 117s 117ms/step - loss: 3.5677e-09 - accuracy: 1.0000 - val_loss: 0.9497 - val_accuracy: 0.8761\n",
            "Epoch 28/50\n",
            "1000/1000 [==============================] - 118s 118ms/step - loss: 2.8066e-09 - accuracy: 1.0000 - val_loss: 0.9644 - val_accuracy: 0.8756\n",
            "Epoch 29/50\n",
            "1000/1000 [==============================] - 120s 120ms/step - loss: 2.3412e-09 - accuracy: 1.0000 - val_loss: 0.9762 - val_accuracy: 0.8751\n",
            "Epoch 30/50\n",
            "1000/1000 [==============================] - 117s 117ms/step - loss: 2.0285e-09 - accuracy: 1.0000 - val_loss: 0.9908 - val_accuracy: 0.8751\n",
            "Epoch 31/50\n",
            "1000/1000 [==============================] - 119s 119ms/step - loss: 1.7964e-09 - accuracy: 1.0000 - val_loss: 0.9965 - val_accuracy: 0.8745\n",
            "Epoch 32/50\n",
            "1000/1000 [==============================] - 118s 118ms/step - loss: 1.6796e-09 - accuracy: 1.0000 - val_loss: 1.0035 - val_accuracy: 0.8749\n",
            "Epoch 33/50\n",
            "1000/1000 [==============================] - 120s 120ms/step - loss: 1.5379e-09 - accuracy: 1.0000 - val_loss: 1.0119 - val_accuracy: 0.8739\n",
            "Epoch 34/50\n",
            "1000/1000 [==============================] - 116s 116ms/step - loss: 1.4370e-09 - accuracy: 1.0000 - val_loss: 1.0182 - val_accuracy: 0.8739\n",
            "Epoch 35/50\n",
            "1000/1000 [==============================] - 116s 116ms/step - loss: 1.3942e-09 - accuracy: 1.0000 - val_loss: 1.0239 - val_accuracy: 0.8740\n",
            "Epoch 36/50\n",
            "1000/1000 [==============================] - 117s 117ms/step - loss: 1.3375e-09 - accuracy: 1.0000 - val_loss: 1.0312 - val_accuracy: 0.8734\n",
            "Epoch 37/50\n",
            "1000/1000 [==============================] - 118s 118ms/step - loss: 1.3146e-09 - accuracy: 1.0000 - val_loss: 1.0310 - val_accuracy: 0.8735\n",
            "Epoch 38/50\n",
            "1000/1000 [==============================] - 116s 116ms/step - loss: 1.2184e-09 - accuracy: 1.0000 - val_loss: 1.0334 - val_accuracy: 0.8742\n",
            "Epoch 39/50\n",
            "1000/1000 [==============================] - 116s 116ms/step - loss: 1.1791e-09 - accuracy: 1.0000 - val_loss: 1.0504 - val_accuracy: 0.8744\n",
            "Epoch 40/50\n",
            "1000/1000 [==============================] - 116s 116ms/step - loss: 1.2045e-09 - accuracy: 1.0000 - val_loss: 1.0517 - val_accuracy: 0.8746\n",
            "Epoch 41/50\n",
            "1000/1000 [==============================] - 116s 116ms/step - loss: 1.2091e-09 - accuracy: 1.0000 - val_loss: 1.0458 - val_accuracy: 0.8730\n",
            "Epoch 42/50\n",
            "1000/1000 [==============================] - 116s 116ms/step - loss: 1.1742e-09 - accuracy: 1.0000 - val_loss: 1.0576 - val_accuracy: 0.8746\n",
            "Epoch 43/50\n",
            "1000/1000 [==============================] - 116s 116ms/step - loss: 1.2086e-09 - accuracy: 1.0000 - val_loss: 1.0575 - val_accuracy: 0.8741\n",
            "Epoch 44/50\n",
            "1000/1000 [==============================] - 116s 116ms/step - loss: 1.2262e-09 - accuracy: 1.0000 - val_loss: 1.0609 - val_accuracy: 0.8749\n",
            "Epoch 45/50\n",
            "1000/1000 [==============================] - 116s 116ms/step - loss: 1.1569e-09 - accuracy: 1.0000 - val_loss: 1.0622 - val_accuracy: 0.8735\n",
            "Epoch 46/50\n",
            "1000/1000 [==============================] - 116s 116ms/step - loss: 1.1911e-09 - accuracy: 1.0000 - val_loss: 1.0594 - val_accuracy: 0.8737\n",
            "Epoch 47/50\n",
            "1000/1000 [==============================] - 117s 117ms/step - loss: 1.1985e-09 - accuracy: 1.0000 - val_loss: 1.0679 - val_accuracy: 0.8745\n",
            "Epoch 48/50\n",
            "1000/1000 [==============================] - 116s 116ms/step - loss: 1.0973e-09 - accuracy: 1.0000 - val_loss: 1.0607 - val_accuracy: 0.8741\n",
            "Epoch 49/50\n",
            "1000/1000 [==============================] - 117s 117ms/step - loss: 1.1456e-09 - accuracy: 1.0000 - val_loss: 1.0746 - val_accuracy: 0.8750\n",
            "Epoch 50/50\n",
            "1000/1000 [==============================] - 118s 118ms/step - loss: 1.1276e-09 - accuracy: 1.0000 - val_loss: 1.0691 - val_accuracy: 0.8734\n",
            "313/313 [==============================] - 2s 5ms/step\n"
          ]
        }
      ],
      "source": [
        "model_4.compile(optimizer=Nadam(learning_rate=0.001), loss='binary_crossentropy', metrics=['accuracy'])\n",
        "\n",
        "# Entrenamiento del modelo\n",
        "model_4.fit(X_train_pad, y_train_binario, epochs=50, batch_size=32, validation_split=0.2)\n",
        "y_pred = model_4.predict(X_test_pad)"
      ]
    },
    {
      "cell_type": "code",
      "execution_count": null,
      "metadata": {
        "colab": {
          "base_uri": "https://localhost:8080/",
          "height": 652
        },
        "id": "aSkML2jxlWIw",
        "outputId": "2ce58b43-bb74-4ea1-952a-c7506d92f543"
      },
      "outputs": [
        {
          "name": "stdout",
          "output_type": "stream",
          "text": [
            "correctas:  8805\n",
            "total:  10000\n",
            "              precision    recall  f1-score   support\n",
            "\n",
            "           0       0.87      0.89      0.88      5093\n",
            "           1       0.89      0.87      0.88      4907\n",
            "\n",
            "    accuracy                           0.88     10000\n",
            "   macro avg       0.88      0.88      0.88     10000\n",
            "weighted avg       0.88      0.88      0.88     10000\n",
            "\n"
          ]
        },
        {
          "data": {
            "image/png": "[encoded data removed]",
            "text/plain": [
              "<Figure size 640x480 with 2 Axes>"
            ]
          },
          "metadata": {},
          "output_type": "display_data"
        }
      ],
      "source": [
        "threshold = 0.5\n",
        "predicted_sentiments = [1 if pred > threshold else 0 for pred in y_pred]\n",
        "mostrar_metricas(y_test_binario, predicted_sentiments)"
      ]
    },
    {
      "cell_type": "markdown",
      "metadata": {
        "id": "rwQ6RGb9VOAy"
      },
      "source": [
        "Accuracy con 50 épocas:\n",
        "\n",
        "Modelo 1: 0.85\n",
        "\n",
        "Modelo 2: 0.88"
      ]
    },
    {
      "cell_type": "markdown",
      "metadata": {
        "id": "xegcBzcUVOAy"
      },
      "source": [
        "### Predicción sobre los datos de test"
      ]
    },
    {
      "cell_type": "code",
      "execution_count": null,
      "metadata": {
        "colab": {
          "base_uri": "https://localhost:8080/"
        },
        "id": "AMM2GfLC_xuq",
        "outputId": "841fd1c1-753a-4c70-9665-bec813c0cb8b"
      },
      "outputs": [
        {
          "name": "stdout",
          "output_type": "stream",
          "text": [
            "269/269 [==============================] - 1s 3ms/step\n"
          ]
        }
      ],
      "source": [
        "# Preprocesamiento de los datos de prueba\n",
        "X_test = df_criticas_test['review_es']  # Datos de texto de prueba\n",
        "X_test_seq = tokenizer.texts_to_sequences(X_test)  # Convertir texto a secuencias para datos de prueba\n",
        "X_test_pad = pad_sequences(X_test_seq, maxlen=1000)  # Ajustar secuencias a una longitud máxima de 1500 para datos de prueba\n",
        "\n",
        "# Predicción en el conjunto de prueba\n",
        "predictions = model_3.predict(X_test_pad)\n",
        "\n",
        "# Ajustar un umbral para determinar las clases basadas en las probabilidades\n",
        "threshold = 0.5\n",
        "predicted_sentiments = ['positivo' if pred > threshold else 'negativo' for pred in predictions]"
      ]
    },
    {
      "cell_type": "code",
      "execution_count": null,
      "metadata": {
        "id": "c001fwrx_tkt"
      },
      "outputs": [],
      "source": [
        "filename = 'tensorflow_5'\n",
        "prediccion = pd.DataFrame({\"id\": df_criticas_test.ID, \"sentimiento\": predicted_sentiments})\n",
        "prediccion.to_csv('./content/sample_data/prediccion_'+filename+'.csv', index = False)"
      ]
    },
    {
      "cell_type": "markdown",
      "metadata": {
        "id": "pFK-btY8ATmc"
      },
      "source": [
        "## Conclusiones\n",
        "\n",
        "Entonces, para el modelo 1 (max length 1000 y sin learning rate) Kaggle da: 0.74336.\n",
        "\n",
        "Si le agregamos 50 épocas vemos que empeora y el score pasa a ser: 0.71176\n",
        "\n",
        "En cambio, el modelo 2 (max length 1500 y learning rate 0.001) en Kaggle da: 0.72824\n",
        "\n",
        "Y si lo entrenamos con 50 épocas vemos que mejora y obtenemos un score de 0.73657\n",
        "\n",
        "Por lo que podemos concluir que en algunos casos aumentar las épocas resulta favorecedor y en otros no, independientemente del score de train."
      ]
    },
    {
      "cell_type": "markdown",
      "metadata": {
        "id": "nwWrwnHy3928"
      },
      "source": [
        "# Ensamble (Voting)"
      ]
    },
    {
      "cell_type": "markdown",
      "metadata": {
        "id": "yrd3DEfmDzUU"
      },
      "source": [
        "Al crear el ensamble utilizando el modelo de red neuronal tuvimos muchos inconvenientes ya que resultó no ser un estimador compatible con scikit-learn. Por lo que decidimos entrenar un SVM con kernel polinómico como nuestro tercer modelo. De esa forma, nos quedamos con Random Forest, XG Boost y SVM como nuestros estimadores del ensamble"
      ]
    },
    {
      "cell_type": "markdown",
      "metadata": {
        "id": "XeTZsdTDVOAz"
      },
      "source": [
        "## SVM Polinómico"
      ]
    },
    {
      "cell_type": "code",
      "execution_count": null,
      "metadata": {
        "id": "DrQSrWAqVOAz",
        "outputId": "166d66dd-fcd6-4c3e-e2e9-c9178fb837ea"
      },
      "outputs": [
        {
          "name": "stdout",
          "output_type": "stream",
          "text": [
            "[0.86583606 0.79729415 0.87935015 0.86369912 0.87935015]\n",
            "{'kernel': 'poly', 'gamma': 0.001, 'degree': 1, 'coef0': 0.1, 'C': 10}\n",
            "0.87935014624742\n",
            "correctas:  10173\n",
            "total:  15000\n",
            "              precision    recall  f1-score   support\n",
            "\n",
            "           0       0.66      0.74      0.70      7599\n",
            "           1       0.70      0.62      0.65      7401\n",
            "\n",
            "    accuracy                           0.68     15000\n",
            "   macro avg       0.68      0.68      0.68     15000\n",
            "weighted avg       0.68      0.68      0.68     15000\n",
            "\n"
          ]
        },
        {
          "data": {
            "image/png": "[encoded data removed]",
            "text/plain": [
              "<Figure size 640x480 with 2 Axes>"
            ]
          },
          "metadata": {},
          "output_type": "display_data"
        }
      ],
      "source": [
        "params_grid = {\n",
        "    'C': [0.1, 1, 10],\n",
        "    'kernel': ['poly'],\n",
        "    'gamma': [0.1, 0.01, 0.001],\n",
        "    'degree': [1, 2],\n",
        "    'coef0': [0.0, 0.1, 0.5]\n",
        "    }\n",
        "\n",
        "#Kfold estratificado\n",
        "kfoldcv = StratifiedKFold(n_splits=5)\n",
        "\n",
        "#Clasificador\n",
        "svm = SVC()\n",
        "\n",
        "#Metrica que quiero optimizar F1 Score\n",
        "scorer_fn = make_scorer(f1_score)\n",
        "\n",
        "#RandomizedSearch CV\n",
        "randomcv = RandomizedSearchCV(estimator=svm,\n",
        "                              param_distributions = params_grid,\n",
        "                              scoring=scorer_fn,\n",
        "                              cv=kfoldcv,\n",
        "                              n_iter=5,\n",
        "                              random_state=1)\n",
        "randomcv.fit(x_train,y_train)\n",
        "\n",
        "print(randomcv.cv_results_['mean_test_score'])\n",
        "#Mejores hiperparametros\n",
        "print(randomcv.best_params_)\n",
        "#Mejor métrica\n",
        "print(randomcv.best_score_)\n",
        "#Mejor estimador\n",
        "best_svm_poly = randomcv.best_estimator_\n",
        "#Predicción con mejor estimador\n",
        "y_pred=best_knn.predict(x_test)\n",
        "\n",
        "\n",
        "mostrar_metricas(y_test, y_pred)"
      ]
    },
    {
      "cell_type": "markdown",
      "metadata": {
        "id": "rgDoqxmIVOAz"
      },
      "source": [
        "No se debe tener en cuenta el gráfico de arriba ya que fue generado a partir de un modelo que decidimos no usar (best_knn), pero no pudimos repetir la ejecución de la celda ya que toma casi 15 horas.\n",
        "Sin embargo, en el resto del trabajo continuamos usando el modelo correcto (best_svm_poly)"
      ]
    },
    {
      "cell_type": "code",
      "execution_count": null,
      "metadata": {
        "id": "wHPnGfqyVOAz",
        "outputId": "3c08ebb0-54dd-4ae7-ab5f-d56fb6797392"
      },
      "outputs": [
        {
          "name": "stdout",
          "output_type": "stream",
          "text": [
            "correctas:  13196\n",
            "total:  15000\n",
            "              precision    recall  f1-score   support\n",
            "\n",
            "           0       0.89      0.87      0.88      7599\n",
            "           1       0.87      0.89      0.88      7401\n",
            "\n",
            "    accuracy                           0.88     15000\n",
            "   macro avg       0.88      0.88      0.88     15000\n",
            "weighted avg       0.88      0.88      0.88     15000\n",
            "\n"
          ]
        },
        {
          "data": {
            "image/png": "[encoded data removed]",
            "text/plain": [
              "<Figure size 640x480 with 2 Axes>"
            ]
          },
          "metadata": {},
          "output_type": "display_data"
        }
      ],
      "source": [
        "y_pred=best_svm_poly.predict(x_test)\n",
        "\n",
        "mostrar_metricas(y_test, y_pred)"
      ]
    },
    {
      "cell_type": "markdown",
      "metadata": {
        "id": "Lqc3aY_fVOA0"
      },
      "source": [
        "Nuestro modelo de SVM logró predecir correctamente 13196 reviews, lo que lo coloca como nuestro mejor modelo sin contar redes neuronales"
      ]
    },
    {
      "cell_type": "markdown",
      "metadata": {
        "id": "8VzpPTUuVOA0"
      },
      "source": [
        "### Predicción sobre los datos de test"
      ]
    },
    {
      "cell_type": "code",
      "execution_count": null,
      "metadata": {
        "id": "P6Nykfk8VOA0"
      },
      "outputs": [],
      "source": [
        "predicted = best_svm_poly.predict(X_test)\n",
        "predicted_sentiments = [convertir(valor) for valor in predicted]\n",
        "\n",
        "filename = 'svm_poly'\n",
        "prediccion = pd.DataFrame({\"id\": df_criticas_test.ID, \"sentimiento\": predicted_sentiments})\n",
        "prediccion.to_csv('./content/sample_data/prediccion_'+filename+'.csv', index = False)"
      ]
    },
    {
      "cell_type": "markdown",
      "metadata": {
        "id": "ByTkwONpVOA0"
      },
      "source": [
        "Al subir la predicción a Kaggle, obtuvo un score de 0.73347, colocándose como nuestro mejor modelo después de las redes neuronales"
      ]
    },
    {
      "cell_type": "markdown",
      "metadata": {
        "id": "nDE-cmSdVOA0"
      },
      "source": [
        "## Creamos el ensamble"
      ]
    },
    {
      "cell_type": "code",
      "execution_count": null,
      "metadata": {
        "id": "9PSYtZDS4Exb",
        "outputId": "33af1ea2-e9eb-4345-9418-7863dc0b7039"
      },
      "outputs": [
        {
          "name": "stdout",
          "output_type": "stream",
          "text": [
            "correctas:  13049\n",
            "total:  15000\n",
            "              precision    recall  f1-score   support\n",
            "\n",
            "           0       0.89      0.85      0.87      7599\n",
            "           1       0.85      0.89      0.87      7401\n",
            "\n",
            "    accuracy                           0.87     15000\n",
            "   macro avg       0.87      0.87      0.87     15000\n",
            "weighted avg       0.87      0.87      0.87     15000\n",
            "\n"
          ]
        },
        {
          "data": {
            "image/png": "[encoded data removed]",
            "text/plain": [
              "<Figure size 640x480 with 2 Axes>"
            ]
          },
          "metadata": {},
          "output_type": "display_data"
        }
      ],
      "source": [
        "vot_clf = VotingClassifier(estimators = [ ('xg_boost', opt_xg), ('random_forest', opt_tree), ('svm', best_svm_poly)], voting = 'hard')\n",
        "\n",
        "#Entreno el ensemble\n",
        "vot_clf.fit(x_train, y_train)\n",
        "\n",
        "#Evaluo en conjunto de test\n",
        "pred = vot_clf.predict(x_test)\n",
        "\n",
        "mostrar_metricas(y_test, pred)"
      ]
    },
    {
      "cell_type": "markdown",
      "metadata": {
        "id": "ub05eyvSVOA0"
      },
      "source": [
        "Nuestro ensamble logró predecir correctamente 13049 de 15000 reviews, mientras que los modelos que lo integran, obtuvieron las siguientes reviews correctas:\n",
        "\n",
        "XG Boost: 12908\n",
        "\n",
        "Random Forest: 12476\n",
        "\n",
        "SVM: 13196"
      ]
    },
    {
      "cell_type": "code",
      "execution_count": null,
      "metadata": {
        "id": "bB9jCv69VOA0"
      },
      "outputs": [],
      "source": [
        "predicted_sentiments = vot_clf.predict(X_test)\n",
        "predicted_sentiments = [convertir(valor) for valor in predicted_sentiments]\n",
        "filename = 'voting'\n",
        "prediccion = pd.DataFrame({\"id\": df_criticas_test.ID, \"sentimiento\": predicted_sentiments})\n",
        "prediccion.to_csv('./content/sample_data/prediccion_'+filename+'.csv', index = False)"
      ]
    },
    {
      "cell_type": "markdown",
      "metadata": {
        "id": "pSdEK97qVOA0"
      },
      "source": [
        "Finalmente, en Kaggle, el ensamble obtuvo un score de 0.73657, llegando a alcanzar a nuestro segundo mejor modelo (modelo 2 de redes neuronales con 50 épocas)"
      ]
    }
  ],
  "metadata": {
    "colab": {
      "provenance": [],
      "toc_visible": true,
      "include_colab_link": true
    },
    "kernelspec": {
      "display_name": "Python 3",
      "name": "python3"
    },
    "language_info": {
      "codemirror_mode": {
        "name": "ipython",
        "version": 3
      },
      "file_extension": ".py",
      "mimetype": "text/x-python",
      "name": "python",
      "nbconvert_exporter": "python",
      "pygments_lexer": "ipython3",
      "version": "3.9.5"
    }
  },
  "nbformat": 4,
  "nbformat_minor": 0
}