{
  "nbformat": 4,
  "nbformat_minor": 0,
  "metadata": {
    "colab": {
      "provenance": [],
      "include_colab_link": true
    },
    "kernelspec": {
      "name": "python3",
      "display_name": "Python 3"
    },
    "language_info": {
      "name": "python"
    }
  },
  "cells": [
    {
      "cell_type": "markdown",
      "metadata": {
        "id": "view-in-github",
        "colab_type": "text"
      },
      "source": [
        "<a href=\"https://colab.research.google.com/github/franmazzaro/7506R-2C2023-GRUPO39/blob/main/7506R_TP2_GRUPO39_CHP1_ENTREGA.ipynb\" target=\"_parent\"><img src=\"https://colab.research.google.com/assets/colab-badge.svg\" alt=\"Open In Colab\"/></a>"
      ]
    },
    {
      "cell_type": "markdown",
      "source": [
        "# **Librerias**"
      ],
      "metadata": {
        "id": "dj2GC5UchzVJ"
      }
    },
    {
      "cell_type": "markdown",
      "source": [
        "Empezamos importando las librerias que vamos a utilizar"
      ],
      "metadata": {
        "id": "JoMWTu6VygxS"
      }
    },
    {
      "cell_type": "code",
      "execution_count": 19,
      "metadata": {
        "id": "FBtU81-B14sX"
      },
      "outputs": [],
      "source": [
        "import pandas as pd\n",
        "import numpy as np\n",
        "import matplotlib.pyplot as plt\n",
        "import seaborn as sns\n",
        "from sklearn.model_selection import train_test_split\n",
        "from sklearn.naive_bayes import MultinomialNB\n",
        "from sklearn.feature_extraction.text import CountVectorizer, TfidfVectorizer\n",
        "from sklearn.pipeline import make_pipeline\n",
        "from sklearn.metrics import confusion_matrix, accuracy_score, precision_score, classification_report\n",
        "from sklearn.ensemble import RandomForestClassifier\n",
        "from sklearn.preprocessing import LabelEncoder\n",
        "from sklearn.model_selection import RandomizedSearchCV\n",
        "import xgboost as xgb\n",
        "import tensorflow as tf\n",
        "from tensorflow.keras.preprocessing.text import Tokenizer\n",
        "from tensorflow.keras.preprocessing.sequence import pad_sequences\n",
        "from tensorflow.keras.models import Sequential\n",
        "from tensorflow.keras.layers import Embedding, Flatten, Dense, Dropout\n",
        "from tensorflow.keras.optimizers import Nadam"
      ]
    },
    {
      "cell_type": "markdown",
      "source": [
        "# Carga de datasets"
      ],
      "metadata": {
        "id": "LCrMz2Uui4Gd"
      }
    },
    {
      "cell_type": "code",
      "source": [
        "df_criticas = pd.read_csv('/content/sample_data/train.csv')\n",
        "df_criticas_test = pd.read_csv('/content/sample_data/test.csv')\n"
      ],
      "metadata": {
        "id": "MM1R6XlUi6_G"
      },
      "execution_count": 20,
      "outputs": []
    },
    {
      "cell_type": "code",
      "source": [
        "df_criticas.head(4)"
      ],
      "metadata": {
        "colab": {
          "base_uri": "https://localhost:8080/",
          "height": 0
        },
        "id": "-ArghW76HSzY",
        "outputId": "06913988-81a8-4504-b38c-4ccd59bcbc3f"
      },
      "execution_count": 21,
      "outputs": [
        {
          "output_type": "execute_result",
          "data": {
            "text/plain": [
              "   ID                                          review_es sentimiento\n",
              "0   0  Uno de los otros críticos ha mencionado que de...    positivo\n",
              "1   1  Una pequeña pequeña producción.La técnica de f...    positivo\n",
              "2   2  Pensé que esta era una manera maravillosa de p...    positivo\n",
              "3   3  Básicamente, hay una familia donde un niño peq...    negativo"
            ],
            "text/html": [
              "\n",
              "  <div id=\"df-0f5640e4-6230-4fa3-b12e-8e46f1da47d6\" class=\"colab-df-container\">\n",
              "    <div>\n",
              "<style scoped>\n",
              "    .dataframe tbody tr th:only-of-type {\n",
              "        vertical-align: middle;\n",
              "    }\n",
              "\n",
              "    .dataframe tbody tr th {\n",
              "        vertical-align: top;\n",
              "    }\n",
              "\n",
              "    .dataframe thead th {\n",
              "        text-align: right;\n",
              "    }\n",
              "</style>\n",
              "<table border=\"1\" class=\"dataframe\">\n",
              "  <thead>\n",
              "    <tr style=\"text-align: right;\">\n",
              "      <th></th>\n",
              "      <th>ID</th>\n",
              "      <th>review_es</th>\n",
              "      <th>sentimiento</th>\n",
              "    </tr>\n",
              "  </thead>\n",
              "  <tbody>\n",
              "    <tr>\n",
              "      <th>0</th>\n",
              "      <td>0</td>\n",
              "      <td>Uno de los otros críticos ha mencionado que de...</td>\n",
              "      <td>positivo</td>\n",
              "    </tr>\n",
              "    <tr>\n",
              "      <th>1</th>\n",
              "      <td>1</td>\n",
              "      <td>Una pequeña pequeña producción.La técnica de f...</td>\n",
              "      <td>positivo</td>\n",
              "    </tr>\n",
              "    <tr>\n",
              "      <th>2</th>\n",
              "      <td>2</td>\n",
              "      <td>Pensé que esta era una manera maravillosa de p...</td>\n",
              "      <td>positivo</td>\n",
              "    </tr>\n",
              "    <tr>\n",
              "      <th>3</th>\n",
              "      <td>3</td>\n",
              "      <td>Básicamente, hay una familia donde un niño peq...</td>\n",
              "      <td>negativo</td>\n",
              "    </tr>\n",
              "  </tbody>\n",
              "</table>\n",
              "</div>\n",
              "    <div class=\"colab-df-buttons\">\n",
              "\n",
              "  <div class=\"colab-df-container\">\n",
              "    <button class=\"colab-df-convert\" onclick=\"convertToInteractive('df-0f5640e4-6230-4fa3-b12e-8e46f1da47d6')\"\n",
              "            title=\"Convert this dataframe to an interactive table.\"\n",
              "            style=\"display:none;\">\n",
              "\n",
              "  <svg xmlns=\"http://www.w3.org/2000/svg\" height=\"24px\" viewBox=\"0 -960 960 960\">\n",
              "    <path d=\"M120-120v-720h720v720H120Zm60-500h600v-160H180v160Zm220 220h160v-160H400v160Zm0 220h160v-160H400v160ZM180-400h160v-160H180v160Zm440 0h160v-160H620v160ZM180-180h160v-160H180v160Zm440 0h160v-160H620v160Z\"/>\n",
              "  </svg>\n",
              "    </button>\n",
              "\n",
              "  <style>\n",
              "    .colab-df-container {\n",
              "      display:flex;\n",
              "      gap: 12px;\n",
              "    }\n",
              "\n",
              "    .colab-df-convert {\n",
              "      background-color: #E8F0FE;\n",
              "      border: none;\n",
              "      border-radius: 50%;\n",
              "      cursor: pointer;\n",
              "      display: none;\n",
              "      fill: #1967D2;\n",
              "      height: 32px;\n",
              "      padding: 0 0 0 0;\n",
              "      width: 32px;\n",
              "    }\n",
              "\n",
              "    .colab-df-convert:hover {\n",
              "      background-color: #E2EBFA;\n",
              "      box-shadow: 0px 1px 2px rgba(60, 64, 67, 0.3), 0px 1px 3px 1px rgba(60, 64, 67, 0.15);\n",
              "      fill: #174EA6;\n",
              "    }\n",
              "\n",
              "    .colab-df-buttons div {\n",
              "      margin-bottom: 4px;\n",
              "    }\n",
              "\n",
              "    [theme=dark] .colab-df-convert {\n",
              "      background-color: #3B4455;\n",
              "      fill: #D2E3FC;\n",
              "    }\n",
              "\n",
              "    [theme=dark] .colab-df-convert:hover {\n",
              "      background-color: #434B5C;\n",
              "      box-shadow: 0px 1px 3px 1px rgba(0, 0, 0, 0.15);\n",
              "      filter: drop-shadow(0px 1px 2px rgba(0, 0, 0, 0.3));\n",
              "      fill: #FFFFFF;\n",
              "    }\n",
              "  </style>\n",
              "\n",
              "    <script>\n",
              "      const buttonEl =\n",
              "        document.querySelector('#df-0f5640e4-6230-4fa3-b12e-8e46f1da47d6 button.colab-df-convert');\n",
              "      buttonEl.style.display =\n",
              "        google.colab.kernel.accessAllowed ? 'block' : 'none';\n",
              "\n",
              "      async function convertToInteractive(key) {\n",
              "        const element = document.querySelector('#df-0f5640e4-6230-4fa3-b12e-8e46f1da47d6');\n",
              "        const dataTable =\n",
              "          await google.colab.kernel.invokeFunction('convertToInteractive',\n",
              "                                                    [key], {});\n",
              "        if (!dataTable) return;\n",
              "\n",
              "        const docLinkHtml = 'Like what you see? Visit the ' +\n",
              "          '<a target=\"_blank\" href=https://colab.research.google.com/notebooks/data_table.ipynb>data table notebook</a>'\n",
              "          + ' to learn more about interactive tables.';\n",
              "        element.innerHTML = '';\n",
              "        dataTable['output_type'] = 'display_data';\n",
              "        await google.colab.output.renderOutput(dataTable, element);\n",
              "        const docLink = document.createElement('div');\n",
              "        docLink.innerHTML = docLinkHtml;\n",
              "        element.appendChild(docLink);\n",
              "      }\n",
              "    </script>\n",
              "  </div>\n",
              "\n",
              "\n",
              "<div id=\"df-bbd43bb8-48c8-473f-b447-755f97edafd8\">\n",
              "  <button class=\"colab-df-quickchart\" onclick=\"quickchart('df-bbd43bb8-48c8-473f-b447-755f97edafd8')\"\n",
              "            title=\"Suggest charts\"\n",
              "            style=\"display:none;\">\n",
              "\n",
              "<svg xmlns=\"http://www.w3.org/2000/svg\" height=\"24px\"viewBox=\"0 0 24 24\"\n",
              "     width=\"24px\">\n",
              "    <g>\n",
              "        <path d=\"M19 3H5c-1.1 0-2 .9-2 2v14c0 1.1.9 2 2 2h14c1.1 0 2-.9 2-2V5c0-1.1-.9-2-2-2zM9 17H7v-7h2v7zm4 0h-2V7h2v10zm4 0h-2v-4h2v4z\"/>\n",
              "    </g>\n",
              "</svg>\n",
              "  </button>\n",
              "\n",
              "<style>\n",
              "  .colab-df-quickchart {\n",
              "      --bg-color: #E8F0FE;\n",
              "      --fill-color: #1967D2;\n",
              "      --hover-bg-color: #E2EBFA;\n",
              "      --hover-fill-color: #174EA6;\n",
              "      --disabled-fill-color: #AAA;\n",
              "      --disabled-bg-color: #DDD;\n",
              "  }\n",
              "\n",
              "  [theme=dark] .colab-df-quickchart {\n",
              "      --bg-color: #3B4455;\n",
              "      --fill-color: #D2E3FC;\n",
              "      --hover-bg-color: #434B5C;\n",
              "      --hover-fill-color: #FFFFFF;\n",
              "      --disabled-bg-color: #3B4455;\n",
              "      --disabled-fill-color: #666;\n",
              "  }\n",
              "\n",
              "  .colab-df-quickchart {\n",
              "    background-color: var(--bg-color);\n",
              "    border: none;\n",
              "    border-radius: 50%;\n",
              "    cursor: pointer;\n",
              "    display: none;\n",
              "    fill: var(--fill-color);\n",
              "    height: 32px;\n",
              "    padding: 0;\n",
              "    width: 32px;\n",
              "  }\n",
              "\n",
              "  .colab-df-quickchart:hover {\n",
              "    background-color: var(--hover-bg-color);\n",
              "    box-shadow: 0 1px 2px rgba(60, 64, 67, 0.3), 0 1px 3px 1px rgba(60, 64, 67, 0.15);\n",
              "    fill: var(--button-hover-fill-color);\n",
              "  }\n",
              "\n",
              "  .colab-df-quickchart-complete:disabled,\n",
              "  .colab-df-quickchart-complete:disabled:hover {\n",
              "    background-color: var(--disabled-bg-color);\n",
              "    fill: var(--disabled-fill-color);\n",
              "    box-shadow: none;\n",
              "  }\n",
              "\n",
              "  .colab-df-spinner {\n",
              "    border: 2px solid var(--fill-color);\n",
              "    border-color: transparent;\n",
              "    border-bottom-color: var(--fill-color);\n",
              "    animation:\n",
              "      spin 1s steps(1) infinite;\n",
              "  }\n",
              "\n",
              "  @keyframes spin {\n",
              "    0% {\n",
              "      border-color: transparent;\n",
              "      border-bottom-color: var(--fill-color);\n",
              "      border-left-color: var(--fill-color);\n",
              "    }\n",
              "    20% {\n",
              "      border-color: transparent;\n",
              "      border-left-color: var(--fill-color);\n",
              "      border-top-color: var(--fill-color);\n",
              "    }\n",
              "    30% {\n",
              "      border-color: transparent;\n",
              "      border-left-color: var(--fill-color);\n",
              "      border-top-color: var(--fill-color);\n",
              "      border-right-color: var(--fill-color);\n",
              "    }\n",
              "    40% {\n",
              "      border-color: transparent;\n",
              "      border-right-color: var(--fill-color);\n",
              "      border-top-color: var(--fill-color);\n",
              "    }\n",
              "    60% {\n",
              "      border-color: transparent;\n",
              "      border-right-color: var(--fill-color);\n",
              "    }\n",
              "    80% {\n",
              "      border-color: transparent;\n",
              "      border-right-color: var(--fill-color);\n",
              "      border-bottom-color: var(--fill-color);\n",
              "    }\n",
              "    90% {\n",
              "      border-color: transparent;\n",
              "      border-bottom-color: var(--fill-color);\n",
              "    }\n",
              "  }\n",
              "</style>\n",
              "\n",
              "  <script>\n",
              "    async function quickchart(key) {\n",
              "      const quickchartButtonEl =\n",
              "        document.querySelector('#' + key + ' button');\n",
              "      quickchartButtonEl.disabled = true;  // To prevent multiple clicks.\n",
              "      quickchartButtonEl.classList.add('colab-df-spinner');\n",
              "      try {\n",
              "        const charts = await google.colab.kernel.invokeFunction(\n",
              "            'suggestCharts', [key], {});\n",
              "      } catch (error) {\n",
              "        console.error('Error during call to suggestCharts:', error);\n",
              "      }\n",
              "      quickchartButtonEl.classList.remove('colab-df-spinner');\n",
              "      quickchartButtonEl.classList.add('colab-df-quickchart-complete');\n",
              "    }\n",
              "    (() => {\n",
              "      let quickchartButtonEl =\n",
              "        document.querySelector('#df-bbd43bb8-48c8-473f-b447-755f97edafd8 button');\n",
              "      quickchartButtonEl.style.display =\n",
              "        google.colab.kernel.accessAllowed ? 'block' : 'none';\n",
              "    })();\n",
              "  </script>\n",
              "</div>\n",
              "    </div>\n",
              "  </div>\n"
            ]
          },
          "metadata": {},
          "execution_count": 21
        }
      ]
    },
    {
      "cell_type": "markdown",
      "source": [
        "# Preprocesamiento"
      ],
      "metadata": {
        "id": "_pZpX567m7Ob"
      }
    },
    {
      "cell_type": "markdown",
      "source": [
        "Comenzamos el preprocesamiento vectorizando las reviews del dataset de train y test asi convertimos las criticas de texto a una representacion numerica.\n",
        "\n",
        "\n",
        "Tambien hacemos lo mismo para transformar los sentimientos \"positivo\" y \"negativo\"\n",
        "\n",
        "Dividimos nuestro dataset de train en 70% para entrenar y 30% para validar.\n"
      ],
      "metadata": {
        "id": "ORRtpnvmzDgY"
      }
    },
    {
      "cell_type": "code",
      "source": [
        "# Vectorización de texto usando CountVectorizer\n",
        "vectorizer = CountVectorizer()\n",
        "X = vectorizer.fit_transform(df_criticas['review_es'])\n",
        "X_test = vectorizer.transform(df_criticas_test['review_es'])\n",
        "\n",
        "# Codificar las etiquetas de sentimiento\n",
        "label_encoder = LabelEncoder()\n",
        "y = label_encoder.fit_transform(df_criticas['sentimiento'])\n",
        "\n",
        "x_train, x_test, y_train, y_test = train_test_split(X, y, test_size=0.30, random_state=25)"
      ],
      "metadata": {
        "id": "AhDpWnBLl_B3"
      },
      "execution_count": 22,
      "outputs": []
    },
    {
      "cell_type": "code",
      "source": [
        "# Función para convertir valores\n",
        "def convertir(valor):\n",
        "    return \"negativo\" if valor == 0 else \"positivo\""
      ],
      "metadata": {
        "id": "Ml35X5nHNUk6"
      },
      "execution_count": 23,
      "outputs": []
    },
    {
      "cell_type": "markdown",
      "source": [
        "Esta funcion transforma de numerico a String el sentimiento"
      ],
      "metadata": {
        "id": "ovOUIDuF1EJM"
      }
    },
    {
      "cell_type": "code",
      "source": [
        "def mostrar_metricas(y_test, y_pred):\n",
        "  #Cantidad de aciertos\n",
        "  print('correctas: ', np.sum(y_test == y_pred))\n",
        "  print('total: ', len(y_test))\n",
        "\n",
        "  print(classification_report(y_test, y_pred))\n",
        "\n",
        "  #Grafico la matriz de confusión\n",
        "  tabla=confusion_matrix(y_test, y_pred)\n",
        "  sns.heatmap(tabla,cmap='GnBu',annot=True,fmt='g')\n",
        "  plt.xlabel('Predicted')\n",
        "  plt.ylabel('True')\n",
        "  plt.show()\n"
      ],
      "metadata": {
        "id": "2xAMVGwaHo_P"
      },
      "execution_count": 24,
      "outputs": []
    },
    {
      "cell_type": "markdown",
      "source": [
        "# Bayes Naive"
      ],
      "metadata": {
        "id": "zn64ylY6VBS4"
      }
    },
    {
      "cell_type": "markdown",
      "source": [
        "Dividimos nuestro conjunto de train en 70 30"
      ],
      "metadata": {
        "id": "XHftKHIelBCf"
      }
    },
    {
      "cell_type": "code",
      "source": [
        "x_train_bayes, x_test_bayes, y_train_bayes, y_test_bayes = train_test_split(df_criticas.review_es,\n",
        "                                                    df_criticas.sentimiento,\n",
        "                                                    test_size=0.20,\n",
        "                                                    random_state=25,\n",
        "                                                    shuffle=True)"
      ],
      "metadata": {
        "id": "RmdI8JvSkHif"
      },
      "execution_count": null,
      "outputs": []
    },
    {
      "cell_type": "markdown",
      "source": [
        "Antes de entrear un modelo para clasificacion necesitamos que este entrenamiento sea con valores numericos, y como nosotros tenemos palabras necesitamos convertirlas a vectores.\n",
        "\n",
        "Utilizamos make_pipeline para aplicarle a nuestros modelos dos metodos distintos para vectorizar y luego el modelo de Naive Bayes Multidimensional. Una vez obtenidos los entrenamos"
      ],
      "metadata": {
        "id": "pY4LomqalQWU"
      }
    },
    {
      "cell_type": "code",
      "source": [
        "model_NB = make_pipeline(TfidfVectorizer(), MultinomialNB())\n",
        "model_NB_2 = make_pipeline(CountVectorizer(), MultinomialNB())\n",
        "\n",
        "model_NB.fit(x_train_bayes, y_train_bayes)\n",
        "model_NB_2.fit(x_train_bayes, y_train_bayes)\n",
        "\n",
        "categorias_predichas = model_NB.predict(x_test_bayes)\n",
        "categorias_predichas_2 = model_NB_2.predict(x_test_bayes)\n"
      ],
      "metadata": {
        "id": "soysruezkvJh"
      },
      "execution_count": null,
      "outputs": []
    },
    {
      "cell_type": "code",
      "source": [
        "print(accuracy_score(y_test_bayes, categorias_predichas))\n",
        "print(accuracy_score(y_test_bayes, categorias_predichas_2))"
      ],
      "metadata": {
        "id": "s-9orUvSqqf5",
        "outputId": "09b01faf-97d4-4bd9-d8bd-502dc47a9c6d",
        "colab": {
          "base_uri": "https://localhost:8080/"
        }
      },
      "execution_count": null,
      "outputs": [
        {
          "output_type": "stream",
          "name": "stdout",
          "text": [
            "0.8534666666666667\n",
            "0.8376\n"
          ]
        }
      ]
    },
    {
      "cell_type": "markdown",
      "source": [
        "Ya que el modelo 1 tuvo mejor accuracy es el que utilizamos para realizar la predicción de test"
      ],
      "metadata": {
        "id": "99WOvviGW0tE"
      }
    },
    {
      "cell_type": "markdown",
      "source": [
        "## Predicción sobre los datos de test"
      ],
      "metadata": {
        "id": "G1-HnGzTUfs3"
      }
    },
    {
      "cell_type": "code",
      "source": [
        "criticas_test = df_criticas_test['review_es']\n",
        "categorias_predichas_test = model_NB.predict(criticas_test)\n"
      ],
      "metadata": {
        "id": "FQLrG_YfuvXu"
      },
      "execution_count": null,
      "outputs": []
    },
    {
      "cell_type": "markdown",
      "source": [
        "Generamos el archivo de predicciones"
      ],
      "metadata": {
        "id": "gPfFD-ZHvRxz"
      }
    },
    {
      "cell_type": "code",
      "source": [
        "ids_test =  df_criticas_test.ID\n",
        "filename = 'Naive_Bayes_Multidimensional'\n",
        "prediccion = pd.DataFrame({\"id\": ids_test, \"sentimiento\": categorias_predichas_test})\n",
        "prediccion.to_csv('/content/sample_data/prediccion_'+filename+'.csv', index = False)"
      ],
      "metadata": {
        "id": "x2GPx5lnr3-g"
      },
      "execution_count": null,
      "outputs": []
    },
    {
      "cell_type": "markdown",
      "source": [
        "# Random Forest"
      ],
      "metadata": {
        "id": "6WKEg6rhIsff"
      }
    },
    {
      "cell_type": "markdown",
      "source": [
        "Optimizamos hiperparámetros"
      ],
      "metadata": {
        "id": "l_WBqXCxoBSl"
      }
    },
    {
      "cell_type": "code",
      "source": [
        "tree = RandomForestClassifier(random_state=1)\n",
        "params_grid = {\n",
        "    'bootstrap': [True, False],\n",
        "    'ccp_alpha': [0.0, 0.01, 0.02],\n",
        "    'class_weight': [None, 'balanced'],\n",
        "    'criterion': ['gini', 'entropy'],\n",
        "    'max_depth': [None, 10, 20, 30],\n",
        "    'max_features': ['sqrt', 'log2'],\n",
        "    'min_samples_leaf': [1, 2, 4],\n",
        "    'min_samples_split': [2, 5, 10],\n",
        "    'n_estimators': [10, 50, 100, 200],\n",
        "}\n",
        "rand = RandomizedSearchCV(tree, params_grid, cv=10, scoring='f1', n_iter=10, random_state=1)\n",
        "rand.fit(x_train, y_train)\n",
        "rand.cv_results_['mean_test_score']"
      ],
      "metadata": {
        "id": "KaVgcRCIn8RG"
      },
      "execution_count": null,
      "outputs": []
    },
    {
      "cell_type": "code",
      "source": [
        "rand.best_params_"
      ],
      "metadata": {
        "id": "qudPycP1Fidb"
      },
      "execution_count": null,
      "outputs": []
    },
    {
      "cell_type": "markdown",
      "source": [
        "Usamos el mejor estimador para predecir sobre el conjunto de training y obtenemos sus métricas"
      ],
      "metadata": {
        "id": "UtVAQNOsON3J"
      }
    },
    {
      "cell_type": "code",
      "source": [
        "opt_tree = rand.best_estimator_\n",
        "y_pred = opt_tree.predict(x_test)\n",
        "print(classification_report(y_test, y_pred))"
      ],
      "metadata": {
        "id": "5gMGfijSEhPy"
      },
      "execution_count": null,
      "outputs": []
    },
    {
      "cell_type": "markdown",
      "source": [
        "## Predicción sobre los datos de test"
      ],
      "metadata": {
        "id": "TjDMmXetUY16"
      }
    },
    {
      "cell_type": "code",
      "source": [
        "categorias_predichas_test = opt_tree.predict(X_test)\n",
        "\n",
        "# Aplicar la función a cada elemento del array usando comprensión de listas\n",
        "sentimientos = [convertir(valor) for valor in categorias_predichas_test]"
      ],
      "metadata": {
        "id": "PEVKptn3NGYu"
      },
      "execution_count": null,
      "outputs": []
    },
    {
      "cell_type": "code",
      "source": [
        "filename = 'Random_Forest_opt'\n",
        "prediccion = pd.DataFrame({\"id\": df_criticas_test.ID, \"sentimiento\": sentimientos})\n",
        "prediccion.to_csv('/content/sample_data/prediccion_'+filename+'.csv', index = False)"
      ],
      "metadata": {
        "id": "SRZTz_ciF5as"
      },
      "execution_count": null,
      "outputs": []
    },
    {
      "cell_type": "markdown",
      "source": [
        "# XG Boost"
      ],
      "metadata": {
        "id": "s6c_TK5qAUDP"
      }
    },
    {
      "cell_type": "markdown",
      "source": [
        "Utilizamos un clasificador XGBoost para entrenar nuestro modelo"
      ],
      "metadata": {
        "id": "qvQu9qP81Pz4"
      }
    },
    {
      "cell_type": "code",
      "source": [
        "xg_boost_model = xgb.XGBClassifier(random_state=25, n_estimators=100)\n",
        "xg_boost_model.fit(x_train, y_train)"
      ],
      "metadata": {
        "id": "oKcI1CpdB1sJ",
        "outputId": "246f5b9c-123a-4d67-c188-e4450aa11dc9",
        "colab": {
          "base_uri": "https://localhost:8080/",
          "height": 248
        }
      },
      "execution_count": 25,
      "outputs": [
        {
          "output_type": "execute_result",
          "data": {
            "text/plain": [
              "XGBClassifier(base_score=None, booster=None, callbacks=None,\n",
              "              colsample_bylevel=None, colsample_bynode=None,\n",
              "              colsample_bytree=None, device=None, early_stopping_rounds=None,\n",
              "              enable_categorical=False, eval_metric=None, feature_types=None,\n",
              "              gamma=None, grow_policy=None, importance_type=None,\n",
              "              interaction_constraints=None, learning_rate=None, max_bin=None,\n",
              "              max_cat_threshold=None, max_cat_to_onehot=None,\n",
              "              max_delta_step=None, max_depth=None, max_leaves=None,\n",
              "              min_child_weight=None, missing=nan, monotone_constraints=None,\n",
              "              multi_strategy=None, n_estimators=100, n_jobs=None,\n",
              "              num_parallel_tree=None, random_state=25, ...)"
            ],
            "text/html": [
              "<style>#sk-container-id-3 {color: black;background-color: white;}#sk-container-id-3 pre{padding: 0;}#sk-container-id-3 div.sk-toggleable {background-color: white;}#sk-container-id-3 label.sk-toggleable__label {cursor: pointer;display: block;width: 100%;margin-bottom: 0;padding: 0.3em;box-sizing: border-box;text-align: center;}#sk-container-id-3 label.sk-toggleable__label-arrow:before {content: \"▸\";float: left;margin-right: 0.25em;color: #696969;}#sk-container-id-3 label.sk-toggleable__label-arrow:hover:before {color: black;}#sk-container-id-3 div.sk-estimator:hover label.sk-toggleable__label-arrow:before {color: black;}#sk-container-id-3 div.sk-toggleable__content {max-height: 0;max-width: 0;overflow: hidden;text-align: left;background-color: #f0f8ff;}#sk-container-id-3 div.sk-toggleable__content pre {margin: 0.2em;color: black;border-radius: 0.25em;background-color: #f0f8ff;}#sk-container-id-3 input.sk-toggleable__control:checked~div.sk-toggleable__content {max-height: 200px;max-width: 100%;overflow: auto;}#sk-container-id-3 input.sk-toggleable__control:checked~label.sk-toggleable__label-arrow:before {content: \"▾\";}#sk-container-id-3 div.sk-estimator input.sk-toggleable__control:checked~label.sk-toggleable__label {background-color: #d4ebff;}#sk-container-id-3 div.sk-label input.sk-toggleable__control:checked~label.sk-toggleable__label {background-color: #d4ebff;}#sk-container-id-3 input.sk-hidden--visually {border: 0;clip: rect(1px 1px 1px 1px);clip: rect(1px, 1px, 1px, 1px);height: 1px;margin: -1px;overflow: hidden;padding: 0;position: absolute;width: 1px;}#sk-container-id-3 div.sk-estimator {font-family: monospace;background-color: #f0f8ff;border: 1px dotted black;border-radius: 0.25em;box-sizing: border-box;margin-bottom: 0.5em;}#sk-container-id-3 div.sk-estimator:hover {background-color: #d4ebff;}#sk-container-id-3 div.sk-parallel-item::after {content: \"\";width: 100%;border-bottom: 1px solid gray;flex-grow: 1;}#sk-container-id-3 div.sk-label:hover label.sk-toggleable__label {background-color: #d4ebff;}#sk-container-id-3 div.sk-serial::before {content: \"\";position: absolute;border-left: 1px solid gray;box-sizing: border-box;top: 0;bottom: 0;left: 50%;z-index: 0;}#sk-container-id-3 div.sk-serial {display: flex;flex-direction: column;align-items: center;background-color: white;padding-right: 0.2em;padding-left: 0.2em;position: relative;}#sk-container-id-3 div.sk-item {position: relative;z-index: 1;}#sk-container-id-3 div.sk-parallel {display: flex;align-items: stretch;justify-content: center;background-color: white;position: relative;}#sk-container-id-3 div.sk-item::before, #sk-container-id-3 div.sk-parallel-item::before {content: \"\";position: absolute;border-left: 1px solid gray;box-sizing: border-box;top: 0;bottom: 0;left: 50%;z-index: -1;}#sk-container-id-3 div.sk-parallel-item {display: flex;flex-direction: column;z-index: 1;position: relative;background-color: white;}#sk-container-id-3 div.sk-parallel-item:first-child::after {align-self: flex-end;width: 50%;}#sk-container-id-3 div.sk-parallel-item:last-child::after {align-self: flex-start;width: 50%;}#sk-container-id-3 div.sk-parallel-item:only-child::after {width: 0;}#sk-container-id-3 div.sk-dashed-wrapped {border: 1px dashed gray;margin: 0 0.4em 0.5em 0.4em;box-sizing: border-box;padding-bottom: 0.4em;background-color: white;}#sk-container-id-3 div.sk-label label {font-family: monospace;font-weight: bold;display: inline-block;line-height: 1.2em;}#sk-container-id-3 div.sk-label-container {text-align: center;}#sk-container-id-3 div.sk-container {/* jupyter's `normalize.less` sets `[hidden] { display: none; }` but bootstrap.min.css set `[hidden] { display: none !important; }` so we also need the `!important` here to be able to override the default hidden behavior on the sphinx rendered scikit-learn.org. See: https://github.com/scikit-learn/scikit-learn/issues/21755 */display: inline-block !important;position: relative;}#sk-container-id-3 div.sk-text-repr-fallback {display: none;}</style><div id=\"sk-container-id-3\" class=\"sk-top-container\"><div class=\"sk-text-repr-fallback\"><pre>XGBClassifier(base_score=None, booster=None, callbacks=None,\n",
              "              colsample_bylevel=None, colsample_bynode=None,\n",
              "              colsample_bytree=None, device=None, early_stopping_rounds=None,\n",
              "              enable_categorical=False, eval_metric=None, feature_types=None,\n",
              "              gamma=None, grow_policy=None, importance_type=None,\n",
              "              interaction_constraints=None, learning_rate=None, max_bin=None,\n",
              "              max_cat_threshold=None, max_cat_to_onehot=None,\n",
              "              max_delta_step=None, max_depth=None, max_leaves=None,\n",
              "              min_child_weight=None, missing=nan, monotone_constraints=None,\n",
              "              multi_strategy=None, n_estimators=100, n_jobs=None,\n",
              "              num_parallel_tree=None, random_state=25, ...)</pre><b>In a Jupyter environment, please rerun this cell to show the HTML representation or trust the notebook. <br />On GitHub, the HTML representation is unable to render, please try loading this page with nbviewer.org.</b></div><div class=\"sk-container\" hidden><div class=\"sk-item\"><div class=\"sk-estimator sk-toggleable\"><input class=\"sk-toggleable__control sk-hidden--visually\" id=\"sk-estimator-id-3\" type=\"checkbox\" checked><label for=\"sk-estimator-id-3\" class=\"sk-toggleable__label sk-toggleable__label-arrow\">XGBClassifier</label><div class=\"sk-toggleable__content\"><pre>XGBClassifier(base_score=None, booster=None, callbacks=None,\n",
              "              colsample_bylevel=None, colsample_bynode=None,\n",
              "              colsample_bytree=None, device=None, early_stopping_rounds=None,\n",
              "              enable_categorical=False, eval_metric=None, feature_types=None,\n",
              "              gamma=None, grow_policy=None, importance_type=None,\n",
              "              interaction_constraints=None, learning_rate=None, max_bin=None,\n",
              "              max_cat_threshold=None, max_cat_to_onehot=None,\n",
              "              max_delta_step=None, max_depth=None, max_leaves=None,\n",
              "              min_child_weight=None, missing=nan, monotone_constraints=None,\n",
              "              multi_strategy=None, n_estimators=100, n_jobs=None,\n",
              "              num_parallel_tree=None, random_state=25, ...)</pre></div></div></div></div></div>"
            ]
          },
          "metadata": {},
          "execution_count": 25
        }
      ]
    },
    {
      "cell_type": "code",
      "source": [
        "y_pred = xg_boost_model.predict(x_test)\n",
        "print(classification_report(y_test, y_pred))"
      ],
      "metadata": {
        "id": "r-SAYkrk12a3",
        "outputId": "d796fa35-d339-4765-f428-7ad0c9b22caf",
        "colab": {
          "base_uri": "https://localhost:8080/"
        }
      },
      "execution_count": 26,
      "outputs": [
        {
          "output_type": "stream",
          "name": "stdout",
          "text": [
            "              precision    recall  f1-score   support\n",
            "\n",
            "           0       0.86      0.82      0.84      7599\n",
            "           1       0.82      0.86      0.84      7401\n",
            "\n",
            "    accuracy                           0.84     15000\n",
            "   macro avg       0.84      0.84      0.84     15000\n",
            "weighted avg       0.84      0.84      0.84     15000\n",
            "\n"
          ]
        }
      ]
    },
    {
      "cell_type": "code",
      "source": [
        "mostrar_metricas(y_test, y_pred)"
      ],
      "metadata": {
        "id": "Jc2IofCZ424f",
        "outputId": "8f61f4a3-2ebe-4184-e409-10550d0332de",
        "colab": {
          "base_uri": "https://localhost:8080/",
          "height": 640
        }
      },
      "execution_count": 27,
      "outputs": [
        {
          "output_type": "stream",
          "name": "stdout",
          "text": [
            "correctas:  12561\n",
            "total:  15000\n",
            "              precision    recall  f1-score   support\n",
            "\n",
            "           0       0.86      0.82      0.84      7599\n",
            "           1       0.82      0.86      0.84      7401\n",
            "\n",
            "    accuracy                           0.84     15000\n",
            "   macro avg       0.84      0.84      0.84     15000\n",
            "weighted avg       0.84      0.84      0.84     15000\n",
            "\n"
          ]
        },
        {
          "output_type": "display_data",
          "data": {
            "text/plain": [
              "<Figure size 640x480 with 2 Axes>"
            ],
            "image/png": "[encoded data removed]"
          },
          "metadata": {}
        }
      ]
    },
    {
      "cell_type": "code",
      "source": [
        "param_dist = {\n",
        "    'learning_rate': [0.01, 0.1, 0.2, 0.3],  # Tasa de aprendizaje\n",
        "    'max_depth': [3, 4, 5, 6, 7, 8, 9],  # Profundidad máxima del árbol\n",
        "    'min_child_weight': [1, 2, 3, 4],  # Mínimo peso de un niño (para evitar divisiones adicionales)\n",
        "    'subsample': [0.8, 0.9, 1.0],  # Proporción de muestras utilizadas para entrenar árboles\n",
        "    'colsample_bytree': [0.8, 0.9, 1.0],  # Proporción de características utilizadas para entrenar árboles\n",
        "    'gamma': [0, 0.1, 0.2, 0.3],  # Parámetro de regularización para la poda\n",
        "    'n_estimators': [100, 200, 300],  # Número de árboles (estimadores) en el bosque\n",
        "}\n",
        "\n",
        "# Inicializa el clasificador XGBoost\n",
        "xgb_classifier = xgb.XGBClassifier(objective='binary:logistic', random_state=0)\n",
        "\n",
        "# Realiza la búsqueda de hiperparámetros utilizando RandomizedSearchCV\n",
        "n_iter = 10  # Número de combinaciones aleatorias a probar\n",
        "xgb_search = RandomizedSearchCV(xgb_classifier, param_distributions=param_dist, n_iter=n_iter, scoring='f1', cv=5, random_state=0)\n",
        "\n",
        "# Ajusta el modelo a los datos de entrenamiento\n",
        "xgb_search.fit(x_train, y_train)\n",
        "\n",
        "xgb_search.best_params_"
      ],
      "metadata": {
        "id": "FSwb13Y4CSIV",
        "outputId": "9ac645b3-88f9-40dc-9619-15649c4b78ad",
        "colab": {
          "base_uri": "https://localhost:8080/"
        }
      },
      "execution_count": 28,
      "outputs": [
        {
          "output_type": "execute_result",
          "data": {
            "text/plain": [
              "{'subsample': 1.0,\n",
              " 'n_estimators': 300,\n",
              " 'min_child_weight': 4,\n",
              " 'max_depth': 8,\n",
              " 'learning_rate': 0.2,\n",
              " 'gamma': 0.2,\n",
              " 'colsample_bytree': 1.0}"
            ]
          },
          "metadata": {},
          "execution_count": 28
        }
      ]
    },
    {
      "cell_type": "markdown",
      "source": [
        "Colocamos varios parametros para utilizar un RandomizedSearchCV y asi encontrar los mejores hiperparametros usando f1 como score ya que este se utiliza para medir en Kaggle y luego entrenamos el modelo"
      ],
      "metadata": {
        "id": "O2Pkj72S1fRZ"
      }
    },
    {
      "cell_type": "code",
      "source": [
        "opt_xg = xgb_search.best_estimator_\n",
        "y_pred = opt_xg.predict(x_test)\n",
        "print(classification_report(y_test, y_pred))\n",
        "mostrar_metricas(y_test, y_pred)"
      ],
      "metadata": {
        "id": "8wMPNTm4C7vN"
      },
      "execution_count": null,
      "outputs": []
    },
    {
      "cell_type": "markdown",
      "source": [
        "Vemos que"
      ],
      "metadata": {
        "id": "mqgzK8c-2FoF"
      }
    },
    {
      "cell_type": "markdown",
      "source": [
        "## Predicción sobre los datos de test"
      ],
      "metadata": {
        "id": "4qnkf7igUQT8"
      }
    },
    {
      "cell_type": "code",
      "source": [
        "categorias_predichas_test_xg = opt_xg.predict(X_test)\n",
        "\n",
        "# Aplicar la función a cada elemento del array usando comprensión de listas\n",
        "sentimientos = [convertir(valor) for valor in categorias_predichas_test_xg]"
      ],
      "metadata": {
        "id": "iSs2Y48zDC3p"
      },
      "execution_count": null,
      "outputs": []
    },
    {
      "cell_type": "code",
      "source": [
        "filename = 'Xg_Boost_opt'\n",
        "prediccion = pd.DataFrame({\"id\": df_criticas_test.ID, \"sentimiento\": sentimientos})\n",
        "prediccion.to_csv('/content/sample_data/prediccion_'+filename+'.csv', index = False)"
      ],
      "metadata": {
        "id": "nzprhI5oQ27r"
      },
      "execution_count": null,
      "outputs": []
    },
    {
      "cell_type": "markdown",
      "source": [
        "Exportamos el csv para subir a Kaggle"
      ],
      "metadata": {
        "id": "JhjhubPd2XwY"
      }
    },
    {
      "cell_type": "markdown",
      "source": [
        "# Red neuronal (Keras Tensorflow)"
      ],
      "metadata": {
        "id": "_IhJg8oUWkVt"
      }
    },
    {
      "cell_type": "markdown",
      "source": [
        "## Modelo 1\n",
        "\n",
        "Maxlen=1000"
      ],
      "metadata": {
        "id": "D9CXHGEDgjmK"
      }
    },
    {
      "cell_type": "code",
      "source": [
        "# Tokenización y secuenciación de texto en los datos de entrenamiento\n",
        "tokenizer = Tokenizer()\n",
        "tokenizer.fit_on_texts(x_train_bayes)\n",
        "\n",
        "X_train_seq = tokenizer.texts_to_sequences(x_train_bayes)  # Convertir texto a secuencias\n",
        "X_test_seq = tokenizer.texts_to_sequences(x_test_bayes)\n",
        "\n",
        "X_train_pad = pad_sequences(X_train_seq, maxlen=1000)  # Ajustar secuencias a una longitud máxima de 1000\n",
        "X_test_pad = pad_sequences(X_test_seq, maxlen=1000)\n",
        "\n",
        "encoder = LabelEncoder()\n",
        "y_train_binario = encoder.fit_transform(y_train_bayes) # Enconding de la columna sentimiento\n",
        "y_test_binario = encoder.transform(y_test_bayes)\n"
      ],
      "metadata": {
        "id": "EHVqtCwHb1OU"
      },
      "execution_count": null,
      "outputs": []
    },
    {
      "cell_type": "code",
      "source": [
        "# Crear el modelo de red neuronal\n",
        "model_1 = Sequential()\n",
        "model_1.add(Embedding(len(tokenizer.word_index) + 1, 32, input_length=1000))  # Capa de embedding\n",
        "model_1.add(Flatten())  # Aplanar la salida de la capa de embedding\n",
        "model_1.add(Dense(16, activation='relu'))  # Capa densa con activación ReLU\n",
        "model_1.add(Dense(1, activation='sigmoid'))  # Capa de salida con activación sigmoide para clasificación binaria\n"
      ],
      "metadata": {
        "id": "Kw3LfT9EcI8_"
      },
      "execution_count": null,
      "outputs": []
    },
    {
      "cell_type": "markdown",
      "source": [
        "Embedding es una capa de procesamiento fundamental para el manejo de texto en redes neuronales. Esta capa se utiliza para convertir representaciones numéricas de palabras (índices enteros) en vectores densos de longitud fija.\n",
        "\n",
        "\n",
        "El primer argumento, len(tokenizer.word_index) + 1, especifica el tamaño del vocabulario de entrada. tokenizer.word_index contiene un diccionario que asigna palabras a índices numéricos, y sumar 1 se hace porque generalmente se reserva un índice para palabras fuera del vocabulario o para el relleno.\n",
        "\n",
        "El segundo argumento, 32, representa la dimensionalidad de los vectores de embedding. En este caso, cada palabra se representará mediante un vector de 32 dimensiones.\n"
      ],
      "metadata": {
        "id": "N1BV0jpc3sz7"
      }
    },
    {
      "cell_type": "code",
      "source": [
        "model_1.compile(optimizer='adam', loss='binary_crossentropy', metrics=['accuracy'])\n",
        "\n",
        "# Entrenamiento del modelo\n",
        "model_1.fit(X_train_pad, y_train_binario, epochs=5, batch_size=32, validation_split=0.2)\n",
        "y_pred = model_1.predict(X_test_pad)\n"
      ],
      "metadata": {
        "id": "riWaE4r0cK2H",
        "outputId": "7ecc79d2-f835-4fa0-9046-50b2281c9ac5",
        "colab": {
          "base_uri": "https://localhost:8080/"
        }
      },
      "execution_count": null,
      "outputs": [
        {
          "output_type": "stream",
          "name": "stdout",
          "text": [
            "Epoch 1/5\n",
            "875/875 [==============================] - 114s 128ms/step - loss: 0.3813 - accuracy: 0.8251 - val_loss: 0.2848 - val_accuracy: 0.8827\n",
            "Epoch 2/5\n",
            "875/875 [==============================] - 100s 115ms/step - loss: 0.0721 - accuracy: 0.9785 - val_loss: 0.3273 - val_accuracy: 0.8733\n",
            "Epoch 3/5\n",
            "875/875 [==============================] - 100s 114ms/step - loss: 0.0068 - accuracy: 0.9993 - val_loss: 0.3954 - val_accuracy: 0.8726\n",
            "Epoch 4/5\n",
            "875/875 [==============================] - 126s 143ms/step - loss: 0.0011 - accuracy: 1.0000 - val_loss: 0.4239 - val_accuracy: 0.8756\n",
            "Epoch 5/5\n",
            "875/875 [==============================] - 111s 127ms/step - loss: 2.6713e-04 - accuracy: 1.0000 - val_loss: 0.4505 - val_accuracy: 0.8750\n",
            "469/469 [==============================] - 3s 7ms/step\n"
          ]
        }
      ]
    },
    {
      "cell_type": "markdown",
      "source": [
        "Definimos el optimizador, probamos usando adam y usamos loss = binary_crossentropy ya que estamos en un problema de clasificacion binario."
      ],
      "metadata": {
        "id": "Nr9c4bkX3OId"
      }
    },
    {
      "cell_type": "code",
      "source": [
        "threshold = 0.5\n",
        "predicted_sentiments = [1 if pred > threshold else 0 for pred in y_pred]\n",
        "mostrar_metricas(y_test_binario, predicted_sentiments)"
      ],
      "metadata": {
        "colab": {
          "base_uri": "https://localhost:8080/",
          "height": 652
        },
        "id": "8dpZEYa4H95N",
        "outputId": "f3e9dcad-2009-4d00-847c-f53e1454446f"
      },
      "execution_count": null,
      "outputs": [
        {
          "output_type": "stream",
          "name": "stdout",
          "text": [
            "correctas:  13092\n",
            "total:  15000\n",
            "              precision    recall  f1-score   support\n",
            "\n",
            "           0       0.88      0.87      0.87      7599\n",
            "           1       0.86      0.88      0.87      7401\n",
            "\n",
            "    accuracy                           0.87     15000\n",
            "   macro avg       0.87      0.87      0.87     15000\n",
            "weighted avg       0.87      0.87      0.87     15000\n",
            "\n"
          ]
        },
        {
          "output_type": "display_data",
          "data": {
            "text/plain": [
              "<Figure size 640x480 with 2 Axes>"
            ],
            "image/png": "[encoded data removed]"
          },
          "metadata": {}
        }
      ]
    },
    {
      "cell_type": "markdown",
      "source": [
        "## Predicción sobre los datos de test"
      ],
      "metadata": {
        "id": "8lSfFSeJUGzW"
      }
    },
    {
      "cell_type": "code",
      "source": [
        "# Preprocesamiento de los datos de prueba\n",
        "X_test = df_criticas_test['review_es']  # Datos de texto de prueba\n",
        "X_test_seq = tokenizer.texts_to_sequences(X_test)  # Convertir texto a secuencias para datos de prueba\n",
        "X_test_pad = pad_sequences(X_test_seq, maxlen=1000)  # Ajustar secuencias a una longitud máxima de 1000 para datos de prueba\n",
        "\n",
        "# Predicción en el conjunto de prueba\n",
        "predictions = model_1.predict(X_test_pad)\n",
        "\n",
        "# Ajustar un umbral para determinar las clases basadas en las probabilidades\n",
        "threshold = 0.5\n",
        "predicted_sentiments = ['positivo' if pred > threshold else 'negativo' for pred in predictions]"
      ],
      "metadata": {
        "id": "W760RR-4eZwF"
      },
      "execution_count": null,
      "outputs": []
    },
    {
      "cell_type": "code",
      "source": [
        "filename = 'tensorflow_2'\n",
        "prediccion = pd.DataFrame({\"id\": df_criticas_test.ID, \"sentimiento\": predicted_sentiments})\n",
        "prediccion.to_csv('/content/sample_data/prediccion_'+filename+'.csv', index = False)"
      ],
      "metadata": {
        "id": "ZsRt47HCgcAi"
      },
      "execution_count": null,
      "outputs": []
    },
    {
      "cell_type": "markdown",
      "source": [
        "## Modelo 2\n",
        "\n",
        "Maxlen=1500\n",
        "\n",
        "learning_rate=0.001"
      ],
      "metadata": {
        "id": "QViMs8iBU5G2"
      }
    },
    {
      "cell_type": "code",
      "source": [
        "# Tokenización y secuenciación de texto en los datos de entrenamiento\n",
        "tokenizer = Tokenizer()\n",
        "tokenizer.fit_on_texts(x_train_bayes)\n",
        "\n",
        "X_train_seq = tokenizer.texts_to_sequences(x_train_bayes)  # Convertir texto a secuencias\n",
        "X_test_seq = tokenizer.texts_to_sequences(x_test_bayes)\n",
        "\n",
        "X_train_pad = pad_sequences(X_train_seq, maxlen=1500)  # Ajustar secuencias a una longitud máxima de 1500\n",
        "X_test_pad = pad_sequences(X_test_seq, maxlen=1500)\n",
        "\n",
        "encoder = LabelEncoder()\n",
        "y_train_binario = encoder.fit_transform(y_train_bayes) # Enconding de la columna sentimiento\n",
        "y_test_binario = encoder.transform(y_test_bayes)\n"
      ],
      "metadata": {
        "id": "h8jZQNXaf_y5"
      },
      "execution_count": null,
      "outputs": []
    },
    {
      "cell_type": "code",
      "source": [
        "# Crear el modelo de red neuronal\n",
        "model_2 = Sequential()\n",
        "model_2.add(Embedding(len(tokenizer.word_index) + 1, 32, input_length=1500))  # Capa de embedding\n",
        "model_2.add(Flatten())  # Aplanar la salida de la capa de embedding\n",
        "model_2.add(Dense(16, activation='relu'))  # Capa densa con activación ReLU\n",
        "model_2.add(Dense(1, activation='sigmoid'))  # Capa de salida con activación sigmoide para clasificación binaria\n"
      ],
      "metadata": {
        "id": "Zbb-UTdYf_y6"
      },
      "execution_count": null,
      "outputs": []
    },
    {
      "cell_type": "code",
      "source": [
        "model_2.compile(optimizer=Nadam(learning_rate=0.001), loss='binary_crossentropy', metrics=['accuracy'])\n",
        "\n",
        "# Entrenamiento del modelo\n",
        "model_2.fit(X_train_pad, y_train_binario, epochs=5, batch_size=32, validation_split=0.2)\n",
        "y_pred = model_2.predict(X_test_pad)\n"
      ],
      "metadata": {
        "outputId": "d18af9b0-9fee-4a83-d9c6-8031a5bbbc15",
        "colab": {
          "base_uri": "https://localhost:8080/"
        },
        "id": "yWEfuDr9f_y6"
      },
      "execution_count": null,
      "outputs": [
        {
          "output_type": "stream",
          "name": "stdout",
          "text": [
            "Epoch 1/5\n",
            "875/875 [==============================] - 141s 155ms/step - loss: 0.6938 - accuracy: 0.5050 - val_loss: 0.6937 - val_accuracy: 0.4860\n",
            "Epoch 2/5\n",
            "875/875 [==============================] - 132s 151ms/step - loss: 0.6928 - accuracy: 0.5073 - val_loss: 0.6936 - val_accuracy: 0.4861\n",
            "Epoch 3/5\n",
            "875/875 [==============================] - 130s 149ms/step - loss: 0.4267 - accuracy: 0.7746 - val_loss: 0.3007 - val_accuracy: 0.8753\n",
            "Epoch 4/5\n",
            "875/875 [==============================] - 131s 150ms/step - loss: 0.0885 - accuracy: 0.9707 - val_loss: 0.3363 - val_accuracy: 0.8710\n",
            "Epoch 5/5\n",
            "875/875 [==============================] - 131s 150ms/step - loss: 0.0112 - accuracy: 0.9984 - val_loss: 0.3880 - val_accuracy: 0.8706\n",
            "469/469 [==============================] - 3s 6ms/step\n"
          ]
        }
      ]
    },
    {
      "cell_type": "code",
      "source": [
        "threshold = 0.5\n",
        "predicted_sentiments = [1 if pred > threshold else 0 for pred in y_pred]\n",
        "mostrar_metricas(y_test_binario, predicted_sentiments)"
      ],
      "metadata": {
        "outputId": "a7a13eff-f688-4502-aa9c-15a674487c94",
        "colab": {
          "base_uri": "https://localhost:8080/",
          "height": 652
        },
        "id": "SFsqifN-f_y7"
      },
      "execution_count": null,
      "outputs": [
        {
          "output_type": "stream",
          "name": "stdout",
          "text": [
            "correctas:  13085\n",
            "total:  15000\n",
            "              precision    recall  f1-score   support\n",
            "\n",
            "           0       0.86      0.90      0.88      7599\n",
            "           1       0.89      0.85      0.87      7401\n",
            "\n",
            "    accuracy                           0.87     15000\n",
            "   macro avg       0.87      0.87      0.87     15000\n",
            "weighted avg       0.87      0.87      0.87     15000\n",
            "\n"
          ]
        },
        {
          "output_type": "display_data",
          "data": {
            "text/plain": [
              "<Figure size 640x480 with 2 Axes>"
            ],
            "image/png": "[encoded data removed]"
          },
          "metadata": {}
        }
      ]
    },
    {
      "cell_type": "code",
      "source": [
        "# Preprocesamiento de los datos de prueba\n",
        "X_test = df_criticas_test['review_es']  # Datos de texto de prueba\n",
        "X_test_seq = tokenizer.texts_to_sequences(X_test)  # Convertir texto a secuencias para datos de prueba\n",
        "X_test_pad = pad_sequences(X_test_seq, maxlen=1500)  # Ajustar secuencias a una longitud máxima de 1500 para datos de prueba\n",
        "\n",
        "# Predicción en el conjunto de prueba\n",
        "predictions = model_2.predict(X_test_pad)\n",
        "\n",
        "# Ajustar un umbral para determinar las clases basadas en las probabilidades\n",
        "threshold = 0.5\n",
        "predicted_sentiments = ['positivo' if pred > threshold else 'negativo' for pred in predictions]"
      ],
      "metadata": {
        "colab": {
          "base_uri": "https://localhost:8080/"
        },
        "id": "o9wZn0M_ZTeh",
        "outputId": "4466fe4a-3b48-4a68-fd9b-bc1e488c3c2b"
      },
      "execution_count": null,
      "outputs": [
        {
          "output_type": "stream",
          "name": "stdout",
          "text": [
            "269/269 [==============================] - 2s 6ms/step\n"
          ]
        }
      ]
    },
    {
      "cell_type": "code",
      "source": [
        "filename = 'tensorflow_4'\n",
        "prediccion = pd.DataFrame({\"id\": df_criticas_test.ID, \"sentimiento\": predicted_sentiments})\n",
        "prediccion.to_csv('/content/sample_data/prediccion_'+filename+'.csv', index = False)"
      ],
      "metadata": {
        "id": "0Zi1GfF-WIl5"
      },
      "execution_count": null,
      "outputs": []
    },
    {
      "cell_type": "markdown",
      "source": [
        "## Modelo 2 con más épocas"
      ],
      "metadata": {
        "id": "ae6dmNj4kx58"
      }
    },
    {
      "cell_type": "code",
      "source": [
        "# Tokenización y secuenciación de texto en los datos de entrenamiento\n",
        "tokenizer = Tokenizer()\n",
        "tokenizer.fit_on_texts(x_train_bayes)\n",
        "\n",
        "X_train_seq = tokenizer.texts_to_sequences(x_train_bayes)  # Convertir texto a secuencias\n",
        "X_test_seq = tokenizer.texts_to_sequences(x_test_bayes)\n",
        "\n",
        "X_train_pad = pad_sequences(X_train_seq, maxlen=1500)  # Ajustar secuencias a una longitud máxima de 1500\n",
        "X_test_pad = pad_sequences(X_test_seq, maxlen=1500)\n",
        "\n",
        "encoder = LabelEncoder()\n",
        "y_train_binario = encoder.fit_transform(y_train_bayes) # Enconding de la columna sentimiento\n",
        "y_test_binario = encoder.transform(y_test_bayes)\n"
      ],
      "metadata": {
        "id": "E6N4H2dZlWIt"
      },
      "execution_count": null,
      "outputs": []
    },
    {
      "cell_type": "code",
      "source": [
        "# Crear el modelo de red neuronal\n",
        "model_3 = Sequential()\n",
        "model_3.add(Embedding(len(tokenizer.word_index) + 1, 32, input_length=1500))  # Capa de embedding\n",
        "model_3.add(Flatten())  # Aplanar la salida de la capa de embedding\n",
        "model_3.add(Dense(16, activation='relu'))  # Capa densa con activación ReLU\n",
        "model_3.add(Dense(1, activation='sigmoid'))  # Capa de salida con activación sigmoide para clasificación binaria\n"
      ],
      "metadata": {
        "id": "k05UPaKHlWIu"
      },
      "execution_count": null,
      "outputs": []
    },
    {
      "cell_type": "code",
      "source": [
        "model_3.compile(optimizer=Nadam(learning_rate=0.001), loss='binary_crossentropy', metrics=['accuracy'])\n",
        "\n",
        "# Entrenamiento del modelo\n",
        "model_3.fit(X_train_pad, y_train_binario, epochs=50, batch_size=32, validation_split=0.2)\n",
        "y_pred = model_3.predict(X_test_pad)\n"
      ],
      "metadata": {
        "outputId": "f08e1c07-4b8c-4e28-c870-febd7a8254f5",
        "colab": {
          "base_uri": "https://localhost:8080/"
        },
        "id": "MTlq_VS9lWIv"
      },
      "execution_count": null,
      "outputs": [
        {
          "output_type": "stream",
          "name": "stdout",
          "text": [
            "Epoch 1/50\n",
            "875/875 [==============================] - 90s 101ms/step - loss: 0.4163 - accuracy: 0.7969 - val_loss: 0.2797 - val_accuracy: 0.8849\n",
            "Epoch 2/50\n",
            "875/875 [==============================] - 87s 100ms/step - loss: 0.1195 - accuracy: 0.9574 - val_loss: 0.3119 - val_accuracy: 0.8790\n",
            "Epoch 3/50\n",
            "875/875 [==============================] - 87s 100ms/step - loss: 0.0177 - accuracy: 0.9967 - val_loss: 0.3891 - val_accuracy: 0.8753\n",
            "Epoch 4/50\n",
            "875/875 [==============================] - 86s 98ms/step - loss: 0.0023 - accuracy: 0.9999 - val_loss: 0.4391 - val_accuracy: 0.8739\n",
            "Epoch 5/50\n",
            "875/875 [==============================] - 86s 98ms/step - loss: 6.1663e-04 - accuracy: 1.0000 - val_loss: 0.4712 - val_accuracy: 0.8744\n",
            "Epoch 6/50\n",
            "875/875 [==============================] - 85s 97ms/step - loss: 1.9912e-04 - accuracy: 1.0000 - val_loss: 0.5029 - val_accuracy: 0.8740\n",
            "Epoch 7/50\n",
            "875/875 [==============================] - 86s 98ms/step - loss: 9.6935e-05 - accuracy: 1.0000 - val_loss: 0.5295 - val_accuracy: 0.8756\n",
            "Epoch 8/50\n",
            "875/875 [==============================] - 87s 100ms/step - loss: 5.2413e-05 - accuracy: 1.0000 - val_loss: 0.5539 - val_accuracy: 0.8753\n",
            "Epoch 9/50\n",
            "875/875 [==============================] - 87s 100ms/step - loss: 2.9609e-05 - accuracy: 1.0000 - val_loss: 0.5754 - val_accuracy: 0.8760\n",
            "Epoch 10/50\n",
            "875/875 [==============================] - 87s 100ms/step - loss: 1.7020e-05 - accuracy: 1.0000 - val_loss: 0.5996 - val_accuracy: 0.8759\n",
            "Epoch 11/50\n",
            "875/875 [==============================] - 87s 99ms/step - loss: 9.9840e-06 - accuracy: 1.0000 - val_loss: 0.6215 - val_accuracy: 0.8751\n",
            "Epoch 12/50\n",
            "875/875 [==============================] - 86s 99ms/step - loss: 5.8810e-06 - accuracy: 1.0000 - val_loss: 0.6445 - val_accuracy: 0.8750\n",
            "Epoch 13/50\n",
            "875/875 [==============================] - 87s 99ms/step - loss: 3.5297e-06 - accuracy: 1.0000 - val_loss: 0.6664 - val_accuracy: 0.8754\n",
            "Epoch 14/50\n",
            "875/875 [==============================] - 86s 99ms/step - loss: 2.1069e-06 - accuracy: 1.0000 - val_loss: 0.6881 - val_accuracy: 0.8763\n",
            "Epoch 15/50\n",
            "875/875 [==============================] - 86s 98ms/step - loss: 1.2743e-06 - accuracy: 1.0000 - val_loss: 0.7108 - val_accuracy: 0.8756\n",
            "Epoch 16/50\n",
            "875/875 [==============================] - 87s 99ms/step - loss: 7.8237e-07 - accuracy: 1.0000 - val_loss: 0.7313 - val_accuracy: 0.8766\n",
            "Epoch 17/50\n",
            "875/875 [==============================] - 87s 99ms/step - loss: 4.8308e-07 - accuracy: 1.0000 - val_loss: 0.7540 - val_accuracy: 0.8750\n",
            "Epoch 18/50\n",
            "875/875 [==============================] - 87s 99ms/step - loss: 3.0188e-07 - accuracy: 1.0000 - val_loss: 0.7742 - val_accuracy: 0.8761\n",
            "Epoch 19/50\n",
            "875/875 [==============================] - 87s 99ms/step - loss: 1.9213e-07 - accuracy: 1.0000 - val_loss: 0.7944 - val_accuracy: 0.8757\n",
            "Epoch 20/50\n",
            "875/875 [==============================] - 87s 99ms/step - loss: 1.2392e-07 - accuracy: 1.0000 - val_loss: 0.8163 - val_accuracy: 0.8760\n",
            "Epoch 21/50\n",
            "875/875 [==============================] - 87s 99ms/step - loss: 8.1332e-08 - accuracy: 1.0000 - val_loss: 0.8356 - val_accuracy: 0.8756\n",
            "Epoch 22/50\n",
            "875/875 [==============================] - 87s 99ms/step - loss: 5.3956e-08 - accuracy: 1.0000 - val_loss: 0.8530 - val_accuracy: 0.8753\n",
            "Epoch 23/50\n",
            "875/875 [==============================] - 87s 99ms/step - loss: 3.6466e-08 - accuracy: 1.0000 - val_loss: 0.8721 - val_accuracy: 0.8753\n",
            "Epoch 24/50\n",
            "875/875 [==============================] - 87s 99ms/step - loss: 2.4856e-08 - accuracy: 1.0000 - val_loss: 0.8900 - val_accuracy: 0.8753\n",
            "Epoch 25/50\n",
            "875/875 [==============================] - 87s 100ms/step - loss: 1.7259e-08 - accuracy: 1.0000 - val_loss: 0.9080 - val_accuracy: 0.8754\n",
            "Epoch 26/50\n",
            "875/875 [==============================] - 87s 99ms/step - loss: 1.2091e-08 - accuracy: 1.0000 - val_loss: 0.9245 - val_accuracy: 0.8747\n",
            "Epoch 27/50\n",
            "875/875 [==============================] - 87s 99ms/step - loss: 8.6362e-09 - accuracy: 1.0000 - val_loss: 0.9414 - val_accuracy: 0.8747\n",
            "Epoch 28/50\n",
            "875/875 [==============================] - 87s 100ms/step - loss: 6.2892e-09 - accuracy: 1.0000 - val_loss: 0.9566 - val_accuracy: 0.8744\n",
            "Epoch 29/50\n",
            "875/875 [==============================] - 87s 100ms/step - loss: 4.6892e-09 - accuracy: 1.0000 - val_loss: 0.9715 - val_accuracy: 0.8743\n",
            "Epoch 30/50\n",
            "875/875 [==============================] - 87s 100ms/step - loss: 3.6418e-09 - accuracy: 1.0000 - val_loss: 0.9856 - val_accuracy: 0.8743\n",
            "Epoch 31/50\n",
            "875/875 [==============================] - 87s 100ms/step - loss: 2.9381e-09 - accuracy: 1.0000 - val_loss: 0.9988 - val_accuracy: 0.8747\n",
            "Epoch 32/50\n",
            "875/875 [==============================] - 87s 99ms/step - loss: 2.4604e-09 - accuracy: 1.0000 - val_loss: 1.0107 - val_accuracy: 0.8750\n",
            "Epoch 33/50\n",
            "875/875 [==============================] - 87s 99ms/step - loss: 2.1084e-09 - accuracy: 1.0000 - val_loss: 1.0200 - val_accuracy: 0.8744\n",
            "Epoch 34/50\n",
            "875/875 [==============================] - 86s 98ms/step - loss: 1.8559e-09 - accuracy: 1.0000 - val_loss: 1.0316 - val_accuracy: 0.8753\n",
            "Epoch 35/50\n",
            "875/875 [==============================] - 88s 100ms/step - loss: 1.7036e-09 - accuracy: 1.0000 - val_loss: 1.0374 - val_accuracy: 0.8741\n",
            "Epoch 36/50\n",
            "875/875 [==============================] - 88s 100ms/step - loss: 1.5614e-09 - accuracy: 1.0000 - val_loss: 1.0513 - val_accuracy: 0.8749\n",
            "Epoch 37/50\n",
            "875/875 [==============================] - 88s 101ms/step - loss: 1.4557e-09 - accuracy: 1.0000 - val_loss: 1.0518 - val_accuracy: 0.8743\n",
            "Epoch 38/50\n",
            "875/875 [==============================] - 87s 99ms/step - loss: 1.3194e-09 - accuracy: 1.0000 - val_loss: 1.0604 - val_accuracy: 0.8743\n",
            "Epoch 39/50\n",
            "875/875 [==============================] - 89s 102ms/step - loss: 1.3027e-09 - accuracy: 1.0000 - val_loss: 1.0687 - val_accuracy: 0.8750\n",
            "Epoch 40/50\n",
            "875/875 [==============================] - 89s 102ms/step - loss: 1.2359e-09 - accuracy: 1.0000 - val_loss: 1.0695 - val_accuracy: 0.8737\n",
            "Epoch 41/50\n",
            "875/875 [==============================] - 88s 100ms/step - loss: 1.1972e-09 - accuracy: 1.0000 - val_loss: 1.0766 - val_accuracy: 0.8746\n",
            "Epoch 42/50\n",
            "875/875 [==============================] - 87s 100ms/step - loss: 1.1876e-09 - accuracy: 1.0000 - val_loss: 1.0830 - val_accuracy: 0.8747\n",
            "Epoch 43/50\n",
            "875/875 [==============================] - 88s 100ms/step - loss: 1.1318e-09 - accuracy: 1.0000 - val_loss: 1.0802 - val_accuracy: 0.8731\n",
            "Epoch 44/50\n",
            "875/875 [==============================] - 88s 100ms/step - loss: 1.1291e-09 - accuracy: 1.0000 - val_loss: 1.0821 - val_accuracy: 0.8746\n",
            "Epoch 45/50\n",
            "875/875 [==============================] - 88s 100ms/step - loss: 1.0340e-09 - accuracy: 1.0000 - val_loss: 1.0923 - val_accuracy: 0.8743\n",
            "Epoch 46/50\n",
            "875/875 [==============================] - 87s 100ms/step - loss: 1.1280e-09 - accuracy: 1.0000 - val_loss: 1.1004 - val_accuracy: 0.8761\n",
            "Epoch 47/50\n",
            "875/875 [==============================] - 87s 100ms/step - loss: 1.0630e-09 - accuracy: 1.0000 - val_loss: 1.0943 - val_accuracy: 0.8749\n",
            "Epoch 48/50\n",
            "875/875 [==============================] - 88s 100ms/step - loss: 1.0390e-09 - accuracy: 1.0000 - val_loss: 1.1062 - val_accuracy: 0.8750\n",
            "Epoch 49/50\n",
            "875/875 [==============================] - 87s 99ms/step - loss: 1.0824e-09 - accuracy: 1.0000 - val_loss: 1.1026 - val_accuracy: 0.8747\n",
            "Epoch 50/50\n",
            "875/875 [==============================] - 87s 99ms/step - loss: 1.0522e-09 - accuracy: 1.0000 - val_loss: 1.1065 - val_accuracy: 0.8750\n",
            "469/469 [==============================] - 2s 5ms/step\n"
          ]
        }
      ]
    },
    {
      "cell_type": "code",
      "source": [
        "threshold = 0.5\n",
        "predicted_sentiments = [1 if pred > threshold else 0 for pred in y_pred]\n",
        "mostrar_metricas(y_test_binario, predicted_sentiments)"
      ],
      "metadata": {
        "outputId": "2ce58b43-bb74-4ea1-952a-c7506d92f543",
        "colab": {
          "base_uri": "https://localhost:8080/",
          "height": 652
        },
        "id": "aSkML2jxlWIw"
      },
      "execution_count": null,
      "outputs": [
        {
          "output_type": "stream",
          "name": "stdout",
          "text": [
            "correctas:  13215\n",
            "total:  15000\n",
            "              precision    recall  f1-score   support\n",
            "\n",
            "           0       0.88      0.89      0.88      7599\n",
            "           1       0.89      0.87      0.88      7401\n",
            "\n",
            "    accuracy                           0.88     15000\n",
            "   macro avg       0.88      0.88      0.88     15000\n",
            "weighted avg       0.88      0.88      0.88     15000\n",
            "\n"
          ]
        },
        {
          "output_type": "display_data",
          "data": {
            "text/plain": [
              "<Figure size 640x480 with 2 Axes>"
            ],
            "image/png": "[encoded data removed]"
          },
          "metadata": {}
        }
      ]
    },
    {
      "cell_type": "code",
      "source": [
        "# Preprocesamiento de los datos de prueba\n",
        "X_test = df_criticas_test['review_es']  # Datos de texto de prueba\n",
        "X_test_seq = tokenizer.texts_to_sequences(X_test)  # Convertir texto a secuencias para datos de prueba\n",
        "X_test_pad = pad_sequences(X_test_seq, maxlen=1500)  # Ajustar secuencias a una longitud máxima de 1500 para datos de prueba\n",
        "\n",
        "# Predicción en el conjunto de prueba\n",
        "predictions = model_3.predict(X_test_pad)\n",
        "\n",
        "# Ajustar un umbral para determinar las clases basadas en las probabilidades\n",
        "threshold = 0.5\n",
        "predicted_sentiments = ['positivo' if pred > threshold else 'negativo' for pred in predictions]"
      ],
      "metadata": {
        "id": "AMM2GfLC_xuq",
        "outputId": "841fd1c1-753a-4c70-9665-bec813c0cb8b",
        "colab": {
          "base_uri": "https://localhost:8080/"
        }
      },
      "execution_count": null,
      "outputs": [
        {
          "output_type": "stream",
          "name": "stdout",
          "text": [
            "269/269 [==============================] - 1s 5ms/step\n"
          ]
        }
      ]
    },
    {
      "cell_type": "code",
      "source": [
        "filename = 'tensorflow_5'\n",
        "prediccion = pd.DataFrame({\"id\": df_criticas_test.ID, \"sentimiento\": predicted_sentiments})\n",
        "prediccion.to_csv('/content/sample_data/prediccion_'+filename+'.csv', index = False)"
      ],
      "metadata": {
        "id": "c001fwrx_tkt"
      },
      "execution_count": null,
      "outputs": []
    },
    {
      "cell_type": "markdown",
      "source": [
        "Kaggle da 0.73657 así que empeoró con 50 épocas"
      ],
      "metadata": {
        "id": "pFK-btY8ATmc"
      }
    },
    {
      "cell_type": "code",
      "source": [],
      "metadata": {
        "id": "jpJOj_VvAmys"
      },
      "execution_count": null,
      "outputs": []
    }
  ]
}