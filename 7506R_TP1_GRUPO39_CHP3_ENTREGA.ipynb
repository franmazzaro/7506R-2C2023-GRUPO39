{
  "nbformat": 4,
  "nbformat_minor": 0,
  "metadata": {
    "colab": {
      "provenance": [],
      "toc_visible": true,
      "include_colab_link": true
    },
    "kernelspec": {
      "name": "python3",
      "display_name": "Python 3"
    },
    "language_info": {
      "name": "python"
    }
  },
  "cells": [
    {
      "cell_type": "markdown",
      "metadata": {
        "id": "view-in-github",
        "colab_type": "text"
      },
      "source": [
        "<a href=\"https://colab.research.google.com/github/franmazzaro/7506R-2C2023-GRUPO39/blob/main/7506R_TP1_GRUPO39_CHP3_ENTREGA.ipynb\" target=\"_parent\"><img src=\"https://colab.research.google.com/assets/colab-badge.svg\" alt=\"Open In Colab\"/></a>"
      ]
    },
    {
      "cell_type": "markdown",
      "source": [
        "# Librerías"
      ],
      "metadata": {
        "id": "C8ibVuLh_Nav"
      }
    },
    {
      "cell_type": "code",
      "execution_count": 74,
      "metadata": {
        "id": "wfqOU3aFYhgO"
      },
      "outputs": [],
      "source": [
        "from sklearn.model_selection import train_test_split\n",
        "from sklearn.neighbors import KNeighborsClassifier, BallTree, KDTree\n",
        "from sklearn.metrics import accuracy_score, confusion_matrix, classification_report\n",
        "from sklearn.metrics.pairwise import PAIRWISE_DISTANCE_FUNCTIONS\n",
        "from sklearn.model_selection import RandomizedSearchCV\n",
        "import pandas as pd\n",
        "import seaborn as sns\n",
        "import numpy as np\n",
        "from matplotlib import pyplot as plt\n",
        "import scipy.stats as st\n",
        "import math as math"
      ]
    },
    {
      "cell_type": "markdown",
      "source": [
        "# Preprocesamiento"
      ],
      "metadata": {
        "id": "oUXJtANlvI6J"
      }
    },
    {
      "cell_type": "code",
      "source": [
        "# Importamos el dataset que trabajamos en el checkpoint 2 con las varibles categóricas como dummies\n",
        "reservas = pd.read_csv('/content/sample_data/reservas_dummies.csv')\n",
        "\n",
        "# Importamos el dataset de test con las variables categóricas como dummies\n",
        "test = pd.read_csv('/content/sample_data/test_dummies.csv')"
      ],
      "metadata": {
        "id": "hs9RsMdPZUfv"
      },
      "execution_count": 60,
      "outputs": []
    },
    {
      "cell_type": "code",
      "source": [
        "# Droppeamos el id para poder entrenar y predecir\n",
        "ids_train = reservas[\"id\"]\n",
        "ids_test = test[\"id\"]\n",
        "reservas.drop(columns=\"id\", inplace=True)\n",
        "test.drop(columns=\"id\", inplace=True)\n",
        "\n",
        "# Ordenamos las columnas\n",
        "reservas = reservas.reindex(sorted(reservas.columns), axis=1)\n",
        "test = test.reindex(sorted(test.columns), axis=1)\n",
        "\n",
        "# Imputamos datos faltantes\n",
        "test['agent'] = test['agent'].fillna(-1)\n",
        "test['company'] = test['company'].fillna(-1)"
      ],
      "metadata": {
        "id": "VY0AdhBAKr-A"
      },
      "execution_count": 61,
      "outputs": []
    },
    {
      "cell_type": "markdown",
      "source": [
        "# KNN classifier"
      ],
      "metadata": {
        "id": "RnIW-OH2AYra"
      }
    },
    {
      "cell_type": "code",
      "source": [
        "a = reservas.drop(['is_canceled'], axis=1)\n",
        "b = reservas['is_canceled']\n",
        "\n",
        "x_train, x_test, y_train, y_test = train_test_split(a, b, test_size=0.20, random_state=0)"
      ],
      "metadata": {
        "id": "n6aeVS6dahr6"
      },
      "execution_count": 62,
      "outputs": []
    },
    {
      "cell_type": "markdown",
      "source": [
        "## Con parámetros default"
      ],
      "metadata": {
        "id": "xFil3eV-BIOM"
      }
    },
    {
      "cell_type": "code",
      "source": [
        "#Crear el modelo\n",
        "KNN_Classifier = KNeighborsClassifier()\n",
        "\n",
        "#Vemos sus parámetros\n",
        "KNN_Classifier.get_params()"
      ],
      "metadata": {
        "colab": {
          "base_uri": "https://localhost:8080/"
        },
        "id": "IK93sh6-bPky",
        "outputId": "e0a7a72b-0f22-4856-947c-ff4f40df3a4c"
      },
      "execution_count": 63,
      "outputs": [
        {
          "output_type": "execute_result",
          "data": {
            "text/plain": [
              "{'algorithm': 'auto',\n",
              " 'leaf_size': 30,\n",
              " 'metric': 'minkowski',\n",
              " 'metric_params': None,\n",
              " 'n_jobs': None,\n",
              " 'n_neighbors': 5,\n",
              " 'p': 2,\n",
              " 'weights': 'uniform'}"
            ]
          },
          "metadata": {},
          "execution_count": 63
        }
      ]
    },
    {
      "cell_type": "code",
      "source": [
        "#Entrenar el modelo\n",
        "KNN_Classifier.fit(x_train, y_train)\n",
        "\n",
        "#Predicción sobre test\n",
        "y_pred = KNN_Classifier.predict(x_test)"
      ],
      "metadata": {
        "id": "gpSJls-pbZzp"
      },
      "execution_count": 64,
      "outputs": []
    },
    {
      "cell_type": "markdown",
      "source": [
        "### Métricas"
      ],
      "metadata": {
        "id": "JO7mZhe0BZDO"
      }
    },
    {
      "cell_type": "code",
      "source": [
        "#Cantidad de aciertos\n",
        "print('correctas: ', np.sum(y_test == y_pred))\n",
        "print('total: ', len(y_test))"
      ],
      "metadata": {
        "colab": {
          "base_uri": "https://localhost:8080/"
        },
        "id": "fkDtgefjhYHR",
        "outputId": "452b4858-264a-430a-b714-8b1320b42658"
      },
      "execution_count": 65,
      "outputs": [
        {
          "output_type": "stream",
          "name": "stdout",
          "text": [
            "correctas:  8703\n",
            "total:  11718\n"
          ]
        }
      ]
    },
    {
      "cell_type": "code",
      "source": [
        "tabla=confusion_matrix(y_test, y_pred)\n",
        "\n",
        "#Grafico la matriz de confusión\n",
        "sns.heatmap(tabla,cmap='GnBu',annot=True,fmt='g')\n",
        "plt.xlabel('Predicted')\n",
        "plt.ylabel('True')"
      ],
      "metadata": {
        "id": "Xwe1Pq8ODxsF",
        "outputId": "667ed2c3-c465-4754-b11f-adfc24dca01f",
        "colab": {
          "base_uri": "https://localhost:8080/",
          "height": 466
        }
      },
      "execution_count": 66,
      "outputs": [
        {
          "output_type": "execute_result",
          "data": {
            "text/plain": [
              "Text(50.722222222222214, 0.5, 'True')"
            ]
          },
          "metadata": {},
          "execution_count": 66
        },
        {
          "output_type": "display_data",
          "data": {
            "text/plain": [
              "<Figure size 640x480 with 2 Axes>"
            ],
            "image/png": "[encoded data removed]"
          },
          "metadata": {}
        }
      ]
    },
    {
      "cell_type": "code",
      "source": [
        "accuracy_score(y_test,y_pred)"
      ],
      "metadata": {
        "colab": {
          "base_uri": "https://localhost:8080/"
        },
        "id": "c4uLmsLUhZDg",
        "outputId": "527dce2f-d227-4a64-911f-6242983d44d2"
      },
      "execution_count": 67,
      "outputs": [
        {
          "output_type": "execute_result",
          "data": {
            "text/plain": [
              "0.7427035330261137"
            ]
          },
          "metadata": {},
          "execution_count": 67
        }
      ]
    },
    {
      "cell_type": "markdown",
      "source": [
        "### Predicción sobre test"
      ],
      "metadata": {
        "id": "LPP3Xd8GCX2d"
      }
    },
    {
      "cell_type": "code",
      "source": [
        "y_pred = KNN_Classifier.predict(test)\n",
        "prediccion = pd.DataFrame({\"id\": ids_test, \"is_canceled\": y_pred})"
      ],
      "metadata": {
        "id": "8OHWKU_OuDbF"
      },
      "execution_count": 70,
      "outputs": []
    },
    {
      "cell_type": "code",
      "source": [
        "prediccion.to_csv('/content/sample_data/prediccion_knn.csv', index = False)"
      ],
      "metadata": {
        "id": "TFSrRyK51_5I"
      },
      "execution_count": 72,
      "outputs": []
    },
    {
      "cell_type": "markdown",
      "source": [
        "## Con parámetros optimizados"
      ],
      "metadata": {
        "id": "VsH1G8H2vh0p"
      }
    },
    {
      "cell_type": "code",
      "source": [
        "#Métricas Válidas\n",
        "VALID_METRICS = dict(\n",
        "    ball_tree=BallTree.valid_metrics,\n",
        "    kd_tree=KDTree.valid_metrics,\n",
        "    # The following list comes from the sklearn.metrics.pairwise doc string\n",
        "    brute=list(PAIRWISE_DISTANCE_FUNCTIONS.keys())\n",
        "    + [ 'braycurtis','canberra','chebyshev','correlation',\n",
        "        'cosine','dice','hamming','jaccard','kulsinski',\n",
        "        'mahalanobis','matching','minkowski','rogerstanimoto',\n",
        "        'russellrao','seuclidean','sokalmichener','sokalsneath',\n",
        "        'sqeuclidean','yule','wminkowski',\n",
        "    ],\n",
        ")\n",
        "\n",
        "#Ejemplo\n",
        "for alg in VALID_METRICS:\n",
        "    print(f'algoritmo: {alg}')\n",
        "    print(VALID_METRICS[alg])\n",
        "    print()"
      ],
      "metadata": {
        "colab": {
          "base_uri": "https://localhost:8080/"
        },
        "id": "GCYpoO8zF-c-",
        "outputId": "1a462d79-5e85-4cfc-f3d7-750d3ad85db3"
      },
      "execution_count": 75,
      "outputs": [
        {
          "output_type": "stream",
          "name": "stdout",
          "text": [
            "algoritmo: ball_tree\n",
            "['euclidean', 'l2', 'minkowski', 'p', 'manhattan', 'cityblock', 'l1', 'chebyshev', 'infinity', 'seuclidean', 'mahalanobis', 'wminkowski', 'hamming', 'canberra', 'braycurtis', 'matching', 'jaccard', 'dice', 'kulsinski', 'rogerstanimoto', 'russellrao', 'sokalmichener', 'sokalsneath', 'haversine', 'pyfunc']\n",
            "\n",
            "algoritmo: kd_tree\n",
            "['euclidean', 'l2', 'minkowski', 'p', 'manhattan', 'cityblock', 'l1', 'chebyshev', 'infinity']\n",
            "\n",
            "algoritmo: brute\n",
            "['cityblock', 'cosine', 'euclidean', 'haversine', 'l2', 'l1', 'manhattan', 'precomputed', 'nan_euclidean', 'braycurtis', 'canberra', 'chebyshev', 'correlation', 'cosine', 'dice', 'hamming', 'jaccard', 'kulsinski', 'mahalanobis', 'matching', 'minkowski', 'rogerstanimoto', 'russellrao', 'seuclidean', 'sokalmichener', 'sokalsneath', 'sqeuclidean', 'yule', 'wminkowski']\n",
            "\n"
          ]
        }
      ]
    },
    {
      "cell_type": "code",
      "source": [
        "#Grilla de Parámetros\n",
        "params_grid = {'n_neighbors':range(1,30),\n",
        "               'weights':['distance','uniform'],\n",
        "               'algorithm':['ball_tree', 'kd_tree', 'brute'],\n",
        "               'metric':['euclidean','manhattan','chebyshev']\n",
        "              }\n",
        "\n",
        "#Clasificador KNN\n",
        "knn=KNeighborsClassifier()\n",
        "\n",
        "#Random Search con 10 Folds y 10 iteraciones\n",
        "rand = RandomizedSearchCV(knn, params_grid, cv=10, scoring='f1', n_iter=10, random_state=5)\n",
        "\n",
        "rand.fit(x_train, y_train)\n",
        "rand.cv_results_['mean_test_score']"
      ],
      "metadata": {
        "id": "07MGbA_DGA45"
      },
      "execution_count": null,
      "outputs": []
    },
    {
      "cell_type": "code",
      "source": [
        "#Mejores hiperparametros\n",
        "print(rand.best_params_)\n",
        "#Mejor métrica\n",
        "print(rand.best_score_)"
      ],
      "metadata": {
        "id": "Hgnbpy6CGDLO"
      },
      "execution_count": null,
      "outputs": []
    },
    {
      "cell_type": "markdown",
      "source": [
        "### Métricas"
      ],
      "metadata": {
        "id": "LEKmZPOE_r8f"
      }
    },
    {
      "cell_type": "code",
      "source": [
        "#Mejor estimador\n",
        "best_knn=rand.best_estimator_\n",
        "\n",
        "#Predicción con mejor estimador\n",
        "y_pred=best_knn.predict(x_test)\n",
        "\n",
        "#Accuracy test\n",
        "accuracy_score(y_test,y_pred)"
      ],
      "metadata": {
        "id": "B5240x5NGEW7"
      },
      "execution_count": null,
      "outputs": []
    },
    {
      "cell_type": "code",
      "source": [
        "#Reporte de Clasificación\n",
        "print(classification_report(y_test,y_pred))\n",
        "\n",
        "#Matriz de Confusión\n",
        "cm = confusion_matrix(y_test,y_pred)\n",
        "sns.heatmap(cm, cmap='Blues',annot=True,fmt='g')\n",
        "plt.xlabel('Predicted')\n",
        "plt.ylabel('True')"
      ],
      "metadata": {
        "id": "vapgohm1GFeh"
      },
      "execution_count": null,
      "outputs": []
    },
    {
      "cell_type": "markdown",
      "source": [
        "### Predicción sobre test"
      ],
      "metadata": {
        "id": "UqeUIpvu_yTl"
      }
    },
    {
      "cell_type": "code",
      "source": [
        "y_pred = KNN_Classifier.predict(test)\n",
        "prediccion = pd.DataFrame({\"id\": ids_test, \"is_canceled\": y_pred})"
      ],
      "metadata": {
        "id": "Bw9ZqRCv_9jG"
      },
      "execution_count": null,
      "outputs": []
    },
    {
      "cell_type": "code",
      "source": [
        "prediccion.to_csv('/content/sample_data/prediccion_knn_opt.csv', index = False)"
      ],
      "metadata": {
        "id": "HvTM-VhG_9jG"
      },
      "execution_count": null,
      "outputs": []
    },
    {
      "cell_type": "code",
      "source": [],
      "metadata": {
        "id": "lIhNYrC2_0Bx"
      },
      "execution_count": null,
      "outputs": []
    }
  ]
}